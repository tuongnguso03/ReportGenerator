{
 "cells": [
  {
   "cell_type": "code",
   "execution_count": 1,
   "metadata": {},
   "outputs": [
    {
     "name": "stdout",
     "output_type": "stream",
     "text": [
      "{'report': {'title': 'Báo cáo thị trường Tiêu dùng năm 2023','introduction': 'Trong phần giới thiệu, báo cáo sẽ trình bày tình hình thị trường tiêu dùng hiện tại và những xu hướng dự đoán cho năm 2023.','body': {'headings': ['Tình hình thị trường tiêu dùng hiện tại','Xu hướng tiêu dùng trong năm 2023','Ảnh hưởng của yếu tố ngoại cảnh đến thị trường tiêu dùng','Phân tích sự cạnh tranh trong ngành tiêu dùng']}, 'conclusion': 'Tóm lại, báo cáo đã trình bày chi tiết về thị trường tiêu dùng năm 2023 và những yếu tố quan trọng liên quan.','recommendations': 'Dựa trên những phân tích trong báo cáo, chúng tôi đưa ra các khuyến nghị cụ thể cho các doanh nghiệp hoạt động trong lĩnh vực tiêu dùng để áp dụng trong năm 2023.'}}\n"
     ]
    }
   ],
   "source": [
    "import semantic_kernel as sk\n",
    "\n",
    "kernel = sk.Kernel()\n",
    "\n",
    "from semantic_kernel.connectors.ai.open_ai import OpenAIChatCompletion\n",
    "\n",
    "api_key, org_id = sk.openai_settings_from_dot_env()\n",
    "service_id = \"default\"\n",
    "kernel.add_service(\n",
    "    OpenAIChatCompletion(service_id=service_id, ai_model_id=\"gpt-3.5-turbo-0125\", api_key=api_key, org_id=org_id),\n",
    ")\n",
    "\n",
    "plugin = kernel.import_plugin_from_prompt_directory(\"./Plugins/\", \"ReportPlugin\")\n",
    "OutlineJSON_function = plugin[\"OutlineJSON\"]\n",
    "OutlineJSON = await kernel.invoke(OutlineJSON_function, sk.KernelArguments(input=\"Báo cáo thị trường Tiêu dùng năm 2023\"))\n",
    "print(OutlineJSON)\n",
    "\n"
   ]
  },
  {
   "cell_type": "code",
   "execution_count": 2,
   "metadata": {},
   "outputs": [
    {
     "data": {
      "text/plain": [
       "{'title': 'Báo cáo thị trường Tiêu dùng năm 2023',\n",
       " 'introduction': 'Trong phần giới thiệu, báo cáo sẽ trình bày tình hình thị trường tiêu dùng hiện tại và những xu hướng dự đoán cho năm 2023.',\n",
       " 'body': {'headings': ['Tình hình thị trường tiêu dùng hiện tại',\n",
       "   'Xu hướng tiêu dùng trong năm 2023',\n",
       "   'Ảnh hưởng của yếu tố ngoại cảnh đến thị trường tiêu dùng',\n",
       "   'Phân tích sự cạnh tranh trong ngành tiêu dùng']},\n",
       " 'conclusion': 'Tóm lại, báo cáo đã trình bày chi tiết về thị trường tiêu dùng năm 2023 và những yếu tố quan trọng liên quan.',\n",
       " 'recommendations': 'Dựa trên những phân tích trong báo cáo, chúng tôi đưa ra các khuyến nghị cụ thể cho các doanh nghiệp hoạt động trong lĩnh vực tiêu dùng để áp dụng trong năm 2023.'}"
      ]
     },
     "execution_count": 2,
     "metadata": {},
     "output_type": "execute_result"
    }
   ],
   "source": [
    "from Plugins.utils import json_split\n",
    "outline_dict = json_split(str(OutlineJSON))\n",
    "outline_dict"
   ]
  },
  {
   "cell_type": "code",
   "execution_count": 3,
   "metadata": {},
   "outputs": [
    {
     "name": "stdout",
     "output_type": "stream",
     "text": [
      "Báo cáo thị trường Tiêu dùng năm 2023 sẽ cung cấp cái nhìn tổng quan về tình hình thị trường tiêu dùng hiện tại và những xu hướng được dự đoán cho năm 2023. Trước khi đi vào chi tiết về các phần còn lại của báo cáo, phần giới thiệu sẽ phân tích sự phát triển của thị trường tiêu dùng trong thời gian gần đây và những thay đổi dự kiến sẽ diễn ra trong năm tới. Điều này sẽ giúp độc giả hiểu rõ hơn về bối cảnh tổng thể của báo cáo và tạo nền tảng cho việc đánh giá chi tiết về các khía cạnh khác nhau của thị trường tiêu dùng.\n"
     ]
    }
   ],
   "source": [
    "Introduction_function = plugin[\"Introduction\"]\n",
    "Introduction = await kernel.invoke(Introduction_function, sk.KernelArguments(introduction=outline_dict[\"introduction\"]\n",
    "                                                                            , reportLayout = str(OutlineJSON)))\n",
    "print(Introduction)"
   ]
  },
  {
   "cell_type": "code",
   "execution_count": 4,
   "metadata": {},
   "outputs": [
    {
     "name": "stdout",
     "output_type": "stream",
     "text": [
      "['https://innovativehub.com.vn/tong-quan-va-xu-huong-nganh-hang-tieu-dung-viet-nam-2023/', 'https://www.cimigo.com/vi/trends/xu-huong-tieu-dung-viet-nam-2023/', 'https://pmax.com.vn/blog/xu-huong-thi-truong-va-nguoi-tieu-dung-nua-cuoi-2023-dau-2024/#Du_doan_tinh_hinh_kinh_te_trong_nua_sau_nam_2023', 'https://aglobal.vn/blog/xu-huong-tieu-dung-quy-4-nam-2023-nhung-thay-doi-can-luu-y-1564161623', 'https://vneconomy.vn/xu-huong-tieu-dung-hien-dai-thau-hieu-de-chinh-phuc-thi-truong.htm', 'https://pmax.com.vn/blog/xu-huong-thi-truong-va-nguoi-tieu-dung-nua-cuoi-2023-dau-2024/#Xu_huong_thi_truong', 'https://mof.gov.vn/webcenter/portal/vclvcstc/pages_r/l/chi-tiet-tin?dDocName=MOFUCM262964', 'https://www.cimigo.com/vi/research-reports/bao-cao-xu-huong-tieu-dung-viet-nam-2023/', 'http://moit.gov.vn/tin-tuc/thi-truong-trong-nuoc/to-ng-mu-c-ba-n-le-ha-ng-ho-a-va-doanh-thu-di-ch-vu-tieu-du-ng-tang-9-6-.html', 'https://pmax.com.vn/blog/xu-huong-thi-truong-va-nguoi-tieu-dung-nua-cuoi-2023-dau-2024/#Tinh_hinh_kinh_te', 'https://vneconomy.vn/tong-muc-ban-le-hang-hoa-va-doanh-thu-dich-vu-tieu-dung-nam-2023-phuc-hoi-tich-cuc.htm', 'https://www.gso.gov.vn/bai-top/2023/12/bao-cao-tinh-hinh-kinh-te-xa-hoi-quy-iv-va-nam-2023/', 'https://www.pwc.com/vn/vn/publications/vietnam-publications/global-consumer-insights-2023.html', 'https://advertisingvietnam.com/xu-huong-thi-truong-nguoi-tieu-dung-nua-cuoi-2023-dau-2024-p22690', 'https://pmax.com.vn/blog/xu-huong-thi-truong-va-nguoi-tieu-dung-nua-cuoi-2023-dau-2024/']\n",
      "0\n",
      "7919\n",
      "['https://innovativehub.com.vn/tong-quan-va-xu-huong-nganh-hang-tieu-dung-viet-nam-2023/', 'https://qc.coccoc.com/vn/news/13747', 'https://icheck.com.vn/rut-insight-khach-hang-tu-bao-cao-xu-huong-tieu-dung-dip-cuoi-nam-2023-tu-kantar/', 'https://qandme.net/vi/baibaocao/xu-huong-thi-truong-viet-nam-quy-2-nam-2023.html', 'https://www.cimigo.com/vi/trends/xu-huong-tieu-dung-viet-nam-2023/', 'https://aglobal.vn/blog/xu-huong-tieu-dung-quy-4-nam-2023-nhung-thay-doi-can-luu-y-1564161623', 'https://vneconomy.vn/xu-huong-tieu-dung-hien-dai-thau-hieu-de-chinh-phuc-thi-truong.htm', 'https://tapchicongthuong.vn/bai-viet/giai-phap-phat-trien-thi-truong-ban-le-viet-nam-117487.htm', 'https://www.brandsvietnam.com/library/doc/640be242cdae9-Kantar-Nhung-xu-huong-tac-dong-den-thi-truong-tieu-dung-nhanh-tai-Viet-Nam-nam-2023', 'https://pmax.com.vn/blog/xu-huong-thi-truong-va-nguoi-tieu-dung-nua-cuoi-2023-dau-2024/#Xu_huong_thi_truong', 'https://qandme.net/vi/baibaocao/xu-huong-thi-truong-viet-nam-quy-3-nam-2023.html', 'https://pmax.com.vn/blog/xu-huong-thi-truong-va-nguoi-tieu-dung-nua-cuoi-2023-dau-2024/#Tong_quan_tinh_hinh_kinh_te_6_thang_dau_nam_2023', 'https://pmax.com.vn/blog/xu-huong-thi-truong-va-nguoi-tieu-dung-nua-cuoi-2023-dau-2024/#Cuoi_nam_la_mua_mua_sam_cao_diem_nhat_trong_nam', 'https://www.gso.gov.vn/du-lieu-va-so-lieu-thong-ke/2023/12/tong-quan-du-bao-tinh-hinh-kinh-te-the-gioi-quy-iv-va-nam-2023/', 'https://pmax.com.vn/blog/xu-huong-thi-truong-va-nguoi-tieu-dung-nua-cuoi-2023-dau-2024/']\n",
      "2953\n",
      "6897\n",
      "['https://innovativehub.com.vn/tong-quan-va-xu-huong-nganh-hang-tieu-dung-viet-nam-2023/', 'https://www.cimigo.com/vi/trends/xu-huong-tieu-dung-viet-nam-2023/', 'https://aglobal.vn/blog/xu-huong-tieu-dung-quy-4-nam-2023-nhung-thay-doi-can-luu-y-1564161623', 'https://vneconomy.vn/xu-huong-tieu-dung-hien-dai-thau-hieu-de-chinh-phuc-thi-truong.htm', 'https://baocantho.com.vn/hieu-qua-tu-y-thuc-cua-nguoi-tieu-dung-a64776.html', 'https://baobinhduong.vn/doanh-nghiep-ban-le-no-luc-kich-cau-tieu-dung-a296407.html', 'https://tieudung.kinhtedothi.vn/thi-truong/gia-nong-san-ngay-542024:-gia-arabica-tiep-tuc-tang-gia-tieu-tang-tai-gia-lai-78565.html', 'https://baoangiang.com.vn/xay-dung-thuong-hieu-duong-toi-trai-tim-nguoi-tieu-dung-a241407.html', 'https://www.gso.gov.vn/du-lieu-va-so-lieu-thong-ke/2024/04/thi-truong-gia-quy-i-2024-va-du-bao-yeu-to-tac-dong-cpi-nam-2024/', 'https://www.pwc.com/vn/vn/publications/vietnam-publications/global-consumer-insights-2023.html', 'http://danvan.vn/Home/Hoc-tap-va-lam-theo-tu-tuong-dao-duc-phong-cach-Ho-Chi-Minh/10860/Tac-pham-Dan-van-cua-Chu-tich-Ho-Chi-Minh-Gia-tri-ly-luan-va-thuc-tien-cho-cong-tac-dan-van-hien-nay', 'https://tieudung.kinhtedothi.vn/thi-truong/gia-nong-san-ngay-742024:-gia-tieu-giu-on-dinh-ca-phe-tiep-tuc-tang-78590.html', 'http://baokiemtoan.vn/doanh-nghiep-can-lam-gi-khi-nguoi-tieu-dung-that-chat-chi-tieu-24490.html', 'https://advertisingvietnam.com/xu-huong-thi-truong-nguoi-tieu-dung-nua-cuoi-2023-dau-2024-p22690', 'https://pmax.com.vn/blog/xu-huong-thi-truong-va-nguoi-tieu-dung-nua-cuoi-2023-dau-2024/']\n",
      "0\n",
      "7170\n",
      "['https://innovativehub.com.vn/tong-quan-va-xu-huong-nganh-hang-tieu-dung-viet-nam-2023/', 'https://vietnamreport.net.vn/Tiem-nang-va-thach-thuc-cua-thi-truong-ban-le-trong-nhung-thang-cuoi-nam-2023-10677-1067.html', 'https://aglobal.vn/blog/xu-huong-tieu-dung-quy-4-nam-2023-nhung-thay-doi-can-luu-y-1564161623', 'https://vneconomy.vn/xu-huong-tieu-dung-hien-dai-thau-hieu-de-chinh-phuc-thi-truong.htm', 'https://www.brandsvietnam.com/congdong/topic/338673-Kantar-cong-bo-bao-cao-cap-nhat-tinh-hinh-thi-truong-FMCG-ca-nam-2023-Mot-nam-nhieu-bien-dong', 'https://www.gso.gov.vn/du-lieu-va-so-lieu-thong-ke/2024/01/buc-tranh-tang-truong-nam-2023-va-trien-vong-phat-trien-kinh-te-nam-2024/', 'https://tapchitaichinh.vn/ban-le-hang-hoa-va-dich-vu-tieu-dung-nam-2023-van-tang-truong-chua-bang-truoc-dich-covid-19.html', 'https://blog.slimcrm.vn/quan-tri/bao-cao-thi-truong-san-ban-le', 'https://mof.gov.vn/webcenter/portal/vclvcstc/pages_r/l/chi-tiet-tin?dDocName=MOFUCM262964', 'https://www.linkedin.com/pulse/b%C3%A1o-c%C3%A1o-xu-h%C6%B0%E1%BB%9Bng-ng%C3%A0nh-h%C3%A0ng-ti%C3%AAu-d%C3%B9ng-nhanh-fmcg-2023-bizzi-vietnam', 'https://cleverads.vn/blog/thi-truong-giai-khat-2023/', 'https://baodautu.vn/iposvn-cong-bo-bao-cao-thi-truong-kinh-doanh-am-thuc-tai-viet-nam-nam-2023-d211676.html', 'https://blog.tomorrowmarketers.org/toan-canh-thi-truong-fmcg-tai-viet-nam/', 'https://advertisingvietnam.com/xu-huong-thi-truong-nguoi-tieu-dung-nua-cuoi-2023-dau-2024-p22690', 'https://pmax.com.vn/blog/xu-huong-thi-truong-va-nguoi-tieu-dung-nua-cuoi-2023-dau-2024/']\n",
      "5977\n",
      "[('Trong bối cảnh thị trường tiêu dùng hiện nay, việc nắm bắt và hiểu rõ tâm lý, hành vi của người tiêu dùng là vô cùng quan trọng để các doanh nghiệp có thể áp dụng các chiến lược tiếp thị hiệu quả. Việc đánh giá và dự đoán xu hướng thị trường cũng như tâm lý người tiêu dùng sẽ giúp các doanh nghiệp tạo ra các chiến dịch tiếp thị phù hợp và hiệu quả.\\n\\nTrong thời kỳ khó khăn của nền kinh tế, người tiêu dùng thường có xu hướng cẩn trọng hơn trong việc chi tiêu. Họ có thể cắt giảm những khoản chi không cần thiết và tìm kiếm các sản phẩm, dịch vụ có giá trị thực sự. Do đó, các doanh nghiệp cần tập trung vào việc cải thiện chất lượng sản phẩm, tối ưu chi phí để đáp ứng nhu cầu của người tiêu dùng.\\n\\nXu hướng mua sắm thông minh và trải nghiệm mua hàng ngày càng trở nên phổ biến. Người tiêu dùng ngày càng thông minh hơn trong việc so sánh giá cả, tìm hiểu thông tin sản phẩm và đánh giá từ người tiêu dùng khác. Điều này đặt ra thách thức cho các doanh nghiệp trong việc cung cấp thông tin chính xác và tạo ra trải nghiệm mua sắm tốt cho khách hàng.\\n\\nNgoài ra, việc tích hợp công nghệ vào trải nghiệm mua sắm cũng đang trở thành xu hướng. Công nghệ như trí tuệ nhân tạo, thực tế ảo được áp dụng để cá nhân hóa trải nghiệm mua sắm và tạo ra môi trường mua sắm thông minh và tiện lợi hơn. Điều này giúp tăng cường tương tác với khách hàng và tạo ra sự hài lòng cao.\\n\\nTrong tình hình thị trường tiêu dùng hiện nay, việc hiểu rõ tâm lý và hành vi của người tiêu dùng là chìa khóa để thành công trong kinh doanh. Các doanh nghiệp cần đầu tư vào nghiên cứu thị trường, đánh giá xu hướng và tạo ra các chiến lược tiếp thị phù hợp để thu hút và giữ chân khách hàng. Đồng thời, việc cải thiện chất lượng sản phẩm, tối ưu chi phí và tích hợp công nghệ sẽ giúp các doanh nghiệp nắm bắt cơ hội và đối mặt với thách thức trên thị trường tiêu dùng ngày nay.', 'Trong bối cảnh hiện nay, thị trường tiêu dùng đang trải qua nhiều biến động và thách thức do ảnh hưởng của tình hình kinh tế và xu hướng tiêu dùng của người tiêu dùng. Việc nắm bắt và hiểu rõ những thay đổi trong hành vi mua sắm và tâm lý của người tiêu dùng là vô cùng quan trọng để các doanh nghiệp có thể đưa ra các chiến lược phù hợp để tối ưu hóa hiệu quả kinh doanh.\\n\\nTính đến thời điểm hiện tại, người tiêu dùng đang có xu hướng cẩn trọng hơn trong việc chi tiêu, họ tập trung vào những nhu cầu cơ bản và giá trị thực sự. Việc cắt giảm chi tiêu không cần thiết và tìm kiếm các sản phẩm có nguồn gốc bền vững đang trở thành xu hướng phổ biến. Đồng thời, người tiêu dùng cũng đánh giá cao trải nghiệm mua sắm và dịch vụ chất lượng.\\n\\nTrong ngành hàng nông sản, thực phẩm, đồ uống, người tiêu dùng đang quan tâm đến sức khỏe và xu hướng ăn sạch. Việc lựa chọn các sản phẩm không chứa chất bảo quản hay phụ gia hóa học đang được ưa chuộng. Đồng thời, trong ngành hàng vật liệu xây dựng, nội ngoại thất, người tiêu dùng đang tìm kiếm những sản phẩm tiện nghi hiện đại, tích hợp công nghệ thông minh và quan tâm đến môi trường.\\n\\nĐể đáp ứng nhu cầu ngày càng đa dạng và khó tính của người tiêu dùng, các doanh nghiệp cần tập trung vào sáng tạo, nâng cao chất lượng sản phẩm và dịch vụ, cải thiện trải nghiệm khách hàng, áp dụng công nghệ và tự động hóa quy trình, cũng như quảng cáo và tiếp cận thông minh để duy trì và phát triển thị trường tiêu dùng hiện nay.\\n\\nViệc hiểu rõ và đáp ứng đúng đắn nhu cầu của người tiêu dùng sẽ giúp các doanh nghiệp tạo ra sự khác biệt, gia tăng sức cạnh tranh và đạt được thành công trong môi trường kinh doanh ngày càng cạnh tranh và khó khăn.'), ('Trên thực tế, năm 2023 đang chứng kiến sự biến đổi mạnh mẽ trong xu hướng tiêu dùng của người Việt. Với tình hình kinh tế không ổn định và áp lực từ tăng giá cả, người tiêu dùng đang thay đổi cách tiêu dùng của mình để phản ánh sự thích nghi và linh hoạt trong hoàn cảnh khó khăn.\\n\\nMột trong những xu hướng rõ ràng nhất là sự chú trọng đến sức khỏe và an toàn thực phẩm. Người tiêu dùng ngày càng quan tâm đến nguồn gốc, thành phần và chất lượng của thực phẩm mà họ tiêu thụ. Điều này đặt ra một thách thức lớn cho các doanh nghiệp trong việc đảm bảo sản phẩm của mình đáp ứng được các tiêu chuẩn an toàn và dinh dưỡng.\\n\\nXu hướng mua sắm trực tuyến và tận hưởng trải nghiệm tại gia cũng đang trở nên phổ biến hơn. Việc tìm kiếm ưu đãi và khuyến mãi trực tuyến đã trở thành một phần không thể thiếu trong hành vi mua sắm của người tiêu dùng. Doanh nghiệp cần nắm bắt xu hướng này để cung cấp các dịch vụ và sản phẩm phù hợp với nhu cầu của khách hàng.\\n\\nNgoài ra, việc sử dụng công nghệ, đặc biệt là QR Code, để cải thiện trải nghiệm mua sắm cũng đang trở thành một xu hướng quan trọng. QR Code không chỉ giúp khách hàng tiếp cận thông tin sản phẩm một cách nhanh chóng và tiện lợi, mà còn tạo ra cơ hội cho các doanh nghiệp tương tác và tiếp cận khách hàng một cách hiệu quả.\\n\\nTóm lại, xu hướng tiêu dùng trong năm 2023 đang phản ánh sự thay đổi và phát triển của xã hội và công nghệ. Để thành công trong môi trường cạnh tranh ngày càng gay gắt, các doanh nghiệp cần nắm bắt và tận dụng những xu hướng này để đáp ứng nhu cầu của khách hàng một cách tốt nhất.', 'Trên thực tế, xu hướng tiêu dùng trong năm 2023 đang phản ánh sự thay đổi trong tư duy và hành vi mua sắm của người tiêu dùng Việt Nam. Với sự phát triển của công nghệ và sự biến đổi trong tình hình kinh tế - xã hội, người tiêu dùng ngày càng chú trọng đến sức khỏe, an toàn thực phẩm, trải nghiệm mua sắm và khuyến mãi.\\n\\nTheo các báo cáo và nghiên cứu, người tiêu dùng Việt Nam đang dần chuyển hướng đến việc ưu tiên mua sắm các sản phẩm sạch, an toàn, đảm bảo dinh dưỡng. Họ cũng quan tâm đến việc tiết kiệm chi phí, tìm kiếm ưu đãi và khuyến mãi khi mua sắm. Đồng thời, việc sử dụng công nghệ, đặc biệt là ứng dụng di động để mua sắm trực tuyến và giao hàng tại nhà đang trở nên phổ biến.\\n\\nĐể đáp ứng xu hướng tiêu dùng này, các doanh nghiệp cần nắm bắt thông tin về nhu cầu và mong muốn của khách hàng, từ đó điều chỉnh chiến lược kinh doanh và sản phẩm/dịch vụ của mình. Việc tập trung vào chất lượng sản phẩm, trải nghiệm khách hàng, áp dụng công nghệ và quảng cáo thông minh sẽ giúp doanh nghiệp thu hút và giữ chân khách hàng hiệu quả.\\n\\nTóm lại, việc hiểu rõ xu hướng tiêu dùng trong năm 2023 là yếu tố quan trọng giúp doanh nghiệp phát triển bền vững và cạnh tranh trên thị trường. Bằng việc đáp ứng đúng nhu cầu của người tiêu dùng, các doanh nghiệp sẽ có cơ hội tăng trưởng và thành công trong môi trường kinh doanh ngày càng cạnh tranh.'), ('Trong bối cảnh thị trường tiêu dùng đang phải đối mặt với nhiều biến động từ yếu tố ngoại cảnh, việc nắm bắt và hiểu rõ những ảnh hưởng của các yếu tố này là vô cùng quan trọng đối với các doanh nghiệp. Những biến động trong kinh tế, chính trị, xã hội không chỉ ảnh hưởng đến nhu cầu tiêu dùng của người tiêu dùng mà còn đến hành vi mua sắm và quyết định mua hàng của họ.\\n\\nNăm 2023, thị trường hàng hóa thế giới đang chịu ảnh hưởng lớn từ những biến động toàn cầu. Xung đột và cạnh tranh giữa các nước lớn ngày càng gay gắt, tình hình thời tiết cực đoan diễn ra ở nhiều nơi, làm mất cân đối sản xuất lương thực. Điều này dẫn đến việc giá cả có thể biến động mạnh, ảnh hưởng đến lạm phát và sức mua của người tiêu dùng.\\n\\nNgoài ra, tình hình kinh tế chung cũng đang đối mặt với tăng trưởng thấp, thị trường tài chính - tiền tệ - bất động sản tại một số nước tiềm ẩn nhiều rủi ro. Điều này có thể khiến người tiêu dùng cảm thấy không chắc chắn về tương lai, dẫn đến việc họ cẩn trọng hơn trong việc chi tiêu và lựa chọn sản phẩm.\\n\\nTrên thực tế, người tiêu dùng Việt đang có những điều chỉnh đáng kể trong tiêu dùng của họ. Họ cắt giảm mức chi tiêu không cần thiết, hạn chế mua hàng hoặc thay đổi phương thức mua sắm để tiết kiệm chi phí. Điều này đặt ra thách thức lớn cho các doanh nghiệp, buộc họ phải thay đổi chiến lược tiếp cận người tiêu dùng để đáp ứng nhu cầu mới của họ.\\n\\nTrong bối cảnh khó khăn này, việc đưa ra những lựa chọn đúng để tối ưu hóa chi phí và gia tăng hiệu quả kinh doanh là điều cần thiết. Các doanh nghiệp cần thấu hiểu và đưa ra các giải pháp phù hợp để tiếp cận người tiêu dùng hiệu quả hơn, từ đó tạo sự hài lòng và tăng cường sức cạnh tranh trên thị trường.\\n\\nVới sự phân tích và nghiên cứu về ảnh hưởng của yếu tố ngoại cảnh đến thị trường tiêu dùng, các doanh nghiệp có thể đưa ra các chiến lược linh hoạt và hiệu quả để thích nghi với môi trường kinh doanh đầy biến động. Việc hiểu rõ nguồn gốc của các yếu tố ảnh hưởng sẽ giúp họ đưa ra các quyết định đúng đắn và phù hợp để phát triển bền vững trong thời kỳ khó khăn này.', 'Trong bối cảnh thị trường tiêu dùng đang phải đối mặt với nhiều biến động từ yếu tố ngoại cảnh, việc nắm bắt và hiểu rõ những ảnh hưởng này là vô cùng quan trọng đối với các doanh nghiệp. Với sự gia tăng của xung đột và cạnh tranh giữa các quốc gia lớn, thị trường hàng hóa thế giới đang phải đối diện với những thách thức mới. Tình hình thời tiết cực đoan cũng đang ảnh hưởng đến sản xuất lương thực, dẫn đến sự mất cân đối trong nguồn cung.\\n\\nNgoài ra, tình hình lạm phát toàn cầu cũng đang có những biến động, ảnh hưởng đến giá cả và chi phí sản xuất. Việc theo dõi chỉ số giá tiêu dùng (CPI) và lạm phát là điều cần thiết để dự đoán xu hướng tiêu dùng của người tiêu dùng. Điều này cũng đồng nghĩa với việc các doanh nghiệp cần phải điều chỉnh chiến lược kinh doanh của mình để đáp ứng nhu cầu thay đổi của thị trường.\\n\\nTrên thực tế, người tiêu dùng Việt đang có những điều chỉnh đáng kể trong thói quen mua sắm và tiêu dùng của họ. Việc cắt giảm chi tiêu không cần thiết và tìm kiếm các sản phẩm giá trị cao hơn đang trở thành xu hướng. Điều này đặt ra thách thức lớn cho các doanh nghiệp trong việc cung cấp sản phẩm và dịch vụ phù hợp với nhu cầu mới của người tiêu dùng.\\n\\nTrong bối cảnh khó khăn này, việc đưa ra các lựa chọn đúng và tối ưu là vô cùng quan trọng. Các doanh nghiệp cần phải thấu hiểu và đáp ứng nhanh chóng những thay đổi trong thị trường tiêu dùng. Sử dụng công nghệ và quảng cáo thông minh cũng là yếu tố quan trọng giúp doanh nghiệp tiếp cận khách hàng một cách hiệu quả.\\n\\nTóm lại, ảnh hưởng của yếu tố ngoại cảnh đến thị trường tiêu dùng là không thể phủ nhận. Việc nắm bắt và thích nghi với những biến động này sẽ giúp các doanh nghiệp tồn tại và phát triển trong môi trường kinh doanh ngày càng cạnh tranh và khó khăn.'), ('Trong ngành tiêu dùng ngày nay, sự cạnh tranh ngày càng gay gắt và đa dạng, đặc biệt là trong bối cảnh kinh tế thị trường có nhiều biến động và khó khăn như hiện nay. Việc nắm bắt và hiểu rõ nhu cầu, thói quen mua sắm cũng như xu hướng tiêu dùng của khách hàng là yếu tố quyết định giúp các doanh nghiệp tồn tại và phát triển trong môi trường cạnh tranh gay gắt.\\n\\nĐể thành công trong ngành tiêu dùng, các doanh nghiệp cần thực hiện các chiến lược cạnh tranh thông minh và hiệu quả. Đầu tiên, việc sáng tạo và nâng cao chất lượng sản phẩm và dịch vụ là yếu tố quan trọng. Các doanh nghiệp cần đầu tư vào nghiên cứu và phát triển để đáp ứng nhanh chóng những xu hướng mới, cung cấp sản phẩm và giải pháp sáng tạo, hiện đại đáp ứng nhu cầu ngày càng đa dạng của khách hàng.\\n\\nThứ hai, tập trung vào trải nghiệm khách hàng. Việc đáp ứng nhanh chóng và hiệu quả nhu cầu của khách hàng là chìa khóa để tạo ra mối quan hệ lâu dài và tăng cường sự hài lòng của khách hàng. Quy trình phục vụ và chăm sóc khách hàng cần được cải thiện liên tục để đáp ứng mong đợi của họ.\\n\\nThứ ba, việc áp dụng công nghệ và tự động hóa trong quy trình kinh doanh cũng đóng vai trò quan trọng trong việc nâng cao hiệu suất và giảm chi phí. Công nghệ giúp doanh nghiệp tối ưu hóa hoạt động, cung cấp dịch vụ tốt hơn và tạo ra trải nghiệm tốt hơn cho khách hàng.\\n\\nCuối cùng, việc quảng cáo và tiếp cận thông minh là yếu tố không thể thiếu trong môi trường cạnh tranh ngày nay. Việc sử dụng các kênh quảng cáo trực tuyến thông minh và hiệu quả giúp doanh nghiệp tiếp cận khách hàng mục tiêu một cách hiệu quả nhất. Duy trì hiện diện trên các nền tảng trực tuyến giúp doanh nghiệp tạo sự nhận diện và tương tác tích cực với khách hàng.\\n\\nTóm lại, sự cạnh tranh trong ngành tiêu dùng đòi hỏi các doanh nghiệp phải thực hiện các chiến lược thông minh và linh hoạt để đáp ứng nhu cầu ngày càng đa dạng và khó tính của khách hàng. Sự sáng tạo, tập trung vào trải nghiệm khách hàng, áp dụng công nghệ và quảng cáo thông minh là những yếu tố quan trọng giúp doanh nghiệp cạnh tranh và phát triển bền vững trong thị trường ngày nay.', 'Trên thị trường ngày nay, sự cạnh tranh trong ngành tiêu dùng ngày càng gay gắt và đa dạng. Để tồn tại và phát triển, các doanh nghiệp cần nắm bắt được xu hướng tiêu dùng, thói quen mua sắm và nhu cầu của khách hàng. Việc hiểu rõ và đáp ứng đúng đắn sẽ giúp doanh nghiệp tạo ra lợi thế cạnh tranh và thu hút khách hàng.\\n\\nMột trong những yếu tố quan trọng để cạnh tranh trong ngành tiêu dùng là sự sáng tạo và nâng cao chất lượng sản phẩm/dịch vụ. Việc đầu tư vào nghiên cứu và phát triển để cung cấp những sản phẩm mới, sáng tạo và hiện đại sẽ giúp doanh nghiệp thu hút khách hàng và tạo ra sự khác biệt trong thị trường.\\n\\nNgoài ra, việc tập trung vào trải nghiệm khách hàng cũng là một yếu tố quan trọng. Đáp ứng nhanh chóng và hiệu quả nhu cầu của khách hàng, xây dựng mối quan hệ lâu dài và tạo ra sự hài lòng cho khách hàng sẽ giúp doanh nghiệp tạo ra sự tin tưởng và trung thành từ phía khách hàng.\\n\\nCải tiến quy trình, áp dụng công nghệ và tự động hóa cũng là một cách để cạnh tranh hiệu quả trong ngành tiêu dùng. Việc sử dụng công nghệ giúp tối ưu hóa quy trình vận hành, tiết kiệm chi phí và nâng cao hiệu suất làm việc, từ đó tạo ra lợi thế cạnh tranh cho doanh nghiệp.\\n\\nCuối cùng, việc quảng cáo và tiếp cận thông minh cũng đóng vai trò quan trọng trong sự cạnh tranh trong ngành tiêu dùng. Việc sử dụng các kênh quảng cáo trực tuyến để duy trì hiện diện và tương tác với khách hàng sẽ giúp doanh nghiệp thu hút và giữ chân khách hàng, đồng thời tạo ra sự nhận diện thương hiệu mạnh mẽ trên thị trường.\\n\\nTóm lại, để cạnh tranh trong ngành tiêu dùng, các doanh nghiệp cần hiểu rõ khách hàng, sáng tạo và nâng cao chất lượng sản phẩm/dịch vụ, tập trung vào trải nghiệm khách hàng, cải tiến quy trình và áp dụng công nghệ, cũng như quảng cáo và tiếp cận thông minh. Chỉ thông qua việc thực hiện những chiến lược này một cách hiệu quả, doanh nghiệp mới có thể đạt được sự thành công và bứt phá trong môi trường cạnh tranh ngày càng khốc liệt của ngành tiêu dùng.')]\n"
     ]
    }
   ],
   "source": [
    "from Plugins.google_search import GoogleSearchPlugin\n",
    "from Plugins.utils import token_count\n",
    "import asyncio\n",
    "TOKEN_LIMIT = 8000\n",
    "\n",
    "google_plugin = kernel.import_plugin_from_object(GoogleSearchPlugin(), plugin_name = \"GoogleSearchPlugin\")\n",
    "google_search_function = google_plugin[\"GoogleSearch\"]\n",
    "get_content_function = google_plugin[\"GetContentFromURL\"]\n",
    "\n",
    "column_function = plugin[\"Column\"]\n",
    "column_summ_function = plugin[\"ColumnSumm\"]\n",
    "headings = outline_dict[\"body\"][\"headings\"]\n",
    "\n",
    "async def columnist(heading, title):\n",
    "    search_result = []\n",
    "    tokens = 0\n",
    "    search_result_urls = await kernel.invoke(google_search_function, sk.KernelArguments(keyword = heading + f\"{title}\", num_results = 15))\n",
    "    search_result_urls = search_result_urls.value\n",
    "    print(search_result_urls)\n",
    "    while True:\n",
    "        if not search_result_urls:\n",
    "            break\n",
    "        url = search_result_urls.pop(0)\n",
    "        content = await kernel.invoke(get_content_function, sk.KernelArguments(url = url))\n",
    "        content = content.value\n",
    "        new_tokens = token_count(content)\n",
    "        if tokens + new_tokens > TOKEN_LIMIT:\n",
    "            print(tokens)\n",
    "            if tokens >= TOKEN_LIMIT//2:\n",
    "                break\n",
    "            else:\n",
    "                continue\n",
    "        tokens += new_tokens\n",
    "        search_result.append(content)\n",
    "    search_result = \" \".join(search_result)\n",
    "    column = await kernel.invoke(column_function, sk.KernelArguments(input = search_result, body_content = heading))\n",
    "    column_summ = await kernel.invoke(column_summ_function, sk.KernelArguments(input = search_result, body_content = heading))\n",
    "    return str(column), str(column_summ)\n",
    "\n",
    "coros = []\n",
    "for heading in headings:\n",
    "    coros.append(columnist(heading, outline_dict[\"title\"]))\n",
    "\n",
    "values = await asyncio.gather(*coros)\n",
    "print(values)\n",
    "\n",
    "\n"
   ]
  },
  {
   "cell_type": "code",
   "execution_count": 5,
   "metadata": {},
   "outputs": [
    {
     "name": "stdout",
     "output_type": "stream",
     "text": [
      "848 tokens\n",
      "Trong bối cảnh thị trường tiêu dùng hiện nay, việc nắm bắt và hiểu rõ tâm lý, hành vi của người tiêu dùng là vô cùng quan trọng để các doanh nghiệp có thể áp dụng các chiến lược tiếp thị hiệu quả. Việc đánh giá và dự đoán xu hướng thị trường cũng như tâm lý người tiêu dùng sẽ giúp các doanh nghiệp tạo ra các chiến dịch tiếp thị phù hợp và hiệu quả.\n",
      "\n",
      "Trong thời kỳ khó khăn của nền kinh tế, người tiêu dùng thường có xu hướng cẩn trọng hơn trong việc chi tiêu. Họ có thể cắt giảm những khoản chi không cần thiết và tìm kiếm các sản phẩm, dịch vụ có giá trị thực sự. Do đó, các doanh nghiệp cần tập trung vào việc cải thiện chất lượng sản phẩm, tối ưu chi phí để đáp ứng nhu cầu của người tiêu dùng.\n",
      "\n",
      "Xu hướng mua sắm thông minh và trải nghiệm mua hàng ngày càng trở nên phổ biến. Người tiêu dùng ngày càng thông minh hơn trong việc so sánh giá cả, tìm hiểu thông tin sản phẩm và đánh giá từ người tiêu dùng khác. Điều này đặt ra thách thức cho các doanh nghiệp trong việc cung cấp thông tin chính xác và tạo ra trải nghiệm mua sắm tốt cho khách hàng.\n",
      "\n",
      "Ngoài ra, việc tích hợp công nghệ vào trải nghiệm mua sắm cũng đang trở thành xu hướng. Công nghệ như trí tuệ nhân tạo, thực tế ảo được áp dụng để cá nhân hóa trải nghiệm mua sắm và tạo ra môi trường mua sắm thông minh và tiện lợi hơn. Điều này giúp tăng cường tương tác với khách hàng và tạo ra sự hài lòng cao.\n",
      "\n",
      "Trong tình hình thị trường tiêu dùng hiện nay, việc hiểu rõ tâm lý và hành vi của người tiêu dùng là chìa khóa để thành công trong kinh doanh. Các doanh nghiệp cần đầu tư vào nghiên cứu thị trường, đánh giá xu hướng và tạo ra các chiến lược tiếp thị phù hợp để thu hút và giữ chân khách hàng. Đồng thời, việc cải thiện chất lượng sản phẩm, tối ưu chi phí và tích hợp công nghệ sẽ giúp các doanh nghiệp nắm bắt cơ hội và đối mặt với thách thức trên thị trường tiêu dùng ngày nay.\n",
      "773 tokens\n",
      "Trong bối cảnh hiện nay, thị trường tiêu dùng đang trải qua nhiều biến động và thách thức do ảnh hưởng của tình hình kinh tế và xu hướng tiêu dùng của người tiêu dùng. Việc nắm bắt và hiểu rõ những thay đổi trong hành vi mua sắm và tâm lý của người tiêu dùng là vô cùng quan trọng để các doanh nghiệp có thể đưa ra các chiến lược phù hợp để tối ưu hóa hiệu quả kinh doanh.\n",
      "\n",
      "Tính đến thời điểm hiện tại, người tiêu dùng đang có xu hướng cẩn trọng hơn trong việc chi tiêu, họ tập trung vào những nhu cầu cơ bản và giá trị thực sự. Việc cắt giảm chi tiêu không cần thiết và tìm kiếm các sản phẩm có nguồn gốc bền vững đang trở thành xu hướng phổ biến. Đồng thời, người tiêu dùng cũng đánh giá cao trải nghiệm mua sắm và dịch vụ chất lượng.\n",
      "\n",
      "Trong ngành hàng nông sản, thực phẩm, đồ uống, người tiêu dùng đang quan tâm đến sức khỏe và xu hướng ăn sạch. Việc lựa chọn các sản phẩm không chứa chất bảo quản hay phụ gia hóa học đang được ưa chuộng. Đồng thời, trong ngành hàng vật liệu xây dựng, nội ngoại thất, người tiêu dùng đang tìm kiếm những sản phẩm tiện nghi hiện đại, tích hợp công nghệ thông minh và quan tâm đến môi trường.\n",
      "\n",
      "Để đáp ứng nhu cầu ngày càng đa dạng và khó tính của người tiêu dùng, các doanh nghiệp cần tập trung vào sáng tạo, nâng cao chất lượng sản phẩm và dịch vụ, cải thiện trải nghiệm khách hàng, áp dụng công nghệ và tự động hóa quy trình, cũng như quảng cáo và tiếp cận thông minh để duy trì và phát triển thị trường tiêu dùng hiện nay.\n",
      "\n",
      "Việc hiểu rõ và đáp ứng đúng đắn nhu cầu của người tiêu dùng sẽ giúp các doanh nghiệp tạo ra sự khác biệt, gia tăng sức cạnh tranh và đạt được thành công trong môi trường kinh doanh ngày càng cạnh tranh và khó khăn.\n",
      "707 tokens\n",
      "Trên thực tế, năm 2023 đang chứng kiến sự biến đổi mạnh mẽ trong xu hướng tiêu dùng của người Việt. Với tình hình kinh tế không ổn định và áp lực từ tăng giá cả, người tiêu dùng đang thay đổi cách tiêu dùng của mình để phản ánh sự thích nghi và linh hoạt trong hoàn cảnh khó khăn.\n",
      "\n",
      "Một trong những xu hướng rõ ràng nhất là sự chú trọng đến sức khỏe và an toàn thực phẩm. Người tiêu dùng ngày càng quan tâm đến nguồn gốc, thành phần và chất lượng của thực phẩm mà họ tiêu thụ. Điều này đặt ra một thách thức lớn cho các doanh nghiệp trong việc đảm bảo sản phẩm của mình đáp ứng được các tiêu chuẩn an toàn và dinh dưỡng.\n",
      "\n",
      "Xu hướng mua sắm trực tuyến và tận hưởng trải nghiệm tại gia cũng đang trở nên phổ biến hơn. Việc tìm kiếm ưu đãi và khuyến mãi trực tuyến đã trở thành một phần không thể thiếu trong hành vi mua sắm của người tiêu dùng. Doanh nghiệp cần nắm bắt xu hướng này để cung cấp các dịch vụ và sản phẩm phù hợp với nhu cầu của khách hàng.\n",
      "\n",
      "Ngoài ra, việc sử dụng công nghệ, đặc biệt là QR Code, để cải thiện trải nghiệm mua sắm cũng đang trở thành một xu hướng quan trọng. QR Code không chỉ giúp khách hàng tiếp cận thông tin sản phẩm một cách nhanh chóng và tiện lợi, mà còn tạo ra cơ hội cho các doanh nghiệp tương tác và tiếp cận khách hàng một cách hiệu quả.\n",
      "\n",
      "Tóm lại, xu hướng tiêu dùng trong năm 2023 đang phản ánh sự thay đổi và phát triển của xã hội và công nghệ. Để thành công trong môi trường cạnh tranh ngày càng gay gắt, các doanh nghiệp cần nắm bắt và tận dụng những xu hướng này để đáp ứng nhu cầu của khách hàng một cách tốt nhất.\n",
      "630 tokens\n",
      "Trên thực tế, xu hướng tiêu dùng trong năm 2023 đang phản ánh sự thay đổi trong tư duy và hành vi mua sắm của người tiêu dùng Việt Nam. Với sự phát triển của công nghệ và sự biến đổi trong tình hình kinh tế - xã hội, người tiêu dùng ngày càng chú trọng đến sức khỏe, an toàn thực phẩm, trải nghiệm mua sắm và khuyến mãi.\n",
      "\n",
      "Theo các báo cáo và nghiên cứu, người tiêu dùng Việt Nam đang dần chuyển hướng đến việc ưu tiên mua sắm các sản phẩm sạch, an toàn, đảm bảo dinh dưỡng. Họ cũng quan tâm đến việc tiết kiệm chi phí, tìm kiếm ưu đãi và khuyến mãi khi mua sắm. Đồng thời, việc sử dụng công nghệ, đặc biệt là ứng dụng di động để mua sắm trực tuyến và giao hàng tại nhà đang trở nên phổ biến.\n",
      "\n",
      "Để đáp ứng xu hướng tiêu dùng này, các doanh nghiệp cần nắm bắt thông tin về nhu cầu và mong muốn của khách hàng, từ đó điều chỉnh chiến lược kinh doanh và sản phẩm/dịch vụ của mình. Việc tập trung vào chất lượng sản phẩm, trải nghiệm khách hàng, áp dụng công nghệ và quảng cáo thông minh sẽ giúp doanh nghiệp thu hút và giữ chân khách hàng hiệu quả.\n",
      "\n",
      "Tóm lại, việc hiểu rõ xu hướng tiêu dùng trong năm 2023 là yếu tố quan trọng giúp doanh nghiệp phát triển bền vững và cạnh tranh trên thị trường. Bằng việc đáp ứng đúng nhu cầu của người tiêu dùng, các doanh nghiệp sẽ có cơ hội tăng trưởng và thành công trong môi trường kinh doanh ngày càng cạnh tranh.\n",
      "1006 tokens\n",
      "Trong bối cảnh thị trường tiêu dùng đang phải đối mặt với nhiều biến động từ yếu tố ngoại cảnh, việc nắm bắt và hiểu rõ những ảnh hưởng của các yếu tố này là vô cùng quan trọng đối với các doanh nghiệp. Những biến động trong kinh tế, chính trị, xã hội không chỉ ảnh hưởng đến nhu cầu tiêu dùng của người tiêu dùng mà còn đến hành vi mua sắm và quyết định mua hàng của họ.\n",
      "\n",
      "Năm 2023, thị trường hàng hóa thế giới đang chịu ảnh hưởng lớn từ những biến động toàn cầu. Xung đột và cạnh tranh giữa các nước lớn ngày càng gay gắt, tình hình thời tiết cực đoan diễn ra ở nhiều nơi, làm mất cân đối sản xuất lương thực. Điều này dẫn đến việc giá cả có thể biến động mạnh, ảnh hưởng đến lạm phát và sức mua của người tiêu dùng.\n",
      "\n",
      "Ngoài ra, tình hình kinh tế chung cũng đang đối mặt với tăng trưởng thấp, thị trường tài chính - tiền tệ - bất động sản tại một số nước tiềm ẩn nhiều rủi ro. Điều này có thể khiến người tiêu dùng cảm thấy không chắc chắn về tương lai, dẫn đến việc họ cẩn trọng hơn trong việc chi tiêu và lựa chọn sản phẩm.\n",
      "\n",
      "Trên thực tế, người tiêu dùng Việt đang có những điều chỉnh đáng kể trong tiêu dùng của họ. Họ cắt giảm mức chi tiêu không cần thiết, hạn chế mua hàng hoặc thay đổi phương thức mua sắm để tiết kiệm chi phí. Điều này đặt ra thách thức lớn cho các doanh nghiệp, buộc họ phải thay đổi chiến lược tiếp cận người tiêu dùng để đáp ứng nhu cầu mới của họ.\n",
      "\n",
      "Trong bối cảnh khó khăn này, việc đưa ra những lựa chọn đúng để tối ưu hóa chi phí và gia tăng hiệu quả kinh doanh là điều cần thiết. Các doanh nghiệp cần thấu hiểu và đưa ra các giải pháp phù hợp để tiếp cận người tiêu dùng hiệu quả hơn, từ đó tạo sự hài lòng và tăng cường sức cạnh tranh trên thị trường.\n",
      "\n",
      "Với sự phân tích và nghiên cứu về ảnh hưởng của yếu tố ngoại cảnh đến thị trường tiêu dùng, các doanh nghiệp có thể đưa ra các chiến lược linh hoạt và hiệu quả để thích nghi với môi trường kinh doanh đầy biến động. Việc hiểu rõ nguồn gốc của các yếu tố ảnh hưởng sẽ giúp họ đưa ra các quyết định đúng đắn và phù hợp để phát triển bền vững trong thời kỳ khó khăn này.\n",
      "831 tokens\n",
      "Trong bối cảnh thị trường tiêu dùng đang phải đối mặt với nhiều biến động từ yếu tố ngoại cảnh, việc nắm bắt và hiểu rõ những ảnh hưởng này là vô cùng quan trọng đối với các doanh nghiệp. Với sự gia tăng của xung đột và cạnh tranh giữa các quốc gia lớn, thị trường hàng hóa thế giới đang phải đối diện với những thách thức mới. Tình hình thời tiết cực đoan cũng đang ảnh hưởng đến sản xuất lương thực, dẫn đến sự mất cân đối trong nguồn cung.\n",
      "\n",
      "Ngoài ra, tình hình lạm phát toàn cầu cũng đang có những biến động, ảnh hưởng đến giá cả và chi phí sản xuất. Việc theo dõi chỉ số giá tiêu dùng (CPI) và lạm phát là điều cần thiết để dự đoán xu hướng tiêu dùng của người tiêu dùng. Điều này cũng đồng nghĩa với việc các doanh nghiệp cần phải điều chỉnh chiến lược kinh doanh của mình để đáp ứng nhu cầu thay đổi của thị trường.\n",
      "\n",
      "Trên thực tế, người tiêu dùng Việt đang có những điều chỉnh đáng kể trong thói quen mua sắm và tiêu dùng của họ. Việc cắt giảm chi tiêu không cần thiết và tìm kiếm các sản phẩm giá trị cao hơn đang trở thành xu hướng. Điều này đặt ra thách thức lớn cho các doanh nghiệp trong việc cung cấp sản phẩm và dịch vụ phù hợp với nhu cầu mới của người tiêu dùng.\n",
      "\n",
      "Trong bối cảnh khó khăn này, việc đưa ra các lựa chọn đúng và tối ưu là vô cùng quan trọng. Các doanh nghiệp cần phải thấu hiểu và đáp ứng nhanh chóng những thay đổi trong thị trường tiêu dùng. Sử dụng công nghệ và quảng cáo thông minh cũng là yếu tố quan trọng giúp doanh nghiệp tiếp cận khách hàng một cách hiệu quả.\n",
      "\n",
      "Tóm lại, ảnh hưởng của yếu tố ngoại cảnh đến thị trường tiêu dùng là không thể phủ nhận. Việc nắm bắt và thích nghi với những biến động này sẽ giúp các doanh nghiệp tồn tại và phát triển trong môi trường kinh doanh ngày càng cạnh tranh và khó khăn.\n",
      "950 tokens\n",
      "Trong ngành tiêu dùng ngày nay, sự cạnh tranh ngày càng gay gắt và đa dạng, đặc biệt là trong bối cảnh kinh tế thị trường có nhiều biến động và khó khăn như hiện nay. Việc nắm bắt và hiểu rõ nhu cầu, thói quen mua sắm cũng như xu hướng tiêu dùng của khách hàng là yếu tố quyết định giúp các doanh nghiệp tồn tại và phát triển trong môi trường cạnh tranh gay gắt.\n",
      "\n",
      "Để thành công trong ngành tiêu dùng, các doanh nghiệp cần thực hiện các chiến lược cạnh tranh thông minh và hiệu quả. Đầu tiên, việc sáng tạo và nâng cao chất lượng sản phẩm và dịch vụ là yếu tố quan trọng. Các doanh nghiệp cần đầu tư vào nghiên cứu và phát triển để đáp ứng nhanh chóng những xu hướng mới, cung cấp sản phẩm và giải pháp sáng tạo, hiện đại đáp ứng nhu cầu ngày càng đa dạng của khách hàng.\n",
      "\n",
      "Thứ hai, tập trung vào trải nghiệm khách hàng. Việc đáp ứng nhanh chóng và hiệu quả nhu cầu của khách hàng là chìa khóa để tạo ra mối quan hệ lâu dài và tăng cường sự hài lòng của khách hàng. Quy trình phục vụ và chăm sóc khách hàng cần được cải thiện liên tục để đáp ứng mong đợi của họ.\n",
      "\n",
      "Thứ ba, việc áp dụng công nghệ và tự động hóa trong quy trình kinh doanh cũng đóng vai trò quan trọng trong việc nâng cao hiệu suất và giảm chi phí. Công nghệ giúp doanh nghiệp tối ưu hóa hoạt động, cung cấp dịch vụ tốt hơn và tạo ra trải nghiệm tốt hơn cho khách hàng.\n",
      "\n",
      "Cuối cùng, việc quảng cáo và tiếp cận thông minh là yếu tố không thể thiếu trong môi trường cạnh tranh ngày nay. Việc sử dụng các kênh quảng cáo trực tuyến thông minh và hiệu quả giúp doanh nghiệp tiếp cận khách hàng mục tiêu một cách hiệu quả nhất. Duy trì hiện diện trên các nền tảng trực tuyến giúp doanh nghiệp tạo sự nhận diện và tương tác tích cực với khách hàng.\n",
      "\n",
      "Tóm lại, sự cạnh tranh trong ngành tiêu dùng đòi hỏi các doanh nghiệp phải thực hiện các chiến lược thông minh và linh hoạt để đáp ứng nhu cầu ngày càng đa dạng và khó tính của khách hàng. Sự sáng tạo, tập trung vào trải nghiệm khách hàng, áp dụng công nghệ và quảng cáo thông minh là những yếu tố quan trọng giúp doanh nghiệp cạnh tranh và phát triển bền vững trong thị trường ngày nay.\n",
      "898 tokens\n",
      "Trên thị trường ngày nay, sự cạnh tranh trong ngành tiêu dùng ngày càng gay gắt và đa dạng. Để tồn tại và phát triển, các doanh nghiệp cần nắm bắt được xu hướng tiêu dùng, thói quen mua sắm và nhu cầu của khách hàng. Việc hiểu rõ và đáp ứng đúng đắn sẽ giúp doanh nghiệp tạo ra lợi thế cạnh tranh và thu hút khách hàng.\n",
      "\n",
      "Một trong những yếu tố quan trọng để cạnh tranh trong ngành tiêu dùng là sự sáng tạo và nâng cao chất lượng sản phẩm/dịch vụ. Việc đầu tư vào nghiên cứu và phát triển để cung cấp những sản phẩm mới, sáng tạo và hiện đại sẽ giúp doanh nghiệp thu hút khách hàng và tạo ra sự khác biệt trong thị trường.\n",
      "\n",
      "Ngoài ra, việc tập trung vào trải nghiệm khách hàng cũng là một yếu tố quan trọng. Đáp ứng nhanh chóng và hiệu quả nhu cầu của khách hàng, xây dựng mối quan hệ lâu dài và tạo ra sự hài lòng cho khách hàng sẽ giúp doanh nghiệp tạo ra sự tin tưởng và trung thành từ phía khách hàng.\n",
      "\n",
      "Cải tiến quy trình, áp dụng công nghệ và tự động hóa cũng là một cách để cạnh tranh hiệu quả trong ngành tiêu dùng. Việc sử dụng công nghệ giúp tối ưu hóa quy trình vận hành, tiết kiệm chi phí và nâng cao hiệu suất làm việc, từ đó tạo ra lợi thế cạnh tranh cho doanh nghiệp.\n",
      "\n",
      "Cuối cùng, việc quảng cáo và tiếp cận thông minh cũng đóng vai trò quan trọng trong sự cạnh tranh trong ngành tiêu dùng. Việc sử dụng các kênh quảng cáo trực tuyến để duy trì hiện diện và tương tác với khách hàng sẽ giúp doanh nghiệp thu hút và giữ chân khách hàng, đồng thời tạo ra sự nhận diện thương hiệu mạnh mẽ trên thị trường.\n",
      "\n",
      "Tóm lại, để cạnh tranh trong ngành tiêu dùng, các doanh nghiệp cần hiểu rõ khách hàng, sáng tạo và nâng cao chất lượng sản phẩm/dịch vụ, tập trung vào trải nghiệm khách hàng, cải tiến quy trình và áp dụng công nghệ, cũng như quảng cáo và tiếp cận thông minh. Chỉ thông qua việc thực hiện những chiến lược này một cách hiệu quả, doanh nghiệp mới có thể đạt được sự thành công và bứt phá trong môi trường cạnh tranh ngày càng khốc liệt của ngành tiêu dùng.\n"
     ]
    }
   ],
   "source": [
    "for value in values:\n",
    "    print(token_count(value[0]), \"tokens\")\n",
    "    print(value[0])\n",
    "    print(token_count(value[1]), \"tokens\")\n",
    "    print(value[1])"
   ]
  },
  {
   "cell_type": "code",
   "execution_count": 6,
   "metadata": {},
   "outputs": [
    {
     "name": "stdout",
     "output_type": "stream",
     "text": [
      "Tóm lại, báo cáo đã trình bày chi tiết về thị trường tiêu dùng năm 2023 và những yếu tố quan trọng liên quan. Việc hiểu rõ xu hướng tiêu dùng và thích nghi với những biến động trong thị trường là vô cùng quan trọng để các doanh nghiệp có thể tồn tại và phát triển trong môi trường kinh doanh ngày càng cạnh tranh. Để cạnh tranh hiệu quả, các doanh nghiệp cần tập trung vào sáng tạo, nâng cao chất lượng sản phẩm và dịch vụ, cải thiện trải nghiệm khách hàng, áp dụng công nghệ và tự động hóa quy trình, cũng như quảng cáo và tiếp cận thông minh. Chỉ thông qua việc thực hiện những chiến lược này một cách hiệu quả, doanh nghiệp mới có thể đạt được sự thành công và bứt phá trong môi trường cạnh tranh ngày càng khốc liệt của ngành tiêu dùng.\n"
     ]
    }
   ],
   "source": [
    "conclusion_function = plugin[\"Conclusion\"]\n",
    "summContent = \" \".join([value[1] for value in values])\n",
    "conclusion = await kernel.invoke(conclusion_function, sk.KernelArguments(conclusion = outline_dict[\"conclusion\"], summContent = summContent))\n",
    "print(str(conclusion))\n"
   ]
  },
  {
   "cell_type": "code",
   "execution_count": 7,
   "metadata": {},
   "outputs": [
    {
     "name": "stdout",
     "output_type": "stream",
     "text": [
      "328\n"
     ]
    }
   ],
   "source": [
    "print(token_count(str(conclusion)))"
   ]
  },
  {
   "cell_type": "code",
   "execution_count": 8,
   "metadata": {},
   "outputs": [
    {
     "name": "stdout",
     "output_type": "stream",
     "text": [
      "Dựa trên những phân tích trong báo cáo, chúng tôi đưa ra các khuyến nghị cụ thể cho các doanh nghiệp hoạt động trong lĩnh vực tiêu dùng để áp dụng trong năm 2023.\n",
      "\n",
      "Đầu tiên, chúng tôi khuyến nghị các doanh nghiệp tập trung vào việc nâng cao chất lượng sản phẩm và dịch vụ. Việc đầu tư vào nghiên cứu và phát triển để cung cấp những sản phẩm mới, sáng tạo và hiện đại sẽ giúp doanh nghiệp thu hút khách hàng và tạo ra sự khác biệt trong thị trường. Đồng thời, việc đảm bảo sản phẩm đáp ứng các tiêu chuẩn về sức khỏe, an toàn thực phẩm và bền vững cũng là yếu tố quan trọng để thu hút người tiêu dùng hiện nay.\n",
      "\n",
      "Thứ hai, chúng tôi khuyến nghị các doanh nghiệp tập trung vào trải nghiệm khách hàng. Đáp ứng nhanh chóng và hiệu quả nhu cầu của khách hàng, xây dựng mối quan hệ lâu dài và tạo ra sự hài lòng cho khách hàng sẽ giúp doanh nghiệp tạo ra sự tin tưởng và trung thành từ phía khách hàng. Việc cải thiện dịch vụ sau bán hàng và tạo ra các chương trình khuyến mãi hấp dẫn cũng là cách hiệu quả để thu hút và giữ chân khách hàng.\n",
      "\n",
      "Thứ ba, chúng tôi khuyến nghị các doanh nghiệp cải tiến quy trình và áp dụng công nghệ. Việc sử dụng công nghệ giúp tối ưu hóa quy trình vận hành, tiết kiệm chi phí và nâng cao hiệu suất làm việc, từ đó tạo ra lợi thế cạnh tranh cho doanh nghiệp. Việc áp dụng hệ thống quản lý thông tin và tự động hóa quy trình sản xuất cũng giúp doanh nghiệp cải thiện hiệu suất và chất lượng sản phẩm.\n",
      "\n",
      "Cuối cùng, chúng tôi khuyến nghị các doanh nghiệp tập trung vào quảng cáo và tiếp cận thông minh. Việc sử dụng các kênh quảng cáo trực tuyến để duy trì hiện diện và tương tác với khách hàng sẽ giúp doanh nghiệp thu hút và giữ chân khách hàng, đồng thời tạo ra sự nhận diện thương hiệu mạnh mẽ trên thị trường. Việc phân tích dữ liệu khách hàng và áp dụng chiến lược tiếp thị kỹ thuật số cũng là yếu tố quan trọng giúp doanh nghiệp tiếp cận khách hàng một cách hiệu quả.\n",
      "\n",
      "Tóm lại, để cạnh tranh trong ngành tiêu dùng, các doanh nghiệp cần hiểu rõ khách hàng, sáng tạo và nâng cao chất lượng sản phẩm/dịch vụ, tập trung vào trải nghiệm khách hàng, cải tiến quy trình và áp dụng công nghệ, cũng như quảng cáo và tiếp cận thông minh. Chỉ thông qua việc thực hiện những khuyến nghị này một cách hiệu quả, doanh nghiệp mới có thể đạt được sự thành công và bứt phá trong môi trường cạnh tranh ngày càng khốc liệt của ngành tiêu dùng.\n",
      "1074\n"
     ]
    }
   ],
   "source": [
    "recommendation_function = plugin[\"Recommendation\"]\n",
    "summContent = \" \".join([value[1] for value in values])\n",
    "recommendation = await kernel.invoke(recommendation_function, sk.KernelArguments(recommendation = outline_dict[\"recommendations\"], summContent = summContent))\n",
    "print(str(recommendation))\n",
    "print(token_count(str(recommendation)))"
   ]
  },
  {
   "cell_type": "code",
   "execution_count": 9,
   "metadata": {},
   "outputs": [
    {
     "name": "stdout",
     "output_type": "stream",
     "text": [
      "848 tokens\n",
      "Trong bối cảnh thị trường tiêu dùng hiện nay, việc nắm bắt và hiểu rõ tâm lý, hành vi của người tiêu dùng là vô cùng quan trọng để các doanh nghiệp có thể áp dụng các chiến lược tiếp thị hiệu quả. Việc đánh giá và dự đoán xu hướng thị trường cũng như tâm lý người tiêu dùng sẽ giúp các doanh nghiệp tạo ra các chiến dịch tiếp thị phù hợp và hiệu quả.\n",
      "\n",
      "Trong thời kỳ khó khăn của nền kinh tế, người tiêu dùng thường có xu hướng cẩn trọng hơn trong việc chi tiêu. Họ có thể cắt giảm những khoản chi không cần thiết và tìm kiếm các sản phẩm, dịch vụ có giá trị thực sự. Do đó, các doanh nghiệp cần tập trung vào việc cải thiện chất lượng sản phẩm, tối ưu chi phí để đáp ứng nhu cầu của người tiêu dùng.\n",
      "\n",
      "Xu hướng mua sắm thông minh và trải nghiệm mua hàng ngày càng trở nên phổ biến. Người tiêu dùng ngày càng thông minh hơn trong việc so sánh giá cả, tìm hiểu thông tin sản phẩm và đánh giá từ người tiêu dùng khác. Điều này đặt ra thách thức cho các doanh nghiệp trong việc cung cấp thông tin chính xác và tạo ra trải nghiệm mua sắm tốt cho khách hàng.\n",
      "\n",
      "Ngoài ra, việc tích hợp công nghệ vào trải nghiệm mua sắm cũng đang trở thành xu hướng. Công nghệ như trí tuệ nhân tạo, thực tế ảo được áp dụng để cá nhân hóa trải nghiệm mua sắm và tạo ra môi trường mua sắm thông minh và tiện lợi hơn. Điều này giúp tăng cường tương tác với khách hàng và tạo ra sự hài lòng cao.\n",
      "\n",
      "Trong tình hình thị trường tiêu dùng hiện nay, việc hiểu rõ tâm lý và hành vi của người tiêu dùng là chìa khóa để thành công trong kinh doanh. Các doanh nghiệp cần đầu tư vào nghiên cứu thị trường, đánh giá xu hướng và tạo ra các chiến lược tiếp thị phù hợp để thu hút và giữ chân khách hàng. Đồng thời, việc cải thiện chất lượng sản phẩm, tối ưu chi phí và tích hợp công nghệ sẽ giúp các doanh nghiệp nắm bắt cơ hội và đối mặt với thách thức trên thị trường tiêu dùng ngày nay.\n",
      "707 tokens\n",
      "Trên thực tế, năm 2023 đang chứng kiến sự biến đổi mạnh mẽ trong xu hướng tiêu dùng của người Việt. Với tình hình kinh tế không ổn định và áp lực từ tăng giá cả, người tiêu dùng đang thay đổi cách tiêu dùng của mình để phản ánh sự thích nghi và linh hoạt trong hoàn cảnh khó khăn.\n",
      "\n",
      "Một trong những xu hướng rõ ràng nhất là sự chú trọng đến sức khỏe và an toàn thực phẩm. Người tiêu dùng ngày càng quan tâm đến nguồn gốc, thành phần và chất lượng của thực phẩm mà họ tiêu thụ. Điều này đặt ra một thách thức lớn cho các doanh nghiệp trong việc đảm bảo sản phẩm của mình đáp ứng được các tiêu chuẩn an toàn và dinh dưỡng.\n",
      "\n",
      "Xu hướng mua sắm trực tuyến và tận hưởng trải nghiệm tại gia cũng đang trở nên phổ biến hơn. Việc tìm kiếm ưu đãi và khuyến mãi trực tuyến đã trở thành một phần không thể thiếu trong hành vi mua sắm của người tiêu dùng. Doanh nghiệp cần nắm bắt xu hướng này để cung cấp các dịch vụ và sản phẩm phù hợp với nhu cầu của khách hàng.\n",
      "\n",
      "Ngoài ra, việc sử dụng công nghệ, đặc biệt là QR Code, để cải thiện trải nghiệm mua sắm cũng đang trở thành một xu hướng quan trọng. QR Code không chỉ giúp khách hàng tiếp cận thông tin sản phẩm một cách nhanh chóng và tiện lợi, mà còn tạo ra cơ hội cho các doanh nghiệp tương tác và tiếp cận khách hàng một cách hiệu quả.\n",
      "\n",
      "Tóm lại, xu hướng tiêu dùng trong năm 2023 đang phản ánh sự thay đổi và phát triển của xã hội và công nghệ. Để thành công trong môi trường cạnh tranh ngày càng gay gắt, các doanh nghiệp cần nắm bắt và tận dụng những xu hướng này để đáp ứng nhu cầu của khách hàng một cách tốt nhất.\n",
      "1006 tokens\n",
      "Trong bối cảnh thị trường tiêu dùng đang phải đối mặt với nhiều biến động từ yếu tố ngoại cảnh, việc nắm bắt và hiểu rõ những ảnh hưởng của các yếu tố này là vô cùng quan trọng đối với các doanh nghiệp. Những biến động trong kinh tế, chính trị, xã hội không chỉ ảnh hưởng đến nhu cầu tiêu dùng của người tiêu dùng mà còn đến hành vi mua sắm và quyết định mua hàng của họ.\n",
      "\n",
      "Năm 2023, thị trường hàng hóa thế giới đang chịu ảnh hưởng lớn từ những biến động toàn cầu. Xung đột và cạnh tranh giữa các nước lớn ngày càng gay gắt, tình hình thời tiết cực đoan diễn ra ở nhiều nơi, làm mất cân đối sản xuất lương thực. Điều này dẫn đến việc giá cả có thể biến động mạnh, ảnh hưởng đến lạm phát và sức mua của người tiêu dùng.\n",
      "\n",
      "Ngoài ra, tình hình kinh tế chung cũng đang đối mặt với tăng trưởng thấp, thị trường tài chính - tiền tệ - bất động sản tại một số nước tiềm ẩn nhiều rủi ro. Điều này có thể khiến người tiêu dùng cảm thấy không chắc chắn về tương lai, dẫn đến việc họ cẩn trọng hơn trong việc chi tiêu và lựa chọn sản phẩm.\n",
      "\n",
      "Trên thực tế, người tiêu dùng Việt đang có những điều chỉnh đáng kể trong tiêu dùng của họ. Họ cắt giảm mức chi tiêu không cần thiết, hạn chế mua hàng hoặc thay đổi phương thức mua sắm để tiết kiệm chi phí. Điều này đặt ra thách thức lớn cho các doanh nghiệp, buộc họ phải thay đổi chiến lược tiếp cận người tiêu dùng để đáp ứng nhu cầu mới của họ.\n",
      "\n",
      "Trong bối cảnh khó khăn này, việc đưa ra những lựa chọn đúng để tối ưu hóa chi phí và gia tăng hiệu quả kinh doanh là điều cần thiết. Các doanh nghiệp cần thấu hiểu và đưa ra các giải pháp phù hợp để tiếp cận người tiêu dùng hiệu quả hơn, từ đó tạo sự hài lòng và tăng cường sức cạnh tranh trên thị trường.\n",
      "\n",
      "Với sự phân tích và nghiên cứu về ảnh hưởng của yếu tố ngoại cảnh đến thị trường tiêu dùng, các doanh nghiệp có thể đưa ra các chiến lược linh hoạt và hiệu quả để thích nghi với môi trường kinh doanh đầy biến động. Việc hiểu rõ nguồn gốc của các yếu tố ảnh hưởng sẽ giúp họ đưa ra các quyết định đúng đắn và phù hợp để phát triển bền vững trong thời kỳ khó khăn này.\n",
      "950 tokens\n",
      "Trong ngành tiêu dùng ngày nay, sự cạnh tranh ngày càng gay gắt và đa dạng, đặc biệt là trong bối cảnh kinh tế thị trường có nhiều biến động và khó khăn như hiện nay. Việc nắm bắt và hiểu rõ nhu cầu, thói quen mua sắm cũng như xu hướng tiêu dùng của khách hàng là yếu tố quyết định giúp các doanh nghiệp tồn tại và phát triển trong môi trường cạnh tranh gay gắt.\n",
      "\n",
      "Để thành công trong ngành tiêu dùng, các doanh nghiệp cần thực hiện các chiến lược cạnh tranh thông minh và hiệu quả. Đầu tiên, việc sáng tạo và nâng cao chất lượng sản phẩm và dịch vụ là yếu tố quan trọng. Các doanh nghiệp cần đầu tư vào nghiên cứu và phát triển để đáp ứng nhanh chóng những xu hướng mới, cung cấp sản phẩm và giải pháp sáng tạo, hiện đại đáp ứng nhu cầu ngày càng đa dạng của khách hàng.\n",
      "\n",
      "Thứ hai, tập trung vào trải nghiệm khách hàng. Việc đáp ứng nhanh chóng và hiệu quả nhu cầu của khách hàng là chìa khóa để tạo ra mối quan hệ lâu dài và tăng cường sự hài lòng của khách hàng. Quy trình phục vụ và chăm sóc khách hàng cần được cải thiện liên tục để đáp ứng mong đợi của họ.\n",
      "\n",
      "Thứ ba, việc áp dụng công nghệ và tự động hóa trong quy trình kinh doanh cũng đóng vai trò quan trọng trong việc nâng cao hiệu suất và giảm chi phí. Công nghệ giúp doanh nghiệp tối ưu hóa hoạt động, cung cấp dịch vụ tốt hơn và tạo ra trải nghiệm tốt hơn cho khách hàng.\n",
      "\n",
      "Cuối cùng, việc quảng cáo và tiếp cận thông minh là yếu tố không thể thiếu trong môi trường cạnh tranh ngày nay. Việc sử dụng các kênh quảng cáo trực tuyến thông minh và hiệu quả giúp doanh nghiệp tiếp cận khách hàng mục tiêu một cách hiệu quả nhất. Duy trì hiện diện trên các nền tảng trực tuyến giúp doanh nghiệp tạo sự nhận diện và tương tác tích cực với khách hàng.\n",
      "\n",
      "Tóm lại, sự cạnh tranh trong ngành tiêu dùng đòi hỏi các doanh nghiệp phải thực hiện các chiến lược thông minh và linh hoạt để đáp ứng nhu cầu ngày càng đa dạng và khó tính của khách hàng. Sự sáng tạo, tập trung vào trải nghiệm khách hàng, áp dụng công nghệ và quảng cáo thông minh là những yếu tố quan trọng giúp doanh nghiệp cạnh tranh và phát triển bền vững trong thị trường ngày nay.\n"
     ]
    }
   ],
   "source": [
    "for value in values:\n",
    "    print(token_count(value[0]), \"tokens\")\n",
    "    print(value[0])"
   ]
  },
  {
   "cell_type": "code",
   "execution_count": 11,
   "metadata": {},
   "outputs": [
    {
     "name": "stdout",
     "output_type": "stream",
     "text": [
      "\"Tình hình hiện tại thị trường tiêu dùng Việt Nam năm 2023\"\n"
     ]
    }
   ],
   "source": [
    "import semantic_kernel as sk\n",
    "\n",
    "kernel = sk.Kernel()\n",
    "\n",
    "from semantic_kernel.connectors.ai.open_ai import OpenAIChatCompletion\n",
    "\n",
    "api_key, org_id = sk.openai_settings_from_dot_env()\n",
    "service_id = \"default\"\n",
    "kernel.add_service(\n",
    "    OpenAIChatCompletion(service_id=service_id, ai_model_id=\"gpt-3.5-turbo-0125\", api_key=api_key, org_id=org_id),\n",
    ")\n",
    "\n",
    "plugin = kernel.import_plugin_from_prompt_directory(\"./Plugins/\", \"ReportPlugin\")\n",
    "Query_function = plugin[\"Query\"]\n",
    "Query = await kernel.invoke(Query_function, sk.KernelArguments(input=\"Tình hình hiện tại\", big_title = \"Báo cáo thị trường Tiêu dùng năm 2023\"))\n",
    "print(Query)\n"
   ]
  }
 ],
 "metadata": {
  "kernelspec": {
   "display_name": "ReportGenerator_SemanticKernel",
   "language": "python",
   "name": "python3"
  },
  "language_info": {
   "codemirror_mode": {
    "name": "ipython",
    "version": 3
   },
   "file_extension": ".py",
   "mimetype": "text/x-python",
   "name": "python",
   "nbconvert_exporter": "python",
   "pygments_lexer": "ipython3",
   "version": "3.11.5"
  }
 },
 "nbformat": 4,
 "nbformat_minor": 2
}
