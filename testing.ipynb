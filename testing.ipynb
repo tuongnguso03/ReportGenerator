{
 "cells": [
  {
   "cell_type": "code",
   "execution_count": 3,
   "metadata": {},
   "outputs": [
    {
     "name": "stdout",
     "output_type": "stream",
     "text": [
      "{'report': {'title': 'Báo cáo thị trường Tiêu dùng năm 2023','introduction': 'Trong báo cáo này, chúng tôi sẽ phân tích và đánh giá tình hình thị trường tiêu dùng trong năm 2023, bao gồm xu hướng, dự đoán và ảnh hưởng của các yếu tố khác nhau.','body': {'headings': ['1. Tình hình thị trường tiêu dùng hiện tại','2. Xu hướng tiêu dùng trong năm 2023','3. Dự đoán về thị trường tiêu dùng trong tương lai','4. Ảnh hưởng của yếu tố kinh tế, xã hội đến thị trường tiêu dùng']}, 'conclusion': 'Dựa trên các phân tích và đánh giá, chúng tôi rút ra những kết luận quan trọng về thị trường tiêu dùng năm 2023.','recommendations': 'Dựa vào những kết luận từ báo cáo, chúng tôi đưa ra những khuyến nghị cụ thể cho các doanh nghiệp hoạt động trong lĩnh vực tiêu dùng để phát triển bền vững.'}}\n"
     ]
    }
   ],
   "source": [
    "import semantic_kernel as sk\n",
    "\n",
    "kernel = sk.Kernel()\n",
    "\n",
    "from semantic_kernel.connectors.ai.open_ai import OpenAIChatCompletion\n",
    "\n",
    "api_key, org_id = sk.openai_settings_from_dot_env()\n",
    "service_id = \"default\"\n",
    "kernel.add_service(\n",
    "    OpenAIChatCompletion(service_id=service_id, ai_model_id=\"gpt-3.5-turbo-0125\", api_key=api_key, org_id=org_id),\n",
    ")\n",
    "\n",
    "plugin = kernel.import_plugin_from_prompt_directory(\"./Plugins/\", \"ReportPlugin\")\n",
    "OutlineJSON_function = plugin[\"OutlineJSON\"]\n",
    "OutlineJSON = await kernel.invoke(OutlineJSON_function, sk.KernelArguments(input=\"Báo cáo thị trường Tiêu dùng năm 2023\"))\n",
    "print(OutlineJSON)\n",
    "\n"
   ]
  },
  {
   "cell_type": "code",
   "execution_count": 4,
   "metadata": {},
   "outputs": [
    {
     "data": {
      "text/plain": [
       "{'title': 'Báo cáo thị trường Tiêu dùng năm 2023',\n",
       " 'introduction': 'Trong báo cáo này, chúng tôi sẽ phân tích và đánh giá tình hình thị trường tiêu dùng trong năm 2023, bao gồm xu hướng, dự đoán và ảnh hưởng của các yếu tố khác nhau.',\n",
       " 'body': {'headings': ['1. Tình hình thị trường tiêu dùng hiện tại',\n",
       "   '2. Xu hướng tiêu dùng trong năm 2023',\n",
       "   '3. Dự đoán về thị trường tiêu dùng trong tương lai',\n",
       "   '4. Ảnh hưởng của yếu tố kinh tế, xã hội đến thị trường tiêu dùng']},\n",
       " 'conclusion': 'Dựa trên các phân tích và đánh giá, chúng tôi rút ra những kết luận quan trọng về thị trường tiêu dùng năm 2023.',\n",
       " 'recommendations': 'Dựa vào những kết luận từ báo cáo, chúng tôi đưa ra những khuyến nghị cụ thể cho các doanh nghiệp hoạt động trong lĩnh vực tiêu dùng để phát triển bền vững.'}"
      ]
     },
     "execution_count": 4,
     "metadata": {},
     "output_type": "execute_result"
    }
   ],
   "source": [
    "from Plugins.utils import json_split\n",
    "outline_dict = json_split(str(OutlineJSON))\n",
    "outline_dict"
   ]
  },
  {
   "cell_type": "code",
   "execution_count": 5,
   "metadata": {},
   "outputs": [
    {
     "name": "stdout",
     "output_type": "stream",
     "text": [
      "Báo cáo thị trường Tiêu dùng năm 2023 là một tài liệu quan trọng nhằm cung cấp cái nhìn tổng quan về tình hình thị trường tiêu dùng trong năm tới. Chúng tôi sẽ tập trung vào việc phân tích và đánh giá các xu hướng tiêu dùng dự kiến, dự đoán về diễn biến của thị trường, cũng như ảnh hưởng của các yếu tố kinh tế và xã hội đến lĩnh vực này. Bằng việc trình bày các thông tin chi tiết và chính xác, chúng tôi hy vọng rằng báo cáo sẽ giúp các doanh nghiệp hiểu rõ hơn về thị trường tiêu dùng và từ đó đưa ra những quyết định kinh doanh hiệu quả.\n"
     ]
    }
   ],
   "source": [
    "Introduction_function = plugin[\"Introduction\"]\n",
    "Introduction = await kernel.invoke(Introduction_function, sk.KernelArguments(introduction=outline_dict[\"introduction\"]\n",
    "                                                                            , reportLayout = str(OutlineJSON)))\n",
    "print(Introduction)"
   ]
  },
  {
   "cell_type": "code",
   "execution_count": 6,
   "metadata": {},
   "outputs": [
    {
     "name": "stdout",
     "output_type": "stream",
     "text": [
      "2830\n",
      "6805\n",
      "0\n",
      "7950\n",
      "7919\n",
      "0\n",
      "7919\n",
      "[('Trong bối cảnh kinh tế hiện nay, tình hình thị trường tiêu dùng đang phản ánh sự phục hồi và sự phát triển tích cực. Dữ liệu từ Báo cáo kinh tế - xã hội tháng 12 và năm 2023 của Tổng cục Thống kê cho thấy rằng hoạt động thương mại và dịch vụ tiêu dùng đã tăng trưởng mạnh mẽ trong quý 4/2023, góp phần quan trọng vào việc hoàn thành kế hoạch sản xuất kinh doanh năm 2023.\\n\\nKhu vực dịch vụ đạt tốc độ tăng trưởng khá tích cực so với năm trước, với tổng mức bán lẻ hàng hóa và doanh thu dịch vụ tiêu dùng tăng 9,3% so với cùng kỳ năm trước. Điều này cho thấy sự phục hồi và sự tin tưởng của người tiêu dùng trong việc chi tiêu và tiêu dùng các sản phẩm và dịch vụ.\\n\\nTrong nửa cuối năm 2023, xu hướng thị trường tiêu dùng tại Việt Nam đang chứng kiến sự tăng cường trong việc mua sắm thông minh, tập trung vào nhu cầu cơ bản và giá trị thực sự. Người tiêu dùng ngày càng chú trọng vào việc so sánh giá cả, tìm hiểu thông tin sản phẩm và đánh giá từ người tiêu dùng khác trước khi quyết định mua sắm.\\n\\nNgoài ra, sự lạc quan và tâm lý tích cực của người tiêu dùng cũng đang tạo động lực cho hoạt động mua sắm và tiêu dùng. Tin tức tích cực về tình hình kinh tế và triển vọng tương lai đang thúc đẩy người tiêu dùng tham gia vào các hoạt động tiêu dùng và đầu tư.\\n\\nTrong mùa lễ hội kéo dài từ tháng 10.2023 đến tháng 02.2024, các thương hiệu cần định hướng chiến lược tiếp cận người tiêu dùng thông minh, tạo ra những trải nghiệm mua sắm độc đáo và sáng tạo để thu hút khách hàng. Việc hiểu rõ về xu hướng thị trường và hành vi của người tiêu dùng sẽ giúp các doanh nghiệp tối ưu hóa chiến lược tiếp thị và quảng cáo, đảm bảo đạt được các mục tiêu ngắn hạn và dài hạn.\\n\\nTóm lại, tình hình thị trường tiêu dùng hiện tại tại Việt Nam đang phản ánh sự phục hồi và sự phát triển tích cực, với người tiêu dùng ngày càng thông minh và tập trung vào nhu cầu cơ bản và giá trị thực sự. Để thành công trong mùa lễ hội và thị trường tiêu dùng, các thương hiệu cần định hướng chiến lược tiếp cận người tiêu dùng thông minh và tạo ra những trải nghiệm mua sắm độc đáo và sáng tạo.', 'Trong bối cảnh kinh tế Việt Nam đang phục hồi và tăng trưởng tích cực, thị trường tiêu dùng hiện nay đang chứng kiến sự sôi động và phát triển đáng chú ý. Theo báo cáo kinh tế - xã hội tháng 12 và năm 2023 của Tổng cục Thống kê, hoạt động thương mại và dịch vụ tiêu dùng đã góp phần quan trọng vào việc hoàn thành kế hoạch sản xuất kinh doanh năm 2023.\\n\\nKhu vực dịch vụ đạt tốc độ tăng trưởng khá tích cực, với tổng mức bán lẻ hàng hóa và doanh thu dịch vụ tiêu dùng tăng 9,6% so với năm trước. Trong quý 4/2023, doanh thu bán lẻ hàng hóa và doanh thu dịch vụ tiêu dùng ước đạt 1.662,7 nghìn tỷ đồng, tăng 7,2% so với quý trước và tăng 9,3% so với cùng kỳ năm trước. Điều này cho thấy sự phục hồi và tăng trưởng ổn định của thị trường tiêu dùng.\\n\\nTrong nửa cuối năm 2023, xu hướng thị trường tiêu dùng tại Việt Nam đang chú trọng vào nhu cầu cơ bản và giá trị, mua sắm thông minh và trải nghiệm mua hàng khác biệt. Người tiêu dùng ngày càng thông thái hơn trong việc chọn lựa sản phẩm và dịch vụ, đồng thời tìm kiếm những trải nghiệm mua sắm độc đáo và sáng tạo.\\n\\nVới sự phục hồi của nền kinh tế và tâm lý lạc quan của người tiêu dùng, thị trường tiêu dùng tại Việt Nam đang có những triển vọng tích cực trong nửa cuối năm 2023. Các doanh nghiệp cần nắm bắt xu hướng thị trường và hiểu rõ hành vi mua sắm của người tiêu dùng để đưa ra các chiến lược tiếp thị và kinh doanh hiệu quả, đảm bảo mục tiêu ngắn hạn và dài hạn.'), ('Trên thị trường tiêu dùng của Việt Nam, năm 2023 đang chứng kiến sự thay đổi đáng kể trong hành vi mua sắm và tâm lý của người tiêu dùng. Với bối cảnh nền kinh tế đang đối mặt với nhiều khó khăn và áp lực từ xu hướng cắt giảm chi tiêu toàn cầu, các doanh nghiệp cần nắm bắt những xu hướng này để điều chỉnh chiến lược kinh doanh và tiếp cận khách hàng một cách hiệu quả.\\n\\nMột trong những xu hướng quan trọng nhất trong năm 2023 là sự gia tăng của thương mại điện tử và trải nghiệm mua sắm online. Người tiêu dùng ngày càng ưa chuộng việc mua sắm trực tuyến để tiết kiệm thời gian và tận hưởng những ưu đãi hấp dẫn. Điều này đặt ra thách thức lớn cho các doanh nghiệp truyền thống khi họ cần phải đầu tư vào việc phát triển kênh bán hàng trực tuyến và cải thiện trải nghiệm mua sắm qua internet.\\n\\nNgoài ra, người tiêu dùng cũng đang chú trọng đến việc mua sắm các sản phẩm mang yếu tố bền vững và thân thiện với môi trường. Việc này phản ánh xu hướng chung của xã hội hiện nay khi mọi người ngày càng quan tâm đến vấn đề bảo vệ môi trường và phát triển bền vững. Các doanh nghiệp cần đáp ứng được nhu cầu này bằng cách cung cấp sản phẩm và dịch vụ phản ánh tinh thần này.\\n\\nNgoài ra, việc tư duy mua sắm của người tiêu dùng cũng đang thay đổi. Mua sắm không chỉ đơn thuần là việc mua hàng nữa mà ngày càng trở thành một phần của phong cách sống. Người tiêu dùng tìm kiếm những trải nghiệm thú vị, sáng tạo và độc đáo khi họ mua sắm. Điều này đặt ra thách thức cho các doanh nghiệp khi họ cần phải đổi mới và tạo ra những trải nghiệm mua sắm độc đáo để thu hút khách hàng.\\n\\nTrong bối cảnh này, các doanh nghiệp cần nắm bắt kịp thời những xu hướng tiêu dùng mới để điều chỉnh chiến lược kinh doanh và marketing. Việc đầu tư vào việc nghiên cứu và hiểu rõ nhu cầu của khách hàng sẽ giúp họ tạo ra những sản phẩm và dịch vụ phản ánh đúng xu hướng thị trường và thu hút được sự quan tâm của người tiêu dùng. Đồng thời, việc tận dụng công nghệ để cải thiện trải nghiệm mua sắm cũng là yếu tố quan trọng giúp doanh nghiệp cạnh tranh hiệu quả trên thị trường.\\n\\nTóm lại, xu hướng tiêu dùng trong năm 2023 tại Việt Nam đang chứa đựng nhiều cơ hội và thách thức cho các doanh nghiệp. Việc nắm bắt và thích nghi với những thay đổi này sẽ giúp họ duy trì và phát triển trong môi trường kinh doanh ngày càng cạnh tranh và biến đổi.', 'Trong năm 2023, xu hướng tiêu dùng của người Việt Nam đang trải qua những thay đổi đáng chú ý trong bối cảnh nền kinh tế đang phục hồi và các yếu tố khác như tâm lý, thói quen mua sắm. Dưới đây là một số xu hướng tiêu dùng quan trọng trong năm 2023:\\n\\n1. Mua sắm trực tuyến: Sự phát triển của thương mại điện tử đang thúc đẩy người tiêu dùng Việt Nam chuyển từ mua sắm truyền thống sang mua sắm trực tuyến. Việc tiết kiệm thời gian và có thể tìm kiếm các ưu đãi hấp dẫn trên các nền tảng mua sắm online đang trở thành xu hướng phổ biến.\\n\\n2. Sản phẩm bền vững: Người tiêu dùng ngày càng quan tâm đến việc chọn mua các sản phẩm có nguồn gốc và sản xuất bền vững, thân thiện với môi trường. Việc này phản ánh xu hướng chung của xã hội hiện nay về bảo vệ môi trường và phát triển bền vững.\\n\\n3. Trải nghiệm mua sắm: Người tiêu dùng đang đặt nhiều tầm quan trọng vào trải nghiệm mua sắm, từ quy trình mua hàng đến dịch vụ khách hàng. Các doanh nghiệp cần đầu tư vào việc cải thiện trải nghiệm của khách hàng để thu hút và giữ chân họ.\\n\\n4. Tư duy mua sắm thông minh: Người tiêu dùng ngày càng thông minh trong việc so sánh giá cả, tìm hiểu thông tin sản phẩm trước khi quyết định mua. Điều này đặt áp lực lớn lên các doanh nghiệp để cung cấp thông tin chính xác và hấp dẫn đến người tiêu dùng.\\n\\n5. Tập trung vào nhu cầu cơ bản và giá trị: Trong bối cảnh kinh tế không chắc chắn, người tiêu dùng đang tập trung vào những nhu cầu cơ bản và sản phẩm có giá trị thực sự. Việc này thể hiện sự cân nhắc và khả năng quản lý tài chính của họ.\\n\\nNhững xu hướng tiêu dùng trên đây đang ảnh hưởng đến quyết định mua sắm và chi tiêu của người Việt Nam trong năm 2023. Các doanh nghiệp cần nắm bắt và thích nghi với những xu hướng này để đáp ứng nhu cầu của khách hàng và tạo ra sự khác biệt trong thị trường cạnh tranh.'), ('Dự đoán về thị trường tiêu dùng trong tương lai là một vấn đề quan trọng mà các doanh nghiệp cần quan tâm và nghiên cứu để đưa ra các chiến lược kinh doanh hiệu quả. Trong bối cảnh thị trường tiêu dùng đang phát triển và biến đổi nhanh chóng, việc dự đoán xu hướng và thay đổi trong hành vi mua sắm của người tiêu dùng là rất quan trọng để đáp ứng nhu cầu của khách hàng và tạo ra sự cạnh tranh cho doanh nghiệp.\\n\\nTheo những thông tin và xu hướng hiện tại, có thể dự đoán rằng thị trường tiêu dùng trong tương lai sẽ tiếp tục phát triển mạnh mẽ, đặc biệt là trong lĩnh vực thương mại điện tử và trải nghiệm mua sắm online. Người tiêu dùng ngày càng ưa chuộng mua sắm trực tuyến để tiết kiệm thời gian và tận hưởng những ưu đãi hấp dẫn. Sự tích hợp công nghệ trong trải nghiệm mua sắm cũng sẽ ngày càng được ưu tiên, giúp cá nhân hóa trải nghiệm của người tiêu dùng và tạo ra một môi trường mua sắm thông minh và tiện lợi hơn.\\n\\nNgoài ra, việc tập trung vào nhu cầu cơ bản và giá trị, cũng như sự chú trọng đến trải nghiệm mua hàng và dịch vụ chất lượng cao sẽ là những xu hướng quan trọng trong tương lai. Người tiêu dùng ngày càng chú trọng đến việc chọn lựa sản phẩm có nguồn gốc và sản xuất mang yếu tố bền vững, đồng thời hạn chế lãng phí và tác động tiêu cực đối với môi trường.\\n\\nVới sự phát triển của công nghệ và sự thay đổi trong hành vi mua sắm của người tiêu dùng, các doanh nghiệp cần đưa ra các chiến lược linh hoạt và đổi mới để đáp ứng nhu cầu ngày càng đa dạng của khách hàng. Việc nắm bắt và dự đoán xu hướng thị trường tiêu dùng trong tương lai sẽ giúp các doanh nghiệp tạo ra những sản phẩm và dịch vụ phù hợp, từ đó tăng cường sức cạnh tranh và phát triển bền vững trên thị trường.\\n\\nTrong tương lai, việc đầu tư vào nghiên cứu và phát triển, cải thiện trải nghiệm khách hàng và áp dụng công nghệ sẽ là yếu tố quyết định thành công của các doanh nghiệp trên thị trường tiêu dùng. Đồng thời, việc đưa ra các chiến lược tiếp cận thông minh và tối ưu hóa quy trình kinh doanh cũng sẽ giúp các doanh nghiệp thích nghi và phát triển trong môi trường cạnh tranh ngày càng gay gắt.\\n\\nTóm lại, dự đoán về thị trường tiêu dùng trong tương lai đòi hỏi sự nhạy bén và linh hoạt từ các doanh nghiệp. Việc nắm bắt xu hướng và thay đổi trong hành vi mua sắm của người tiêu dùng sẽ giúp các doanh nghiệp tạo ra các chiến lược kinh doanh hiệu quả và phát triển bền vững trên thị trường.', 'Dự đoán về thị trường tiêu dùng trong tương lai là một vấn đề quan trọng mà các doanh nghiệp cần quan tâm để xác định chiến lược kinh doanh hiệu quả. Dựa vào những xu hướng và insights từ thị trường hiện tại, có thể đưa ra một số dự đoán sau:\\n\\n1. Sự tập trung vào sản phẩm và dịch vụ bền vững: Người tiêu dùng ngày càng quan tâm đến các sản phẩm và dịch vụ có nguồn gốc bền vững, thân thiện với môi trường. Do đó, các doanh nghiệp cần đầu tư vào việc phát triển các sản phẩm và dịch vụ này để đáp ứng nhu cầu ngày càng tăng của khách hàng.\\n\\n2. Sự gia tăng trong việc ưu tiên trải nghiệm mua hàng: Người tiêu dùng đang chú trọng đến trải nghiệm mua sắm và dịch vụ chất lượng. Các doanh nghiệp cần đổi mới để cung cấp trải nghiệm tốt hơn thông qua việc tối ưu hóa quy trình mua sắm và tạo ra những trải nghiệm độc đáo từ online đến offline.\\n\\n3. Sự tăng cường sử dụng công nghệ trong trải nghiệm mua sắm: Công nghệ như trí tuệ nhân tạo, thực tế ảo và tương tác qua chatbot sẽ tiếp tục được tích hợp để cung cấp trải nghiệm mua sắm tốt hơn. Điều này giúp cá nhân hóa trải nghiệm của người tiêu dùng và tạo ra một môi trường mua sắm thông minh và tiện lợi hơn.\\n\\n4. Sự chuyển đổi trong hành vi mua sắm: Người tiêu dùng có thể tiếp tục cắt giảm chi tiêu không cần thiết và tập trung vào những sản phẩm và dịch vụ có giá trị thực sự. Doanh nghiệp cần đưa ra các giải pháp linh hoạt để đáp ứng nhu cầu thay đổi của khách hàng.\\n\\n5. Sự tăng cường quảng cáo và tiếp cận thông minh: Việc duy trì hiện diện trực tuyến và sử dụng các kênh quảng cáo thông minh sẽ giúp doanh nghiệp tiếp cận khách hàng một cách hiệu quả và tối ưu hóa chiến lược tiếp thị.\\n\\nTóm lại, dự đoán về thị trường tiêu dùng trong tương lai đòi hỏi sự linh hoạt, sáng tạo và sử dụng công nghệ hiện đại để đáp ứng nhu cầu ngày càng đa dạng và phức tạp của người tiêu dùng. Các doanh nghiệp cần nắm bắt kịp thời những xu hướng mới và thay đổi trong hành vi mua sắm để đạt được sự thành công trong thị trường cạnh tranh.'), ('Trong bối cảnh kinh tế và xã hội đang đối mặt với nhiều thách thức và biến động, thị trường tiêu dùng không thể tránh khỏi ảnh hưởng của những yếu tố này. Việc hiểu rõ và đánh giá chính xác những ảnh hưởng này là vô cùng quan trọng để các doanh nghiệp có thể thích ứng và phát triển trong môi trường cạnh tranh gay gắt ngày nay.\\n\\nYếu tố kinh tế đóng vai trò quan trọng trong việc ảnh hưởng đến thị trường tiêu dùng. Tình hình kinh tế ổn định, tăng trưởng GDP, kiểm soát lạm phát sẽ tạo ra sự tin tưởng và an tâm cho người tiêu dùng, khuyến khích họ chi tiêu và đầu tư. Ngược lại, khi kinh tế gặp khó khăn, lạm phát tăng cao, người tiêu dùng sẽ cẩn trọng hơn trong việc chi tiêu, có thể cắt giảm những khoản chi không cần thiết và tìm kiếm các sản phẩm có giá trị thực sự.\\n\\nXã hội cũng đóng vai trò quan trọng trong việc ảnh hưởng đến thị trường tiêu dùng. Xu hướng, thói quen, tâm lý của người tiêu dùng được định hình bởi xã hội xung quanh họ. Ví dụ, trong một xã hội quan tâm đến vấn đề bảo vệ môi trường, người tiêu dùng sẽ tìm kiếm các sản phẩm bền vững, thân thiện với môi trường hơn. Đồng thời, các yếu tố văn hóa, giá trị, thị hiếu cũng ảnh hưởng đến quyết định mua sắm của họ.\\n\\nĐể thành công trên thị trường tiêu dùng, các doanh nghiệp cần phải đánh giá kỹ lưỡng những yếu tố kinh tế, xã hội đang ảnh hưởng đến thị trường. Họ cần phải thấu hiểu người tiêu dùng, đáp ứng đúng nhu cầu và mong muốn của họ trong bối cảnh hiện tại. Đồng thời, việc tạo ra các chiến lược tiếp cận, quảng cáo thông minh và sáng tạo cũng là yếu tố quyết định đến sự thành công của họ trên thị trường cạnh tranh ngày nay.\\n\\nNhìn chung, ảnh hưởng của yếu tố kinh tế, xã hội đến thị trường tiêu dùng là không thể phủ nhận. Việc hiểu rõ và đánh giá chính xác những yếu tố này sẽ giúp các doanh nghiệp phát triển bền vững và thành công trong môi trường kinh doanh ngày càng khốc liệt và biến động.', 'Trong bối cảnh kinh tế và xã hội đang đối mặt với nhiều thách thức và biến động, thị trường tiêu dùng không thể tránh khỏi ảnh hưởng của những yếu tố này. Việc nắm bắt và hiểu rõ những ảnh hưởng này là điều cực kỳ quan trọng đối với các doanh nghiệp muốn thành công trong môi trường cạnh tranh gay gắt ngày nay.\\n\\nTình hình kinh tế không ổn định, lạm phát tăng cao, và sự biến động trong thị trường lao động đều ảnh hưởng đến khả năng chi tiêu của người tiêu dùng. Người dân có thể cắt giảm chi tiêu, tập trung vào nhu cầu thiết yếu hơn là mua sắm hàng hóa xa xỉ. Điều này đòi hỏi các doanh nghiệp phải điều chỉnh chiến lược tiếp cận khách hàng, tạo ra các sản phẩm và dịch vụ phản ánh nhu cầu thực sự của thị trường.\\n\\nNgoài ra, các yếu tố xã hội như xu hướng ăn sạch, quan tâm đến môi trường, và tư duy tiêu dùng bền vững cũng đang ảnh hưởng đến thị trường tiêu dùng. Người tiêu dùng ngày càng chú trọng đến nguồn gốc, chất lượng của sản phẩm, và sẵn sàng trả giá cao hơn cho những sản phẩm mang giá trị bền vững. Điều này đặt ra thách thức cho các doanh nghiệp trong việc phát triển sản phẩm, xây dựng hình ảnh thương hiệu và tạo dựng mối quan hệ lâu dài với khách hàng.\\n\\nĐể thành công trên thị trường tiêu dùng hiện nay, các doanh nghiệp cần phải linh hoạt, nhanh nhạy trong việc đáp ứng những thay đổi và xu hướng của người tiêu dùng. Việc đầu tư vào nghiên cứu thị trường, theo dõi các chỉ số kinh tế - xã hội, và áp dụng các chiến lược tiếp thị linh hoạt sẽ giúp các doanh nghiệp vượt qua khó khăn, tạo ra giá trị cho khách hàng và phát triển bền vững trên thị trường cạnh tranh.')]\n"
     ]
    }
   ],
   "source": [
    "from Plugins.google_search import GoogleSearchPlugin\n",
    "from Plugins.utils import token_count\n",
    "import asyncio\n",
    "TOKEN_LIMIT = 8000\n",
    "\n",
    "google_plugin = kernel.import_plugin_from_object(GoogleSearchPlugin(), plugin_name = \"GoogleSearchPlugin\")\n",
    "google_search_function = google_plugin[\"GoogleSearch\"]\n",
    "get_content_function = google_plugin[\"GetContentFromURL\"]\n",
    "\n",
    "column_function = plugin[\"Column\"]\n",
    "column_summ_function = plugin[\"ColumnSumm\"]\n",
    "headings = outline_dict[\"body\"][\"headings\"]\n",
    "\n",
    "async def columnist(heading, title):\n",
    "    search_result = []\n",
    "    tokens = 0\n",
    "    search_result_urls = await kernel.invoke(google_search_function, sk.KernelArguments(keyword = heading + f\"{title}\", num_results = 15))\n",
    "    search_result_urls = search_result_urls.value\n",
    "    while True:\n",
    "        if not search_result_urls:\n",
    "            break\n",
    "        url = search_result_urls.pop(0)\n",
    "        content = await kernel.invoke(get_content_function, sk.KernelArguments(url = url))\n",
    "        content = content.value\n",
    "        new_tokens = token_count(content)\n",
    "        if tokens + new_tokens > TOKEN_LIMIT:\n",
    "            print(tokens)\n",
    "            if tokens >= TOKEN_LIMIT//2:\n",
    "                break\n",
    "            else:\n",
    "                continue\n",
    "        tokens += new_tokens\n",
    "        search_result.append(content)\n",
    "    search_result = \" \".join(search_result)\n",
    "    column = await kernel.invoke(column_function, sk.KernelArguments(input = search_result, body_content = heading))\n",
    "    column_summ = await kernel.invoke(column_summ_function, sk.KernelArguments(input = search_result, body_content = heading))\n",
    "    return str(column), str(column_summ)\n",
    "\n",
    "coros = []\n",
    "for heading in headings:\n",
    "    coros.append(columnist(heading, outline_dict[\"title\"]))\n",
    "\n",
    "values = await asyncio.gather(*coros)\n",
    "print(values)\n",
    "\n",
    "\n"
   ]
  },
  {
   "cell_type": "code",
   "execution_count": 7,
   "metadata": {},
   "outputs": [
    {
     "name": "stdout",
     "output_type": "stream",
     "text": [
      "975 tokens\n",
      "Trong bối cảnh kinh tế hiện nay, tình hình thị trường tiêu dùng đang phản ánh sự phục hồi và sự phát triển tích cực. Dữ liệu từ Báo cáo kinh tế - xã hội tháng 12 và năm 2023 của Tổng cục Thống kê cho thấy rằng hoạt động thương mại và dịch vụ tiêu dùng đã tăng trưởng mạnh mẽ trong quý 4/2023, góp phần quan trọng vào việc hoàn thành kế hoạch sản xuất kinh doanh năm 2023.\n",
      "\n",
      "Khu vực dịch vụ đạt tốc độ tăng trưởng khá tích cực so với năm trước, với tổng mức bán lẻ hàng hóa và doanh thu dịch vụ tiêu dùng tăng 9,3% so với cùng kỳ năm trước. Điều này cho thấy sự phục hồi và sự tin tưởng của người tiêu dùng trong việc chi tiêu và tiêu dùng các sản phẩm và dịch vụ.\n",
      "\n",
      "Trong nửa cuối năm 2023, xu hướng thị trường tiêu dùng tại Việt Nam đang chứng kiến sự tăng cường trong việc mua sắm thông minh, tập trung vào nhu cầu cơ bản và giá trị thực sự. Người tiêu dùng ngày càng chú trọng vào việc so sánh giá cả, tìm hiểu thông tin sản phẩm và đánh giá từ người tiêu dùng khác trước khi quyết định mua sắm.\n",
      "\n",
      "Ngoài ra, sự lạc quan và tâm lý tích cực của người tiêu dùng cũng đang tạo động lực cho hoạt động mua sắm và tiêu dùng. Tin tức tích cực về tình hình kinh tế và triển vọng tương lai đang thúc đẩy người tiêu dùng tham gia vào các hoạt động tiêu dùng và đầu tư.\n",
      "\n",
      "Trong mùa lễ hội kéo dài từ tháng 10.2023 đến tháng 02.2024, các thương hiệu cần định hướng chiến lược tiếp cận người tiêu dùng thông minh, tạo ra những trải nghiệm mua sắm độc đáo và sáng tạo để thu hút khách hàng. Việc hiểu rõ về xu hướng thị trường và hành vi của người tiêu dùng sẽ giúp các doanh nghiệp tối ưu hóa chiến lược tiếp thị và quảng cáo, đảm bảo đạt được các mục tiêu ngắn hạn và dài hạn.\n",
      "\n",
      "Tóm lại, tình hình thị trường tiêu dùng hiện tại tại Việt Nam đang phản ánh sự phục hồi và sự phát triển tích cực, với người tiêu dùng ngày càng thông minh và tập trung vào nhu cầu cơ bản và giá trị thực sự. Để thành công trong mùa lễ hội và thị trường tiêu dùng, các thương hiệu cần định hướng chiến lược tiếp cận người tiêu dùng thông minh và tạo ra những trải nghiệm mua sắm độc đáo và sáng tạo.\n",
      "695 tokens\n",
      "Trong bối cảnh kinh tế Việt Nam đang phục hồi và tăng trưởng tích cực, thị trường tiêu dùng hiện nay đang chứng kiến sự sôi động và phát triển đáng chú ý. Theo báo cáo kinh tế - xã hội tháng 12 và năm 2023 của Tổng cục Thống kê, hoạt động thương mại và dịch vụ tiêu dùng đã góp phần quan trọng vào việc hoàn thành kế hoạch sản xuất kinh doanh năm 2023.\n",
      "\n",
      "Khu vực dịch vụ đạt tốc độ tăng trưởng khá tích cực, với tổng mức bán lẻ hàng hóa và doanh thu dịch vụ tiêu dùng tăng 9,6% so với năm trước. Trong quý 4/2023, doanh thu bán lẻ hàng hóa và doanh thu dịch vụ tiêu dùng ước đạt 1.662,7 nghìn tỷ đồng, tăng 7,2% so với quý trước và tăng 9,3% so với cùng kỳ năm trước. Điều này cho thấy sự phục hồi và tăng trưởng ổn định của thị trường tiêu dùng.\n",
      "\n",
      "Trong nửa cuối năm 2023, xu hướng thị trường tiêu dùng tại Việt Nam đang chú trọng vào nhu cầu cơ bản và giá trị, mua sắm thông minh và trải nghiệm mua hàng khác biệt. Người tiêu dùng ngày càng thông thái hơn trong việc chọn lựa sản phẩm và dịch vụ, đồng thời tìm kiếm những trải nghiệm mua sắm độc đáo và sáng tạo.\n",
      "\n",
      "Với sự phục hồi của nền kinh tế và tâm lý lạc quan của người tiêu dùng, thị trường tiêu dùng tại Việt Nam đang có những triển vọng tích cực trong nửa cuối năm 2023. Các doanh nghiệp cần nắm bắt xu hướng thị trường và hiểu rõ hành vi mua sắm của người tiêu dùng để đưa ra các chiến lược tiếp thị và kinh doanh hiệu quả, đảm bảo mục tiêu ngắn hạn và dài hạn.\n",
      "1077 tokens\n",
      "Trên thị trường tiêu dùng của Việt Nam, năm 2023 đang chứng kiến sự thay đổi đáng kể trong hành vi mua sắm và tâm lý của người tiêu dùng. Với bối cảnh nền kinh tế đang đối mặt với nhiều khó khăn và áp lực từ xu hướng cắt giảm chi tiêu toàn cầu, các doanh nghiệp cần nắm bắt những xu hướng này để điều chỉnh chiến lược kinh doanh và tiếp cận khách hàng một cách hiệu quả.\n",
      "\n",
      "Một trong những xu hướng quan trọng nhất trong năm 2023 là sự gia tăng của thương mại điện tử và trải nghiệm mua sắm online. Người tiêu dùng ngày càng ưa chuộng việc mua sắm trực tuyến để tiết kiệm thời gian và tận hưởng những ưu đãi hấp dẫn. Điều này đặt ra thách thức lớn cho các doanh nghiệp truyền thống khi họ cần phải đầu tư vào việc phát triển kênh bán hàng trực tuyến và cải thiện trải nghiệm mua sắm qua internet.\n",
      "\n",
      "Ngoài ra, người tiêu dùng cũng đang chú trọng đến việc mua sắm các sản phẩm mang yếu tố bền vững và thân thiện với môi trường. Việc này phản ánh xu hướng chung của xã hội hiện nay khi mọi người ngày càng quan tâm đến vấn đề bảo vệ môi trường và phát triển bền vững. Các doanh nghiệp cần đáp ứng được nhu cầu này bằng cách cung cấp sản phẩm và dịch vụ phản ánh tinh thần này.\n",
      "\n",
      "Ngoài ra, việc tư duy mua sắm của người tiêu dùng cũng đang thay đổi. Mua sắm không chỉ đơn thuần là việc mua hàng nữa mà ngày càng trở thành một phần của phong cách sống. Người tiêu dùng tìm kiếm những trải nghiệm thú vị, sáng tạo và độc đáo khi họ mua sắm. Điều này đặt ra thách thức cho các doanh nghiệp khi họ cần phải đổi mới và tạo ra những trải nghiệm mua sắm độc đáo để thu hút khách hàng.\n",
      "\n",
      "Trong bối cảnh này, các doanh nghiệp cần nắm bắt kịp thời những xu hướng tiêu dùng mới để điều chỉnh chiến lược kinh doanh và marketing. Việc đầu tư vào việc nghiên cứu và hiểu rõ nhu cầu của khách hàng sẽ giúp họ tạo ra những sản phẩm và dịch vụ phản ánh đúng xu hướng thị trường và thu hút được sự quan tâm của người tiêu dùng. Đồng thời, việc tận dụng công nghệ để cải thiện trải nghiệm mua sắm cũng là yếu tố quan trọng giúp doanh nghiệp cạnh tranh hiệu quả trên thị trường.\n",
      "\n",
      "Tóm lại, xu hướng tiêu dùng trong năm 2023 tại Việt Nam đang chứa đựng nhiều cơ hội và thách thức cho các doanh nghiệp. Việc nắm bắt và thích nghi với những thay đổi này sẽ giúp họ duy trì và phát triển trong môi trường kinh doanh ngày càng cạnh tranh và biến đổi.\n",
      "844 tokens\n",
      "Trong năm 2023, xu hướng tiêu dùng của người Việt Nam đang trải qua những thay đổi đáng chú ý trong bối cảnh nền kinh tế đang phục hồi và các yếu tố khác như tâm lý, thói quen mua sắm. Dưới đây là một số xu hướng tiêu dùng quan trọng trong năm 2023:\n",
      "\n",
      "1. Mua sắm trực tuyến: Sự phát triển của thương mại điện tử đang thúc đẩy người tiêu dùng Việt Nam chuyển từ mua sắm truyền thống sang mua sắm trực tuyến. Việc tiết kiệm thời gian và có thể tìm kiếm các ưu đãi hấp dẫn trên các nền tảng mua sắm online đang trở thành xu hướng phổ biến.\n",
      "\n",
      "2. Sản phẩm bền vững: Người tiêu dùng ngày càng quan tâm đến việc chọn mua các sản phẩm có nguồn gốc và sản xuất bền vững, thân thiện với môi trường. Việc này phản ánh xu hướng chung của xã hội hiện nay về bảo vệ môi trường và phát triển bền vững.\n",
      "\n",
      "3. Trải nghiệm mua sắm: Người tiêu dùng đang đặt nhiều tầm quan trọng vào trải nghiệm mua sắm, từ quy trình mua hàng đến dịch vụ khách hàng. Các doanh nghiệp cần đầu tư vào việc cải thiện trải nghiệm của khách hàng để thu hút và giữ chân họ.\n",
      "\n",
      "4. Tư duy mua sắm thông minh: Người tiêu dùng ngày càng thông minh trong việc so sánh giá cả, tìm hiểu thông tin sản phẩm trước khi quyết định mua. Điều này đặt áp lực lớn lên các doanh nghiệp để cung cấp thông tin chính xác và hấp dẫn đến người tiêu dùng.\n",
      "\n",
      "5. Tập trung vào nhu cầu cơ bản và giá trị: Trong bối cảnh kinh tế không chắc chắn, người tiêu dùng đang tập trung vào những nhu cầu cơ bản và sản phẩm có giá trị thực sự. Việc này thể hiện sự cân nhắc và khả năng quản lý tài chính của họ.\n",
      "\n",
      "Những xu hướng tiêu dùng trên đây đang ảnh hưởng đến quyết định mua sắm và chi tiêu của người Việt Nam trong năm 2023. Các doanh nghiệp cần nắm bắt và thích nghi với những xu hướng này để đáp ứng nhu cầu của khách hàng và tạo ra sự khác biệt trong thị trường cạnh tranh.\n",
      "1101 tokens\n",
      "Dự đoán về thị trường tiêu dùng trong tương lai là một vấn đề quan trọng mà các doanh nghiệp cần quan tâm và nghiên cứu để đưa ra các chiến lược kinh doanh hiệu quả. Trong bối cảnh thị trường tiêu dùng đang phát triển và biến đổi nhanh chóng, việc dự đoán xu hướng và thay đổi trong hành vi mua sắm của người tiêu dùng là rất quan trọng để đáp ứng nhu cầu của khách hàng và tạo ra sự cạnh tranh cho doanh nghiệp.\n",
      "\n",
      "Theo những thông tin và xu hướng hiện tại, có thể dự đoán rằng thị trường tiêu dùng trong tương lai sẽ tiếp tục phát triển mạnh mẽ, đặc biệt là trong lĩnh vực thương mại điện tử và trải nghiệm mua sắm online. Người tiêu dùng ngày càng ưa chuộng mua sắm trực tuyến để tiết kiệm thời gian và tận hưởng những ưu đãi hấp dẫn. Sự tích hợp công nghệ trong trải nghiệm mua sắm cũng sẽ ngày càng được ưu tiên, giúp cá nhân hóa trải nghiệm của người tiêu dùng và tạo ra một môi trường mua sắm thông minh và tiện lợi hơn.\n",
      "\n",
      "Ngoài ra, việc tập trung vào nhu cầu cơ bản và giá trị, cũng như sự chú trọng đến trải nghiệm mua hàng và dịch vụ chất lượng cao sẽ là những xu hướng quan trọng trong tương lai. Người tiêu dùng ngày càng chú trọng đến việc chọn lựa sản phẩm có nguồn gốc và sản xuất mang yếu tố bền vững, đồng thời hạn chế lãng phí và tác động tiêu cực đối với môi trường.\n",
      "\n",
      "Với sự phát triển của công nghệ và sự thay đổi trong hành vi mua sắm của người tiêu dùng, các doanh nghiệp cần đưa ra các chiến lược linh hoạt và đổi mới để đáp ứng nhu cầu ngày càng đa dạng của khách hàng. Việc nắm bắt và dự đoán xu hướng thị trường tiêu dùng trong tương lai sẽ giúp các doanh nghiệp tạo ra những sản phẩm và dịch vụ phù hợp, từ đó tăng cường sức cạnh tranh và phát triển bền vững trên thị trường.\n",
      "\n",
      "Trong tương lai, việc đầu tư vào nghiên cứu và phát triển, cải thiện trải nghiệm khách hàng và áp dụng công nghệ sẽ là yếu tố quyết định thành công của các doanh nghiệp trên thị trường tiêu dùng. Đồng thời, việc đưa ra các chiến lược tiếp cận thông minh và tối ưu hóa quy trình kinh doanh cũng sẽ giúp các doanh nghiệp thích nghi và phát triển trong môi trường cạnh tranh ngày càng gay gắt.\n",
      "\n",
      "Tóm lại, dự đoán về thị trường tiêu dùng trong tương lai đòi hỏi sự nhạy bén và linh hoạt từ các doanh nghiệp. Việc nắm bắt xu hướng và thay đổi trong hành vi mua sắm của người tiêu dùng sẽ giúp các doanh nghiệp tạo ra các chiến lược kinh doanh hiệu quả và phát triển bền vững trên thị trường.\n",
      "911 tokens\n",
      "Dự đoán về thị trường tiêu dùng trong tương lai là một vấn đề quan trọng mà các doanh nghiệp cần quan tâm để xác định chiến lược kinh doanh hiệu quả. Dựa vào những xu hướng và insights từ thị trường hiện tại, có thể đưa ra một số dự đoán sau:\n",
      "\n",
      "1. Sự tập trung vào sản phẩm và dịch vụ bền vững: Người tiêu dùng ngày càng quan tâm đến các sản phẩm và dịch vụ có nguồn gốc bền vững, thân thiện với môi trường. Do đó, các doanh nghiệp cần đầu tư vào việc phát triển các sản phẩm và dịch vụ này để đáp ứng nhu cầu ngày càng tăng của khách hàng.\n",
      "\n",
      "2. Sự gia tăng trong việc ưu tiên trải nghiệm mua hàng: Người tiêu dùng đang chú trọng đến trải nghiệm mua sắm và dịch vụ chất lượng. Các doanh nghiệp cần đổi mới để cung cấp trải nghiệm tốt hơn thông qua việc tối ưu hóa quy trình mua sắm và tạo ra những trải nghiệm độc đáo từ online đến offline.\n",
      "\n",
      "3. Sự tăng cường sử dụng công nghệ trong trải nghiệm mua sắm: Công nghệ như trí tuệ nhân tạo, thực tế ảo và tương tác qua chatbot sẽ tiếp tục được tích hợp để cung cấp trải nghiệm mua sắm tốt hơn. Điều này giúp cá nhân hóa trải nghiệm của người tiêu dùng và tạo ra một môi trường mua sắm thông minh và tiện lợi hơn.\n",
      "\n",
      "4. Sự chuyển đổi trong hành vi mua sắm: Người tiêu dùng có thể tiếp tục cắt giảm chi tiêu không cần thiết và tập trung vào những sản phẩm và dịch vụ có giá trị thực sự. Doanh nghiệp cần đưa ra các giải pháp linh hoạt để đáp ứng nhu cầu thay đổi của khách hàng.\n",
      "\n",
      "5. Sự tăng cường quảng cáo và tiếp cận thông minh: Việc duy trì hiện diện trực tuyến và sử dụng các kênh quảng cáo thông minh sẽ giúp doanh nghiệp tiếp cận khách hàng một cách hiệu quả và tối ưu hóa chiến lược tiếp thị.\n",
      "\n",
      "Tóm lại, dự đoán về thị trường tiêu dùng trong tương lai đòi hỏi sự linh hoạt, sáng tạo và sử dụng công nghệ hiện đại để đáp ứng nhu cầu ngày càng đa dạng và phức tạp của người tiêu dùng. Các doanh nghiệp cần nắm bắt kịp thời những xu hướng mới và thay đổi trong hành vi mua sắm để đạt được sự thành công trong thị trường cạnh tranh.\n",
      "915 tokens\n",
      "Trong bối cảnh kinh tế và xã hội đang đối mặt với nhiều thách thức và biến động, thị trường tiêu dùng không thể tránh khỏi ảnh hưởng của những yếu tố này. Việc hiểu rõ và đánh giá chính xác những ảnh hưởng này là vô cùng quan trọng để các doanh nghiệp có thể thích ứng và phát triển trong môi trường cạnh tranh gay gắt ngày nay.\n",
      "\n",
      "Yếu tố kinh tế đóng vai trò quan trọng trong việc ảnh hưởng đến thị trường tiêu dùng. Tình hình kinh tế ổn định, tăng trưởng GDP, kiểm soát lạm phát sẽ tạo ra sự tin tưởng và an tâm cho người tiêu dùng, khuyến khích họ chi tiêu và đầu tư. Ngược lại, khi kinh tế gặp khó khăn, lạm phát tăng cao, người tiêu dùng sẽ cẩn trọng hơn trong việc chi tiêu, có thể cắt giảm những khoản chi không cần thiết và tìm kiếm các sản phẩm có giá trị thực sự.\n",
      "\n",
      "Xã hội cũng đóng vai trò quan trọng trong việc ảnh hưởng đến thị trường tiêu dùng. Xu hướng, thói quen, tâm lý của người tiêu dùng được định hình bởi xã hội xung quanh họ. Ví dụ, trong một xã hội quan tâm đến vấn đề bảo vệ môi trường, người tiêu dùng sẽ tìm kiếm các sản phẩm bền vững, thân thiện với môi trường hơn. Đồng thời, các yếu tố văn hóa, giá trị, thị hiếu cũng ảnh hưởng đến quyết định mua sắm của họ.\n",
      "\n",
      "Để thành công trên thị trường tiêu dùng, các doanh nghiệp cần phải đánh giá kỹ lưỡng những yếu tố kinh tế, xã hội đang ảnh hưởng đến thị trường. Họ cần phải thấu hiểu người tiêu dùng, đáp ứng đúng nhu cầu và mong muốn của họ trong bối cảnh hiện tại. Đồng thời, việc tạo ra các chiến lược tiếp cận, quảng cáo thông minh và sáng tạo cũng là yếu tố quyết định đến sự thành công của họ trên thị trường cạnh tranh ngày nay.\n",
      "\n",
      "Nhìn chung, ảnh hưởng của yếu tố kinh tế, xã hội đến thị trường tiêu dùng là không thể phủ nhận. Việc hiểu rõ và đánh giá chính xác những yếu tố này sẽ giúp các doanh nghiệp phát triển bền vững và thành công trong môi trường kinh doanh ngày càng khốc liệt và biến động.\n",
      "744 tokens\n",
      "Trong bối cảnh kinh tế và xã hội đang đối mặt với nhiều thách thức và biến động, thị trường tiêu dùng không thể tránh khỏi ảnh hưởng của những yếu tố này. Việc nắm bắt và hiểu rõ những ảnh hưởng này là điều cực kỳ quan trọng đối với các doanh nghiệp muốn thành công trong môi trường cạnh tranh gay gắt ngày nay.\n",
      "\n",
      "Tình hình kinh tế không ổn định, lạm phát tăng cao, và sự biến động trong thị trường lao động đều ảnh hưởng đến khả năng chi tiêu của người tiêu dùng. Người dân có thể cắt giảm chi tiêu, tập trung vào nhu cầu thiết yếu hơn là mua sắm hàng hóa xa xỉ. Điều này đòi hỏi các doanh nghiệp phải điều chỉnh chiến lược tiếp cận khách hàng, tạo ra các sản phẩm và dịch vụ phản ánh nhu cầu thực sự của thị trường.\n",
      "\n",
      "Ngoài ra, các yếu tố xã hội như xu hướng ăn sạch, quan tâm đến môi trường, và tư duy tiêu dùng bền vững cũng đang ảnh hưởng đến thị trường tiêu dùng. Người tiêu dùng ngày càng chú trọng đến nguồn gốc, chất lượng của sản phẩm, và sẵn sàng trả giá cao hơn cho những sản phẩm mang giá trị bền vững. Điều này đặt ra thách thức cho các doanh nghiệp trong việc phát triển sản phẩm, xây dựng hình ảnh thương hiệu và tạo dựng mối quan hệ lâu dài với khách hàng.\n",
      "\n",
      "Để thành công trên thị trường tiêu dùng hiện nay, các doanh nghiệp cần phải linh hoạt, nhanh nhạy trong việc đáp ứng những thay đổi và xu hướng của người tiêu dùng. Việc đầu tư vào nghiên cứu thị trường, theo dõi các chỉ số kinh tế - xã hội, và áp dụng các chiến lược tiếp thị linh hoạt sẽ giúp các doanh nghiệp vượt qua khó khăn, tạo ra giá trị cho khách hàng và phát triển bền vững trên thị trường cạnh tranh.\n"
     ]
    }
   ],
   "source": [
    "for value in values:\n",
    "    print(token_count(value[0]), \"tokens\")\n",
    "    print(value[0])\n",
    "    print(token_count(value[1]), \"tokens\")\n",
    "    print(value[1])"
   ]
  },
  {
   "cell_type": "code",
   "execution_count": 8,
   "metadata": {},
   "outputs": [
    {
     "name": "stdout",
     "output_type": "stream",
     "text": [
      "Dựa trên các phân tích và đánh giá, chúng tôi rút ra những kết luận quan trọng về thị trường tiêu dùng năm 2023. Thị trường tiêu dùng tại Việt Nam đang chứng kiến sự phục hồi và tăng trưởng tích cực, với sự sôi động và phát triển đáng chú ý. Hoạt động thương mại và dịch vụ tiêu dùng đã đóng góp quan trọng vào việc hoàn thành kế hoạch sản xuất kinh doanh năm 2023, đặc biệt trong khu vực dịch vụ với tốc độ tăng trưởng khá tích cực.\n",
      "\n",
      "Xu hướng thị trường tiêu dùng tại Việt Nam trong nửa cuối năm 2023 đang chú trọng vào nhu cầu cơ bản và giá trị, mua sắm thông minh và trải nghiệm mua hàng khác biệt. Người tiêu dùng ngày càng thông thái hơn trong việc chọn lựa sản phẩm và dịch vụ, tạo ra áp lực và cơ hội cho các doanh nghiệp để nắm bắt xu hướng thị trường và hiểu rõ hành vi mua sắm của khách hàng.\n",
      "\n",
      "Các doanh nghiệp cần thích nghi và đổi mới để đáp ứng những yêu cầu ngày càng cao của người tiêu dùng. Việc tập trung vào sản phẩm và dịch vụ bền vững, trải nghiệm mua hàng, sử dụng công nghệ trong trải nghiệm mua sắm, và quảng cáo thông minh sẽ giúp doanh nghiệp thu hút và giữ chân khách hàng trong môi trường cạnh tranh ngày nay.\n",
      "\n",
      "Dự đoán về thị trường tiêu dùng trong tương lai yêu cầu sự linh hoạt, sáng tạo và sử dụng công nghệ hiện đại để đáp ứng nhu cầu ngày càng đa dạng và phức tạp của người tiêu dùng. Các doanh nghiệp cần nắm bắt kịp thời những xu hướng mới và thay đổi trong hành vi mua sắm để đạt được sự thành công trong thị trường cạnh tranh. Để tồn tại và phát triển, các doanh nghiệp cần hiểu rõ những yếu tố ảnh hưởng và thách thức từ môi trường kinh doanh hiện nay.\n"
     ]
    }
   ],
   "source": [
    "conclusion_function = plugin[\"Conclusion\"]\n",
    "summContent = \" \".join([value[1] for value in values])\n",
    "conclusion = await kernel.invoke(conclusion_function, sk.KernelArguments(conclusion = outline_dict[\"conclusion\"], summContent = summContent))\n",
    "print(str(conclusion))\n"
   ]
  },
  {
   "cell_type": "code",
   "execution_count": 9,
   "metadata": {},
   "outputs": [
    {
     "name": "stdout",
     "output_type": "stream",
     "text": [
      "745\n"
     ]
    }
   ],
   "source": [
    "print(token_count(str(conclusion)))"
   ]
  },
  {
   "cell_type": "code",
   "execution_count": 10,
   "metadata": {},
   "outputs": [
    {
     "name": "stdout",
     "output_type": "stream",
     "text": [
      "Dựa vào những kết luận từ báo cáo, chúng tôi đưa ra những khuyến nghị cụ thể cho các doanh nghiệp hoạt động trong lĩnh vực tiêu dùng để phát triển bền vững.\n",
      "\n",
      "Đầu tiên, các doanh nghiệp cần tập trung vào việc phát triển các sản phẩm và dịch vụ bền vững, thân thiện với môi trường. Việc này sẽ giúp thu hút người tiêu dùng quan tâm đến các giá trị xã hội và môi trường, đồng thời tạo ra sự khác biệt trong thị trường cạnh tranh.\n",
      "\n",
      "Thứ hai, việc cải thiện trải nghiệm mua sắm và dịch vụ khách hàng là yếu tố quan trọng để thu hút và giữ chân khách hàng. Các doanh nghiệp cần đầu tư vào việc tối ưu hóa quy trình mua sắm và tạo ra những trải nghiệm độc đáo và sáng tạo để tạo sự hài lòng cho khách hàng.\n",
      "\n",
      "Thứ ba, việc sử dụng công nghệ trong trải nghiệm mua sắm là một xu hướng không thể bỏ qua. Các doanh nghiệp cần tích hợp công nghệ như trí tuệ nhân tạo, thực tế ảo và tương tác qua chatbot để cung cấp trải nghiệm mua sắm thông minh và tiện lợi cho người tiêu dùng.\n",
      "\n",
      "Thứ tư, việc đáp ứng nhu cầu cơ bản và giá trị của người tiêu dùng là yếu tố quan trọng trong chiến lược kinh doanh. Các doanh nghiệp cần tập trung vào việc cung cấp sản phẩm và dịch vụ có giá trị thực sự để đáp ứng nhu cầu thực tế của khách hàng.\n",
      "\n",
      "Cuối cùng, việc duy trì hiện diện trực tuyến và sử dụng các kênh quảng cáo thông minh là cách hiệu quả để tiếp cận khách hàng và tối ưu hóa chiến lược tiếp thị. Các doanh nghiệp cần đầu tư vào việc quảng cáo và tiếp cận thông minh để thu hút sự chú ý của người tiêu dùng và tạo ra mối quan hệ lâu dài với họ.\n",
      "\n",
      "Tóm lại, để phát triển bền vững trên thị trường tiêu dùng, các doanh nghiệp cần nắm bắt và thích nghi với những xu hướng và thay đổi trong hành vi mua sắm của người tiêu dùng. Việc áp dụng những khuyến nghị trên sẽ giúp các doanh nghiệp tạo ra giá trị cho khách hàng, đồng thời đạt được sự thành công trong môi trường cạnh tranh ngày nay.\n",
      "860\n"
     ]
    }
   ],
   "source": [
    "recommendation_function = plugin[\"Recommendation\"]\n",
    "summContent = \" \".join([value[1] for value in values])\n",
    "recommendation = await kernel.invoke(recommendation_function, sk.KernelArguments(recommendation = outline_dict[\"recommendations\"], summContent = summContent))\n",
    "print(str(recommendation))\n",
    "print(token_count(str(recommendation)))"
   ]
  },
  {
   "cell_type": "code",
   "execution_count": 11,
   "metadata": {},
   "outputs": [
    {
     "name": "stdout",
     "output_type": "stream",
     "text": [
      "975 tokens\n",
      "Trong bối cảnh kinh tế hiện nay, tình hình thị trường tiêu dùng đang phản ánh sự phục hồi và sự phát triển tích cực. Dữ liệu từ Báo cáo kinh tế - xã hội tháng 12 và năm 2023 của Tổng cục Thống kê cho thấy rằng hoạt động thương mại và dịch vụ tiêu dùng đã tăng trưởng mạnh mẽ trong quý 4/2023, góp phần quan trọng vào việc hoàn thành kế hoạch sản xuất kinh doanh năm 2023.\n",
      "\n",
      "Khu vực dịch vụ đạt tốc độ tăng trưởng khá tích cực so với năm trước, với tổng mức bán lẻ hàng hóa và doanh thu dịch vụ tiêu dùng tăng 9,3% so với cùng kỳ năm trước. Điều này cho thấy sự phục hồi và sự tin tưởng của người tiêu dùng trong việc chi tiêu và tiêu dùng các sản phẩm và dịch vụ.\n",
      "\n",
      "Trong nửa cuối năm 2023, xu hướng thị trường tiêu dùng tại Việt Nam đang chứng kiến sự tăng cường trong việc mua sắm thông minh, tập trung vào nhu cầu cơ bản và giá trị thực sự. Người tiêu dùng ngày càng chú trọng vào việc so sánh giá cả, tìm hiểu thông tin sản phẩm và đánh giá từ người tiêu dùng khác trước khi quyết định mua sắm.\n",
      "\n",
      "Ngoài ra, sự lạc quan và tâm lý tích cực của người tiêu dùng cũng đang tạo động lực cho hoạt động mua sắm và tiêu dùng. Tin tức tích cực về tình hình kinh tế và triển vọng tương lai đang thúc đẩy người tiêu dùng tham gia vào các hoạt động tiêu dùng và đầu tư.\n",
      "\n",
      "Trong mùa lễ hội kéo dài từ tháng 10.2023 đến tháng 02.2024, các thương hiệu cần định hướng chiến lược tiếp cận người tiêu dùng thông minh, tạo ra những trải nghiệm mua sắm độc đáo và sáng tạo để thu hút khách hàng. Việc hiểu rõ về xu hướng thị trường và hành vi của người tiêu dùng sẽ giúp các doanh nghiệp tối ưu hóa chiến lược tiếp thị và quảng cáo, đảm bảo đạt được các mục tiêu ngắn hạn và dài hạn.\n",
      "\n",
      "Tóm lại, tình hình thị trường tiêu dùng hiện tại tại Việt Nam đang phản ánh sự phục hồi và sự phát triển tích cực, với người tiêu dùng ngày càng thông minh và tập trung vào nhu cầu cơ bản và giá trị thực sự. Để thành công trong mùa lễ hội và thị trường tiêu dùng, các thương hiệu cần định hướng chiến lược tiếp cận người tiêu dùng thông minh và tạo ra những trải nghiệm mua sắm độc đáo và sáng tạo.\n",
      "1077 tokens\n",
      "Trên thị trường tiêu dùng của Việt Nam, năm 2023 đang chứng kiến sự thay đổi đáng kể trong hành vi mua sắm và tâm lý của người tiêu dùng. Với bối cảnh nền kinh tế đang đối mặt với nhiều khó khăn và áp lực từ xu hướng cắt giảm chi tiêu toàn cầu, các doanh nghiệp cần nắm bắt những xu hướng này để điều chỉnh chiến lược kinh doanh và tiếp cận khách hàng một cách hiệu quả.\n",
      "\n",
      "Một trong những xu hướng quan trọng nhất trong năm 2023 là sự gia tăng của thương mại điện tử và trải nghiệm mua sắm online. Người tiêu dùng ngày càng ưa chuộng việc mua sắm trực tuyến để tiết kiệm thời gian và tận hưởng những ưu đãi hấp dẫn. Điều này đặt ra thách thức lớn cho các doanh nghiệp truyền thống khi họ cần phải đầu tư vào việc phát triển kênh bán hàng trực tuyến và cải thiện trải nghiệm mua sắm qua internet.\n",
      "\n",
      "Ngoài ra, người tiêu dùng cũng đang chú trọng đến việc mua sắm các sản phẩm mang yếu tố bền vững và thân thiện với môi trường. Việc này phản ánh xu hướng chung của xã hội hiện nay khi mọi người ngày càng quan tâm đến vấn đề bảo vệ môi trường và phát triển bền vững. Các doanh nghiệp cần đáp ứng được nhu cầu này bằng cách cung cấp sản phẩm và dịch vụ phản ánh tinh thần này.\n",
      "\n",
      "Ngoài ra, việc tư duy mua sắm của người tiêu dùng cũng đang thay đổi. Mua sắm không chỉ đơn thuần là việc mua hàng nữa mà ngày càng trở thành một phần của phong cách sống. Người tiêu dùng tìm kiếm những trải nghiệm thú vị, sáng tạo và độc đáo khi họ mua sắm. Điều này đặt ra thách thức cho các doanh nghiệp khi họ cần phải đổi mới và tạo ra những trải nghiệm mua sắm độc đáo để thu hút khách hàng.\n",
      "\n",
      "Trong bối cảnh này, các doanh nghiệp cần nắm bắt kịp thời những xu hướng tiêu dùng mới để điều chỉnh chiến lược kinh doanh và marketing. Việc đầu tư vào việc nghiên cứu và hiểu rõ nhu cầu của khách hàng sẽ giúp họ tạo ra những sản phẩm và dịch vụ phản ánh đúng xu hướng thị trường và thu hút được sự quan tâm của người tiêu dùng. Đồng thời, việc tận dụng công nghệ để cải thiện trải nghiệm mua sắm cũng là yếu tố quan trọng giúp doanh nghiệp cạnh tranh hiệu quả trên thị trường.\n",
      "\n",
      "Tóm lại, xu hướng tiêu dùng trong năm 2023 tại Việt Nam đang chứa đựng nhiều cơ hội và thách thức cho các doanh nghiệp. Việc nắm bắt và thích nghi với những thay đổi này sẽ giúp họ duy trì và phát triển trong môi trường kinh doanh ngày càng cạnh tranh và biến đổi.\n",
      "1101 tokens\n",
      "Dự đoán về thị trường tiêu dùng trong tương lai là một vấn đề quan trọng mà các doanh nghiệp cần quan tâm và nghiên cứu để đưa ra các chiến lược kinh doanh hiệu quả. Trong bối cảnh thị trường tiêu dùng đang phát triển và biến đổi nhanh chóng, việc dự đoán xu hướng và thay đổi trong hành vi mua sắm của người tiêu dùng là rất quan trọng để đáp ứng nhu cầu của khách hàng và tạo ra sự cạnh tranh cho doanh nghiệp.\n",
      "\n",
      "Theo những thông tin và xu hướng hiện tại, có thể dự đoán rằng thị trường tiêu dùng trong tương lai sẽ tiếp tục phát triển mạnh mẽ, đặc biệt là trong lĩnh vực thương mại điện tử và trải nghiệm mua sắm online. Người tiêu dùng ngày càng ưa chuộng mua sắm trực tuyến để tiết kiệm thời gian và tận hưởng những ưu đãi hấp dẫn. Sự tích hợp công nghệ trong trải nghiệm mua sắm cũng sẽ ngày càng được ưu tiên, giúp cá nhân hóa trải nghiệm của người tiêu dùng và tạo ra một môi trường mua sắm thông minh và tiện lợi hơn.\n",
      "\n",
      "Ngoài ra, việc tập trung vào nhu cầu cơ bản và giá trị, cũng như sự chú trọng đến trải nghiệm mua hàng và dịch vụ chất lượng cao sẽ là những xu hướng quan trọng trong tương lai. Người tiêu dùng ngày càng chú trọng đến việc chọn lựa sản phẩm có nguồn gốc và sản xuất mang yếu tố bền vững, đồng thời hạn chế lãng phí và tác động tiêu cực đối với môi trường.\n",
      "\n",
      "Với sự phát triển của công nghệ và sự thay đổi trong hành vi mua sắm của người tiêu dùng, các doanh nghiệp cần đưa ra các chiến lược linh hoạt và đổi mới để đáp ứng nhu cầu ngày càng đa dạng của khách hàng. Việc nắm bắt và dự đoán xu hướng thị trường tiêu dùng trong tương lai sẽ giúp các doanh nghiệp tạo ra những sản phẩm và dịch vụ phù hợp, từ đó tăng cường sức cạnh tranh và phát triển bền vững trên thị trường.\n",
      "\n",
      "Trong tương lai, việc đầu tư vào nghiên cứu và phát triển, cải thiện trải nghiệm khách hàng và áp dụng công nghệ sẽ là yếu tố quyết định thành công của các doanh nghiệp trên thị trường tiêu dùng. Đồng thời, việc đưa ra các chiến lược tiếp cận thông minh và tối ưu hóa quy trình kinh doanh cũng sẽ giúp các doanh nghiệp thích nghi và phát triển trong môi trường cạnh tranh ngày càng gay gắt.\n",
      "\n",
      "Tóm lại, dự đoán về thị trường tiêu dùng trong tương lai đòi hỏi sự nhạy bén và linh hoạt từ các doanh nghiệp. Việc nắm bắt xu hướng và thay đổi trong hành vi mua sắm của người tiêu dùng sẽ giúp các doanh nghiệp tạo ra các chiến lược kinh doanh hiệu quả và phát triển bền vững trên thị trường.\n",
      "915 tokens\n",
      "Trong bối cảnh kinh tế và xã hội đang đối mặt với nhiều thách thức và biến động, thị trường tiêu dùng không thể tránh khỏi ảnh hưởng của những yếu tố này. Việc hiểu rõ và đánh giá chính xác những ảnh hưởng này là vô cùng quan trọng để các doanh nghiệp có thể thích ứng và phát triển trong môi trường cạnh tranh gay gắt ngày nay.\n",
      "\n",
      "Yếu tố kinh tế đóng vai trò quan trọng trong việc ảnh hưởng đến thị trường tiêu dùng. Tình hình kinh tế ổn định, tăng trưởng GDP, kiểm soát lạm phát sẽ tạo ra sự tin tưởng và an tâm cho người tiêu dùng, khuyến khích họ chi tiêu và đầu tư. Ngược lại, khi kinh tế gặp khó khăn, lạm phát tăng cao, người tiêu dùng sẽ cẩn trọng hơn trong việc chi tiêu, có thể cắt giảm những khoản chi không cần thiết và tìm kiếm các sản phẩm có giá trị thực sự.\n",
      "\n",
      "Xã hội cũng đóng vai trò quan trọng trong việc ảnh hưởng đến thị trường tiêu dùng. Xu hướng, thói quen, tâm lý của người tiêu dùng được định hình bởi xã hội xung quanh họ. Ví dụ, trong một xã hội quan tâm đến vấn đề bảo vệ môi trường, người tiêu dùng sẽ tìm kiếm các sản phẩm bền vững, thân thiện với môi trường hơn. Đồng thời, các yếu tố văn hóa, giá trị, thị hiếu cũng ảnh hưởng đến quyết định mua sắm của họ.\n",
      "\n",
      "Để thành công trên thị trường tiêu dùng, các doanh nghiệp cần phải đánh giá kỹ lưỡng những yếu tố kinh tế, xã hội đang ảnh hưởng đến thị trường. Họ cần phải thấu hiểu người tiêu dùng, đáp ứng đúng nhu cầu và mong muốn của họ trong bối cảnh hiện tại. Đồng thời, việc tạo ra các chiến lược tiếp cận, quảng cáo thông minh và sáng tạo cũng là yếu tố quyết định đến sự thành công của họ trên thị trường cạnh tranh ngày nay.\n",
      "\n",
      "Nhìn chung, ảnh hưởng của yếu tố kinh tế, xã hội đến thị trường tiêu dùng là không thể phủ nhận. Việc hiểu rõ và đánh giá chính xác những yếu tố này sẽ giúp các doanh nghiệp phát triển bền vững và thành công trong môi trường kinh doanh ngày càng khốc liệt và biến động.\n"
     ]
    }
   ],
   "source": [
    "for value in values:\n",
    "    print(token_count(value[0]), \"tokens\")\n",
    "    print(value[0])"
   ]
  }
 ],
 "metadata": {
  "kernelspec": {
   "display_name": "ReportGenerator_SemanticKernel",
   "language": "python",
   "name": "python3"
  },
  "language_info": {
   "codemirror_mode": {
    "name": "ipython",
    "version": 3
   },
   "file_extension": ".py",
   "mimetype": "text/x-python",
   "name": "python",
   "nbconvert_exporter": "python",
   "pygments_lexer": "ipython3",
   "version": "3.11.5"
  }
 },
 "nbformat": 4,
 "nbformat_minor": 2
}
