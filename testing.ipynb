{
 "cells": [
  {
   "cell_type": "code",
   "execution_count": 1,
   "metadata": {},
   "outputs": [
    {
     "name": "stdout",
     "output_type": "stream",
     "text": [
      "{'report': {'title': 'Báo cáo thị trường Tiêu dùng năm 2023','introduction': 'Báo cáo này sẽ đánh giá tình hình thị trường tiêu dùng trong năm 2023, bao gồm xu hướng tiêu dùng, sự thay đổi trong hành vi mua sắm của người tiêu dùng, và ảnh hưởng của các yếu tố kinh tế và xã hội.','body': {'headings': ['Xu hướng tiêu dùng','Hành vi mua sắm của người tiêu dùng','Yếu tố ảnh hưởng đến thị trường tiêu dùng']}, 'conclusion': 'Tóm lại, thị trường tiêu dùng năm 2023 đang trải qua những biến động đáng chú ý và cần sự chú ý đến các yếu tố ảnh hưởng.','recommendations': 'Dựa trên những phân tích trong báo cáo, chúng tôi đề xuất các chiến lược tiếp thị và kinh doanh phù hợp để thích nghi với thị trường tiêu dùng năm 2023.'}}\n"
     ]
    }
   ],
   "source": [
    "import semantic_kernel as sk\n",
    "\n",
    "kernel = sk.Kernel()\n",
    "\n",
    "from semantic_kernel.connectors.ai.open_ai import OpenAIChatCompletion\n",
    "\n",
    "api_key, org_id = sk.openai_settings_from_dot_env()\n",
    "service_id = \"default\"\n",
    "kernel.add_service(\n",
    "    OpenAIChatCompletion(service_id=service_id, ai_model_id=\"gpt-3.5-turbo-0125\", api_key=api_key, org_id=org_id),\n",
    ")\n",
    "\n",
    "plugin = kernel.import_plugin_from_prompt_directory(\"./Plugins/\", \"ReportPlugin\")\n",
    "OutlineJSON_function = plugin[\"OutlineJSON\"]\n",
    "OutlineJSON = await kernel.invoke(OutlineJSON_function, sk.KernelArguments(input=\"Báo cáo thị trường Tiêu dùng năm 2023\"))\n",
    "print(OutlineJSON)\n",
    "\n"
   ]
  },
  {
   "cell_type": "code",
   "execution_count": 2,
   "metadata": {},
   "outputs": [
    {
     "data": {
      "text/plain": [
       "{'title': 'Báo cáo thị trường Tiêu dùng năm 2023',\n",
       " 'introduction': 'Báo cáo này sẽ đánh giá tình hình thị trường tiêu dùng trong năm 2023, bao gồm xu hướng tiêu dùng, sự thay đổi trong hành vi mua sắm của người tiêu dùng, và ảnh hưởng của các yếu tố kinh tế và xã hội.',\n",
       " 'body': {'headings': ['Xu hướng tiêu dùng',\n",
       "   'Hành vi mua sắm của người tiêu dùng',\n",
       "   'Yếu tố ảnh hưởng đến thị trường tiêu dùng']},\n",
       " 'conclusion': 'Tóm lại, thị trường tiêu dùng năm 2023 đang trải qua những biến động đáng chú ý và cần sự chú ý đến các yếu tố ảnh hưởng.',\n",
       " 'recommendations': 'Dựa trên những phân tích trong báo cáo, chúng tôi đề xuất các chiến lược tiếp thị và kinh doanh phù hợp để thích nghi với thị trường tiêu dùng năm 2023.'}"
      ]
     },
     "execution_count": 2,
     "metadata": {},
     "output_type": "execute_result"
    }
   ],
   "source": [
    "from Plugins.utils import json_split\n",
    "outline_dict = json_split(str(OutlineJSON))\n",
    "outline_dict"
   ]
  },
  {
   "cell_type": "code",
   "execution_count": 3,
   "metadata": {},
   "outputs": [
    {
     "name": "stdout",
     "output_type": "stream",
     "text": [
      "Báo cáo thị trường Tiêu dùng năm 2023 sẽ cung cấp một cái nhìn tổng quan về tình hình thị trường tiêu dùng trong năm tới, tập trung vào việc đánh giá các xu hướng tiêu dùng đáng chú ý, sự thay đổi trong hành vi mua sắm của người tiêu dùng, cũng như ảnh hưởng của các yếu tố kinh tế và xã hội đối với thị trường. Bằng việc phân tích các thông tin này, chúng ta sẽ có cái nhìn sâu hơn về cách thị trường tiêu dùng đang phát triển và những thách thức mà các doanh nghiệp có thể phải đối mặt.\n"
     ]
    }
   ],
   "source": [
    "Introduction_function = plugin[\"Introduction\"]\n",
    "Introduction = await kernel.invoke(Introduction_function, sk.KernelArguments(introduction=outline_dict[\"introduction\"]\n",
    "                                                                            , reportLayout = str(OutlineJSON)))\n",
    "print(Introduction)"
   ]
  },
  {
   "cell_type": "code",
   "execution_count": 4,
   "metadata": {},
   "outputs": [
    {
     "name": "stdout",
     "output_type": "stream",
     "text": [
      "['https://pmax.com.vn/blog/xu-huong-thi-truong-va-nguoi-tieu-dung-nua-cuoi-2023-dau-2024/#Cuoi_nam_la_mua_mua_sam_cao_diem_nhat_trong_nam', 'https://www.cimigo.com/vi/trends/xu-huong-tieu-dung-viet-nam-2023/', 'https://innovativehub.com.vn/tong-quan-va-xu-huong-nganh-hang-tieu-dung-viet-nam-2023/', 'https://pmax.com.vn/blog/xu-huong-thi-truong-va-nguoi-tieu-dung-nua-cuoi-2023-dau-2024/', 'https://advertisingvietnam.com/10-xu-huong-hanh-vi-nguoi-tieu-dung-nam-2023-p22638', 'https://advertisingvietnam.com/xu-huong-thi-truong-nguoi-tieu-dung-nua-cuoi-2023-dau-2024-p22690', 'https://pmax.com.vn/blog/xu-huong-thi-truong-va-nguoi-tieu-dung-nua-cuoi-2023-dau-2024/#Tong_quan_tinh_hinh_kinh_te_6_thang_dau_nam_2023', 'https://pmax.com.vn/blog/xu-huong-thi-truong-va-nguoi-tieu-dung-nua-cuoi-2023-dau-2024/#Xu_huong_thi_truong', 'https://glints.com/vn/blog/xu-huong-hanh-vi-nguoi-tieu-dung/', 'https://aglobal.vn/blog/xu-huong-tieu-dung-quy-4-nam-2023-nhung-thay-doi-can-luu-y-1564161623', 'https://vneconomy.vn/nguoi-tieu-dung-viet-nam-truong-thanh-trong-nam-2023-lam-sao-doanh-nghiep-co-the-don-dau-xu-huong.htm', 'https://nhandan.vn/xu-huong-tieu-dung-mua-cuoi-nam-post791777.html', 'https://omicall.com/xu-huong-nguoi-tieu-dung/', 'https://www.mspaceoffice.com/blog/7-xu-huong-tieu-dung-linh-hoat-trong-nam-2023.html', 'https://vneconomy.vn/xu-huong-tieu-dung-hien-dai-thau-hieu-de-chinh-phuc-thi-truong.htm']\n",
      "3975\n",
      "7950\n",
      "['https://www.cimigo.com/vi/trends/xu-huong-tieu-dung-viet-nam-2023/', 'https://www.gso.gov.vn/du-lieu-va-so-lieu-thong-ke/2024/04/thi-truong-gia-quy-i-2024-va-du-bao-yeu-to-tac-dong-cpi-nam-2024/', 'https://www.mof.gov.vn/webcenter/portal/ttpltc/pages_r/l/chi-tiet-tin-ttpltc?dDocName=MOFUCM273389', 'https://pmax.com.vn/blog/xu-huong-thi-truong-va-nguoi-tieu-dung-nua-cuoi-2023-dau-2024/', 'https://mof.gov.vn/webcenter/portal/vclvcstc/pages_r/l/chi-tiet-tin?dDocName=MOFUCM262964', 'https://aglobal.vn/blog/thi-truong-sua-xu-huong-tieu-dung-hien-nay-su-anh-huong-2084792728', 'https://advertisingvietnam.com/xu-huong-thi-truong-nguoi-tieu-dung-nua-cuoi-2023-dau-2024-p22690', 'https://tapchitaichinh.vn/ban-le-hang-hoa-va-dich-vu-tieu-dung-nam-2023-van-tang-truong-chua-bang-truoc-dich-covid-19.html', 'https://baodautu.vn/4-yeu-to-anh-huong-den-thi-truong-hang-tieu-dung-nhanh-viet-nam-trong-2023-d185537.html', 'https://vneconomy.vn/nguoi-tieu-dung-viet-nam-truong-thanh-trong-nam-2023-lam-sao-doanh-nghiep-co-the-don-dau-xu-huong.htm', 'https://special.nhandan.vn/kinh-te-Vietnam-nam-2023-mot-nam-vuot-kho-thach-thuc-van-con/index.html', 'https://aglobal.vn/blog/xu-huong-tieu-dung-quy-4-nam-2023-nhung-thay-doi-can-luu-y-1564161623', 'https://www.gso.gov.vn/du-lieu-va-so-lieu-thong-ke/2024/01/cac-yeu-to-tac-dong-den-lam-phat-nam-2023-va-mot-so-giai-phap-kiem-soat-lam-phat-trong-nam-2024/', 'https://www.vietnamplus.vn/tieu-dung-trong-nuoc-se-tiep-tuc-dan-dat-thi-truong-giai-doan-cuoi-nam-post908665.vnp', 'https://vneconomy.vn/xu-huong-tieu-dung-hien-dai-thau-hieu-de-chinh-phuc-thi-truong.htm']\n",
      "9074\n",
      "['https://pmax.com.vn/blog/xu-huong-thi-truong-va-nguoi-tieu-dung-nua-cuoi-2023-dau-2024/#Cuoi_nam_la_mua_mua_sam_cao_diem_nhat_trong_nam', 'https://www.kiotviet.vn/xu-huong-hanh-vi-mua-sam-cua-nguoi-tieu-dung-nam-2024/', 'https://cleverads.vn/blog/hanh-vi-tieu-dung-viet-nam-2023/', 'https://innovativehub.com.vn/tong-quan-va-xu-huong-nganh-hang-tieu-dung-viet-nam-2023/', 'https://pmax.com.vn/blog/xu-huong-thi-truong-va-nguoi-tieu-dung-nua-cuoi-2023-dau-2024/', 'https://advertisingvietnam.com/10-xu-huong-hanh-vi-nguoi-tieu-dung-nam-2023-p22638', 'https://advertisingvietnam.com/xu-huong-thi-truong-nguoi-tieu-dung-nua-cuoi-2023-dau-2024-p22690', 'https://glints.com/vn/blog/xu-huong-hanh-vi-nguoi-tieu-dung/#1_tang_cuong_su_dung_thanh_thao_dich_vu_so', 'https://pmax.com.vn/blog/xu-huong-thi-truong-va-nguoi-tieu-dung-nua-cuoi-2023-dau-2024/#Tong_quan_tinh_hinh_kinh_te_6_thang_dau_nam_2023', 'https://glints.com/vn/blog/xu-huong-hanh-vi-nguoi-tieu-dung/', 'https://pmax.com.vn/blog/xu-huong-thi-truong-va-nguoi-tieu-dung-nua-cuoi-2023-dau-2024/#Xu_huong_thi_truong', 'https://aglobal.vn/blog/xu-huong-tieu-dung-quy-4-nam-2023-nhung-thay-doi-can-luu-y-1564161623', 'https://glints.com/vn/blog/xu-huong-hanh-vi-nguoi-tieu-dung/#3_nhu_cau_cho_cac_san_pham_ben_vung_tang_cao', 'https://vneconomy.vn/nguoi-tieu-dung-viet-nam-truong-thanh-trong-nam-2023-lam-sao-doanh-nghiep-co-the-don-dau-xu-huong.htm', 'https://vneconomy.vn/xu-huong-tieu-dung-hien-dai-thau-hieu-de-chinh-phuc-thi-truong.htm']\n",
      "7152\n",
      "[('Xu hướng tiêu dùng là một phần quan trọng của nền kinh tế và thị trường tiêu dùng hiện nay. Trong bối cảnh nền kinh tế Việt Nam đang phải đối mặt với nhiều khó khăn và thách thức, việc hiểu rõ xu hướng tiêu dùng là điều cực kỳ quan trọng để các doanh nghiệp có thể thích nghi và phát triển trong môi trường cạnh tranh gay gắt.\\n\\nTheo những thông tin được cung cấp, chúng ta thấy rằng tình hình kinh tế Việt Nam trong 6 tháng đầu năm 2023 đã có những dấu hiệu tích cực. Tăng trưởng GDP tăng lên 4,14% trong quý 2, và lạm phát được kiểm soát. Tuy nhiên, vẫn còn những biến động trong giá cả và các yếu tố khác ảnh hưởng đến hành vi tiêu dùng của người dân.\\n\\nDự báo cho nửa sau năm 2023 cho thấy rằng kinh tế Việt Nam có khả năng phục hồi mạnh mẽ, với dự đoán tăng trưởng GDP đạt 7%. Điều này sẽ tạo ra một môi trường kinh doanh tích cực và đầy triển vọng cho các doanh nghiệp.\\n\\nTrên thị trường tiêu dùng, cuối năm là thời điểm mua sắm cao điểm nhất trong năm. Các sự kiện mua sắm lớn như Black Friday, Cyber Monday, và các ngày lễ khác thu hút sự quan tâm lớn từ người tiêu dùng. Xu hướng thương mại điện tử và trải nghiệm mua sắm online ngày càng phát triển, khi người tiêu dùng ưa chuộng sự tiện lợi và ưu đãi từ môi trường mua sắm trực tuyến.\\n\\nNgười tiêu dùng Việt Nam đang có xu hướng tập trung vào nhu cầu cơ bản và giá trị thực sự của sản phẩm. Họ trở nên thông minh hơn trong việc mua sắm, so sánh giá cả và tìm hiểu thông tin sản phẩm trước khi quyết định mua hàng. Điều này đặt ra thách thức lớn cho các doanh nghiệp trong việc cung cấp sản phẩm và dịch vụ chất lượng, đồng thời tạo ra cơ hội để nâng cao trải nghiệm mua sắm cho người tiêu dùng.\\n\\nXu hướng tiêu dùng của người Việt Nam cũng đang chuyển dần sang việc ưu tiên trải nghiệm mua sắm và sự đa dạng trong lựa chọn sản phẩm. Các chương trình khuyến mãi và ưu đãi kéo dài cũng đang thu hút sự quan tâm của người tiêu dùng, giúp họ tiết kiệm chi phí và tận hưởng những ưu đãi hấp dẫn.\\n\\nTóm lại, việc hiểu rõ xu hướng tiêu dùng và thị trường là yếu tố quyết định thành công của mọi doanh nghiệp. Để tồn tại và phát triển trong môi trường cạnh tranh ngày nay, các thương hiệu cần đầu tư vào nghiên cứu và phân tích thị trường, đồng thời đáp ứng đúng nhu cầu và mong muốn của người tiêu dùng. Chỉ thông qua việc hiểu rõ và đáp ứng xu hướng tiêu dùng mới, các doanh nghiệp mới có thể đạt được thành công bền vững và tăng trưởng ổn định trên thị trường.', 'Trên thị trường tiêu dùng của Việt Nam, xu hướng và tâm lý của người tiêu dùng đang trải qua những thay đổi đáng chú ý trong năm nay. Với bối cảnh nền kinh tế vẫn đang đối mặt khó khăn, người tiêu dùng đang có xu hướng cẩn trọng hơn trong việc chi tiêu và đầu tư. Tuy nhiên, mùa lễ hội kéo dài từ tháng 10.2023 đến tháng 02.2024 vẫn là thời điểm cao điểm của mua sắm, khiến cho các doanh nghiệp cần phải đưa ra quyết định khôn ngoan về việc cắt giảm ngân sách hay vẫn đầu tư vào các chiến dịch Marketing để đảm bảo mục tiêu ngắn hạn và dài hạn.\\n\\nTình hình kinh tế của Việt Nam trong 6 tháng đầu năm 2023 cho thấy tăng trưởng GDP tăng 4,14% trong quý 2 và lạm phát được kiểm soát. Dự báo cho nửa sau năm 2023 cho thấy triển vọng tích cực hơn, với dự đoán tăng trưởng GDP đạt 7% trong quý 3 và quý 4. Tuy nhiên, vẫn còn những thách thức và áp lực lạm phát có thể ảnh hưởng đến việc duy trì mức tăng trưởng kinh tế.\\n\\nXu hướng thị trường trong nửa cuối năm 2023 tập trung vào thương mại điện tử và trải nghiệm mua sắm online, sự tăng trưởng trong chi tiêu vào các sản phẩm bền vững, trải nghiệm mua hàng, chương trình khuyến mãi và ưu đãi, cũng như tích hợp công nghệ trong trải nghiệm mua sắm. Người tiêu dùng ngày càng thông minh và chú trọng đến trải nghiệm mua sắm, đồng thời tập trung vào nhu cầu cơ bản và giá trị thực sự.\\n\\nHành vi mua sắm của người tiêu dùng được thúc đẩy bởi sự phục hồi kinh tế và tin tức tích cực, tạo ra sự lạc quan và tăng cường niềm tin tài chính. Người tiêu dùng tìm kiếm sản phẩm và dịch vụ có giá trị, thông minh trong việc mua sắm, và đánh giá cao trải nghiệm mua sắm độc đáo và sáng tạo.\\n\\nVới những thay đổi và thách thức trong thị trường tiêu dùng, các doanh nghiệp cần phải nắm bắt những xu hướng và insights mới để định hướng chiến lược kinh doanh phù hợp. Bộ tài liệu \"Tăng trưởng vượt trội mùa lễ hội - Peak Season. Peak Performance\" từ PMAX sẽ giúp các doanh nghiệp hiểu rõ hơn về thị trường và người tiêu dùng, từ đó đưa ra các quyết định đúng đắn và hiệu quả cho mùa lễ hội sắp tới.'), ('Trong bối cảnh nền kinh tế Việt Nam đang phải đối mặt với nhiều khó khăn và thách thức, hành vi mua sắm của người tiêu dùng đang trải qua những biến đổi đáng chú ý. Xu hướng thị trường và tâm lý người tiêu dùng Việt Nam trong năm nay đã thay đổi theo từng giai đoạn của năm, đặc biệt là trong mùa lễ hội kéo dài từ tháng 10.2023 đến tháng 02.2024.\\n\\nTính đến nửa đầu năm 2023, tình hình kinh tế Việt Nam đã ghi nhận một tăng trưởng GDP khá ổn định, lạm phát được kiểm soát và sự ổn định trong cân cân thương mại. Tuy nhiên, vẫn có những biến động trong giá cả và sự cẩn trọng của người tiêu dùng khi quyết định chi tiêu và đầu tư. Dự báo cho nửa sau năm 2023 cho thấy kinh tế Việt Nam sẽ phục hồi mạnh mẽ, với dự đoán tăng trưởng GDP đạt 7% trong Quý 3 và Quý 4.\\n\\nTrong mùa lễ hội cuối năm, xu hướng mua sắm của người tiêu dùng tại Việt Nam thể hiện sự tăng cường trong thương mại điện tử và trải nghiệm mua sắm online. Người tiêu dùng ngày càng ưa chuộng mua sắm trực tuyến để tiết kiệm thời gian và tận hưởng ưu đãi hấp dẫn. Đồng thời, họ cũng quan tâm đến việc chọn lựa các sản phẩm bền vững, thân thiện với môi trường.\\n\\nHành vi mua sắm của người tiêu dùng Việt Nam trong giai đoạn này cũng thể hiện sự tập trung vào nhu cầu cơ bản và giá trị thực sự của sản phẩm. Người tiêu dùng ngày càng thông minh hơn trong việc mua sắm, so sánh giá cả và tìm hiểu thông tin sản phẩm qua nhiều kênh khác nhau. Họ cũng đánh giá cao trải nghiệm mua sắm độc đáo và sáng tạo, cũng như ưu tiên các sản phẩm có ý nghĩa và giá trị đích thực.\\n\\nXu hướng mua sắm của người tiêu dùng trong năm 2024 dự kiến sẽ tiếp tục phát triển với sự ứng dụng của trí tuệ nhân tạo để cải thiện trải nghiệm khách hàng. Influencer Marketing cũng sẽ tiếp tục đóng vai trò quan trọng trong việc tác động đến hành vi mua sắm của người tiêu dùng. Sử dụng dữ liệu lớn và phân tích chuyên sâu về hành vi người tiêu dùng cũng sẽ giúp các doanh nghiệp hiểu rõ hơn về nhu cầu và mong muốn của khách hàng.\\n\\nTrong năm 2024, việc phát triển các sản phẩm và dịch vụ xanh, bền vững cũng sẽ là một xu hướng quan trọng. Người tiêu dùng ngày càng quan tâm đến việc chọn lựa các sản phẩm có cam kết xanh và sạch, cũng như sử dụng công nghệ VR và AR để trải nghiệm mua sắm mới lạ và thuận tiện.\\n\\nTóm lại, hành vi mua sắm của người tiêu dùng Việt Nam đang phản ánh sự thay đổi trong tâm lý và nhu cầu của họ, đồng thời cũng phản ánh tình hình kinh tế và xu hướng thị trường. Để thành công trong việc tiếp cận và phục vụ khách hàng, các doanh nghiệp cần hiểu rõ những xu hướng và insights về hành vi mua sắm của người tiêu dùng để đưa ra các chiến lược tiếp thị phù hợp và hiệu quả.', 'Trên thị trường Việt Nam, hành vi mua sắm của người tiêu dùng đang trải qua những biến đổi đáng chú ý trong năm 2023 và dự kiến sẽ tiếp tục phát triển trong năm 2024. Với tình hình kinh tế đang phục hồi và triển vọng tăng trưởng GDP trong nửa cuối năm dự báo đạt 7%, người tiêu dùng đã bắt đầu có những thay đổi trong cách tiêu dùng và quyết định mua sắm.\\n\\nXu hướng thị trường cho thấy người tiêu dùng ngày càng ưa chuộng mua sắm trực tuyến để tiết kiệm thời gian và tận hưởng ưu đãi hấp dẫn. Đồng thời, họ cũng quan tâm đến việc chọn lựa các sản phẩm bền vững, thân thiện với môi trường. Sự tập trung vào trải nghiệm mua hàng và dịch vụ chất lượng cũng đang trở thành một yếu tố quan trọng khi người tiêu dùng đánh giá và lựa chọn thương hiệu.\\n\\nHành vi mua sắm của người tiêu dùng cũng được thúc đẩy bởi sự lạc quan về tương lai kinh tế và tin tức tích cực mà họ nhận được. Người tiêu dùng ngày càng chú trọng vào nhu cầu cơ bản và giá trị thực sự của sản phẩm, đồng thời trở nên thông thái hơn trong việc so sánh giá cả và tìm hiểu thông tin sản phẩm trước khi quyết định mua.\\n\\nXu hướng mua sắm trong năm 2024 cũng sẽ chứng kiến sự phát triển của các công nghệ mới như trải nghiệm mua sắm thực tế ảo và thực tế tăng cường, cũng như sự ứng dụng của trí tuệ nhân tạo để cải thiện trải nghiệm khách hàng. Influencer Marketing cũng sẽ tiếp tục tác động mạnh mẽ đến hành vi mua sắm của người tiêu dùng, cùng với việc sử dụng dữ liệu lớn và phân tích chuyên sâu để hiểu rõ hơn về hành vi mua sắm của họ.\\n\\nVới những xu hướng này, các doanh nghiệp cần nắm bắt và đáp ứng nhanh chóng nhu cầu và mong muốn của người tiêu dùng để xây dựng kế hoạch tiếp thị hiệu quả và tối ưu hóa trải nghiệm mua sắm. Việc áp dụng các công nghệ mới và tận dụng dữ liệu để hiểu rõ hơn về khách hàng sẽ giúp thương hiệu phát triển và tạo ra sự khác biệt trong thị trường cạnh tranh ngày nay.'), ('Trong bối cảnh nền kinh tế thế giới đang phát triển không ngừng, Việt Nam cũng không phải là ngoại lệ. Xu hướng tiêu dùng tại Việt Nam trong năm 2023 đang chứa đựng nhiều yếu tố quan trọng ảnh hưởng đến thị trường tiêu dùng của đất nước này. Dưới đây là một số yếu tố quan trọng mà chúng ta cần xem xét:\\n\\n1. **Cơ cấu dân số và lao động**: Việt Nam có một cơ cấu dân số đặc biệt, với tỷ lệ tham gia lao động cao và tỷ lệ phụ thuộc thấp. Điều này tạo điều kiện thuận lợi cho tăng trưởng kinh tế và tiêu dùng trong thập kỷ tới.\\n\\n2. **Tăng trưởng GDP**: Với mức tăng trưởng GDP bình quân 5.9% trong mười năm qua, Việt Nam đang chứng kiến sự phát triển đáng kể trong nền kinh tế. Điều này sẽ ảnh hưởng đến nhu cầu tiêu dùng và thị trường tiêu dùng nói chung.\\n\\n3. **Sản xuất và đầu tư**: Sự tăng trưởng trong ngành sản xuất và đầu tư cũng đóng vai trò quan trọng trong việc thúc đẩy tiêu dùng. Việc mở rộng sản xuất và thu hút đầu tư nước ngoài sẽ tạo ra nhiều cơ hội mới cho người tiêu dùng.\\n\\n4. **Tiêu thụ hàng hóa và dịch vụ bán lẻ**: Với mức tiêu thụ hàng hóa và dịch vụ bán lẻ tăng cao, thị trường bán lẻ tại Việt Nam đang trở nên sôi động hơn bao giờ hết. Người tiêu dùng đang có xu hướng tiêu dùng nhiều hơn và đa dạng hơn.\\n\\n5. **Du lịch nội địa**: Với sự phát triển của du lịch trong nước, Việt Nam đang lấp đầy khoảng trống từ du lịch quốc tế. Điều này không chỉ tạo ra cơ hội cho ngành du lịch mà còn kích thích tiêu dùng trong nước.\\n\\n6. **Nền kinh tế Internet**: Với nền kinh tế Internet đạt 23 tỷ USD vào năm 2022, Việt Nam đang chứng kiến sự phát triển mạnh mẽ trong lĩnh vực công nghệ và tiêu dùng trực tuyến.\\n\\n7. **Tăng trưởng tài chính của hộ gia đình**: Sự gia tăng tài chính của hộ gia đình cũng đóng góp vào việc thúc đẩy tiêu dùng. Người tiêu dùng có thu nhập cao hơn sẽ có khả năng tiêu dùng nhiều hơn và đa dạng hơn.\\n\\n8. **Hệ sinh thái tài chính**: Sự phát triển của hệ sinh thái tài chính, bao gồm thương mại điện tử, thanh toán điện tử và các công ty khởi nghiệp, cũng đóng vai trò quan trọng trong việc thúc đẩy tiêu dùng và phát triển kinh tế.\\n\\n9. **Sự ổn định về chính trị**: Sự ổn định về chính trị và quản lý chặt chẽ hệ sinh thái tài nguyên cũng đóng vai trò quan trọng trong việc tạo điều kiện thuận lợi cho tiêu dùng và phát triển kinh tế.\\n\\nTóm lại, xu hướng tiêu dùng tại Việt Nam trong năm 2023 đang chứa đựng nhiều cơ hội và thách thức. Việc hiểu rõ các yếu tố ảnh hưởng đến thị trường tiêu dùng sẽ giúp các doanh nghiệp và nhà đầu tư tận dụng cơ hội và đối mặt với thách thức một cách hiệu quả.', 'Trong bối cảnh nền kinh tế Việt Nam đang phát triển mạnh mẽ, yếu tố ảnh hưởng đến thị trường tiêu dùng đóng vai trò quan trọng trong việc định hình tương lai của quốc gia. Dựa trên các thông tin được trình bày, chúng ta có thể nhận thấy rằng có một số yếu tố chính đang ảnh hưởng tích cực đến thị trường tiêu dùng tại Việt Nam.\\n\\n1. **Cơ cấu dân số và lao động**: Việt Nam có một lực lượng lao động lớn, với tỷ lệ tham gia lao động cao, đặc biệt là phụ nữ. Điều này giúp giảm tỷ lệ phụ thuộc và tạo điều kiện cho tăng trưởng kinh tế nhanh chóng.\\n\\n2. **Tăng trưởng GDP**: Với mức tăng trưởng GDP bình quân 5.9% trong mười năm qua, Việt Nam đang chứng kiến sự phát triển ổn định và bền vững, tạo điều kiện thuận lợi cho tiêu dùng nội địa.\\n\\n3. **Sản xuất và đầu tư**: Sự tăng trưởng trong ngành sản xuất và đầu tư ngày càng mạnh mẽ, đồng thời việc thu hút vốn đầu tư nước ngoài cũng đang đóng vai trò quan trọng trong việc thúc đẩy thị trường tiêu dùng.\\n\\n4. **Tăng cường tiêu thụ hàng hóa và dịch vụ bán lẻ**: Nhu cầu tiêu dùng trong nước đang tăng cao, đặc biệt là trong lĩnh vực bán lẻ hàng hóa và dịch vụ, chiếm 55% GDP. Điều này đánh dấu sự phát triển mạnh mẽ của thị trường tiêu dùng.\\n\\n5. **Du lịch trong nước và internet**: Du lịch trong nước đang lấp đầy khoảng trống từ du lịch quốc tế, trong khi nền kinh tế internet đang phát triển với giá trị 23 tỷ USD vào năm 2022, tạo ra cơ hội mới cho thị trường tiêu dùng.\\n\\n6. **Tài chính hộ gia đình và hệ sinh thái tài chính**: Tăng trưởng tài chính của hộ gia đình, cùng với sự hỗ trợ từ hệ sinh thái tài chính, đang thúc đẩy phát triển của thị trường tiêu dùng.\\n\\n7. **Sự ổn định về chính trị**: Sự ổn định về chính trị và quản lý chặt chẽ hệ sinh thái tài nguyên đóng vai trò quan trọng trong việc tạo điều kiện thuận lợi cho thị trường tiêu dùng phát triển.\\n\\nTất cả những yếu tố trên đều đang cùng nhau tạo nên một môi trường thị trường tiêu dùng tích cực tại Việt Nam, đồng thời mở ra nhiều cơ hội và thách thức cho các doanh nghiệp và người tiêu dùng. Việc hiểu rõ và tận dụng những yếu tố này sẽ giúp thị trường tiêu dùng phát triển bền vững và đáng kể trong tương lai.')]\n"
     ]
    }
   ],
   "source": [
    "from Plugins.google_search import GoogleSearchPlugin\n",
    "from Plugins.utils import token_count\n",
    "import asyncio\n",
    "TOKEN_LIMIT = 10000\n",
    "\n",
    "google_plugin = kernel.import_plugin_from_object(GoogleSearchPlugin(), plugin_name = \"GoogleSearchPlugin\")\n",
    "google_search_function = google_plugin[\"GoogleSearch\"]\n",
    "get_content_function = google_plugin[\"GetContentFromURL\"]\n",
    "\n",
    "column_function = plugin[\"Column\"]\n",
    "column_summ_function = plugin[\"ColumnSumm\"]\n",
    "headings = outline_dict[\"body\"][\"headings\"]\n",
    "query_function = plugin[\"Query\"]\n",
    "\n",
    "async def columnist(heading, title):\n",
    "    search_result = []\n",
    "    tokens = 0\n",
    "    query = str(await kernel.invoke(query_function, sk.KernelArguments(input = heading, big_title = title)))\n",
    "    search_result_urls = await kernel.invoke(google_search_function, sk.KernelArguments(keyword = query, num_results = 15))\n",
    "    search_result_urls = search_result_urls.value\n",
    "    print(search_result_urls)\n",
    "    while True:\n",
    "        if not search_result_urls:\n",
    "            break\n",
    "        url = search_result_urls.pop(0)\n",
    "        content = await kernel.invoke(get_content_function, sk.KernelArguments(url = url))\n",
    "        content = content.value\n",
    "        new_tokens = token_count(content)\n",
    "        if tokens + new_tokens > TOKEN_LIMIT:\n",
    "            print(tokens)\n",
    "            if tokens >= TOKEN_LIMIT//2:\n",
    "                break\n",
    "            else:\n",
    "                continue\n",
    "        tokens += new_tokens\n",
    "        search_result.append(content)\n",
    "    search_result = \" \".join(search_result)\n",
    "    column = await kernel.invoke(column_function, sk.KernelArguments(input = search_result, body_content = heading))\n",
    "    column_summ = await kernel.invoke(column_summ_function, sk.KernelArguments(input = search_result, body_content = heading))\n",
    "    return str(column), str(column_summ)\n",
    "\n",
    "coros = []\n",
    "for heading in headings:\n",
    "    coros.append(columnist(heading, outline_dict[\"title\"]))\n",
    "\n",
    "values = await asyncio.gather(*coros)\n",
    "print(values)\n",
    "\n",
    "\n"
   ]
  },
  {
   "cell_type": "code",
   "execution_count": 5,
   "metadata": {},
   "outputs": [
    {
     "name": "stdout",
     "output_type": "stream",
     "text": [
      "1126 tokens\n",
      "Xu hướng tiêu dùng là một phần quan trọng của nền kinh tế và thị trường tiêu dùng hiện nay. Trong bối cảnh nền kinh tế Việt Nam đang phải đối mặt với nhiều khó khăn và thách thức, việc hiểu rõ xu hướng tiêu dùng là điều cực kỳ quan trọng để các doanh nghiệp có thể thích nghi và phát triển trong môi trường cạnh tranh gay gắt.\n",
      "\n",
      "Theo những thông tin được cung cấp, chúng ta thấy rằng tình hình kinh tế Việt Nam trong 6 tháng đầu năm 2023 đã có những dấu hiệu tích cực. Tăng trưởng GDP tăng lên 4,14% trong quý 2, và lạm phát được kiểm soát. Tuy nhiên, vẫn còn những biến động trong giá cả và các yếu tố khác ảnh hưởng đến hành vi tiêu dùng của người dân.\n",
      "\n",
      "Dự báo cho nửa sau năm 2023 cho thấy rằng kinh tế Việt Nam có khả năng phục hồi mạnh mẽ, với dự đoán tăng trưởng GDP đạt 7%. Điều này sẽ tạo ra một môi trường kinh doanh tích cực và đầy triển vọng cho các doanh nghiệp.\n",
      "\n",
      "Trên thị trường tiêu dùng, cuối năm là thời điểm mua sắm cao điểm nhất trong năm. Các sự kiện mua sắm lớn như Black Friday, Cyber Monday, và các ngày lễ khác thu hút sự quan tâm lớn từ người tiêu dùng. Xu hướng thương mại điện tử và trải nghiệm mua sắm online ngày càng phát triển, khi người tiêu dùng ưa chuộng sự tiện lợi và ưu đãi từ môi trường mua sắm trực tuyến.\n",
      "\n",
      "Người tiêu dùng Việt Nam đang có xu hướng tập trung vào nhu cầu cơ bản và giá trị thực sự của sản phẩm. Họ trở nên thông minh hơn trong việc mua sắm, so sánh giá cả và tìm hiểu thông tin sản phẩm trước khi quyết định mua hàng. Điều này đặt ra thách thức lớn cho các doanh nghiệp trong việc cung cấp sản phẩm và dịch vụ chất lượng, đồng thời tạo ra cơ hội để nâng cao trải nghiệm mua sắm cho người tiêu dùng.\n",
      "\n",
      "Xu hướng tiêu dùng của người Việt Nam cũng đang chuyển dần sang việc ưu tiên trải nghiệm mua sắm và sự đa dạng trong lựa chọn sản phẩm. Các chương trình khuyến mãi và ưu đãi kéo dài cũng đang thu hút sự quan tâm của người tiêu dùng, giúp họ tiết kiệm chi phí và tận hưởng những ưu đãi hấp dẫn.\n",
      "\n",
      "Tóm lại, việc hiểu rõ xu hướng tiêu dùng và thị trường là yếu tố quyết định thành công của mọi doanh nghiệp. Để tồn tại và phát triển trong môi trường cạnh tranh ngày nay, các thương hiệu cần đầu tư vào nghiên cứu và phân tích thị trường, đồng thời đáp ứng đúng nhu cầu và mong muốn của người tiêu dùng. Chỉ thông qua việc hiểu rõ và đáp ứng xu hướng tiêu dùng mới, các doanh nghiệp mới có thể đạt được thành công bền vững và tăng trưởng ổn định trên thị trường.\n",
      "961 tokens\n",
      "Trên thị trường tiêu dùng của Việt Nam, xu hướng và tâm lý của người tiêu dùng đang trải qua những thay đổi đáng chú ý trong năm nay. Với bối cảnh nền kinh tế vẫn đang đối mặt khó khăn, người tiêu dùng đang có xu hướng cẩn trọng hơn trong việc chi tiêu và đầu tư. Tuy nhiên, mùa lễ hội kéo dài từ tháng 10.2023 đến tháng 02.2024 vẫn là thời điểm cao điểm của mua sắm, khiến cho các doanh nghiệp cần phải đưa ra quyết định khôn ngoan về việc cắt giảm ngân sách hay vẫn đầu tư vào các chiến dịch Marketing để đảm bảo mục tiêu ngắn hạn và dài hạn.\n",
      "\n",
      "Tình hình kinh tế của Việt Nam trong 6 tháng đầu năm 2023 cho thấy tăng trưởng GDP tăng 4,14% trong quý 2 và lạm phát được kiểm soát. Dự báo cho nửa sau năm 2023 cho thấy triển vọng tích cực hơn, với dự đoán tăng trưởng GDP đạt 7% trong quý 3 và quý 4. Tuy nhiên, vẫn còn những thách thức và áp lực lạm phát có thể ảnh hưởng đến việc duy trì mức tăng trưởng kinh tế.\n",
      "\n",
      "Xu hướng thị trường trong nửa cuối năm 2023 tập trung vào thương mại điện tử và trải nghiệm mua sắm online, sự tăng trưởng trong chi tiêu vào các sản phẩm bền vững, trải nghiệm mua hàng, chương trình khuyến mãi và ưu đãi, cũng như tích hợp công nghệ trong trải nghiệm mua sắm. Người tiêu dùng ngày càng thông minh và chú trọng đến trải nghiệm mua sắm, đồng thời tập trung vào nhu cầu cơ bản và giá trị thực sự.\n",
      "\n",
      "Hành vi mua sắm của người tiêu dùng được thúc đẩy bởi sự phục hồi kinh tế và tin tức tích cực, tạo ra sự lạc quan và tăng cường niềm tin tài chính. Người tiêu dùng tìm kiếm sản phẩm và dịch vụ có giá trị, thông minh trong việc mua sắm, và đánh giá cao trải nghiệm mua sắm độc đáo và sáng tạo.\n",
      "\n",
      "Với những thay đổi và thách thức trong thị trường tiêu dùng, các doanh nghiệp cần phải nắm bắt những xu hướng và insights mới để định hướng chiến lược kinh doanh phù hợp. Bộ tài liệu \"Tăng trưởng vượt trội mùa lễ hội - Peak Season. Peak Performance\" từ PMAX sẽ giúp các doanh nghiệp hiểu rõ hơn về thị trường và người tiêu dùng, từ đó đưa ra các quyết định đúng đắn và hiệu quả cho mùa lễ hội sắp tới.\n",
      "1245 tokens\n",
      "Trong bối cảnh nền kinh tế Việt Nam đang phải đối mặt với nhiều khó khăn và thách thức, hành vi mua sắm của người tiêu dùng đang trải qua những biến đổi đáng chú ý. Xu hướng thị trường và tâm lý người tiêu dùng Việt Nam trong năm nay đã thay đổi theo từng giai đoạn của năm, đặc biệt là trong mùa lễ hội kéo dài từ tháng 10.2023 đến tháng 02.2024.\n",
      "\n",
      "Tính đến nửa đầu năm 2023, tình hình kinh tế Việt Nam đã ghi nhận một tăng trưởng GDP khá ổn định, lạm phát được kiểm soát và sự ổn định trong cân cân thương mại. Tuy nhiên, vẫn có những biến động trong giá cả và sự cẩn trọng của người tiêu dùng khi quyết định chi tiêu và đầu tư. Dự báo cho nửa sau năm 2023 cho thấy kinh tế Việt Nam sẽ phục hồi mạnh mẽ, với dự đoán tăng trưởng GDP đạt 7% trong Quý 3 và Quý 4.\n",
      "\n",
      "Trong mùa lễ hội cuối năm, xu hướng mua sắm của người tiêu dùng tại Việt Nam thể hiện sự tăng cường trong thương mại điện tử và trải nghiệm mua sắm online. Người tiêu dùng ngày càng ưa chuộng mua sắm trực tuyến để tiết kiệm thời gian và tận hưởng ưu đãi hấp dẫn. Đồng thời, họ cũng quan tâm đến việc chọn lựa các sản phẩm bền vững, thân thiện với môi trường.\n",
      "\n",
      "Hành vi mua sắm của người tiêu dùng Việt Nam trong giai đoạn này cũng thể hiện sự tập trung vào nhu cầu cơ bản và giá trị thực sự của sản phẩm. Người tiêu dùng ngày càng thông minh hơn trong việc mua sắm, so sánh giá cả và tìm hiểu thông tin sản phẩm qua nhiều kênh khác nhau. Họ cũng đánh giá cao trải nghiệm mua sắm độc đáo và sáng tạo, cũng như ưu tiên các sản phẩm có ý nghĩa và giá trị đích thực.\n",
      "\n",
      "Xu hướng mua sắm của người tiêu dùng trong năm 2024 dự kiến sẽ tiếp tục phát triển với sự ứng dụng của trí tuệ nhân tạo để cải thiện trải nghiệm khách hàng. Influencer Marketing cũng sẽ tiếp tục đóng vai trò quan trọng trong việc tác động đến hành vi mua sắm của người tiêu dùng. Sử dụng dữ liệu lớn và phân tích chuyên sâu về hành vi người tiêu dùng cũng sẽ giúp các doanh nghiệp hiểu rõ hơn về nhu cầu và mong muốn của khách hàng.\n",
      "\n",
      "Trong năm 2024, việc phát triển các sản phẩm và dịch vụ xanh, bền vững cũng sẽ là một xu hướng quan trọng. Người tiêu dùng ngày càng quan tâm đến việc chọn lựa các sản phẩm có cam kết xanh và sạch, cũng như sử dụng công nghệ VR và AR để trải nghiệm mua sắm mới lạ và thuận tiện.\n",
      "\n",
      "Tóm lại, hành vi mua sắm của người tiêu dùng Việt Nam đang phản ánh sự thay đổi trong tâm lý và nhu cầu của họ, đồng thời cũng phản ánh tình hình kinh tế và xu hướng thị trường. Để thành công trong việc tiếp cận và phục vụ khách hàng, các doanh nghiệp cần hiểu rõ những xu hướng và insights về hành vi mua sắm của người tiêu dùng để đưa ra các chiến lược tiếp thị phù hợp và hiệu quả.\n",
      "886 tokens\n",
      "Trên thị trường Việt Nam, hành vi mua sắm của người tiêu dùng đang trải qua những biến đổi đáng chú ý trong năm 2023 và dự kiến sẽ tiếp tục phát triển trong năm 2024. Với tình hình kinh tế đang phục hồi và triển vọng tăng trưởng GDP trong nửa cuối năm dự báo đạt 7%, người tiêu dùng đã bắt đầu có những thay đổi trong cách tiêu dùng và quyết định mua sắm.\n",
      "\n",
      "Xu hướng thị trường cho thấy người tiêu dùng ngày càng ưa chuộng mua sắm trực tuyến để tiết kiệm thời gian và tận hưởng ưu đãi hấp dẫn. Đồng thời, họ cũng quan tâm đến việc chọn lựa các sản phẩm bền vững, thân thiện với môi trường. Sự tập trung vào trải nghiệm mua hàng và dịch vụ chất lượng cũng đang trở thành một yếu tố quan trọng khi người tiêu dùng đánh giá và lựa chọn thương hiệu.\n",
      "\n",
      "Hành vi mua sắm của người tiêu dùng cũng được thúc đẩy bởi sự lạc quan về tương lai kinh tế và tin tức tích cực mà họ nhận được. Người tiêu dùng ngày càng chú trọng vào nhu cầu cơ bản và giá trị thực sự của sản phẩm, đồng thời trở nên thông thái hơn trong việc so sánh giá cả và tìm hiểu thông tin sản phẩm trước khi quyết định mua.\n",
      "\n",
      "Xu hướng mua sắm trong năm 2024 cũng sẽ chứng kiến sự phát triển của các công nghệ mới như trải nghiệm mua sắm thực tế ảo và thực tế tăng cường, cũng như sự ứng dụng của trí tuệ nhân tạo để cải thiện trải nghiệm khách hàng. Influencer Marketing cũng sẽ tiếp tục tác động mạnh mẽ đến hành vi mua sắm của người tiêu dùng, cùng với việc sử dụng dữ liệu lớn và phân tích chuyên sâu để hiểu rõ hơn về hành vi mua sắm của họ.\n",
      "\n",
      "Với những xu hướng này, các doanh nghiệp cần nắm bắt và đáp ứng nhanh chóng nhu cầu và mong muốn của người tiêu dùng để xây dựng kế hoạch tiếp thị hiệu quả và tối ưu hóa trải nghiệm mua sắm. Việc áp dụng các công nghệ mới và tận dụng dữ liệu để hiểu rõ hơn về khách hàng sẽ giúp thương hiệu phát triển và tạo ra sự khác biệt trong thị trường cạnh tranh ngày nay.\n",
      "1235 tokens\n",
      "Trong bối cảnh nền kinh tế thế giới đang phát triển không ngừng, Việt Nam cũng không phải là ngoại lệ. Xu hướng tiêu dùng tại Việt Nam trong năm 2023 đang chứa đựng nhiều yếu tố quan trọng ảnh hưởng đến thị trường tiêu dùng của đất nước này. Dưới đây là một số yếu tố quan trọng mà chúng ta cần xem xét:\n",
      "\n",
      "1. **Cơ cấu dân số và lao động**: Việt Nam có một cơ cấu dân số đặc biệt, với tỷ lệ tham gia lao động cao và tỷ lệ phụ thuộc thấp. Điều này tạo điều kiện thuận lợi cho tăng trưởng kinh tế và tiêu dùng trong thập kỷ tới.\n",
      "\n",
      "2. **Tăng trưởng GDP**: Với mức tăng trưởng GDP bình quân 5.9% trong mười năm qua, Việt Nam đang chứng kiến sự phát triển đáng kể trong nền kinh tế. Điều này sẽ ảnh hưởng đến nhu cầu tiêu dùng và thị trường tiêu dùng nói chung.\n",
      "\n",
      "3. **Sản xuất và đầu tư**: Sự tăng trưởng trong ngành sản xuất và đầu tư cũng đóng vai trò quan trọng trong việc thúc đẩy tiêu dùng. Việc mở rộng sản xuất và thu hút đầu tư nước ngoài sẽ tạo ra nhiều cơ hội mới cho người tiêu dùng.\n",
      "\n",
      "4. **Tiêu thụ hàng hóa và dịch vụ bán lẻ**: Với mức tiêu thụ hàng hóa và dịch vụ bán lẻ tăng cao, thị trường bán lẻ tại Việt Nam đang trở nên sôi động hơn bao giờ hết. Người tiêu dùng đang có xu hướng tiêu dùng nhiều hơn và đa dạng hơn.\n",
      "\n",
      "5. **Du lịch nội địa**: Với sự phát triển của du lịch trong nước, Việt Nam đang lấp đầy khoảng trống từ du lịch quốc tế. Điều này không chỉ tạo ra cơ hội cho ngành du lịch mà còn kích thích tiêu dùng trong nước.\n",
      "\n",
      "6. **Nền kinh tế Internet**: Với nền kinh tế Internet đạt 23 tỷ USD vào năm 2022, Việt Nam đang chứng kiến sự phát triển mạnh mẽ trong lĩnh vực công nghệ và tiêu dùng trực tuyến.\n",
      "\n",
      "7. **Tăng trưởng tài chính của hộ gia đình**: Sự gia tăng tài chính của hộ gia đình cũng đóng góp vào việc thúc đẩy tiêu dùng. Người tiêu dùng có thu nhập cao hơn sẽ có khả năng tiêu dùng nhiều hơn và đa dạng hơn.\n",
      "\n",
      "8. **Hệ sinh thái tài chính**: Sự phát triển của hệ sinh thái tài chính, bao gồm thương mại điện tử, thanh toán điện tử và các công ty khởi nghiệp, cũng đóng vai trò quan trọng trong việc thúc đẩy tiêu dùng và phát triển kinh tế.\n",
      "\n",
      "9. **Sự ổn định về chính trị**: Sự ổn định về chính trị và quản lý chặt chẽ hệ sinh thái tài nguyên cũng đóng vai trò quan trọng trong việc tạo điều kiện thuận lợi cho tiêu dùng và phát triển kinh tế.\n",
      "\n",
      "Tóm lại, xu hướng tiêu dùng tại Việt Nam trong năm 2023 đang chứa đựng nhiều cơ hội và thách thức. Việc hiểu rõ các yếu tố ảnh hưởng đến thị trường tiêu dùng sẽ giúp các doanh nghiệp và nhà đầu tư tận dụng cơ hội và đối mặt với thách thức một cách hiệu quả.\n",
      "1021 tokens\n",
      "Trong bối cảnh nền kinh tế Việt Nam đang phát triển mạnh mẽ, yếu tố ảnh hưởng đến thị trường tiêu dùng đóng vai trò quan trọng trong việc định hình tương lai của quốc gia. Dựa trên các thông tin được trình bày, chúng ta có thể nhận thấy rằng có một số yếu tố chính đang ảnh hưởng tích cực đến thị trường tiêu dùng tại Việt Nam.\n",
      "\n",
      "1. **Cơ cấu dân số và lao động**: Việt Nam có một lực lượng lao động lớn, với tỷ lệ tham gia lao động cao, đặc biệt là phụ nữ. Điều này giúp giảm tỷ lệ phụ thuộc và tạo điều kiện cho tăng trưởng kinh tế nhanh chóng.\n",
      "\n",
      "2. **Tăng trưởng GDP**: Với mức tăng trưởng GDP bình quân 5.9% trong mười năm qua, Việt Nam đang chứng kiến sự phát triển ổn định và bền vững, tạo điều kiện thuận lợi cho tiêu dùng nội địa.\n",
      "\n",
      "3. **Sản xuất và đầu tư**: Sự tăng trưởng trong ngành sản xuất và đầu tư ngày càng mạnh mẽ, đồng thời việc thu hút vốn đầu tư nước ngoài cũng đang đóng vai trò quan trọng trong việc thúc đẩy thị trường tiêu dùng.\n",
      "\n",
      "4. **Tăng cường tiêu thụ hàng hóa và dịch vụ bán lẻ**: Nhu cầu tiêu dùng trong nước đang tăng cao, đặc biệt là trong lĩnh vực bán lẻ hàng hóa và dịch vụ, chiếm 55% GDP. Điều này đánh dấu sự phát triển mạnh mẽ của thị trường tiêu dùng.\n",
      "\n",
      "5. **Du lịch trong nước và internet**: Du lịch trong nước đang lấp đầy khoảng trống từ du lịch quốc tế, trong khi nền kinh tế internet đang phát triển với giá trị 23 tỷ USD vào năm 2022, tạo ra cơ hội mới cho thị trường tiêu dùng.\n",
      "\n",
      "6. **Tài chính hộ gia đình và hệ sinh thái tài chính**: Tăng trưởng tài chính của hộ gia đình, cùng với sự hỗ trợ từ hệ sinh thái tài chính, đang thúc đẩy phát triển của thị trường tiêu dùng.\n",
      "\n",
      "7. **Sự ổn định về chính trị**: Sự ổn định về chính trị và quản lý chặt chẽ hệ sinh thái tài nguyên đóng vai trò quan trọng trong việc tạo điều kiện thuận lợi cho thị trường tiêu dùng phát triển.\n",
      "\n",
      "Tất cả những yếu tố trên đều đang cùng nhau tạo nên một môi trường thị trường tiêu dùng tích cực tại Việt Nam, đồng thời mở ra nhiều cơ hội và thách thức cho các doanh nghiệp và người tiêu dùng. Việc hiểu rõ và tận dụng những yếu tố này sẽ giúp thị trường tiêu dùng phát triển bền vững và đáng kể trong tương lai.\n"
     ]
    }
   ],
   "source": [
    "for value in values:\n",
    "    print(token_count(value[0]), \"tokens\")\n",
    "    print(value[0])\n",
    "    print(token_count(value[1]), \"tokens\")\n",
    "    print(value[1])"
   ]
  },
  {
   "cell_type": "code",
   "execution_count": 6,
   "metadata": {},
   "outputs": [
    {
     "name": "stdout",
     "output_type": "stream",
     "text": [
      "Tổng kết lại, thị trường tiêu dùng của Việt Nam trong năm 2023 đang chứng kiến những thay đổi đáng chú ý và đòi hỏi sự quan tâm đến các yếu tố ảnh hưởng. Với tình hình kinh tế đang phục hồi và triển vọng tăng trưởng GDP tích cực, người tiêu dùng đã bắt đầu có những điều chỉnh trong hành vi mua sắm và quyết định tiêu dùng. Xu hướng thị trường cho thấy sự tăng cường mua sắm trực tuyến, quan tâm đến sản phẩm bền vững và trải nghiệm mua sắm chất lượng.\n",
      "\n",
      "Hành vi mua sắm của người tiêu dùng được thúc đẩy bởi sự lạc quan về tương lai kinh tế và nhu cầu cơ bản, đồng thời họ ngày càng thông minh trong việc so sánh và lựa chọn sản phẩm. Xu hướng mua sắm trong năm 2024 dự kiến sẽ chứng kiến sự phát triển của công nghệ mới và ảnh hưởng mạnh mẽ từ Influencer Marketing.\n",
      "\n",
      "Để thành công trên thị trường tiêu dùng hiện nay, các doanh nghiệp cần nắm bắt kịp thời những xu hướng và insights mới, đồng thời áp dụng công nghệ và dữ liệu để hiểu rõ hơn về khách hàng. Việc đáp ứng nhanh chóng và hiệu quả vào nhu cầu của người tiêu dùng sẽ giúp thương hiệu phát triển và tạo ra sự khác biệt trong môi trường cạnh tranh ngày nay. Đồng thời, việc hiểu rõ về các yếu tố ảnh hưởng tích cực đến thị trường tiêu dùng tại Việt Nam sẽ giúp doanh nghiệp xác định chiến lược kinh doanh phù hợp và bền vững trong tương lai.\n"
     ]
    }
   ],
   "source": [
    "conclusion_function = plugin[\"Conclusion\"]\n",
    "summContent = \" \".join([value[1] for value in values])\n",
    "conclusion = await kernel.invoke(conclusion_function, sk.KernelArguments(conclusion = outline_dict[\"conclusion\"], summContent = summContent))\n",
    "print(str(conclusion))\n"
   ]
  },
  {
   "cell_type": "code",
   "execution_count": 7,
   "metadata": {},
   "outputs": [
    {
     "name": "stdout",
     "output_type": "stream",
     "text": [
      "607\n"
     ]
    }
   ],
   "source": [
    "print(token_count(str(conclusion)))"
   ]
  },
  {
   "cell_type": "code",
   "execution_count": 8,
   "metadata": {},
   "outputs": [
    {
     "name": "stdout",
     "output_type": "stream",
     "text": [
      "Dựa trên những phân tích trong báo cáo, chúng tôi đề xuất các chiến lược tiếp thị và kinh doanh phù hợp để thích nghi với thị trường tiêu dùng năm 2023. Trước hết, chúng ta cần tập trung vào việc phát triển chiến lược tiếp thị trực tuyến hiệu quả để đáp ứng nhu cầu ngày càng tăng của người tiêu dùng trong việc mua sắm trực tuyến. Việc tối ưu hóa trải nghiệm mua sắm trực tuyến, cung cấp ưu đãi hấp dẫn và chăm sóc khách hàng chuyên nghiệp sẽ giúp tăng cường sự hài lòng và trung thành của khách hàng.\n",
      "\n",
      "Thứ hai, chúng ta cần đầu tư vào việc phát triển sản phẩm bền vững và thân thiện với môi trường để đáp ứng xu hướng ngày càng tăng của người tiêu dùng trong việc chọn lựa sản phẩm. Việc tạo ra các sản phẩm có giá trị và chất lượng cao, đồng thời chú trọng đến việc bảo vệ môi trường sẽ giúp thương hiệu xây dựng uy tín và lòng tin từ phía khách hàng.\n",
      "\n",
      "Thứ ba, việc tận dụng công nghệ mới như trải nghiệm mua sắm thực tế ảo và thực tế tăng cường, cũng như sử dụng trí tuệ nhân tạo để cải thiện trải nghiệm khách hàng sẽ giúp thương hiệu nổi bật và thu hút sự chú ý của người tiêu dùng. Influencer Marketing cũng là một phương tiện quan trọng để tiếp cận đúng đối tượng khách hàng và tạo ra sự ảnh hưởng tích cực đối với hành vi mua sắm của họ.\n",
      "\n",
      "Cuối cùng, việc áp dụng phân tích dữ liệu và insights sâu để hiểu rõ hơn về hành vi mua sắm của người tiêu dùng sẽ giúp các doanh nghiệp đưa ra các quyết định kinh doanh chính xác và hiệu quả. Việc nắm bắt xu hướng thị trường và đáp ứng nhanh chóng vào những thay đổi của người tiêu dùng sẽ giúp thương hiệu duy trì và phát triển trong môi trường cạnh tranh ngày nay.\n",
      "\n",
      "Tóm lại, việc thích nghi với thị trường tiêu dùng năm 2023 đòi hỏi sự linh hoạt, sáng tạo và hiểu biết sâu về nhu cầu và mong muốn của khách hàng. Bằng cách áp dụng các chiến lược tiếp thị và kinh doanh phù hợp, các doanh nghiệp sẽ có cơ hội tận dụng những cơ hội và thách thức từ thị trường để phát triển bền vững và thành công trong năm 2023 và các năm tiếp theo.\n",
      "915\n"
     ]
    }
   ],
   "source": [
    "recommendation_function = plugin[\"Recommendation\"]\n",
    "summContent = \" \".join([value[1] for value in values])\n",
    "recommendation = await kernel.invoke(recommendation_function, sk.KernelArguments(recommendation = outline_dict[\"recommendations\"], summContent = summContent))\n",
    "print(str(recommendation))\n",
    "print(token_count(str(recommendation)))"
   ]
  },
  {
   "cell_type": "code",
   "execution_count": 9,
   "metadata": {},
   "outputs": [
    {
     "name": "stdout",
     "output_type": "stream",
     "text": [
      "1126 tokens\n",
      "Xu hướng tiêu dùng là một phần quan trọng của nền kinh tế và thị trường tiêu dùng hiện nay. Trong bối cảnh nền kinh tế Việt Nam đang phải đối mặt với nhiều khó khăn và thách thức, việc hiểu rõ xu hướng tiêu dùng là điều cực kỳ quan trọng để các doanh nghiệp có thể thích nghi và phát triển trong môi trường cạnh tranh gay gắt.\n",
      "\n",
      "Theo những thông tin được cung cấp, chúng ta thấy rằng tình hình kinh tế Việt Nam trong 6 tháng đầu năm 2023 đã có những dấu hiệu tích cực. Tăng trưởng GDP tăng lên 4,14% trong quý 2, và lạm phát được kiểm soát. Tuy nhiên, vẫn còn những biến động trong giá cả và các yếu tố khác ảnh hưởng đến hành vi tiêu dùng của người dân.\n",
      "\n",
      "Dự báo cho nửa sau năm 2023 cho thấy rằng kinh tế Việt Nam có khả năng phục hồi mạnh mẽ, với dự đoán tăng trưởng GDP đạt 7%. Điều này sẽ tạo ra một môi trường kinh doanh tích cực và đầy triển vọng cho các doanh nghiệp.\n",
      "\n",
      "Trên thị trường tiêu dùng, cuối năm là thời điểm mua sắm cao điểm nhất trong năm. Các sự kiện mua sắm lớn như Black Friday, Cyber Monday, và các ngày lễ khác thu hút sự quan tâm lớn từ người tiêu dùng. Xu hướng thương mại điện tử và trải nghiệm mua sắm online ngày càng phát triển, khi người tiêu dùng ưa chuộng sự tiện lợi và ưu đãi từ môi trường mua sắm trực tuyến.\n",
      "\n",
      "Người tiêu dùng Việt Nam đang có xu hướng tập trung vào nhu cầu cơ bản và giá trị thực sự của sản phẩm. Họ trở nên thông minh hơn trong việc mua sắm, so sánh giá cả và tìm hiểu thông tin sản phẩm trước khi quyết định mua hàng. Điều này đặt ra thách thức lớn cho các doanh nghiệp trong việc cung cấp sản phẩm và dịch vụ chất lượng, đồng thời tạo ra cơ hội để nâng cao trải nghiệm mua sắm cho người tiêu dùng.\n",
      "\n",
      "Xu hướng tiêu dùng của người Việt Nam cũng đang chuyển dần sang việc ưu tiên trải nghiệm mua sắm và sự đa dạng trong lựa chọn sản phẩm. Các chương trình khuyến mãi và ưu đãi kéo dài cũng đang thu hút sự quan tâm của người tiêu dùng, giúp họ tiết kiệm chi phí và tận hưởng những ưu đãi hấp dẫn.\n",
      "\n",
      "Tóm lại, việc hiểu rõ xu hướng tiêu dùng và thị trường là yếu tố quyết định thành công của mọi doanh nghiệp. Để tồn tại và phát triển trong môi trường cạnh tranh ngày nay, các thương hiệu cần đầu tư vào nghiên cứu và phân tích thị trường, đồng thời đáp ứng đúng nhu cầu và mong muốn của người tiêu dùng. Chỉ thông qua việc hiểu rõ và đáp ứng xu hướng tiêu dùng mới, các doanh nghiệp mới có thể đạt được thành công bền vững và tăng trưởng ổn định trên thị trường.\n",
      "1245 tokens\n",
      "Trong bối cảnh nền kinh tế Việt Nam đang phải đối mặt với nhiều khó khăn và thách thức, hành vi mua sắm của người tiêu dùng đang trải qua những biến đổi đáng chú ý. Xu hướng thị trường và tâm lý người tiêu dùng Việt Nam trong năm nay đã thay đổi theo từng giai đoạn của năm, đặc biệt là trong mùa lễ hội kéo dài từ tháng 10.2023 đến tháng 02.2024.\n",
      "\n",
      "Tính đến nửa đầu năm 2023, tình hình kinh tế Việt Nam đã ghi nhận một tăng trưởng GDP khá ổn định, lạm phát được kiểm soát và sự ổn định trong cân cân thương mại. Tuy nhiên, vẫn có những biến động trong giá cả và sự cẩn trọng của người tiêu dùng khi quyết định chi tiêu và đầu tư. Dự báo cho nửa sau năm 2023 cho thấy kinh tế Việt Nam sẽ phục hồi mạnh mẽ, với dự đoán tăng trưởng GDP đạt 7% trong Quý 3 và Quý 4.\n",
      "\n",
      "Trong mùa lễ hội cuối năm, xu hướng mua sắm của người tiêu dùng tại Việt Nam thể hiện sự tăng cường trong thương mại điện tử và trải nghiệm mua sắm online. Người tiêu dùng ngày càng ưa chuộng mua sắm trực tuyến để tiết kiệm thời gian và tận hưởng ưu đãi hấp dẫn. Đồng thời, họ cũng quan tâm đến việc chọn lựa các sản phẩm bền vững, thân thiện với môi trường.\n",
      "\n",
      "Hành vi mua sắm của người tiêu dùng Việt Nam trong giai đoạn này cũng thể hiện sự tập trung vào nhu cầu cơ bản và giá trị thực sự của sản phẩm. Người tiêu dùng ngày càng thông minh hơn trong việc mua sắm, so sánh giá cả và tìm hiểu thông tin sản phẩm qua nhiều kênh khác nhau. Họ cũng đánh giá cao trải nghiệm mua sắm độc đáo và sáng tạo, cũng như ưu tiên các sản phẩm có ý nghĩa và giá trị đích thực.\n",
      "\n",
      "Xu hướng mua sắm của người tiêu dùng trong năm 2024 dự kiến sẽ tiếp tục phát triển với sự ứng dụng của trí tuệ nhân tạo để cải thiện trải nghiệm khách hàng. Influencer Marketing cũng sẽ tiếp tục đóng vai trò quan trọng trong việc tác động đến hành vi mua sắm của người tiêu dùng. Sử dụng dữ liệu lớn và phân tích chuyên sâu về hành vi người tiêu dùng cũng sẽ giúp các doanh nghiệp hiểu rõ hơn về nhu cầu và mong muốn của khách hàng.\n",
      "\n",
      "Trong năm 2024, việc phát triển các sản phẩm và dịch vụ xanh, bền vững cũng sẽ là một xu hướng quan trọng. Người tiêu dùng ngày càng quan tâm đến việc chọn lựa các sản phẩm có cam kết xanh và sạch, cũng như sử dụng công nghệ VR và AR để trải nghiệm mua sắm mới lạ và thuận tiện.\n",
      "\n",
      "Tóm lại, hành vi mua sắm của người tiêu dùng Việt Nam đang phản ánh sự thay đổi trong tâm lý và nhu cầu của họ, đồng thời cũng phản ánh tình hình kinh tế và xu hướng thị trường. Để thành công trong việc tiếp cận và phục vụ khách hàng, các doanh nghiệp cần hiểu rõ những xu hướng và insights về hành vi mua sắm của người tiêu dùng để đưa ra các chiến lược tiếp thị phù hợp và hiệu quả.\n",
      "1235 tokens\n",
      "Trong bối cảnh nền kinh tế thế giới đang phát triển không ngừng, Việt Nam cũng không phải là ngoại lệ. Xu hướng tiêu dùng tại Việt Nam trong năm 2023 đang chứa đựng nhiều yếu tố quan trọng ảnh hưởng đến thị trường tiêu dùng của đất nước này. Dưới đây là một số yếu tố quan trọng mà chúng ta cần xem xét:\n",
      "\n",
      "1. **Cơ cấu dân số và lao động**: Việt Nam có một cơ cấu dân số đặc biệt, với tỷ lệ tham gia lao động cao và tỷ lệ phụ thuộc thấp. Điều này tạo điều kiện thuận lợi cho tăng trưởng kinh tế và tiêu dùng trong thập kỷ tới.\n",
      "\n",
      "2. **Tăng trưởng GDP**: Với mức tăng trưởng GDP bình quân 5.9% trong mười năm qua, Việt Nam đang chứng kiến sự phát triển đáng kể trong nền kinh tế. Điều này sẽ ảnh hưởng đến nhu cầu tiêu dùng và thị trường tiêu dùng nói chung.\n",
      "\n",
      "3. **Sản xuất và đầu tư**: Sự tăng trưởng trong ngành sản xuất và đầu tư cũng đóng vai trò quan trọng trong việc thúc đẩy tiêu dùng. Việc mở rộng sản xuất và thu hút đầu tư nước ngoài sẽ tạo ra nhiều cơ hội mới cho người tiêu dùng.\n",
      "\n",
      "4. **Tiêu thụ hàng hóa và dịch vụ bán lẻ**: Với mức tiêu thụ hàng hóa và dịch vụ bán lẻ tăng cao, thị trường bán lẻ tại Việt Nam đang trở nên sôi động hơn bao giờ hết. Người tiêu dùng đang có xu hướng tiêu dùng nhiều hơn và đa dạng hơn.\n",
      "\n",
      "5. **Du lịch nội địa**: Với sự phát triển của du lịch trong nước, Việt Nam đang lấp đầy khoảng trống từ du lịch quốc tế. Điều này không chỉ tạo ra cơ hội cho ngành du lịch mà còn kích thích tiêu dùng trong nước.\n",
      "\n",
      "6. **Nền kinh tế Internet**: Với nền kinh tế Internet đạt 23 tỷ USD vào năm 2022, Việt Nam đang chứng kiến sự phát triển mạnh mẽ trong lĩnh vực công nghệ và tiêu dùng trực tuyến.\n",
      "\n",
      "7. **Tăng trưởng tài chính của hộ gia đình**: Sự gia tăng tài chính của hộ gia đình cũng đóng góp vào việc thúc đẩy tiêu dùng. Người tiêu dùng có thu nhập cao hơn sẽ có khả năng tiêu dùng nhiều hơn và đa dạng hơn.\n",
      "\n",
      "8. **Hệ sinh thái tài chính**: Sự phát triển của hệ sinh thái tài chính, bao gồm thương mại điện tử, thanh toán điện tử và các công ty khởi nghiệp, cũng đóng vai trò quan trọng trong việc thúc đẩy tiêu dùng và phát triển kinh tế.\n",
      "\n",
      "9. **Sự ổn định về chính trị**: Sự ổn định về chính trị và quản lý chặt chẽ hệ sinh thái tài nguyên cũng đóng vai trò quan trọng trong việc tạo điều kiện thuận lợi cho tiêu dùng và phát triển kinh tế.\n",
      "\n",
      "Tóm lại, xu hướng tiêu dùng tại Việt Nam trong năm 2023 đang chứa đựng nhiều cơ hội và thách thức. Việc hiểu rõ các yếu tố ảnh hưởng đến thị trường tiêu dùng sẽ giúp các doanh nghiệp và nhà đầu tư tận dụng cơ hội và đối mặt với thách thức một cách hiệu quả.\n"
     ]
    }
   ],
   "source": [
    "for value in values:\n",
    "    print(token_count(value[0]), \"tokens\")\n",
    "    print(value[0])"
   ]
  },
  {
   "cell_type": "code",
   "execution_count": 10,
   "metadata": {},
   "outputs": [
    {
     "name": "stdout",
     "output_type": "stream",
     "text": [
      "\"Tình hình hiện tại thị trường tiêu dùng Việt Nam năm 2023\"\n"
     ]
    }
   ],
   "source": [
    "import semantic_kernel as sk\n",
    "\n",
    "kernel = sk.Kernel()\n",
    "\n",
    "from semantic_kernel.connectors.ai.open_ai import OpenAIChatCompletion\n",
    "\n",
    "api_key, org_id = sk.openai_settings_from_dot_env()\n",
    "service_id = \"default\"\n",
    "kernel.add_service(\n",
    "    OpenAIChatCompletion(service_id=service_id, ai_model_id=\"gpt-3.5-turbo-0125\", api_key=api_key, org_id=org_id),\n",
    ")\n",
    "\n",
    "plugin = kernel.import_plugin_from_prompt_directory(\"./Plugins/\", \"ReportPlugin\")\n",
    "Query_function = plugin[\"Query\"]\n",
    "Query = await kernel.invoke(Query_function, sk.KernelArguments(input=\"Tình hình hiện tại\", big_title = \"Báo cáo thị trường Tiêu dùng năm 2023\"))\n",
    "print(Query)\n"
   ]
  }
 ],
 "metadata": {
  "kernelspec": {
   "display_name": "ReportGenerator_SemanticKernel",
   "language": "python",
   "name": "python3"
  },
  "language_info": {
   "codemirror_mode": {
    "name": "ipython",
    "version": 3
   },
   "file_extension": ".py",
   "mimetype": "text/x-python",
   "name": "python",
   "nbconvert_exporter": "python",
   "pygments_lexer": "ipython3",
   "version": "3.11.5"
  }
 },
 "nbformat": 4,
 "nbformat_minor": 2
}
