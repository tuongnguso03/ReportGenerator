{
 "cells": [
  {
   "cell_type": "code",
   "execution_count": 9,
   "metadata": {},
   "outputs": [
    {
     "name": "stdout",
     "output_type": "stream",
     "text": [
      "{'report': {'title': 'Báo cáo thị trường Tiêu dùng năm 2023','introduction': 'Báo cáo này sẽ cung cấp cái nhìn tổng quan về thị trường tiêu dùng trong năm 2023, bao gồm xu hướng, dự đoán và các yếu tố ảnh hưởng.','body': {'headings': ['Tổng quan về thị trường tiêu dùng','Xu hướng tiêu dùng mới','Dự đoán về sự phát triển của thị trường','Yếu tố kinh tế và xã hội ảnh hưởng đến thị trường','Thách thức và cơ hội trong ngành','Ảnh hưởng của công nghệ vào thị trường tiêu dùng','Chiến lược tiếp thị và quảng cáo trong năm 2023']},'conclusion': 'Tóm lại, thị trường tiêu dùng năm 2023 đang đối diện với nhiều thách thức nhưng cũng mang đến nhiều cơ hội cho các doanh nghiệp.','recommendations': 'Dựa vào những thông tin trong báo cáo, chúng tôi đề xuất các doanh nghiệp nên tập trung vào nâng cao chất lượng sản phẩm, áp dụng công nghệ mới và tối ưu hóa chiến lược tiếp thị để cạnh tranh hiệu quả trên thị trường.'}}\n"
     ]
    },
    {
     "data": {
      "text/plain": [
       "FunctionResult(function=KernelFunctionMetadata(name='Critics', plugin_name='ReportPlugin', description='Write a critic for current tasks', parameters=[KernelParameterMetadata(name='input', description=\"The previous task's output.\", default_value='', type_='', is_required=True, type_object=None), KernelParameterMetadata(name='prompt', description=\"The previous task's prompt\", default_value='', type_='', is_required=True, type_object=None)], is_prompt=True, is_asynchronous=True, return_parameter=KernelParameterMetadata(name='return', description='The completion result', default_value=None, type_='FunctionResult', is_required=True, type_object=None)), value=[OpenAIChatMessageContent(inner_content=ChatCompletion(id='chatcmpl-9D18FCBgYEqPUUuvgUQtclSHabJE4', choices=[Choice(finish_reason='stop', index=0, logprobs=None, message=ChatCompletionMessage(content='- Provide a more detailed outline with specific headings for each section (Introduction, Body, Conclusion, Recommendations)\\n- Ensure that each section is clearly defined and includes relevant content\\n- Include a descriptive title for the report\\n- Make sure the outline is well-structured and easy to follow for the reader\\n- Aim for 6-8 headings in the body section to cover various aspects of the topic\\n- Provide specific and actionable recommendations in the recommendations section\\n- Ensure that the introduction sets the stage for the report and the conclusion summarizes key points effectively', role='assistant', function_call=None, tool_calls=None))], created=1712889643, model='gpt-3.5-turbo-0125', object='chat.completion', system_fingerprint='fp_b28b39ffa8', usage=CompletionUsage(completion_tokens=109, prompt_tokens=338, total_tokens=447)), ai_model_id='gpt-3.5-turbo-0125', metadata={'logprobs': None, 'id': 'chatcmpl-9D18FCBgYEqPUUuvgUQtclSHabJE4', 'created': 1712889643, 'system_fingerprint': 'fp_b28b39ffa8', 'usage': CompletionUsage(completion_tokens=109, prompt_tokens=338, total_tokens=447)}, type='OpenAIChatMessageContent', role=<ChatRole.ASSISTANT: 'assistant'>, content='- Provide a more detailed outline with specific headings for each section (Introduction, Body, Conclusion, Recommendations)\\n- Ensure that each section is clearly defined and includes relevant content\\n- Include a descriptive title for the report\\n- Make sure the outline is well-structured and easy to follow for the reader\\n- Aim for 6-8 headings in the body section to cover various aspects of the topic\\n- Provide specific and actionable recommendations in the recommendations section\\n- Ensure that the introduction sets the stage for the report and the conclusion summarizes key points effectively', encoding=None, finish_reason=None, function_call=None, tool_calls=None, tool_call_id=None)], metadata={'arguments': {'input': 'OutlineJSON', 'prompt': \"# You are master in planning and develop a big and crucial report. Based on the topic input, develop a professional outline for this topic.\\n## You MUST use {{$lang}}.\\n## Always including only 4 parts: Introduction, Body, Conclusion, Recommendations.\\n## Always put the answer in JSON format like the example below. Do not break new lines, all content should be in one line:\\n{'report': {'title': 'Title of Report','introduction': 'Introduction content','body': {'headings': ['Heading 1','Heading 2',... 'Heading n']}, 'conclusion': 'Conclusions','recommendations': 'Recommendations'}}\\n## You MUST use {{$lang}}.\\n# The topic should be fully elaborated in the body, in detail. Try to come up with many aspects (as headings) to introduce as possible. 6-8 headings would be best.\\n{{$critics}}\\n\\nUser Topic: {{$input}}\\n\\n\"}, 'metadata': [{'logprobs': None, 'id': 'chatcmpl-9D18FCBgYEqPUUuvgUQtclSHabJE4', 'created': 1712889643, 'system_fingerprint': 'fp_b28b39ffa8', 'usage': CompletionUsage(completion_tokens=109, prompt_tokens=338, total_tokens=447)}], 'messages': ChatHistory(messages=[OpenAIChatMessageContent(inner_content=None, ai_model_id=None, metadata={}, type='OpenAIChatMessageContent', role=<ChatRole.USER: 'user'>, content='# You are master in constructive criticism. You look at other agent\\'s result and suggest future improvements\\nThe task you need to take a look is:\\n\\n\"\"\"\\n# You are master in planning and develop a big and crucial report. Based on the topic input, develop a professional outline for this topic.\\n## You MUST use {{$lang}}.\\n## Always including only 4 parts: Introduction, Body, Conclusion, Recommendations.\\n## Always put the answer in JSON format like the example below. Do not break new lines, all content should be in one line:\\n{\\'report\\': {\\'title\\': \\'Title of Report\\',\\'introduction\\': \\'Introduction content\\',\\'body\\': {\\'headings\\': [\\'Heading 1\\',\\'Heading 2\\',... \\'Heading n\\']}, \\'conclusion\\': \\'Conclusions\\',\\'recommendations\\': \\'Recommendations\\'}}\\n## You MUST use {{$lang}}.\\n# The topic should be fully elaborated in the body, in detail. Try to come up with many aspects (as headings) to introduce as possible. 6-8 headings would be best.\\n{{$critics}}\\n\\nUser Topic: {{$input}}\\n\\n\\n\"\"\"\\n\\n## Consider the previous result, state points of improvements. \\n## You do not make comments for the current result\\'s shortcomings, but instead make suggestions for future iterations so that they improve it as you want\\nFor example, if the last result is too short, you do not state \"Make the results longer.\", but instead, \"Make the results as long as possible\"\\n## State your expectation for future iterations of the task in bullet points.\\n## Do not make any comments on the language.\\n\\nThe previous result:\\n\"\"\"\\nOutlineJSON\\n\"\"\"', encoding=None, finish_reason=None, function_call=None, tool_calls=None, tool_call_id=None)], message_type='OpenAIChatMessageContent')})"
      ]
     },
     "execution_count": 9,
     "metadata": {},
     "output_type": "execute_result"
    }
   ],
   "source": [
    "import semantic_kernel as sk\n",
    "\n",
    "kernel = sk.Kernel()\n",
    "\n",
    "from semantic_kernel.connectors.ai.open_ai import OpenAIChatCompletion\n",
    "\n",
    "api_key, org_id = sk.openai_settings_from_dot_env()\n",
    "service_id = \"default\"\n",
    "kernel.add_service(\n",
    "    OpenAIChatCompletion(service_id=service_id, ai_model_id=\"gpt-3.5-turbo-0125\", api_key=api_key, org_id=org_id),\n",
    ")\n",
    "\n",
    "plugin = kernel.import_plugin_from_prompt_directory(\"./Plugins/\", \"ReportPlugin\")\n",
    "OutlineJSON_function = plugin[\"OutlineJSON\"]\n",
    "OutlineJSON = await kernel.invoke(OutlineJSON_function, sk.KernelArguments(input=\"Báo cáo thị trường Tiêu dùng năm 2023\", lang = \"Vietnamese\", critics = \"\"))\n",
    "\n",
    "print(OutlineJSON)\n",
    "\n",
    "critics_function = plugin[\"Critics\"]\n",
    "critics = await kernel.invoke(critics_function, sk.KernelArguments(input = \"OutlineJSON\", prompt = OutlineJSON_function.prompt_template.prompt_template_config.template))\n",
    "print(critics)\n",
    "\n",
    "OutlineJSON = await kernel.invoke(OutlineJSON_function, sk.KernelArguments(input=\"Báo cáo thị trường Tiêu dùng năm 2023\", lang = \"Vietnamese\", critics = critics))\n",
    "\n",
    "print(OutlineJSON)"
   ]
  },
  {
   "cell_type": "code",
   "execution_count": 10,
   "metadata": {},
   "outputs": [
    {
     "name": "stdout",
     "output_type": "stream",
     "text": [
      "- Provide a more detailed outline with specific headings for each section (Introduction, Body, Conclusion, Recommendations)\n",
      "- Ensure that each section is clearly defined and includes relevant content\n",
      "- Include a descriptive title for the report\n",
      "- Make sure the outline is well-structured and easy to follow for the reader\n",
      "- Aim for 6-8 headings in the body section to cover various aspects of the topic\n",
      "- Provide specific and actionable recommendations in the recommendations section\n",
      "- Ensure that the introduction sets the stage for the report and the conclusion summarizes key points effectively\n"
     ]
    }
   ],
   "source": [
    "print(critics)"
   ]
  },
  {
   "cell_type": "code",
   "execution_count": 2,
   "metadata": {},
   "outputs": [
    {
     "data": {
      "text/plain": [
       "{'title': 'Báo cáo thị trường Tiêu dùng năm 2023',\n",
       " 'introduction': 'Báo cáo này sẽ cung cấp cái nhìn tổng quan về thị trường tiêu dùng trong năm 2023, bao gồm xu hướng, dự đoán và các yếu tố ảnh hưởng.',\n",
       " 'body': {'headings': ['Tổng quan về thị trường tiêu dùng',\n",
       "   'Xu hướng tiêu dùng mới',\n",
       "   'Dự đoán về sự phát triển của thị trường',\n",
       "   'Yếu tố ảnh hưởng đến thị trường',\n",
       "   'Thị trường tiêu dùng trong bối cảnh kinh tế hiện nay',\n",
       "   'Ảnh hưởng của công nghệ vào thị trường tiêu dùng']},\n",
       " 'conclusion': 'Tóm lại, thị trường tiêu dùng năm 2023 đang phát triển mạnh mẽ và có nhiều cơ hội cho các doanh nghiệp.',\n",
       " 'recommendations': 'Dựa vào những thông tin trong báo cáo, chúng tôi khuyến nghị các doanh nghiệp nên tập trung vào nghiên cứu thị trường và phát triển sản phẩm dựa trên nhu cầu của người tiêu dùng để tận dụng cơ hội thị trường.'}"
      ]
     },
     "execution_count": 2,
     "metadata": {},
     "output_type": "execute_result"
    }
   ],
   "source": [
    "from Plugins.utils import json_split\n",
    "outline_dict = json_split(str(OutlineJSON))\n",
    "outline_dict"
   ]
  },
  {
   "cell_type": "code",
   "execution_count": 3,
   "metadata": {},
   "outputs": [
    {
     "name": "stdout",
     "output_type": "stream",
     "text": [
      "Báo cáo thị trường Tiêu dùng năm 2023 sẽ cung cấp cho bạn cái nhìn tổng quan về thị trường tiêu dùng trong năm 2023, bao gồm các xu hướng mới, dự đoán về sự phát triển của thị trường, các yếu tố ảnh hưởng đến thị trường, cũng như sự phân chia giữa thị trường tiêu dùng trực tuyến và truyền thống. Với sự phát triển mạnh mẽ, thị trường tiêu dùng năm 2023 mang đến nhiều cơ hội cho các doanh nghiệp.\n"
     ]
    }
   ],
   "source": [
    "Introduction_function = plugin[\"Introduction\"]\n",
    "Introduction = await kernel.invoke(Introduction_function, sk.KernelArguments(introduction=outline_dict[\"introduction\"]\n",
    "                                                                            , reportLayout = str(OutlineJSON)))\n",
    "print(Introduction)"
   ]
  },
  {
   "cell_type": "code",
   "execution_count": 4,
   "metadata": {},
   "outputs": [
    {
     "name": "stdout",
     "output_type": "stream",
     "text": [
      "['https://www.gso.gov.vn/du-lieu-va-so-lieu-thong-ke/2024/04/thi-truong-gia-quy-i-2024-va-du-bao-yeu-to-tac-dong-cpi-nam-2024/', 'https://baodautu.vn/4-yeu-to-anh-huong-den-thi-truong-hang-tieu-dung-nhanh-viet-nam-trong-2023-d185537.html', 'https://www.mof.gov.vn/webcenter/portal/ttpltc/pages_r/l/chi-tiet-tin-ttpltc?dDocName=MOFUCM273389', 'https://www.cimigo.com/vi/trends/xu-huong-tieu-dung-viet-nam-2023/', 'https://special.nhandan.vn/kinh-te-Vietnam-nam-2023-mot-nam-vuot-kho-thach-thuc-van-con/index.html', 'https://vneconomy.vn/xu-huong-tieu-dung-hien-dai-thau-hieu-de-chinh-phuc-thi-truong.htm', 'https://aglobal.vn/blog/xu-huong-tieu-dung-quy-4-nam-2023-nhung-thay-doi-can-luu-y-1564161623', 'https://mof.gov.vn/webcenter/portal/vclvcstc/pages_r/l/chi-tiet-tin?dDocName=MOFUCM262964', 'https://www.gso.gov.vn/du-lieu-va-so-lieu-thong-ke/2024/01/cac-yeu-to-tac-dong-den-lam-phat-nam-2023-va-mot-so-giai-phap-kiem-soat-lam-phat-trong-nam-2024/', 'https://pmax.com.vn/blog/xu-huong-thi-truong-va-nguoi-tieu-dung-nua-cuoi-2023-dau-2024/', 'https://tapchitaichinh.vn/ban-le-hang-hoa-va-dich-vu-tieu-dung-nam-2023-van-tang-truong-chua-bang-truoc-dich-covid-19.html', 'https://advertisingvietnam.com/xu-huong-thi-truong-nguoi-tieu-dung-nua-cuoi-2023-dau-2024-p22690', 'https://www.vietnamplus.vn/tieu-dung-trong-nuoc-se-tiep-tuc-dan-dat-thi-truong-giai-doan-cuoi-nam-post908665.vnp', 'https://vneconomy.vn/nguoi-tieu-dung-viet-nam-truong-thanh-trong-nam-2023-lam-sao-doanh-nghiep-co-the-don-dau-xu-huong.htm', 'https://aglobal.vn/blog/thi-truong-sua-xu-huong-tieu-dung-hien-nay-su-anh-huong-2084792728']\n",
      "1856\n",
      "7089\n",
      "['https://advertisingvietnam.com/10-xu-huong-hanh-vi-nguoi-tieu-dung-nam-2023-p22638', 'https://www.cimigo.com/vi/trends/xu-huong-tieu-dung-viet-nam-2023/', 'https://glints.com/vn/blog/xu-huong-hanh-vi-nguoi-tieu-dung/', 'https://qc.coccoc.com/vn/news/2023-va-nhung-xu-huong-moi-cua-nguoi-tieu-dung-viet', 'https://innovativehub.com.vn/tong-quan-va-xu-huong-nganh-hang-tieu-dung-viet-nam-2023/', 'https://aglobal.vn/blog/xu-huong-tieu-dung-quy-4-nam-2023-nhung-thay-doi-can-luu-y-1564161623', 'https://vneconomy.vn/xu-huong-tieu-dung-hien-dai-thau-hieu-de-chinh-phuc-thi-truong.htm', 'https://vtv.vn/kinh-te/xu-huong-san-pham-tieu-dung-nam-2023-2023012311124975.htm', 'https://pmax.com.vn/blog/xu-huong-thi-truong-va-nguoi-tieu-dung-nua-cuoi-2023-dau-2024/#Tong_quan_tinh_hinh_kinh_te_6_thang_dau_nam_2023', 'https://advertisingvietnam.com/xu-huong-thi-truong-nguoi-tieu-dung-nua-cuoi-2023-dau-2024-p22690', 'https://pmax.com.vn/blog/xu-huong-thi-truong-va-nguoi-tieu-dung-nua-cuoi-2023-dau-2024/', 'https://www.mspaceoffice.com/blog/7-xu-huong-tieu-dung-linh-hoat-trong-nam-2023.html', 'https://pmax.com.vn/blog/xu-huong-thi-truong-va-nguoi-tieu-dung-nua-cuoi-2023-dau-2024/#Xu_huong_thi_truong', 'https://pmax.com.vn/blog/xu-huong-thi-truong-va-nguoi-tieu-dung-nua-cuoi-2023-dau-2024/#Cuoi_nam_la_mua_mua_sam_cao_diem_nhat_trong_nam', 'https://vneconomy.vn/nguoi-tieu-dung-viet-nam-truong-thanh-trong-nam-2023-lam-sao-doanh-nghiep-co-the-don-dau-xu-huong.htm']\n",
      "9074\n",
      "[]\n",
      "[]\n",
      "['https://tapchitaichinh.vn/du-bao-3-xu-huong-tieu-dung-se-dinh-hinh-nen-kinh-te-so-trong-2023.html', 'https://www.cimigo.com/vi/trends/xu-huong-tieu-dung-viet-nam-2023/', 'https://innovativehub.com.vn/tong-quan-va-xu-huong-nganh-hang-tieu-dung-viet-nam-2023/', 'https://aglobal.vn/blog/xu-huong-tieu-dung-quy-4-nam-2023-nhung-thay-doi-can-luu-y-1564161623', 'https://vneconomy.vn/xu-huong-tieu-dung-hien-dai-thau-hieu-de-chinh-phuc-thi-truong.htm', 'https://mof.gov.vn/webcenter/portal/vclvcstc/pages_r/l/chi-tiet-tin?dDocName=MOFUCM262964', 'https://www.tinnhanhchungkhoan.vn/co-hoi-hap-dan-voi-thi-truong-tieu-dung-viet-nam-post335029.html', 'https://cleverads.vn/blog/thi-truong-giai-khat-2023/', 'https://stockbiz.vn/tin-tuc/thi-truong-gia-ca-hang-hoa-nam-2023-va-nhung-du-bao-cho-nam-toi/22328975', 'https://pmax.com.vn/blog/xu-huong-thi-truong-va-nguoi-tieu-dung-nua-cuoi-2023-dau-2024/', 'http://moit.gov.vn/bao-ve-nen-tang-tu-tuong-cua-dang/thi-truong-trong-nuoc-nam-2023-muc-tieu-va-giai-phap.html', 'https://www.gso.gov.vn/du-lieu-va-so-lieu-thong-ke/2024/01/buc-tranh-tang-truong-nam-2023-va-trien-vong-phat-trien-kinh-te-nam-2024/', 'https://vtv.vn/kinh-te/xu-huong-san-pham-tieu-dung-nam-2023-2023012311124975.htm', 'https://advertisingvietnam.com/xu-huong-thi-truong-nguoi-tieu-dung-nua-cuoi-2023-dau-2024-p22690', 'https://www.vietnamplus.vn/tieu-dung-trong-nuoc-se-tiep-tuc-dan-dat-thi-truong-giai-doan-cuoi-nam-post908665.vnp']\n",
      "1609\n",
      "8780\n",
      "['https://www.cimigo.com/vi/trends/xu-huong-tieu-dung-viet-nam-2023/', 'https://innovativehub.com.vn/tong-quan-va-xu-huong-nganh-hang-tieu-dung-viet-nam-2023/', 'https://aglobal.vn/blog/xu-huong-tieu-dung-quy-4-nam-2023-nhung-thay-doi-can-luu-y-1564161623', 'https://mof.gov.vn/webcenter/portal/vclvcstc/pages_r/l/chi-tiet-tin?dDocName=MOFUCM262964', 'https://mof.gov.vn/webcenter/portal/ttpltc/pages_r/l/chi-tiet-tin-ttpltc?dDocName=MOFUCM299491', 'https://www.gso.gov.vn/du-lieu-va-so-lieu-thong-ke/2023/12/chi-so-gia-tieu-dung-chi-so-gia-vang-va-chi-so-gia-do-la-my-thang-12-nam-2023/', 'https://pmax.com.vn/blog/xu-huong-thi-truong-va-nguoi-tieu-dung-nua-cuoi-2023-dau-2024/#Tong_quan_tinh_hinh_kinh_te_6_thang_dau_nam_2023', 'https://vneconomy.vn/xu-huong-tieu-dung-hien-dai-thau-hieu-de-chinh-phuc-thi-truong.htm', 'https://pmax.com.vn/blog/xu-huong-thi-truong-va-nguoi-tieu-dung-nua-cuoi-2023-dau-2024/', 'https://vneconomy.vn/tong-muc-ban-le-hang-hoa-va-doanh-thu-dich-vu-tieu-dung-nam-2023-phuc-hoi-tich-cuc.htm', 'http://moit.gov.vn/tin-tuc/thi-truong-trong-nuoc/to-ng-mu-c-ba-n-le-ha-ng-ho-a-va-doanh-thu-di-ch-vu-tieu-du-ng-tang-9-6-.html', 'https://tapchitaichinh.vn/ban-le-hang-hoa-va-dich-vu-tieu-dung-nam-2023-van-tang-truong-chua-bang-truoc-dich-covid-19.html', 'https://advertisingvietnam.com/xu-huong-thi-truong-nguoi-tieu-dung-nua-cuoi-2023-dau-2024-p22690', 'https://pmax.com.vn/blog/xu-huong-thi-truong-va-nguoi-tieu-dung-nua-cuoi-2023-dau-2024/#Xu_huong_thi_truong', 'https://pmax.com.vn/blog/xu-huong-thi-truong-va-nguoi-tieu-dung-nua-cuoi-2023-dau-2024/#Cuoi_nam_la_mua_mua_sam_cao_diem_nhat_trong_nam']\n",
      "9074\n",
      "[('Trên thị trường tiêu dùng Việt Nam, năm 2023, có một số xu hướng quan trọng đang diễn ra và ảnh hưởng đến sự phát triển kinh tế của đất nước. Đầu tiên, cơ cấu dân số của Việt Nam đang đóng vai trò quan trọng trong việc thúc đẩy tăng trưởng kinh tế. Với tỷ lệ tham gia lao động cao, đặc biệt là phụ nữ, Việt Nam có một lực lượng lao động lớn và rẻ. Điều này giúp giảm tỷ lệ phụ thuộc và tạo điều kiện cho GDP tăng trưởng mạnh mẽ.\\n\\nNgoài ra, tăng trưởng GDP bình quân 5.9% trong mười năm qua cũng là một yếu tố quan trọng khác. Việt Nam đã thu hút đầu tư nước ngoài và tăng cường sản xuất, đóng góp vào sự phát triển của nền kinh tế. Sự tăng trưởng trong ngành sản xuất và tiêu thụ hàng hóa và dịch vụ bán lẻ cũng đang tạo đà phát triển tích cực.\\n\\nDu lịch nội địa cũng đang trở thành một nguồn thu hút lớn, lấp đầy khoảng trống từ du lịch quốc tế. Việt Nam đang thúc đẩy du lịch trong nước và tạo điều kiện cho ngành du lịch phát triển bền vững. Nền kinh tế Internet cũng đang phát triển mạnh mẽ, với mức tăng trưởng đáng kinh ngạc vào năm 2022.\\n\\nSự ổn định về chính trị và quản lý chặt chẽ hệ sinh thái tài nguyên cũng đóng vai trò quan trọng trong việc hỗ trợ cho sự phát triển của quốc gia. Việt Nam đang thu hút vốn đầu tư và tạo điều kiện cho các công ty khởi nghiệp phát triển.\\n\\nTóm lại, xu hướng tiêu dùng Việt Nam năm 2023 đang cho thấy sự phát triển tích cực của nền kinh tế, với nhiều cơ hội và thách thức đồng thời. Việt Nam đang trở thành một điểm sáng trong khu vực châu Á và có tiềm năng phát triển mạnh mẽ trong thập kỷ tới.', 'Tổng quan về thị trường tiêu dùng tại Việt Nam đang trải qua những biến đổi đáng chú ý trong năm 2023. Với 9 nguyên nhân chính thúc đẩy sự tăng trưởng của nền kinh tế, Việt Nam đang được dự đoán sẽ tiếp tục thịnh vượng trong thập kỷ tới.\\n\\nMột trong những yếu tố quan trọng nhất là cơ cấu dân số của Việt Nam, với tỷ lệ tham gia lao động cao và tỷ lệ phụ thuộc thấp. Điều này đã tạo điều kiện cho sự tăng trưởng nhanh chóng của nền kinh tế trong thập kỷ qua và dự kiến sẽ tiếp tục thúc đẩy tăng trưởng trong tương lai.\\n\\nNgoài ra, tăng trưởng GDP bình quân 5.9% trong mười năm qua cũng là một yếu tố quan trọng khác, cho thấy sự ổn định và phát triển của nền kinh tế Việt Nam. Sản xuất tăng trưởng, đầu tư ngày càng mạnh mẽ, và mức tiêu thụ hàng hóa và dịch vụ bán lẻ ngày càng tăng cũng đóng vai trò quan trọng trong việc thúc đẩy sự phát triển của thị trường tiêu dùng.\\n\\nDu lịch trong nước cũng đang trở thành một ngành phát triển mạnh mẽ, lấp đầy khoảng trống từ du lịch quốc tế. Nền kinh tế Internet đang phát triển với tốc độ nhanh chóng, đạt 23 tỷ USD vào năm 2022, tạo ra nhiều cơ hội cho thương mại điện tử, thanh toán điện tử và các công ty khởi nghiệp.\\n\\nSự tăng trưởng tài chính của hộ gia đình cũng đáng chú ý, cho thấy sự gia tăng của tầng lớp trung lưu và sự quan tâm ngày càng tăng về sức khỏe và lối sống lành mạnh của người tiêu dùng Việt Nam.\\n\\nCuối cùng, sự ổn định về chính trị và việc quản lý chặt chẽ hệ sinh thái tài nguyên cũng đóng vai trò quan trọng trong việc hỗ trợ cho sự phát triển của quốc gia. Việt Nam đang trở thành một điểm sáng trong khu vực châu Á và dự kiến sẽ tiếp tục thịnh vượng trong thập kỷ tới.'), ('Xu hướng tiêu dùng mới tại Việt Nam trong năm 2023 đang chứa đựng nhiều tiềm năng và cơ hội phát triển. Với 9 nguyên nhân chính được đề cập, Việt Nam được dự đoán sẽ tiếp tục thịnh vượng trong thập kỷ tới và tăng trưởng sẽ mạnh nhất ở châu Á và trên hầu hết thế giới.\\n\\nMột trong những yếu tố quan trọng nhất là cơ cấu dân số của Việt Nam, với tỷ lệ tham gia lao động cao và tỷ lệ phụ thuộc thấp. Điều này đã tạo điều kiện cho sự tăng trưởng nhanh chóng của nền kinh tế trong thập kỷ qua và dự kiến sẽ tiếp tục thúc đẩy nền kinh tế trong tương lai. Việt Nam cũng đang trải qua một giai đoạn tăng trưởng GDP ấn tượng, với mức tăng trưởng bình quân 5.9% trong mười năm qua. Sự tăng trưởng này được hỗ trợ bởi lợi nhuận sản xuất tăng, đầu tư ngày càng mạnh mẽ và mức tiêu thụ hàng hóa và dịch vụ bán lẻ ngày càng tăng.\\n\\nNgoài ra, ngành du lịch trong nước đang phát triển mạnh mẽ và lấp đầy khoảng trống từ suy giảm du lịch quốc tế. Việt Nam cũng là một quốc gia hiểu biết về kỹ thuật số, với nền kinh tế Internet đạt 23 tỷ đô la Mỹ vào năm 2022. Hệ sinh thái tài chính cũng đang hỗ trợ cho thương mại điện tử, thanh toán điện tử và các công ty khởi nghiệp, tạo ra nhiều cơ hội mới cho người tiêu dùng.\\n\\nTuy nhiên, cũng cần lưu ý rằng có những thách thức và rủi ro tiềm ẩn, như sự ảnh hưởng của lĩnh vực bất động sản đối với niềm tin kinh doanh và tâm lý kinh doanh. Việt Nam cũng đang phải đối mặt với sự thay đổi trong cơ cấu dân số và sự gia tăng của dân số già, đặt ra thách thức về chăm sóc người già trong tương lai.\\n\\nTóm lại, xu hướng tiêu dùng mới tại Việt Nam trong năm 2023 đang mang lại nhiều cơ hội và thách thức. Việt Nam đang trên đà phát triển mạnh mẽ và dự kiến sẽ tiếp tục thịnh vượng trong thập kỷ tới, nhờ vào những yếu tố quyết định như cơ cấu dân số, tăng trưởng GDP, ngành du lịch, kỹ thuật số và hệ sinh thái tài chính. Để đạt được tiềm năng đầy hứa hẹn này, Việt Nam cần tiếp tục quản lý chặt chẽ và đổi mới để thích nghi với môi trường kinh doanh thay đổi và cạnh tranh ngày càng gay gắt.', 'Trong bối cảnh nền kinh tế thế giới đang phải đối mặt với nhiều thách thức, Việt Nam đã nổi lên như một điểm sáng với những xu hướng tiêu dùng mới đầy tiềm năng trong năm 2023. Với 9 nguyên nhân chính thúc đẩy sự tăng trưởng của nền kinh tế, Việt Nam đang chứng minh sức mạnh và tiềm năng phát triển trong thập kỷ tới.\\n\\nMột trong những yếu tố quan trọng nhất là cơ cấu dân số của Việt Nam, với tỷ lệ tham gia lao động cao và tỷ lệ phụ thuộc thấp. Điều này đã tạo điều kiện cho sự tăng trưởng nhanh chóng của nền kinh tế trong thập kỷ qua và dự kiến sẽ tiếp tục thúc đẩy tăng trưởng trong tương lai. Việt Nam cũng đã chứng kiến mức tăng trưởng GDP bình quân ấn tượng 5.9% trong mười năm qua, đồng thời tăng cường đầu tư và sản xuất, chiếm 25% GDP.\\n\\nNgoài ra, mức tiêu thụ hàng hóa và dịch vụ bán lẻ đang tăng mạnh, chiếm 55% GDP, đồng thời du lịch trong nước đang lấp đầy khoảng trống từ du lịch quốc tế. Sự phát triển của nền kinh tế Internet cũng đáng chú ý, với nền kinh tế Internet trị giá 23 tỷ USD vào năm 2022. Hệ sinh thái tài chính cũng đang hỗ trợ cho thương mại điện tử, thanh toán điện tử và các công ty khởi nghiệp, đồng thời sự ổn định về chính trị và quản lý chặt chẽ hệ sinh thái tài nguyên cũng đóng vai trò quan trọng trong việc hỗ trợ sự phát triển của quốc gia.\\n\\nVới những xu hướng tiêu dùng mới này, Việt Nam đang khẳng định vị thế của mình trên thị trường kinh tế thế giới và dự kiến sẽ tiếp tục thịnh vượng trong thập kỷ tới. Điều quan trọng là nắm bắt và tận dụng những cơ hội phát triển này để đưa nền kinh tế Việt Nam lên tầm cao mới và góp phần vào sự phát triển chung của khu vực và thế giới.'), ('Trên thị trường thương mại điện tử của Việt Nam, có những xu hướng rõ ràng đang hình thành và dự báo sẽ tiếp tục phát triển trong năm 2023. Đầu tiên, người tiêu dùng Việt đang ngày càng chuyển sang sử dụng và thành thạo các dịch vụ số. Việc dành nhiều thời gian trên các nền tảng thương mại điện tử để tìm hiểu sản phẩm, tương tác với nhà bán hàng và chia sẻ đánh giá đã trở thành một xu hướng phổ biến. Điều này thể hiện sự chủ động và tương tác tích cực của người tiêu dùng trong quá trình mua sắm trực tuyến.\\n\\nXu hướng thứ hai là sự gia tăng sử dụng dịch vụ tiêu dùng số tại các khu vực tỉnh thành nhỏ. Người tiêu dùng ở các vùng nông thôn và ngoại thành đang chuyển sang sử dụng thương mại điện tử để tiếp cận sản phẩm chất lượng với giá cả phải chăng hơn. Điều này tạo ra cơ hội cho các thương hiệu và nhà bán hàng để kết nối và tiếp cận khách hàng ở những khu vực này, đồng thời thúc đẩy sự phát triển của thị trường tiêu dùng số.\\n\\nXu hướng thứ ba là người dùng trẻ tuổi trở thành nhóm người dùng số chủ lực. Nhóm người dùng từ 18 đến 34 tuổi đang chiếm tỷ lệ đơn hàng cao nhất trên các nền tảng thương mại điện tử. Họ quan tâm đến các ngành hàng như sức khỏe & sắc đẹp, thời trang, điện tử và đồ gia dụng. Điều này đặt ra thách thức và cơ hội cho các doanh nghiệp để tạo ra các sản phẩm và dịch vụ phù hợp với nhu cầu của nhóm người dùng này.\\n\\nTrên cơ sở những xu hướng trên, các doanh nghiệp có thể tận dụng các công cụ và giải pháp marketing của các nền tảng thương mại điện tử để tạo ra trải nghiệm cá nhân hóa, kết nối tốt hơn với khách hàng và nắm bắt cơ hội phát triển trên thị trường tiêu dùng số của Việt Nam.\\n\\nNgoài ra, trong bối cảnh thị trường hàng hóa thế giới đang chịu ảnh hưởng bởi nhiều yếu tố khác nhau, Việt Nam vẫn được đánh giá là một thị trường tiêu dùng hấp dẫn và đầy tiềm năng. Với tốc độ tăng trưởng kinh tế ổn định và sự gia tăng của tầng lớp trung lưu, Việt Nam đang trở thành điểm đến hấp dẫn cho các nhà đầu tư nước ngoài.\\n\\nNhìn chung, dự đoán về sự phát triển của thị trường tiêu dùng số tại Việt Nam trong năm 2023 là tích cực và đầy tiềm năng. Việc nắm bắt xu hướng và thích ứng nhanh chóng với sự thay đổi trong nhu cầu của người tiêu dùng sẽ giúp các doanh nghiệp tạo ra những cơ hội mới và đạt được thành công lâu dài trên thị trường này.', 'Trên cơ sở của các dữ liệu và thông tin được cung cấp, dự đoán về sự phát triển của thị trường tiêu dùng tại Việt Nam trong năm 2023 là rất tích cực và hứa hẹn. Có ba xu hướng chính sẽ định hình nền kinh tế số tại Việt Nam trong năm tới.\\n\\nXu hướng đầu tiên là việc người tiêu dùng Việt tăng cường sử dụng và thành thạo các dịch vụ số. Điều này được thể hiện qua việc người tiêu dùng dành nhiều thời gian hơn cho các nền tảng thương mại điện tử, mong muốn nhận được trải nghiệm trực tuyến hoàn chỉnh hơn. Điều này sẽ thúc đẩy thị trường tiêu dùng trực tuyến phát triển mạnh mẽ hơn trong năm 2023.\\n\\nXu hướng thứ hai là sự gia tăng sử dụng dịch vụ tiêu dùng số tại các khu vực tỉnh thành nhỏ. Việc người dân ở các vùng nông thôn và ngoại thành chuyển sang sử dụng các nền tảng trực tuyến sẽ tạo ra cơ hội mới cho các doanh nghiệp tiếp cận khách hàng ở những khu vực này. Điều này cũng đồng nghĩa với việc thị trường tiêu dùng trực tuyến mở rộng phạm vi phục vụ của mình.\\n\\nXu hướng thứ ba là người dùng trẻ tuổi trở thành nhóm người dùng số chủ lực. Việc nhóm người dùng trẻ tuổi dành nhiều sự quan tâm đến các ngành hàng sức khỏe & sắc đẹp, thời trang, điện tử và đồ gia dụng sẽ thúc đẩy sự phát triển của các ngành hàng này trong năm 2023.\\n\\nVới tốc độ tăng trưởng GDP dự kiến đạt 2 - 7%/năm trong giai đoạn 2023 - 2030 và tầng lớp trung lưu không ngừng gia tăng, Việt Nam là một thị trường tiêu dùng hấp dẫn và đầy tiềm năng. Sự phát triển của thị trường tiêu dùng tại Việt Nam không chỉ tạo ra cơ hội cho các doanh nghiệp mà còn mang lại lợi ích cho người tiêu dùng, đồng thời góp phần vào sự phát triển kinh tế của đất nước.\\n\\nNhìn chung, dự đoán về sự phát triển của thị trường tiêu dùng tại Việt Nam trong năm 2023 là tích cực và đầy tiềm năng, với những xu hướng rõ ràng và cơ hội mới cho các doanh nghiệp và người tiêu dùng. Để tận dụng được những cơ hội này, các doanh nghiệp cần nắm bắt và thích ứng với các xu hướng tiêu dùng mới, đồng thời áp dụng các chiến lược phù hợp để tối ưu hóa hiệu quả kinh doanh và tạo ra giá trị cho khách hàng.'), ('Trong bối cảnh thị trường hàng tiêu dùng nhanh (FMCG) tại Việt Nam đang trải qua những biến động lớn, việc hiểu rõ và đánh giá chính xác các yếu tố ảnh hưởng đến thị trường là vô cùng quan trọng. Theo báo cáo của Kantar Worldpanel, có 4 yếu tố chính sẽ định hình thị trường FMCG tại Việt Nam trong năm 2023.\\n\\nYếu tố đầu tiên là việc người tiêu dùng thắt chặt chi tiêu. Với tình hình kinh tế không ổn định và áp lực từ lạm phát, người tiêu dùng sẽ cẩn trọng hơn trong việc chi tiêu và mua sắm. Điều này đặt ra thách thức lớn cho các thương hiệu trong ngành FMCG, khi họ cần phải đáp ứng được nhu cầu của người tiêu dùng mà vẫn duy trì tính cạnh tranh và chất lượng sản phẩm.\\n\\nYếu tố thứ hai là mua sắm trực tuyến tiếp tục lên ngôi. Trong bối cảnh công nghệ phát triển, mua sắm trực tuyến ngày càng trở nên phổ biến hơn. Các kênh mua sắm trực tuyến như Thương mại điện tử và Thương mại xã hội đang ngày càng thu hút người tiêu dùng. Việc tích hợp giải trí vào trải nghiệm mua sắm trực tuyến cũng đang là xu hướng được ưa chuộng, đồng thời các công nghệ như thực tế ảo và mô hình O2O sẽ tiếp tục thúc đẩy sự phát triển của kênh mua sắm online.\\n\\nYếu tố thứ ba là sức khỏe đóng vai trò quan trọng khi người tiêu dùng chọn mua sản phẩm. Đại dịch đã thúc đẩy nhu cầu tìm kiếm các sản phẩm có lợi ích dinh dưỡng và lành mạnh. Người tiêu dùng ngày càng chú trọng đến việc chọn mua các sản phẩm tốt cho sức khỏe, và các thương hiệu cần phải đáp ứng được nhu cầu này thông qua việc cung cấp sản phẩm chất lượng và thông tin rõ ràng về sản phẩm.\\n\\nYếu tố cuối cùng là động lực cho lối sống bền vững. Tính bền vững đang trở thành một yếu tố quan trọng trong quyết định mua hàng của người tiêu dùng. Các thương hiệu cần nắm bắt cơ hội này để tạo ra các sản phẩm và giải pháp bền vững, từ đó thu hút người tiêu dùng có ý thức về môi trường.\\n\\nTóm lại, việc hiểu rõ và đánh giá chính xác các yếu tố ảnh hưởng đến thị trường FMCG tại Việt Nam là chìa khóa để các doanh nghiệp có thể thích ứng và phát triển trong môi trường kinh doanh khó khăn. Việc tập trung vào sáng tạo, trải nghiệm khách hàng, cải tiến quy trình và quảng cáo thông minh sẽ giúp các doanh nghiệp vượt qua thách thức và tạo ra sự khác biệt trên thị trường.', 'Trong bối cảnh thị trường hàng tiêu dùng nhanh (FMCG) tại Việt Nam đang phát triển mạnh mẽ, việc hiểu rõ về những yếu tố ảnh hưởng đến thị trường là vô cùng quan trọng. Theo báo cáo của Kantar Worldpanel, có 4 yếu tố quan trọng sẽ định hình thị trường FMCG tại Việt Nam trong năm 2023.\\n\\nThứ nhất, người tiêu dùng đang thắt chặt chi tiêu do áp lực lạm phát và tăng giá cả. Điều này đòi hỏi các thương hiệu phải hiểu rõ cách người tiêu dùng phản ứng với biến động giá cả, đồng thời cân nhắc việc tăng giá cả và xây dựng thương hiệu một cách cân nhắc để bù đắp giá cả gia tăng bằng chất lượng sản phẩm và thông điệp phù hợp.\\n\\nThứ hai, mua sắm trực tuyến đang ngày càng phổ biến và tiếp tục lên ngôi. Các công nghệ mới như thực tế ảo và mô hình O2O sẽ tiếp tục thúc đẩy sự phát triển của kênh mua sắm online, đồng thời giúp người tiêu dùng tiếp cận với các thương hiệu mới một cách dễ dàng hơn.\\n\\nThứ ba, sức khỏe đang trở thành yếu tố quan trọng khi người tiêu dùng chọn mua sản phẩm. Đại dịch đã thúc đẩy nhu cầu tìm kiếm sản phẩm có lợi ích dinh dưỡng và lành mạnh. Điều này đặt ra thách thức cho các thương hiệu để cung cấp sản phẩm phản ánh xu hướng ăn uống lành mạnh và đáp ứng nhu cầu của từng nhóm tuổi khác nhau.\\n\\nCuối cùng, yếu tố về lối sống bền vững đang trở nên quan trọng hơn trong các quyết định mua hàng của người tiêu dùng. Các thương hiệu cần tập trung vào các hoạt động thân thiện với môi trường và giải pháp đóng gói bền vững để thu hút người tiêu dùng có ý thức về môi trường.\\n\\nTóm lại, việc hiểu và đáp ứng đúng những yếu tố ảnh hưởng đến thị trường là chìa khóa để các doanh nghiệp FMCG thành công trong môi trường kinh tế khó khăn như hiện nay. Đồng thời, việc áp dụng các chiến lược sáng tạo, tập trung vào trải nghiệm khách hàng và sử dụng công nghệ hiện đại sẽ giúp các doanh nghiệp vượt qua thách thức và tạo ra sự khác biệt trên thị trường.'), ('Thị trường tiêu dùng trực tuyến đang trở thành một phần không thể thiếu trong cuộc sống hàng ngày của mọi người. Với sự phát triển của công nghệ và internet, việc mua sắm trực tuyến đã trở nên phổ biến hơn bao giờ hết. Người tiêu dùng ngày nay không còn phải tốn thời gian và công sức để đến các cửa hàng truyền thống mà chỉ cần một chiếc điện thoại hoặc máy tính kết nối internet là có thể mua được mọi thứ mình cần.\\n\\nMột trong những lợi ích lớn nhất của thị trường tiêu dùng trực tuyến là sự tiện lợi mà nó mang lại. Người tiêu dùng có thể mua hàng bất cứ lúc nào và ở bất kỳ đâu, chỉ cần có kết nối internet. Điều này giúp họ tiết kiệm được thời gian và công sức, đồng thời còn có thể so sánh giá cả và chất lượng sản phẩm dễ dàng hơn. \\n\\nNgoài ra, thị trường tiêu dùng trực tuyến còn mang lại sự đa dạng và phong phú trong việc lựa chọn sản phẩm. Người tiêu dùng có thể dễ dàng tìm thấy mọi loại hàng hóa từ khắp nơi trên thế giới chỉ qua một vài thao tác đơn giản trên mạng. Điều này giúp họ có cơ hội trải nghiệm và tiếp cận với những sản phẩm mới mà trước đây họ không thể tìm thấy ở cửa hàng truyền thống.\\n\\nTuy nhiên, cũng có những thách thức mà thị trường tiêu dùng trực tuyến đang phải đối mặt. Một trong những vấn đề lớn nhất là vấn đề về bảo mật thông tin cá nhân và giao dịch trực tuyến. Do tính chất mở của internet, thông tin cá nhân của người tiêu dùng có thể bị đánh cắp và lạm dụng một cách dễ dàng. Điều này đặt ra nhiều thách thức cho các doanh nghiệp và cơ quan quản lý trong việc đảm bảo an toàn cho người tiêu dùng khi mua sắm trực tuyến.\\n\\nNgoài ra, việc xử lý đổi trả hàng hóa cũng là một vấn đề đáng chú ý trong thị trường tiêu dùng trực tuyến. Không giống như việc mua hàng tại cửa hàng truyền thống, việc đổi trả hàng hóa khi mua sắm trực tuyến có thể gặp nhiều khó khăn hơn do khoảng cách về vị trí và thủ tục phức tạp. Điều này có thể làm giảm sự tin tưởng của người tiêu dùng vào việc mua sắm trực tuyến và ảnh hưởng đến sự phát triển của thị trường này.\\n\\nTóm lại, thị trường tiêu dùng trực tuyến đang phát triển mạnh mẽ và trở thành xu hướng không thể đảo ngược trong thời đại công nghệ số. Tuy nhiên, để phát triển bền vững, cần có sự chú trọng đến việc bảo vệ thông tin cá nhân và quyền lợi của người tiêu dùng, cũng như cải thiện quy trình đổi trả hàng hóa. Chỉ khi đó, thị trường tiêu dùng trực tuyến mới thực sự trở thành một phần quan trọng và không thể thiếu trong cuộc sống hàng ngày của mọi người.', 'Thị trường tiêu dùng trực tuyến đang ngày càng phát triển mạnh mẽ và thu hút sự quan tâm của đông đảo người tiêu dùng. Theo số liệu thống kê mới nhất, số lượng người dùng mua sắm trực tuyến tại Việt Nam đã tăng đáng kể trong những năm gần đây. Điều này cho thấy sự chuyển đổi trong thói quen mua sắm của người tiêu dùng, từ việc mua hàng truyền thống sang mua hàng trực tuyến.\\n\\nMột trong những lý do chính khiến thị trường tiêu dùng trực tuyến phát triển mạnh mẽ là sự tiện lợi mà nó mang lại. Người tiêu dùng không cần phải di chuyển đến cửa hàng mà chỉ cần một chiếc điện thoại hoặc máy tính kết nối internet là có thể mua sắm mọi thứ mình cần. Điều này giúp họ tiết kiệm thời gian và công sức, đồng thời cũng mở ra cơ hội tiếp cận đến nhiều sản phẩm và dịch vụ hơn.\\n\\nNgoài ra, thị trường tiêu dùng trực tuyến cũng mang lại sự đa dạng và phong phú trong lựa chọn sản phẩm. Người tiêu dùng có thể dễ dàng so sánh giá cả, chất lượng và đánh giá từ người dùng khác nhau trước khi quyết định mua hàng. Điều này giúp họ có được quyết định mua sắm chín chắn hơn, tránh được những rủi ro không cần thiết.\\n\\nTuy nhiên, cũng cần lưu ý rằng thị trường tiêu dùng trực tuyến cũng đem đến một số thách thức. Một trong những vấn đề phổ biến là vấn đề về bảo mật thanh toán trực tuyến. Người tiêu dùng cần phải cẩn trọng và chọn lựa các trang web mua sắm uy tín để tránh rơi vào tình trạng lừa đảo.\\n\\nTóm lại, thị trường tiêu dùng trực tuyến đang là xu hướng phát triển không thể phủ nhận trong thời đại công nghệ 4.0. Để tận dụng được lợi ích từ việc mua sắm trực tuyến, người tiêu dùng cần phải thông thạo các kỹ năng tìm kiếm thông tin, so sánh sản phẩm và bảo vệ thông tin cá nhân. Chỉ khi đó, họ mới có thể tận hưởng trọn vẹn sự tiện lợi và đa dạng mà thị trường tiêu dùng trực tuyến mang lại.'), ('Thị trường tiêu dùng truyền thống là một phần không thể thiếu trong nền kinh tế của mỗi quốc gia. Đây là nơi mà người tiêu dùng có thể tìm thấy các sản phẩm và dịch vụ cần thiết hàng ngày từ các cửa hàng truyền thống như siêu thị, cửa hàng tạp hóa, chợ đầu mối và cửa hàng bách hóa. Thị trường tiêu dùng truyền thống thường mang lại sự tiện lợi và sự đa dạng cho người tiêu dùng, đồng thời cũng tạo ra cơ hội kinh doanh cho các doanh nghiệp và nhà sản xuất.\\n\\nMột trong những đặc điểm quan trọng của thị trường tiêu dùng truyền thống là sự giao thương trực tiếp giữa người mua và người bán. Việc này tạo ra một môi trường mua bán truyền thống, nơi mà sự giao tiếp và tương tác giữa các bên đóng vai trò quan trọng trong quá trình mua sắm. Người tiêu dùng có thể nhìn thấy và chạm trực tiếp vào sản phẩm trước khi quyết định mua, đồng thời cũng có cơ hội thương lượng giá cả và chất lượng với người bán.\\n\\nThị trường tiêu dùng truyền thống cũng thường phản ánh nền văn hóa và truyền thống của mỗi quốc gia. Việc mua sắm tại các cửa hàng truyền thống không chỉ là việc đơn thuần mua bán hàng hóa mà còn là cơ hội để trải nghiệm và tham gia vào các hoạt động xã hội. Ví dụ, việc đi chợ hàng ngày không chỉ giúp người tiêu dùng mua được những sản phẩm tươi ngon mà còn là cơ hội để gặp gỡ bạn bè, hàng xóm và trò chuyện với người bán hàng.\\n\\nTuy nhiên, thị trường tiêu dùng truyền thống đang phải đối mặt với nhiều thách thức trong thời đại công nghệ hiện nay. Sự phát triển của thương mại điện tử và mô hình kinh doanh trực tuyến đã tạo ra sức ép đối với các cửa hàng truyền thống. Người tiêu dùng ngày càng chuyển sang mua sắm trực tuyến vì sự tiện lợi và đa dạng của sản phẩm. Điều này đặt ra câu hỏi về tương lai của thị trường tiêu dùng truyền thống và cách thức các doanh nghiệp có thể thích nghi với xu hướng mới này.\\n\\nĐể tồn tại và phát triển trong thị trường cạnh tranh ngày nay, các cửa hàng truyền thống cần phải thay đổi và cập nhật mô hình kinh doanh của mình. Việc áp dụng công nghệ vào quản lý và bán hàng, cải thiện dịch vụ khách hàng và tạo ra trải nghiệm mua sắm độc đáo là những yếu tố quan trọng giúp các doanh nghiệp thích nghi và phát triển trong môi trường kinh doanh ngày nay.\\n\\nTóm lại, thị trường tiêu dùng truyền thống vẫn đóng vai trò quan trọng trong nền kinh tế và xã hội của mỗi quốc gia. Để tồn tại và phát triển, các doanh nghiệp cần phải thích nghi với sự thay đổi và cung cấp cho người tiêu dùng trải nghiệm mua sắm tốt nhất có thể. Sự kết hợp giữa truyền thống và hiện đại sẽ giúp thị trường tiêu dùng truyền thống tiếp tục phát triển trong tương lai.', 'Trong thời đại công nghệ phát triển mạnh mẽ như hiện nay, thị trường tiêu dùng truyền thống đang phải đối mặt với nhiều thách thức. Việc mua sắm trực tuyến ngày càng trở nên phổ biến và thuận tiện hơn, khiến cho người tiêu dùng có thể dễ dàng tìm kiếm và mua hàng từ bất kỳ đâu chỉ với một vài cú click chuột. Điều này đặt ra câu hỏi về tương lai của thị trường tiêu dùng truyền thống.\\n\\nMột trong những vấn đề lớn mà thị trường tiêu dùng truyền thống đang phải đối diện là sự cạnh tranh gay gắt từ các nền tảng thương mại điện tử. Các công ty lớn như Amazon, Alibaba, và Lazada đều đang chiếm lĩnh thị trường bằng cách cung cấp hàng hóa đa dạng, giá cả cạnh tranh và dịch vụ giao hàng nhanh chóng. Điều này khiến cho các cửa hàng truyền thống phải nỗ lực hơn để thu hút khách hàng và duy trì doanh số bán hàng.\\n\\nNgoài ra, việc thay đổi thói quen mua sắm của người tiêu dùng cũng đang ảnh hưởng đến thị trường tiêu dùng truyền thống. Ngày nay, người tiêu dùng thường tìm kiếm sự tiện lợi và tiết kiệm thời gian, điều mà môi trường mua sắm truyền thống không thể đáp ứng hoàn toàn. Do đó, các cửa hàng truyền thống cần phải cải thiện trải nghiệm mua sắm của khách hàng, từ việc cải thiện dịch vụ đến việc tối ưu hóa quy trình mua hàng.\\n\\nTuy nhiên, không phải tất cả các khách hàng đều chấp nhận mua sắm trực tuyến. Có một phần của thị trường vẫn ưa thích trải nghiệm mua sắm truyền thống, từ việc chạy qua các cửa hàng để chọn lựa sản phẩm cho đến việc tương tác trực tiếp với nhân viên bán hàng. Điều này tạo ra cơ hội cho các cửa hàng truyền thống để phát triển và tạo ra sự khác biệt trong môi trường cạnh tranh gay gắt hiện nay.\\n\\nTóm lại, thị trường tiêu dùng truyền thống đang phải đối mặt với nhiều thách thức từ sự phát triển mạnh mẽ của thương mại điện tử. Tuy nhiên, với sự linh hoạt và sáng tạo, các cửa hàng truyền thống vẫn có thể tồn tại và phát triển trong thời đại số hóa này. Điều quan trọng là họ cần phải hiểu rõ nhu cầu và mong muốn của khách hàng để tạo ra những trải nghiệm mua sắm độc đáo và hấp dẫn.')]\n"
     ]
    }
   ],
   "source": [
    "from Plugins.google_search import GoogleSearchPlugin\n",
    "from Plugins.utils import token_count\n",
    "import asyncio\n",
    "TOKEN_LIMIT = 10000\n",
    "\n",
    "google_plugin = kernel.import_plugin_from_object(GoogleSearchPlugin(), plugin_name = \"GoogleSearchPlugin\")\n",
    "google_search_function = google_plugin[\"GoogleSearch\"]\n",
    "get_content_function = google_plugin[\"GetContentFromURL\"]\n",
    "\n",
    "column_function = plugin[\"Column\"]\n",
    "column_summ_function = plugin[\"ColumnSumm\"]\n",
    "headings = outline_dict[\"body\"][\"headings\"]\n",
    "query_function = plugin[\"Query\"]\n",
    "\n",
    "async def columnist(heading, title):\n",
    "    search_result = []\n",
    "    tokens = 0\n",
    "    query = str(await kernel.invoke(query_function, sk.KernelArguments(input = heading, big_title = title)))\n",
    "    search_result_urls = await kernel.invoke(google_search_function, sk.KernelArguments(keyword = query, num_results = 15))\n",
    "    search_result_urls = search_result_urls.value\n",
    "    print(search_result_urls)\n",
    "    while True:\n",
    "        if not search_result_urls:\n",
    "            break\n",
    "        url = search_result_urls.pop(0)\n",
    "        content = await kernel.invoke(get_content_function, sk.KernelArguments(url = url))\n",
    "        content = content.value\n",
    "        new_tokens = token_count(content)\n",
    "        if tokens + new_tokens > TOKEN_LIMIT:\n",
    "            print(tokens)\n",
    "            if tokens >= TOKEN_LIMIT//2:\n",
    "                break\n",
    "            else:\n",
    "                continue\n",
    "        tokens += new_tokens\n",
    "        search_result.append(content)\n",
    "    search_result = \" \".join(search_result)\n",
    "    column = await kernel.invoke(column_function, sk.KernelArguments(input = search_result, body_content = heading))\n",
    "    column_summ = await kernel.invoke(column_summ_function, sk.KernelArguments(input = search_result, body_content = heading))\n",
    "    return str(column), str(column_summ)\n",
    "\n",
    "coros = []\n",
    "for heading in headings:\n",
    "    coros.append(columnist(heading, outline_dict[\"title\"]))\n",
    "\n",
    "values = await asyncio.gather(*coros)\n",
    "print(values)\n",
    "\n",
    "\n"
   ]
  },
  {
   "cell_type": "code",
   "execution_count": 5,
   "metadata": {},
   "outputs": [
    {
     "name": "stdout",
     "output_type": "stream",
     "text": [
      "747 tokens\n",
      "Trên thị trường tiêu dùng Việt Nam, năm 2023, có một số xu hướng quan trọng đang diễn ra và ảnh hưởng đến sự phát triển kinh tế của đất nước. Đầu tiên, cơ cấu dân số của Việt Nam đang đóng vai trò quan trọng trong việc thúc đẩy tăng trưởng kinh tế. Với tỷ lệ tham gia lao động cao, đặc biệt là phụ nữ, Việt Nam có một lực lượng lao động lớn và rẻ. Điều này giúp giảm tỷ lệ phụ thuộc và tạo điều kiện cho GDP tăng trưởng mạnh mẽ.\n",
      "\n",
      "Ngoài ra, tăng trưởng GDP bình quân 5.9% trong mười năm qua cũng là một yếu tố quan trọng khác. Việt Nam đã thu hút đầu tư nước ngoài và tăng cường sản xuất, đóng góp vào sự phát triển của nền kinh tế. Sự tăng trưởng trong ngành sản xuất và tiêu thụ hàng hóa và dịch vụ bán lẻ cũng đang tạo đà phát triển tích cực.\n",
      "\n",
      "Du lịch nội địa cũng đang trở thành một nguồn thu hút lớn, lấp đầy khoảng trống từ du lịch quốc tế. Việt Nam đang thúc đẩy du lịch trong nước và tạo điều kiện cho ngành du lịch phát triển bền vững. Nền kinh tế Internet cũng đang phát triển mạnh mẽ, với mức tăng trưởng đáng kinh ngạc vào năm 2022.\n",
      "\n",
      "Sự ổn định về chính trị và quản lý chặt chẽ hệ sinh thái tài nguyên cũng đóng vai trò quan trọng trong việc hỗ trợ cho sự phát triển của quốc gia. Việt Nam đang thu hút vốn đầu tư và tạo điều kiện cho các công ty khởi nghiệp phát triển.\n",
      "\n",
      "Tóm lại, xu hướng tiêu dùng Việt Nam năm 2023 đang cho thấy sự phát triển tích cực của nền kinh tế, với nhiều cơ hội và thách thức đồng thời. Việt Nam đang trở thành một điểm sáng trong khu vực châu Á và có tiềm năng phát triển mạnh mẽ trong thập kỷ tới.\n",
      "789 tokens\n",
      "Tổng quan về thị trường tiêu dùng tại Việt Nam đang trải qua những biến đổi đáng chú ý trong năm 2023. Với 9 nguyên nhân chính thúc đẩy sự tăng trưởng của nền kinh tế, Việt Nam đang được dự đoán sẽ tiếp tục thịnh vượng trong thập kỷ tới.\n",
      "\n",
      "Một trong những yếu tố quan trọng nhất là cơ cấu dân số của Việt Nam, với tỷ lệ tham gia lao động cao và tỷ lệ phụ thuộc thấp. Điều này đã tạo điều kiện cho sự tăng trưởng nhanh chóng của nền kinh tế trong thập kỷ qua và dự kiến sẽ tiếp tục thúc đẩy tăng trưởng trong tương lai.\n",
      "\n",
      "Ngoài ra, tăng trưởng GDP bình quân 5.9% trong mười năm qua cũng là một yếu tố quan trọng khác, cho thấy sự ổn định và phát triển của nền kinh tế Việt Nam. Sản xuất tăng trưởng, đầu tư ngày càng mạnh mẽ, và mức tiêu thụ hàng hóa và dịch vụ bán lẻ ngày càng tăng cũng đóng vai trò quan trọng trong việc thúc đẩy sự phát triển của thị trường tiêu dùng.\n",
      "\n",
      "Du lịch trong nước cũng đang trở thành một ngành phát triển mạnh mẽ, lấp đầy khoảng trống từ du lịch quốc tế. Nền kinh tế Internet đang phát triển với tốc độ nhanh chóng, đạt 23 tỷ USD vào năm 2022, tạo ra nhiều cơ hội cho thương mại điện tử, thanh toán điện tử và các công ty khởi nghiệp.\n",
      "\n",
      "Sự tăng trưởng tài chính của hộ gia đình cũng đáng chú ý, cho thấy sự gia tăng của tầng lớp trung lưu và sự quan tâm ngày càng tăng về sức khỏe và lối sống lành mạnh của người tiêu dùng Việt Nam.\n",
      "\n",
      "Cuối cùng, sự ổn định về chính trị và việc quản lý chặt chẽ hệ sinh thái tài nguyên cũng đóng vai trò quan trọng trong việc hỗ trợ cho sự phát triển của quốc gia. Việt Nam đang trở thành một điểm sáng trong khu vực châu Á và dự kiến sẽ tiếp tục thịnh vượng trong thập kỷ tới.\n",
      "982 tokens\n",
      "Xu hướng tiêu dùng mới tại Việt Nam trong năm 2023 đang chứa đựng nhiều tiềm năng và cơ hội phát triển. Với 9 nguyên nhân chính được đề cập, Việt Nam được dự đoán sẽ tiếp tục thịnh vượng trong thập kỷ tới và tăng trưởng sẽ mạnh nhất ở châu Á và trên hầu hết thế giới.\n",
      "\n",
      "Một trong những yếu tố quan trọng nhất là cơ cấu dân số của Việt Nam, với tỷ lệ tham gia lao động cao và tỷ lệ phụ thuộc thấp. Điều này đã tạo điều kiện cho sự tăng trưởng nhanh chóng của nền kinh tế trong thập kỷ qua và dự kiến sẽ tiếp tục thúc đẩy nền kinh tế trong tương lai. Việt Nam cũng đang trải qua một giai đoạn tăng trưởng GDP ấn tượng, với mức tăng trưởng bình quân 5.9% trong mười năm qua. Sự tăng trưởng này được hỗ trợ bởi lợi nhuận sản xuất tăng, đầu tư ngày càng mạnh mẽ và mức tiêu thụ hàng hóa và dịch vụ bán lẻ ngày càng tăng.\n",
      "\n",
      "Ngoài ra, ngành du lịch trong nước đang phát triển mạnh mẽ và lấp đầy khoảng trống từ suy giảm du lịch quốc tế. Việt Nam cũng là một quốc gia hiểu biết về kỹ thuật số, với nền kinh tế Internet đạt 23 tỷ đô la Mỹ vào năm 2022. Hệ sinh thái tài chính cũng đang hỗ trợ cho thương mại điện tử, thanh toán điện tử và các công ty khởi nghiệp, tạo ra nhiều cơ hội mới cho người tiêu dùng.\n",
      "\n",
      "Tuy nhiên, cũng cần lưu ý rằng có những thách thức và rủi ro tiềm ẩn, như sự ảnh hưởng của lĩnh vực bất động sản đối với niềm tin kinh doanh và tâm lý kinh doanh. Việt Nam cũng đang phải đối mặt với sự thay đổi trong cơ cấu dân số và sự gia tăng của dân số già, đặt ra thách thức về chăm sóc người già trong tương lai.\n",
      "\n",
      "Tóm lại, xu hướng tiêu dùng mới tại Việt Nam trong năm 2023 đang mang lại nhiều cơ hội và thách thức. Việt Nam đang trên đà phát triển mạnh mẽ và dự kiến sẽ tiếp tục thịnh vượng trong thập kỷ tới, nhờ vào những yếu tố quyết định như cơ cấu dân số, tăng trưởng GDP, ngành du lịch, kỹ thuật số và hệ sinh thái tài chính. Để đạt được tiềm năng đầy hứa hẹn này, Việt Nam cần tiếp tục quản lý chặt chẽ và đổi mới để thích nghi với môi trường kinh doanh thay đổi và cạnh tranh ngày càng gay gắt.\n",
      "782 tokens\n",
      "Trong bối cảnh nền kinh tế thế giới đang phải đối mặt với nhiều thách thức, Việt Nam đã nổi lên như một điểm sáng với những xu hướng tiêu dùng mới đầy tiềm năng trong năm 2023. Với 9 nguyên nhân chính thúc đẩy sự tăng trưởng của nền kinh tế, Việt Nam đang chứng minh sức mạnh và tiềm năng phát triển trong thập kỷ tới.\n",
      "\n",
      "Một trong những yếu tố quan trọng nhất là cơ cấu dân số của Việt Nam, với tỷ lệ tham gia lao động cao và tỷ lệ phụ thuộc thấp. Điều này đã tạo điều kiện cho sự tăng trưởng nhanh chóng của nền kinh tế trong thập kỷ qua và dự kiến sẽ tiếp tục thúc đẩy tăng trưởng trong tương lai. Việt Nam cũng đã chứng kiến mức tăng trưởng GDP bình quân ấn tượng 5.9% trong mười năm qua, đồng thời tăng cường đầu tư và sản xuất, chiếm 25% GDP.\n",
      "\n",
      "Ngoài ra, mức tiêu thụ hàng hóa và dịch vụ bán lẻ đang tăng mạnh, chiếm 55% GDP, đồng thời du lịch trong nước đang lấp đầy khoảng trống từ du lịch quốc tế. Sự phát triển của nền kinh tế Internet cũng đáng chú ý, với nền kinh tế Internet trị giá 23 tỷ USD vào năm 2022. Hệ sinh thái tài chính cũng đang hỗ trợ cho thương mại điện tử, thanh toán điện tử và các công ty khởi nghiệp, đồng thời sự ổn định về chính trị và quản lý chặt chẽ hệ sinh thái tài nguyên cũng đóng vai trò quan trọng trong việc hỗ trợ sự phát triển của quốc gia.\n",
      "\n",
      "Với những xu hướng tiêu dùng mới này, Việt Nam đang khẳng định vị thế của mình trên thị trường kinh tế thế giới và dự kiến sẽ tiếp tục thịnh vượng trong thập kỷ tới. Điều quan trọng là nắm bắt và tận dụng những cơ hội phát triển này để đưa nền kinh tế Việt Nam lên tầm cao mới và góp phần vào sự phát triển chung của khu vực và thế giới.\n",
      "1046 tokens\n",
      "Trên thị trường thương mại điện tử của Việt Nam, có những xu hướng rõ ràng đang hình thành và dự báo sẽ tiếp tục phát triển trong năm 2023. Đầu tiên, người tiêu dùng Việt đang ngày càng chuyển sang sử dụng và thành thạo các dịch vụ số. Việc dành nhiều thời gian trên các nền tảng thương mại điện tử để tìm hiểu sản phẩm, tương tác với nhà bán hàng và chia sẻ đánh giá đã trở thành một xu hướng phổ biến. Điều này thể hiện sự chủ động và tương tác tích cực của người tiêu dùng trong quá trình mua sắm trực tuyến.\n",
      "\n",
      "Xu hướng thứ hai là sự gia tăng sử dụng dịch vụ tiêu dùng số tại các khu vực tỉnh thành nhỏ. Người tiêu dùng ở các vùng nông thôn và ngoại thành đang chuyển sang sử dụng thương mại điện tử để tiếp cận sản phẩm chất lượng với giá cả phải chăng hơn. Điều này tạo ra cơ hội cho các thương hiệu và nhà bán hàng để kết nối và tiếp cận khách hàng ở những khu vực này, đồng thời thúc đẩy sự phát triển của thị trường tiêu dùng số.\n",
      "\n",
      "Xu hướng thứ ba là người dùng trẻ tuổi trở thành nhóm người dùng số chủ lực. Nhóm người dùng từ 18 đến 34 tuổi đang chiếm tỷ lệ đơn hàng cao nhất trên các nền tảng thương mại điện tử. Họ quan tâm đến các ngành hàng như sức khỏe & sắc đẹp, thời trang, điện tử và đồ gia dụng. Điều này đặt ra thách thức và cơ hội cho các doanh nghiệp để tạo ra các sản phẩm và dịch vụ phù hợp với nhu cầu của nhóm người dùng này.\n",
      "\n",
      "Trên cơ sở những xu hướng trên, các doanh nghiệp có thể tận dụng các công cụ và giải pháp marketing của các nền tảng thương mại điện tử để tạo ra trải nghiệm cá nhân hóa, kết nối tốt hơn với khách hàng và nắm bắt cơ hội phát triển trên thị trường tiêu dùng số của Việt Nam.\n",
      "\n",
      "Ngoài ra, trong bối cảnh thị trường hàng hóa thế giới đang chịu ảnh hưởng bởi nhiều yếu tố khác nhau, Việt Nam vẫn được đánh giá là một thị trường tiêu dùng hấp dẫn và đầy tiềm năng. Với tốc độ tăng trưởng kinh tế ổn định và sự gia tăng của tầng lớp trung lưu, Việt Nam đang trở thành điểm đến hấp dẫn cho các nhà đầu tư nước ngoài.\n",
      "\n",
      "Nhìn chung, dự đoán về sự phát triển của thị trường tiêu dùng số tại Việt Nam trong năm 2023 là tích cực và đầy tiềm năng. Việc nắm bắt xu hướng và thích ứng nhanh chóng với sự thay đổi trong nhu cầu của người tiêu dùng sẽ giúp các doanh nghiệp tạo ra những cơ hội mới và đạt được thành công lâu dài trên thị trường này.\n",
      "959 tokens\n",
      "Trên cơ sở của các dữ liệu và thông tin được cung cấp, dự đoán về sự phát triển của thị trường tiêu dùng tại Việt Nam trong năm 2023 là rất tích cực và hứa hẹn. Có ba xu hướng chính sẽ định hình nền kinh tế số tại Việt Nam trong năm tới.\n",
      "\n",
      "Xu hướng đầu tiên là việc người tiêu dùng Việt tăng cường sử dụng và thành thạo các dịch vụ số. Điều này được thể hiện qua việc người tiêu dùng dành nhiều thời gian hơn cho các nền tảng thương mại điện tử, mong muốn nhận được trải nghiệm trực tuyến hoàn chỉnh hơn. Điều này sẽ thúc đẩy thị trường tiêu dùng trực tuyến phát triển mạnh mẽ hơn trong năm 2023.\n",
      "\n",
      "Xu hướng thứ hai là sự gia tăng sử dụng dịch vụ tiêu dùng số tại các khu vực tỉnh thành nhỏ. Việc người dân ở các vùng nông thôn và ngoại thành chuyển sang sử dụng các nền tảng trực tuyến sẽ tạo ra cơ hội mới cho các doanh nghiệp tiếp cận khách hàng ở những khu vực này. Điều này cũng đồng nghĩa với việc thị trường tiêu dùng trực tuyến mở rộng phạm vi phục vụ của mình.\n",
      "\n",
      "Xu hướng thứ ba là người dùng trẻ tuổi trở thành nhóm người dùng số chủ lực. Việc nhóm người dùng trẻ tuổi dành nhiều sự quan tâm đến các ngành hàng sức khỏe & sắc đẹp, thời trang, điện tử và đồ gia dụng sẽ thúc đẩy sự phát triển của các ngành hàng này trong năm 2023.\n",
      "\n",
      "Với tốc độ tăng trưởng GDP dự kiến đạt 2 - 7%/năm trong giai đoạn 2023 - 2030 và tầng lớp trung lưu không ngừng gia tăng, Việt Nam là một thị trường tiêu dùng hấp dẫn và đầy tiềm năng. Sự phát triển của thị trường tiêu dùng tại Việt Nam không chỉ tạo ra cơ hội cho các doanh nghiệp mà còn mang lại lợi ích cho người tiêu dùng, đồng thời góp phần vào sự phát triển kinh tế của đất nước.\n",
      "\n",
      "Nhìn chung, dự đoán về sự phát triển của thị trường tiêu dùng tại Việt Nam trong năm 2023 là tích cực và đầy tiềm năng, với những xu hướng rõ ràng và cơ hội mới cho các doanh nghiệp và người tiêu dùng. Để tận dụng được những cơ hội này, các doanh nghiệp cần nắm bắt và thích ứng với các xu hướng tiêu dùng mới, đồng thời áp dụng các chiến lược phù hợp để tối ưu hóa hiệu quả kinh doanh và tạo ra giá trị cho khách hàng.\n",
      "1023 tokens\n",
      "Trong bối cảnh thị trường hàng tiêu dùng nhanh (FMCG) tại Việt Nam đang trải qua những biến động lớn, việc hiểu rõ và đánh giá chính xác các yếu tố ảnh hưởng đến thị trường là vô cùng quan trọng. Theo báo cáo của Kantar Worldpanel, có 4 yếu tố chính sẽ định hình thị trường FMCG tại Việt Nam trong năm 2023.\n",
      "\n",
      "Yếu tố đầu tiên là việc người tiêu dùng thắt chặt chi tiêu. Với tình hình kinh tế không ổn định và áp lực từ lạm phát, người tiêu dùng sẽ cẩn trọng hơn trong việc chi tiêu và mua sắm. Điều này đặt ra thách thức lớn cho các thương hiệu trong ngành FMCG, khi họ cần phải đáp ứng được nhu cầu của người tiêu dùng mà vẫn duy trì tính cạnh tranh và chất lượng sản phẩm.\n",
      "\n",
      "Yếu tố thứ hai là mua sắm trực tuyến tiếp tục lên ngôi. Trong bối cảnh công nghệ phát triển, mua sắm trực tuyến ngày càng trở nên phổ biến hơn. Các kênh mua sắm trực tuyến như Thương mại điện tử và Thương mại xã hội đang ngày càng thu hút người tiêu dùng. Việc tích hợp giải trí vào trải nghiệm mua sắm trực tuyến cũng đang là xu hướng được ưa chuộng, đồng thời các công nghệ như thực tế ảo và mô hình O2O sẽ tiếp tục thúc đẩy sự phát triển của kênh mua sắm online.\n",
      "\n",
      "Yếu tố thứ ba là sức khỏe đóng vai trò quan trọng khi người tiêu dùng chọn mua sản phẩm. Đại dịch đã thúc đẩy nhu cầu tìm kiếm các sản phẩm có lợi ích dinh dưỡng và lành mạnh. Người tiêu dùng ngày càng chú trọng đến việc chọn mua các sản phẩm tốt cho sức khỏe, và các thương hiệu cần phải đáp ứng được nhu cầu này thông qua việc cung cấp sản phẩm chất lượng và thông tin rõ ràng về sản phẩm.\n",
      "\n",
      "Yếu tố cuối cùng là động lực cho lối sống bền vững. Tính bền vững đang trở thành một yếu tố quan trọng trong quyết định mua hàng của người tiêu dùng. Các thương hiệu cần nắm bắt cơ hội này để tạo ra các sản phẩm và giải pháp bền vững, từ đó thu hút người tiêu dùng có ý thức về môi trường.\n",
      "\n",
      "Tóm lại, việc hiểu rõ và đánh giá chính xác các yếu tố ảnh hưởng đến thị trường FMCG tại Việt Nam là chìa khóa để các doanh nghiệp có thể thích ứng và phát triển trong môi trường kinh doanh khó khăn. Việc tập trung vào sáng tạo, trải nghiệm khách hàng, cải tiến quy trình và quảng cáo thông minh sẽ giúp các doanh nghiệp vượt qua thách thức và tạo ra sự khác biệt trên thị trường.\n",
      "881 tokens\n",
      "Trong bối cảnh thị trường hàng tiêu dùng nhanh (FMCG) tại Việt Nam đang phát triển mạnh mẽ, việc hiểu rõ về những yếu tố ảnh hưởng đến thị trường là vô cùng quan trọng. Theo báo cáo của Kantar Worldpanel, có 4 yếu tố quan trọng sẽ định hình thị trường FMCG tại Việt Nam trong năm 2023.\n",
      "\n",
      "Thứ nhất, người tiêu dùng đang thắt chặt chi tiêu do áp lực lạm phát và tăng giá cả. Điều này đòi hỏi các thương hiệu phải hiểu rõ cách người tiêu dùng phản ứng với biến động giá cả, đồng thời cân nhắc việc tăng giá cả và xây dựng thương hiệu một cách cân nhắc để bù đắp giá cả gia tăng bằng chất lượng sản phẩm và thông điệp phù hợp.\n",
      "\n",
      "Thứ hai, mua sắm trực tuyến đang ngày càng phổ biến và tiếp tục lên ngôi. Các công nghệ mới như thực tế ảo và mô hình O2O sẽ tiếp tục thúc đẩy sự phát triển của kênh mua sắm online, đồng thời giúp người tiêu dùng tiếp cận với các thương hiệu mới một cách dễ dàng hơn.\n",
      "\n",
      "Thứ ba, sức khỏe đang trở thành yếu tố quan trọng khi người tiêu dùng chọn mua sản phẩm. Đại dịch đã thúc đẩy nhu cầu tìm kiếm sản phẩm có lợi ích dinh dưỡng và lành mạnh. Điều này đặt ra thách thức cho các thương hiệu để cung cấp sản phẩm phản ánh xu hướng ăn uống lành mạnh và đáp ứng nhu cầu của từng nhóm tuổi khác nhau.\n",
      "\n",
      "Cuối cùng, yếu tố về lối sống bền vững đang trở nên quan trọng hơn trong các quyết định mua hàng của người tiêu dùng. Các thương hiệu cần tập trung vào các hoạt động thân thiện với môi trường và giải pháp đóng gói bền vững để thu hút người tiêu dùng có ý thức về môi trường.\n",
      "\n",
      "Tóm lại, việc hiểu và đáp ứng đúng những yếu tố ảnh hưởng đến thị trường là chìa khóa để các doanh nghiệp FMCG thành công trong môi trường kinh tế khó khăn như hiện nay. Đồng thời, việc áp dụng các chiến lược sáng tạo, tập trung vào trải nghiệm khách hàng và sử dụng công nghệ hiện đại sẽ giúp các doanh nghiệp vượt qua thách thức và tạo ra sự khác biệt trên thị trường.\n",
      "1111 tokens\n",
      "Thị trường tiêu dùng trực tuyến đang trở thành một phần không thể thiếu trong cuộc sống hàng ngày của mọi người. Với sự phát triển của công nghệ và internet, việc mua sắm trực tuyến đã trở nên phổ biến hơn bao giờ hết. Người tiêu dùng ngày nay không còn phải tốn thời gian và công sức để đến các cửa hàng truyền thống mà chỉ cần một chiếc điện thoại hoặc máy tính kết nối internet là có thể mua được mọi thứ mình cần.\n",
      "\n",
      "Một trong những lợi ích lớn nhất của thị trường tiêu dùng trực tuyến là sự tiện lợi mà nó mang lại. Người tiêu dùng có thể mua hàng bất cứ lúc nào và ở bất kỳ đâu, chỉ cần có kết nối internet. Điều này giúp họ tiết kiệm được thời gian và công sức, đồng thời còn có thể so sánh giá cả và chất lượng sản phẩm dễ dàng hơn. \n",
      "\n",
      "Ngoài ra, thị trường tiêu dùng trực tuyến còn mang lại sự đa dạng và phong phú trong việc lựa chọn sản phẩm. Người tiêu dùng có thể dễ dàng tìm thấy mọi loại hàng hóa từ khắp nơi trên thế giới chỉ qua một vài thao tác đơn giản trên mạng. Điều này giúp họ có cơ hội trải nghiệm và tiếp cận với những sản phẩm mới mà trước đây họ không thể tìm thấy ở cửa hàng truyền thống.\n",
      "\n",
      "Tuy nhiên, cũng có những thách thức mà thị trường tiêu dùng trực tuyến đang phải đối mặt. Một trong những vấn đề lớn nhất là vấn đề về bảo mật thông tin cá nhân và giao dịch trực tuyến. Do tính chất mở của internet, thông tin cá nhân của người tiêu dùng có thể bị đánh cắp và lạm dụng một cách dễ dàng. Điều này đặt ra nhiều thách thức cho các doanh nghiệp và cơ quan quản lý trong việc đảm bảo an toàn cho người tiêu dùng khi mua sắm trực tuyến.\n",
      "\n",
      "Ngoài ra, việc xử lý đổi trả hàng hóa cũng là một vấn đề đáng chú ý trong thị trường tiêu dùng trực tuyến. Không giống như việc mua hàng tại cửa hàng truyền thống, việc đổi trả hàng hóa khi mua sắm trực tuyến có thể gặp nhiều khó khăn hơn do khoảng cách về vị trí và thủ tục phức tạp. Điều này có thể làm giảm sự tin tưởng của người tiêu dùng vào việc mua sắm trực tuyến và ảnh hưởng đến sự phát triển của thị trường này.\n",
      "\n",
      "Tóm lại, thị trường tiêu dùng trực tuyến đang phát triển mạnh mẽ và trở thành xu hướng không thể đảo ngược trong thời đại công nghệ số. Tuy nhiên, để phát triển bền vững, cần có sự chú trọng đến việc bảo vệ thông tin cá nhân và quyền lợi của người tiêu dùng, cũng như cải thiện quy trình đổi trả hàng hóa. Chỉ khi đó, thị trường tiêu dùng trực tuyến mới thực sự trở thành một phần quan trọng và không thể thiếu trong cuộc sống hàng ngày của mọi người.\n",
      "828 tokens\n",
      "Thị trường tiêu dùng trực tuyến đang ngày càng phát triển mạnh mẽ và thu hút sự quan tâm của đông đảo người tiêu dùng. Theo số liệu thống kê mới nhất, số lượng người dùng mua sắm trực tuyến tại Việt Nam đã tăng đáng kể trong những năm gần đây. Điều này cho thấy sự chuyển đổi trong thói quen mua sắm của người tiêu dùng, từ việc mua hàng truyền thống sang mua hàng trực tuyến.\n",
      "\n",
      "Một trong những lý do chính khiến thị trường tiêu dùng trực tuyến phát triển mạnh mẽ là sự tiện lợi mà nó mang lại. Người tiêu dùng không cần phải di chuyển đến cửa hàng mà chỉ cần một chiếc điện thoại hoặc máy tính kết nối internet là có thể mua sắm mọi thứ mình cần. Điều này giúp họ tiết kiệm thời gian và công sức, đồng thời cũng mở ra cơ hội tiếp cận đến nhiều sản phẩm và dịch vụ hơn.\n",
      "\n",
      "Ngoài ra, thị trường tiêu dùng trực tuyến cũng mang lại sự đa dạng và phong phú trong lựa chọn sản phẩm. Người tiêu dùng có thể dễ dàng so sánh giá cả, chất lượng và đánh giá từ người dùng khác nhau trước khi quyết định mua hàng. Điều này giúp họ có được quyết định mua sắm chín chắn hơn, tránh được những rủi ro không cần thiết.\n",
      "\n",
      "Tuy nhiên, cũng cần lưu ý rằng thị trường tiêu dùng trực tuyến cũng đem đến một số thách thức. Một trong những vấn đề phổ biến là vấn đề về bảo mật thanh toán trực tuyến. Người tiêu dùng cần phải cẩn trọng và chọn lựa các trang web mua sắm uy tín để tránh rơi vào tình trạng lừa đảo.\n",
      "\n",
      "Tóm lại, thị trường tiêu dùng trực tuyến đang là xu hướng phát triển không thể phủ nhận trong thời đại công nghệ 4.0. Để tận dụng được lợi ích từ việc mua sắm trực tuyến, người tiêu dùng cần phải thông thạo các kỹ năng tìm kiếm thông tin, so sánh sản phẩm và bảo vệ thông tin cá nhân. Chỉ khi đó, họ mới có thể tận hưởng trọn vẹn sự tiện lợi và đa dạng mà thị trường tiêu dùng trực tuyến mang lại.\n",
      "1152 tokens\n",
      "Thị trường tiêu dùng truyền thống là một phần không thể thiếu trong nền kinh tế của mỗi quốc gia. Đây là nơi mà người tiêu dùng có thể tìm thấy các sản phẩm và dịch vụ cần thiết hàng ngày từ các cửa hàng truyền thống như siêu thị, cửa hàng tạp hóa, chợ đầu mối và cửa hàng bách hóa. Thị trường tiêu dùng truyền thống thường mang lại sự tiện lợi và sự đa dạng cho người tiêu dùng, đồng thời cũng tạo ra cơ hội kinh doanh cho các doanh nghiệp và nhà sản xuất.\n",
      "\n",
      "Một trong những đặc điểm quan trọng của thị trường tiêu dùng truyền thống là sự giao thương trực tiếp giữa người mua và người bán. Việc này tạo ra một môi trường mua bán truyền thống, nơi mà sự giao tiếp và tương tác giữa các bên đóng vai trò quan trọng trong quá trình mua sắm. Người tiêu dùng có thể nhìn thấy và chạm trực tiếp vào sản phẩm trước khi quyết định mua, đồng thời cũng có cơ hội thương lượng giá cả và chất lượng với người bán.\n",
      "\n",
      "Thị trường tiêu dùng truyền thống cũng thường phản ánh nền văn hóa và truyền thống của mỗi quốc gia. Việc mua sắm tại các cửa hàng truyền thống không chỉ là việc đơn thuần mua bán hàng hóa mà còn là cơ hội để trải nghiệm và tham gia vào các hoạt động xã hội. Ví dụ, việc đi chợ hàng ngày không chỉ giúp người tiêu dùng mua được những sản phẩm tươi ngon mà còn là cơ hội để gặp gỡ bạn bè, hàng xóm và trò chuyện với người bán hàng.\n",
      "\n",
      "Tuy nhiên, thị trường tiêu dùng truyền thống đang phải đối mặt với nhiều thách thức trong thời đại công nghệ hiện nay. Sự phát triển của thương mại điện tử và mô hình kinh doanh trực tuyến đã tạo ra sức ép đối với các cửa hàng truyền thống. Người tiêu dùng ngày càng chuyển sang mua sắm trực tuyến vì sự tiện lợi và đa dạng của sản phẩm. Điều này đặt ra câu hỏi về tương lai của thị trường tiêu dùng truyền thống và cách thức các doanh nghiệp có thể thích nghi với xu hướng mới này.\n",
      "\n",
      "Để tồn tại và phát triển trong thị trường cạnh tranh ngày nay, các cửa hàng truyền thống cần phải thay đổi và cập nhật mô hình kinh doanh của mình. Việc áp dụng công nghệ vào quản lý và bán hàng, cải thiện dịch vụ khách hàng và tạo ra trải nghiệm mua sắm độc đáo là những yếu tố quan trọng giúp các doanh nghiệp thích nghi và phát triển trong môi trường kinh doanh ngày nay.\n",
      "\n",
      "Tóm lại, thị trường tiêu dùng truyền thống vẫn đóng vai trò quan trọng trong nền kinh tế và xã hội của mỗi quốc gia. Để tồn tại và phát triển, các doanh nghiệp cần phải thích nghi với sự thay đổi và cung cấp cho người tiêu dùng trải nghiệm mua sắm tốt nhất có thể. Sự kết hợp giữa truyền thống và hiện đại sẽ giúp thị trường tiêu dùng truyền thống tiếp tục phát triển trong tương lai.\n",
      "933 tokens\n",
      "Trong thời đại công nghệ phát triển mạnh mẽ như hiện nay, thị trường tiêu dùng truyền thống đang phải đối mặt với nhiều thách thức. Việc mua sắm trực tuyến ngày càng trở nên phổ biến và thuận tiện hơn, khiến cho người tiêu dùng có thể dễ dàng tìm kiếm và mua hàng từ bất kỳ đâu chỉ với một vài cú click chuột. Điều này đặt ra câu hỏi về tương lai của thị trường tiêu dùng truyền thống.\n",
      "\n",
      "Một trong những vấn đề lớn mà thị trường tiêu dùng truyền thống đang phải đối diện là sự cạnh tranh gay gắt từ các nền tảng thương mại điện tử. Các công ty lớn như Amazon, Alibaba, và Lazada đều đang chiếm lĩnh thị trường bằng cách cung cấp hàng hóa đa dạng, giá cả cạnh tranh và dịch vụ giao hàng nhanh chóng. Điều này khiến cho các cửa hàng truyền thống phải nỗ lực hơn để thu hút khách hàng và duy trì doanh số bán hàng.\n",
      "\n",
      "Ngoài ra, việc thay đổi thói quen mua sắm của người tiêu dùng cũng đang ảnh hưởng đến thị trường tiêu dùng truyền thống. Ngày nay, người tiêu dùng thường tìm kiếm sự tiện lợi và tiết kiệm thời gian, điều mà môi trường mua sắm truyền thống không thể đáp ứng hoàn toàn. Do đó, các cửa hàng truyền thống cần phải cải thiện trải nghiệm mua sắm của khách hàng, từ việc cải thiện dịch vụ đến việc tối ưu hóa quy trình mua hàng.\n",
      "\n",
      "Tuy nhiên, không phải tất cả các khách hàng đều chấp nhận mua sắm trực tuyến. Có một phần của thị trường vẫn ưa thích trải nghiệm mua sắm truyền thống, từ việc chạy qua các cửa hàng để chọn lựa sản phẩm cho đến việc tương tác trực tiếp với nhân viên bán hàng. Điều này tạo ra cơ hội cho các cửa hàng truyền thống để phát triển và tạo ra sự khác biệt trong môi trường cạnh tranh gay gắt hiện nay.\n",
      "\n",
      "Tóm lại, thị trường tiêu dùng truyền thống đang phải đối mặt với nhiều thách thức từ sự phát triển mạnh mẽ của thương mại điện tử. Tuy nhiên, với sự linh hoạt và sáng tạo, các cửa hàng truyền thống vẫn có thể tồn tại và phát triển trong thời đại số hóa này. Điều quan trọng là họ cần phải hiểu rõ nhu cầu và mong muốn của khách hàng để tạo ra những trải nghiệm mua sắm độc đáo và hấp dẫn.\n"
     ]
    }
   ],
   "source": [
    "for value in values:\n",
    "    print(token_count(value[0]), \"tokens\")\n",
    "    print(value[0])\n",
    "    print(token_count(value[1]), \"tokens\")\n",
    "    print(value[1])"
   ]
  },
  {
   "cell_type": "code",
   "execution_count": 6,
   "metadata": {},
   "outputs": [
    {
     "name": "stdout",
     "output_type": "stream",
     "text": [
      "Tổng kết lại, thị trường tiêu dùng tại Việt Nam trong năm 2023 đang trải qua một giai đoạn phát triển tích cực và đầy tiềm năng. Với sự tăng trưởng ổn định của nền kinh tế, cơ cấu dân số thuận lợi, sự phát triển của các ngành công nghiệp và xu hướng tiêu dùng mới, Việt Nam đang chứng tỏ sức hút và tiềm năng phát triển trong thời gian tới.\n",
      "\n",
      "Các yếu tố như tăng trưởng GDP, sự gia tăng của tầng lớp trung lưu, sự phát triển của du lịch trong nước và sự ổn định về chính trị đều đóng vai trò quan trọng trong việc thúc đẩy sự phát triển của thị trường tiêu dùng tại Việt Nam. Đồng thời, việc nắm bắt và tận dụng các xu hướng tiêu dùng mới như mua sắm trực tuyến, sức khỏe và lối sống lành mạnh cũng sẽ giúp các doanh nghiệp tạo ra giá trị và cạnh tranh hiệu quả trên thị trường.\n",
      "\n",
      "Với những cơ hội và thách thức đặt ra, các doanh nghiệp cần áp dụng các chiến lược linh hoạt, sáng tạo để thích ứng và phát triển trong môi trường kinh doanh ngày càng cạnh tranh. Việc hiểu rõ về nhu cầu và mong muốn của người tiêu dùng, áp dụng công nghệ hiện đại và tạo ra trải nghiệm mua sắm độc đáo sẽ giúp các doanh nghiệp thành công và bền vững trên thị trường.\n",
      "\n",
      "Tóm lại, thị trường tiêu dùng tại Việt Nam đang có triển vọng rất lớn trong năm 2023 và các doanh nghiệp cần chuẩn bị kế hoạch phát triển chiến lược để tận dụng cơ hội và đối mặt với thách thức, từ đó góp phần vào sự phát triển bền vững của nền kinh tế đất nước.\n"
     ]
    }
   ],
   "source": [
    "conclusion_function = plugin[\"Conclusion\"]\n",
    "summContent = \" \".join([value[1] for value in values])\n",
    "conclusion = await kernel.invoke(conclusion_function, sk.KernelArguments(conclusion = outline_dict[\"conclusion\"], summContent = summContent))\n",
    "print(str(conclusion))\n"
   ]
  },
  {
   "cell_type": "code",
   "execution_count": 7,
   "metadata": {},
   "outputs": [
    {
     "name": "stdout",
     "output_type": "stream",
     "text": [
      "666\n"
     ]
    }
   ],
   "source": [
    "print(token_count(str(conclusion)))"
   ]
  },
  {
   "cell_type": "code",
   "execution_count": 8,
   "metadata": {},
   "outputs": [
    {
     "name": "stdout",
     "output_type": "stream",
     "text": [
      "Dựa vào những thông tin trong báo cáo, chúng tôi đề xuất các doanh nghiệp nên tập trung vào việc nâng cao chất lượng sản phẩm/dịch vụ, tận dụng thị trường trực tuyến và xây dựng chiến lược tiếp thị hiệu quả. Việc nâng cao chất lượng sản phẩm/dịch vụ sẽ giúp doanh nghiệp thu hút và giữ chân khách hàng, tạo lòng tin và uy tín trong mắt người tiêu dùng. Đồng thời, việc tận dụng thị trường trực tuyến sẽ giúp doanh nghiệp tiếp cận đến đông đảo khách hàng tiềm năng, mở rộng phạm vi kinh doanh và tạo ra cơ hội tăng trưởng. Xây dựng chiến lược tiếp thị hiệu quả sẽ giúp doanh nghiệp tiếp cận đúng đối tượng khách hàng, tạo ấn tượng mạnh mẽ và thu hút sự chú ý trong môi trường cạnh tranh gay gắt hiện nay. Việc thực hiện ba yếu tố này đồng thời sẽ giúp doanh nghiệp đạt được hiệu quả kinh doanh cao nhất và phát triển bền vững trên thị trường tiêu dùng tại Việt Nam trong năm 2023.\n",
      "416\n"
     ]
    }
   ],
   "source": [
    "recommendation_function = plugin[\"Recommendation\"]\n",
    "summContent = \" \".join([value[1] for value in values])\n",
    "recommendation = await kernel.invoke(recommendation_function, sk.KernelArguments(recommendation = outline_dict[\"recommendations\"], summContent = summContent))\n",
    "print(str(recommendation))\n",
    "print(token_count(str(recommendation)))"
   ]
  },
  {
   "cell_type": "code",
   "execution_count": 9,
   "metadata": {},
   "outputs": [
    {
     "name": "stdout",
     "output_type": "stream",
     "text": [
      "747 tokens\n",
      "Trên thị trường tiêu dùng Việt Nam, năm 2023, có một số xu hướng quan trọng đang diễn ra và ảnh hưởng đến sự phát triển kinh tế của đất nước. Đầu tiên, cơ cấu dân số của Việt Nam đang đóng vai trò quan trọng trong việc thúc đẩy tăng trưởng kinh tế. Với tỷ lệ tham gia lao động cao, đặc biệt là phụ nữ, Việt Nam có một lực lượng lao động lớn và rẻ. Điều này giúp giảm tỷ lệ phụ thuộc và tạo điều kiện cho GDP tăng trưởng mạnh mẽ.\n",
      "\n",
      "Ngoài ra, tăng trưởng GDP bình quân 5.9% trong mười năm qua cũng là một yếu tố quan trọng khác. Việt Nam đã thu hút đầu tư nước ngoài và tăng cường sản xuất, đóng góp vào sự phát triển của nền kinh tế. Sự tăng trưởng trong ngành sản xuất và tiêu thụ hàng hóa và dịch vụ bán lẻ cũng đang tạo đà phát triển tích cực.\n",
      "\n",
      "Du lịch nội địa cũng đang trở thành một nguồn thu hút lớn, lấp đầy khoảng trống từ du lịch quốc tế. Việt Nam đang thúc đẩy du lịch trong nước và tạo điều kiện cho ngành du lịch phát triển bền vững. Nền kinh tế Internet cũng đang phát triển mạnh mẽ, với mức tăng trưởng đáng kinh ngạc vào năm 2022.\n",
      "\n",
      "Sự ổn định về chính trị và quản lý chặt chẽ hệ sinh thái tài nguyên cũng đóng vai trò quan trọng trong việc hỗ trợ cho sự phát triển của quốc gia. Việt Nam đang thu hút vốn đầu tư và tạo điều kiện cho các công ty khởi nghiệp phát triển.\n",
      "\n",
      "Tóm lại, xu hướng tiêu dùng Việt Nam năm 2023 đang cho thấy sự phát triển tích cực của nền kinh tế, với nhiều cơ hội và thách thức đồng thời. Việt Nam đang trở thành một điểm sáng trong khu vực châu Á và có tiềm năng phát triển mạnh mẽ trong thập kỷ tới.\n",
      "982 tokens\n",
      "Xu hướng tiêu dùng mới tại Việt Nam trong năm 2023 đang chứa đựng nhiều tiềm năng và cơ hội phát triển. Với 9 nguyên nhân chính được đề cập, Việt Nam được dự đoán sẽ tiếp tục thịnh vượng trong thập kỷ tới và tăng trưởng sẽ mạnh nhất ở châu Á và trên hầu hết thế giới.\n",
      "\n",
      "Một trong những yếu tố quan trọng nhất là cơ cấu dân số của Việt Nam, với tỷ lệ tham gia lao động cao và tỷ lệ phụ thuộc thấp. Điều này đã tạo điều kiện cho sự tăng trưởng nhanh chóng của nền kinh tế trong thập kỷ qua và dự kiến sẽ tiếp tục thúc đẩy nền kinh tế trong tương lai. Việt Nam cũng đang trải qua một giai đoạn tăng trưởng GDP ấn tượng, với mức tăng trưởng bình quân 5.9% trong mười năm qua. Sự tăng trưởng này được hỗ trợ bởi lợi nhuận sản xuất tăng, đầu tư ngày càng mạnh mẽ và mức tiêu thụ hàng hóa và dịch vụ bán lẻ ngày càng tăng.\n",
      "\n",
      "Ngoài ra, ngành du lịch trong nước đang phát triển mạnh mẽ và lấp đầy khoảng trống từ suy giảm du lịch quốc tế. Việt Nam cũng là một quốc gia hiểu biết về kỹ thuật số, với nền kinh tế Internet đạt 23 tỷ đô la Mỹ vào năm 2022. Hệ sinh thái tài chính cũng đang hỗ trợ cho thương mại điện tử, thanh toán điện tử và các công ty khởi nghiệp, tạo ra nhiều cơ hội mới cho người tiêu dùng.\n",
      "\n",
      "Tuy nhiên, cũng cần lưu ý rằng có những thách thức và rủi ro tiềm ẩn, như sự ảnh hưởng của lĩnh vực bất động sản đối với niềm tin kinh doanh và tâm lý kinh doanh. Việt Nam cũng đang phải đối mặt với sự thay đổi trong cơ cấu dân số và sự gia tăng của dân số già, đặt ra thách thức về chăm sóc người già trong tương lai.\n",
      "\n",
      "Tóm lại, xu hướng tiêu dùng mới tại Việt Nam trong năm 2023 đang mang lại nhiều cơ hội và thách thức. Việt Nam đang trên đà phát triển mạnh mẽ và dự kiến sẽ tiếp tục thịnh vượng trong thập kỷ tới, nhờ vào những yếu tố quyết định như cơ cấu dân số, tăng trưởng GDP, ngành du lịch, kỹ thuật số và hệ sinh thái tài chính. Để đạt được tiềm năng đầy hứa hẹn này, Việt Nam cần tiếp tục quản lý chặt chẽ và đổi mới để thích nghi với môi trường kinh doanh thay đổi và cạnh tranh ngày càng gay gắt.\n",
      "1046 tokens\n",
      "Trên thị trường thương mại điện tử của Việt Nam, có những xu hướng rõ ràng đang hình thành và dự báo sẽ tiếp tục phát triển trong năm 2023. Đầu tiên, người tiêu dùng Việt đang ngày càng chuyển sang sử dụng và thành thạo các dịch vụ số. Việc dành nhiều thời gian trên các nền tảng thương mại điện tử để tìm hiểu sản phẩm, tương tác với nhà bán hàng và chia sẻ đánh giá đã trở thành một xu hướng phổ biến. Điều này thể hiện sự chủ động và tương tác tích cực của người tiêu dùng trong quá trình mua sắm trực tuyến.\n",
      "\n",
      "Xu hướng thứ hai là sự gia tăng sử dụng dịch vụ tiêu dùng số tại các khu vực tỉnh thành nhỏ. Người tiêu dùng ở các vùng nông thôn và ngoại thành đang chuyển sang sử dụng thương mại điện tử để tiếp cận sản phẩm chất lượng với giá cả phải chăng hơn. Điều này tạo ra cơ hội cho các thương hiệu và nhà bán hàng để kết nối và tiếp cận khách hàng ở những khu vực này, đồng thời thúc đẩy sự phát triển của thị trường tiêu dùng số.\n",
      "\n",
      "Xu hướng thứ ba là người dùng trẻ tuổi trở thành nhóm người dùng số chủ lực. Nhóm người dùng từ 18 đến 34 tuổi đang chiếm tỷ lệ đơn hàng cao nhất trên các nền tảng thương mại điện tử. Họ quan tâm đến các ngành hàng như sức khỏe & sắc đẹp, thời trang, điện tử và đồ gia dụng. Điều này đặt ra thách thức và cơ hội cho các doanh nghiệp để tạo ra các sản phẩm và dịch vụ phù hợp với nhu cầu của nhóm người dùng này.\n",
      "\n",
      "Trên cơ sở những xu hướng trên, các doanh nghiệp có thể tận dụng các công cụ và giải pháp marketing của các nền tảng thương mại điện tử để tạo ra trải nghiệm cá nhân hóa, kết nối tốt hơn với khách hàng và nắm bắt cơ hội phát triển trên thị trường tiêu dùng số của Việt Nam.\n",
      "\n",
      "Ngoài ra, trong bối cảnh thị trường hàng hóa thế giới đang chịu ảnh hưởng bởi nhiều yếu tố khác nhau, Việt Nam vẫn được đánh giá là một thị trường tiêu dùng hấp dẫn và đầy tiềm năng. Với tốc độ tăng trưởng kinh tế ổn định và sự gia tăng của tầng lớp trung lưu, Việt Nam đang trở thành điểm đến hấp dẫn cho các nhà đầu tư nước ngoài.\n",
      "\n",
      "Nhìn chung, dự đoán về sự phát triển của thị trường tiêu dùng số tại Việt Nam trong năm 2023 là tích cực và đầy tiềm năng. Việc nắm bắt xu hướng và thích ứng nhanh chóng với sự thay đổi trong nhu cầu của người tiêu dùng sẽ giúp các doanh nghiệp tạo ra những cơ hội mới và đạt được thành công lâu dài trên thị trường này.\n",
      "1023 tokens\n",
      "Trong bối cảnh thị trường hàng tiêu dùng nhanh (FMCG) tại Việt Nam đang trải qua những biến động lớn, việc hiểu rõ và đánh giá chính xác các yếu tố ảnh hưởng đến thị trường là vô cùng quan trọng. Theo báo cáo của Kantar Worldpanel, có 4 yếu tố chính sẽ định hình thị trường FMCG tại Việt Nam trong năm 2023.\n",
      "\n",
      "Yếu tố đầu tiên là việc người tiêu dùng thắt chặt chi tiêu. Với tình hình kinh tế không ổn định và áp lực từ lạm phát, người tiêu dùng sẽ cẩn trọng hơn trong việc chi tiêu và mua sắm. Điều này đặt ra thách thức lớn cho các thương hiệu trong ngành FMCG, khi họ cần phải đáp ứng được nhu cầu của người tiêu dùng mà vẫn duy trì tính cạnh tranh và chất lượng sản phẩm.\n",
      "\n",
      "Yếu tố thứ hai là mua sắm trực tuyến tiếp tục lên ngôi. Trong bối cảnh công nghệ phát triển, mua sắm trực tuyến ngày càng trở nên phổ biến hơn. Các kênh mua sắm trực tuyến như Thương mại điện tử và Thương mại xã hội đang ngày càng thu hút người tiêu dùng. Việc tích hợp giải trí vào trải nghiệm mua sắm trực tuyến cũng đang là xu hướng được ưa chuộng, đồng thời các công nghệ như thực tế ảo và mô hình O2O sẽ tiếp tục thúc đẩy sự phát triển của kênh mua sắm online.\n",
      "\n",
      "Yếu tố thứ ba là sức khỏe đóng vai trò quan trọng khi người tiêu dùng chọn mua sản phẩm. Đại dịch đã thúc đẩy nhu cầu tìm kiếm các sản phẩm có lợi ích dinh dưỡng và lành mạnh. Người tiêu dùng ngày càng chú trọng đến việc chọn mua các sản phẩm tốt cho sức khỏe, và các thương hiệu cần phải đáp ứng được nhu cầu này thông qua việc cung cấp sản phẩm chất lượng và thông tin rõ ràng về sản phẩm.\n",
      "\n",
      "Yếu tố cuối cùng là động lực cho lối sống bền vững. Tính bền vững đang trở thành một yếu tố quan trọng trong quyết định mua hàng của người tiêu dùng. Các thương hiệu cần nắm bắt cơ hội này để tạo ra các sản phẩm và giải pháp bền vững, từ đó thu hút người tiêu dùng có ý thức về môi trường.\n",
      "\n",
      "Tóm lại, việc hiểu rõ và đánh giá chính xác các yếu tố ảnh hưởng đến thị trường FMCG tại Việt Nam là chìa khóa để các doanh nghiệp có thể thích ứng và phát triển trong môi trường kinh doanh khó khăn. Việc tập trung vào sáng tạo, trải nghiệm khách hàng, cải tiến quy trình và quảng cáo thông minh sẽ giúp các doanh nghiệp vượt qua thách thức và tạo ra sự khác biệt trên thị trường.\n",
      "1111 tokens\n",
      "Thị trường tiêu dùng trực tuyến đang trở thành một phần không thể thiếu trong cuộc sống hàng ngày của mọi người. Với sự phát triển của công nghệ và internet, việc mua sắm trực tuyến đã trở nên phổ biến hơn bao giờ hết. Người tiêu dùng ngày nay không còn phải tốn thời gian và công sức để đến các cửa hàng truyền thống mà chỉ cần một chiếc điện thoại hoặc máy tính kết nối internet là có thể mua được mọi thứ mình cần.\n",
      "\n",
      "Một trong những lợi ích lớn nhất của thị trường tiêu dùng trực tuyến là sự tiện lợi mà nó mang lại. Người tiêu dùng có thể mua hàng bất cứ lúc nào và ở bất kỳ đâu, chỉ cần có kết nối internet. Điều này giúp họ tiết kiệm được thời gian và công sức, đồng thời còn có thể so sánh giá cả và chất lượng sản phẩm dễ dàng hơn. \n",
      "\n",
      "Ngoài ra, thị trường tiêu dùng trực tuyến còn mang lại sự đa dạng và phong phú trong việc lựa chọn sản phẩm. Người tiêu dùng có thể dễ dàng tìm thấy mọi loại hàng hóa từ khắp nơi trên thế giới chỉ qua một vài thao tác đơn giản trên mạng. Điều này giúp họ có cơ hội trải nghiệm và tiếp cận với những sản phẩm mới mà trước đây họ không thể tìm thấy ở cửa hàng truyền thống.\n",
      "\n",
      "Tuy nhiên, cũng có những thách thức mà thị trường tiêu dùng trực tuyến đang phải đối mặt. Một trong những vấn đề lớn nhất là vấn đề về bảo mật thông tin cá nhân và giao dịch trực tuyến. Do tính chất mở của internet, thông tin cá nhân của người tiêu dùng có thể bị đánh cắp và lạm dụng một cách dễ dàng. Điều này đặt ra nhiều thách thức cho các doanh nghiệp và cơ quan quản lý trong việc đảm bảo an toàn cho người tiêu dùng khi mua sắm trực tuyến.\n",
      "\n",
      "Ngoài ra, việc xử lý đổi trả hàng hóa cũng là một vấn đề đáng chú ý trong thị trường tiêu dùng trực tuyến. Không giống như việc mua hàng tại cửa hàng truyền thống, việc đổi trả hàng hóa khi mua sắm trực tuyến có thể gặp nhiều khó khăn hơn do khoảng cách về vị trí và thủ tục phức tạp. Điều này có thể làm giảm sự tin tưởng của người tiêu dùng vào việc mua sắm trực tuyến và ảnh hưởng đến sự phát triển của thị trường này.\n",
      "\n",
      "Tóm lại, thị trường tiêu dùng trực tuyến đang phát triển mạnh mẽ và trở thành xu hướng không thể đảo ngược trong thời đại công nghệ số. Tuy nhiên, để phát triển bền vững, cần có sự chú trọng đến việc bảo vệ thông tin cá nhân và quyền lợi của người tiêu dùng, cũng như cải thiện quy trình đổi trả hàng hóa. Chỉ khi đó, thị trường tiêu dùng trực tuyến mới thực sự trở thành một phần quan trọng và không thể thiếu trong cuộc sống hàng ngày của mọi người.\n",
      "1152 tokens\n",
      "Thị trường tiêu dùng truyền thống là một phần không thể thiếu trong nền kinh tế của mỗi quốc gia. Đây là nơi mà người tiêu dùng có thể tìm thấy các sản phẩm và dịch vụ cần thiết hàng ngày từ các cửa hàng truyền thống như siêu thị, cửa hàng tạp hóa, chợ đầu mối và cửa hàng bách hóa. Thị trường tiêu dùng truyền thống thường mang lại sự tiện lợi và sự đa dạng cho người tiêu dùng, đồng thời cũng tạo ra cơ hội kinh doanh cho các doanh nghiệp và nhà sản xuất.\n",
      "\n",
      "Một trong những đặc điểm quan trọng của thị trường tiêu dùng truyền thống là sự giao thương trực tiếp giữa người mua và người bán. Việc này tạo ra một môi trường mua bán truyền thống, nơi mà sự giao tiếp và tương tác giữa các bên đóng vai trò quan trọng trong quá trình mua sắm. Người tiêu dùng có thể nhìn thấy và chạm trực tiếp vào sản phẩm trước khi quyết định mua, đồng thời cũng có cơ hội thương lượng giá cả và chất lượng với người bán.\n",
      "\n",
      "Thị trường tiêu dùng truyền thống cũng thường phản ánh nền văn hóa và truyền thống của mỗi quốc gia. Việc mua sắm tại các cửa hàng truyền thống không chỉ là việc đơn thuần mua bán hàng hóa mà còn là cơ hội để trải nghiệm và tham gia vào các hoạt động xã hội. Ví dụ, việc đi chợ hàng ngày không chỉ giúp người tiêu dùng mua được những sản phẩm tươi ngon mà còn là cơ hội để gặp gỡ bạn bè, hàng xóm và trò chuyện với người bán hàng.\n",
      "\n",
      "Tuy nhiên, thị trường tiêu dùng truyền thống đang phải đối mặt với nhiều thách thức trong thời đại công nghệ hiện nay. Sự phát triển của thương mại điện tử và mô hình kinh doanh trực tuyến đã tạo ra sức ép đối với các cửa hàng truyền thống. Người tiêu dùng ngày càng chuyển sang mua sắm trực tuyến vì sự tiện lợi và đa dạng của sản phẩm. Điều này đặt ra câu hỏi về tương lai của thị trường tiêu dùng truyền thống và cách thức các doanh nghiệp có thể thích nghi với xu hướng mới này.\n",
      "\n",
      "Để tồn tại và phát triển trong thị trường cạnh tranh ngày nay, các cửa hàng truyền thống cần phải thay đổi và cập nhật mô hình kinh doanh của mình. Việc áp dụng công nghệ vào quản lý và bán hàng, cải thiện dịch vụ khách hàng và tạo ra trải nghiệm mua sắm độc đáo là những yếu tố quan trọng giúp các doanh nghiệp thích nghi và phát triển trong môi trường kinh doanh ngày nay.\n",
      "\n",
      "Tóm lại, thị trường tiêu dùng truyền thống vẫn đóng vai trò quan trọng trong nền kinh tế và xã hội của mỗi quốc gia. Để tồn tại và phát triển, các doanh nghiệp cần phải thích nghi với sự thay đổi và cung cấp cho người tiêu dùng trải nghiệm mua sắm tốt nhất có thể. Sự kết hợp giữa truyền thống và hiện đại sẽ giúp thị trường tiêu dùng truyền thống tiếp tục phát triển trong tương lai.\n"
     ]
    }
   ],
   "source": [
    "for value in values:\n",
    "    print(token_count(value[0]), \"tokens\")\n",
    "    print(value[0])"
   ]
  },
  {
   "cell_type": "code",
   "execution_count": 6,
   "metadata": {},
   "outputs": [
    {
     "name": "stderr",
     "output_type": "stream",
     "text": [
      "Variable `Symbols.VAR_PREFIX: critics` not found in the KernelArguments\n"
     ]
    },
    {
     "name": "stdout",
     "output_type": "stream",
     "text": [
      "\"Xu hướng hợp tác quốc tế trong ngành công nghiệp Anime 2023\" site:.vn\n",
      "An error occurred: HTTP Error 429: Too Many Requests\n",
      "\n"
     ]
    }
   ],
   "source": [
    "import semantic_kernel as sk\n",
    "from Plugins.google_search import GoogleSearchPlugin\n",
    "\n",
    "kernel = sk.Kernel()\n",
    "\n",
    "from semantic_kernel.connectors.ai.open_ai import OpenAIChatCompletion\n",
    "\n",
    "api_key, org_id = sk.openai_settings_from_dot_env()\n",
    "service_id = \"default\"\n",
    "kernel.add_service(\n",
    "    OpenAIChatCompletion(service_id=service_id, ai_model_id=\"gpt-3.5-turbo-0125\", api_key=api_key, org_id=org_id),\n",
    ")\n",
    "\n",
    "plugin = kernel.import_plugin_from_prompt_directory(\"./Plugins/\", \"ReportPlugin\")\n",
    "Query_function = plugin[\"Query\"]\n",
    "Query = await kernel.invoke(Query_function, sk.KernelArguments(input=\"Xu hướng hợp tác quốc tế\", big_title = \"Xu hướng Anime 2023\", lang = \"Vietnamese\"))\n",
    "print(Query)\n",
    "\n",
    "google_plugin = kernel.import_plugin_from_object(GoogleSearchPlugin(), plugin_name = \"GoogleSearchPlugin\")\n",
    "google_search_function = google_plugin[\"GoogleSearch\"]\n",
    "\n",
    "print(await kernel.invoke(google_search_function, sk.KernelArguments(\n",
    "                                                          keyword = Query, \n",
    "                                                          num_results = 10,\n",
    "                                                          \n",
    "                                                          )\n",
    "                                                    ))"
   ]
  },
  {
   "cell_type": "code",
   "execution_count": 2,
   "metadata": {},
   "outputs": [
    {
     "name": "stdout",
     "output_type": "stream",
     "text": [
      "{{}}\n"
     ]
    }
   ],
   "source": [
    "print(\"{{}}\")"
   ]
  }
 ],
 "metadata": {
  "kernelspec": {
   "display_name": "ReportGenerator_SemanticKernel",
   "language": "python",
   "name": "python3"
  },
  "language_info": {
   "codemirror_mode": {
    "name": "ipython",
    "version": 3
   },
   "file_extension": ".py",
   "mimetype": "text/x-python",
   "name": "python",
   "nbconvert_exporter": "python",
   "pygments_lexer": "ipython3",
   "version": "3.11.5"
  }
 },
 "nbformat": 4,
 "nbformat_minor": 2
}
