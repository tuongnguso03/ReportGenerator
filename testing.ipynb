{
 "cells": [
  {
   "cell_type": "code",
   "execution_count": 1,
   "metadata": {},
   "outputs": [
    {
     "name": "stdout",
     "output_type": "stream",
     "text": [
      "{'report': {'title': 'Báo cáo thị trường Tiêu dùng năm 2023','introduction': 'Báo cáo này nhằm đánh giá tình hình thị trường tiêu dùng trong năm 2023, bao gồm xu hướng tiêu dùng, thị trường cạnh tranh, và ảnh hưởng của các yếu tố kinh tế - xã hội.','body': {'headings': ['1. Xu hướng tiêu dùng','2. Thị trường cạnh tranh','3. Ảnh hưởng của yếu tố kinh tế - xã hội']}, 'conclusion': 'Dựa trên các phân tích trong báo cáo, có thể kết luận rằng thị trường tiêu dùng năm 2023 đang phát triển mạnh mẽ và đầy tiềm năng.','recommendations': 'Dựa vào kết luận, chúng tôi đề xuất các biện pháp cần thiết để tận dụng cơ hội và đối phó với thách thức trong thị trường tiêu dùng năm 2023.'}}\n"
     ]
    }
   ],
   "source": [
    "import semantic_kernel as sk\n",
    "\n",
    "kernel = sk.Kernel()\n",
    "\n",
    "from semantic_kernel.connectors.ai.open_ai import OpenAIChatCompletion\n",
    "\n",
    "api_key, org_id = sk.openai_settings_from_dot_env()\n",
    "service_id = \"default\"\n",
    "kernel.add_service(\n",
    "    OpenAIChatCompletion(service_id=service_id, ai_model_id=\"gpt-3.5-turbo-0125\", api_key=api_key, org_id=org_id),\n",
    ")\n",
    "\n",
    "plugin = kernel.import_plugin_from_prompt_directory(\"./Plugins/\", \"ReportPlugin\")\n",
    "OutlineJSON_function = plugin[\"OutlineJSON\"]\n",
    "\n",
    "OutlineJSON = await kernel.invoke(OutlineJSON_function, sk.KernelArguments(input=\"Báo cáo thị trường Tiêu dùng năm 2023\"))\n",
    "print(OutlineJSON)\n"
   ]
  },
  {
   "cell_type": "code",
   "execution_count": 2,
   "metadata": {},
   "outputs": [
    {
     "data": {
      "text/plain": [
       "{'title': 'Báo cáo thị trường Tiêu dùng năm 2023',\n",
       " 'introduction': 'Báo cáo này nhằm đánh giá tình hình thị trường tiêu dùng trong năm 2023, bao gồm xu hướng tiêu dùng, thị trường cạnh tranh, và ảnh hưởng của các yếu tố kinh tế - xã hội.',\n",
       " 'body': {'headings': ['1. Xu hướng tiêu dùng',\n",
       "   '2. Thị trường cạnh tranh',\n",
       "   '3. Ảnh hưởng của yếu tố kinh tế - xã hội']},\n",
       " 'conclusion': 'Dựa trên các phân tích trong báo cáo, có thể kết luận rằng thị trường tiêu dùng năm 2023 đang phát triển mạnh mẽ và đầy tiềm năng.',\n",
       " 'recommendations': 'Dựa vào kết luận, chúng tôi đề xuất các biện pháp cần thiết để tận dụng cơ hội và đối phó với thách thức trong thị trường tiêu dùng năm 2023.'}"
      ]
     },
     "execution_count": 2,
     "metadata": {},
     "output_type": "execute_result"
    }
   ],
   "source": [
    "from Plugins.utils import json_split\n",
    "outline_dict = json_split(str(OutlineJSON))\n",
    "outline_dict"
   ]
  },
  {
   "cell_type": "code",
   "execution_count": 3,
   "metadata": {},
   "outputs": [
    {
     "name": "stdout",
     "output_type": "stream",
     "text": [
      "Báo cáo thị trường Tiêu dùng năm 2023 nhằm đánh giá và phân tích chi tiết về tình hình tiêu dùng trong năm, tập trung vào các yếu tố quan trọng như xu hướng tiêu dùng, thị trường cạnh tranh và ảnh hưởng của các yếu tố kinh tế - xã hội. Bằng việc đánh giá các thông tin và dữ liệu được cung cấp, báo cáo sẽ giúp độc giả hiểu rõ hơn về thị trường tiêu dùng năm 2023, từ đó đưa ra những nhận định và đề xuất cần thiết để phát triển và tận dụng cơ hội trong môi trường kinh doanh hiện nay.\n"
     ]
    }
   ],
   "source": [
    "Introduction_function = plugin[\"Introduction\"]\n",
    "Introduction = await kernel.invoke(Introduction_function, sk.KernelArguments(introduction=outline_dict[\"introduction\"]\n",
    "                                                                            , reportLayout = str(OutlineJSON)))\n",
    "print(Introduction)"
   ]
  },
  {
   "cell_type": "code",
   "execution_count": 4,
   "metadata": {},
   "outputs": [
    {
     "name": "stdout",
     "output_type": "stream",
     "text": [
      "0\n",
      "4728\n",
      "3975\n",
      "3975\n",
      "6825\n",
      "0\n",
      "0\n",
      "7243\n",
      "[('Báo cáo thị trường tiêu dùng Việt Nam năm 2023: 9 nguyên nhân thúc đẩy sự tăng trưởng của Việt Nam trong thập kỷ tới\\n\\nBáo cáo thị trường tiêu dùng Việt Nam năm 2023 đã đưa ra những nhận định quan trọng về xu hướng và kỳ vọng của người tiêu dùng Việt Nam trong thập kỷ tới. Dưới đây là 9 nguyên nhân chính thúc đẩy sự tăng trưởng của Việt Nam trong lĩnh vực tiêu dùng:\\n\\n1. Dân số người đi làm, dân số lao động cao và tỷ lệ nhóm phụ thuộc thấp: Việt Nam sở hữu nguồn lực lao động lớn, với tỷ lệ người đi làm cao và tỷ lệ nhóm phụ thuộc thấp. Điều này giúp tăng cường GDP và thúc đẩy sự phát triển kinh tế.\\n\\n2. Tăng trưởng GDP bình quân 5.9% trong mười năm qua: Việt Nam đã có mức tăng trưởng ấn tượng trong thập kỷ qua, và dự kiến sẽ tiếp tục phát triển mạnh mẽ trong năm 2023.\\n\\n3. Tăng trưởng trong ngành sản xuất: Sự tăng trưởng trong ngành sản xuất cũng đóng góp vào sự phát triển của nền kinh tế Việt Nam, với đầu tư ngày càng mạnh mẽ và các hiệp định thương mại tự do.\\n\\n4. Mức tiêu thụ hàng hóa và dịch vụ bán lẻ tăng: Nhu cầu tiêu dùng của người dân Việt Nam đang tăng cao, đặc biệt là trong lĩnh vực bán lẻ, điều này đồng nghĩa với sự phát triển của thị trường tiêu dùng.\\n\\n5. Du lịch nội địa lấp đầy thâm hụt từ du lịch quốc tế: Với sự phát triển của du lịch trong nước, Việt Nam đang tận dụng cơ hội để thúc đẩy ngành du lịch và tăng cường kinh tế.\\n\\n6. Nền kinh tế Internet đạt 23 tỷ USD: Sự phát triển của nền kinh tế Internet cũng đóng vai trò quan trọng trong việc thúc đẩy tiêu dùng và tăng trưởng kinh tế.\\n\\n7. Tăng trưởng tài chính của hộ gia đình: Tầng lớp trung lưu ngày càng phát triển, điều này cũng góp phần vào sự tăng trưởng tiêu dùng và kinh tế chung.\\n\\n8. Hệ sinh thái tài chính hỗ trợ cho thương mại điện tử và các công ty khởi nghiệp: Sự phát triển của hệ sinh thái tài chính cũng tạo điều kiện thuận lợi cho các doanh nghiệp, đặc biệt là trong lĩnh vực thương mại điện tử và khởi nghiệp.\\n\\n9. Sự ổn định về chính trị và quản lý hệ sinh thái tài nguyên: Sự ổn định về chính trị và quản lý tài nguyên cũng đóng vai trò quan trọng trong việc tạo điều kiện cho sự phát triển bền vững của nền kinh tế.\\n\\nTóm lại, Việt Nam đang có những tiềm năng và cơ hội lớn để phát triển trong lĩnh vực tiêu dùng, và những nguyên nhân trên sẽ giúp đất nước này tiếp tục thịnh vượng trong thập kỷ tới.', 'Báo cáo xu hướng tiêu dùng Việt Nam 2023: 9 nguyên nhân thúc đẩy sự tăng trưởng của Việt Nam trong thập kỷ tới\\n\\nBáo cáo này sẽ trình bày 9 nguyên nhân thúc đẩy sự tăng trưởng của Việt Nam trong thập kỷ tới.\\n\\nBáo cáo xu hướng tiêu dùng Việt Nam 2023\\n\\nBáo cáo chỉ ra rằng:\\n\\n1. Thay đổi về dân số người đi làm, dân số lao động tăng cao và tỷ lệ nhóm phụ thuộc thấp\\n2. Tăng trưởng GDP bình quân 5.9% trong mười năm qua\\n3. Lợi nhuận sản xuất tăng\\n4. Sự tăng trưởng trong đầu tư ngày càng mạnh mẽ\\n5. Mức tiêu thụ hàng hóa và dịch vụ bán lẻ ngày càng tăng\\n6. Du lịch trong nước lấp vào khoảng trống thâm hụt từ du lịch quốc tế\\n7. Nền kinh tế internet đạt 23 tỷ đô la Mỹ\\n8. Tăng trưởng tài chính của hộ gia đình\\n9. Hệ sinh thái tài chính hỗ trợ cho thương mại điện tử, thanh toán điện tử và các công ty khởi nghiệp\\n\\nNhững nguyên nhân trên đều đóng vai trò quan trọng trong việc thúc đẩy sự phát triển của thị trường tiêu dùng tại Việt Nam trong năm 2023. Việt Nam đang trở thành điểm đến hấp dẫn cho các nhãn hàng và doanh nghiệp muốn mở rộng hoạt động kinh doanh của mình. Sự phát triển của nền kinh tế, sự tăng trưởng của ngành sản xuất, và sự thay đổi trong thói quen tiêu dùng của người dân đều tạo ra cơ hội lớn cho các doanh nghiệp.\\n\\nVới những xu hướng tích cực này, Việt Nam có tiềm năng phát triển mạnh mẽ trong lĩnh vực tiêu dùng trong thập kỷ tới. Điều quan trọng là các doanh nghiệp cần nắm bắt và tận dụng những cơ hội này để phát triển bền vững và cạnh tranh trên thị trường. Đồng thời, chính phủ cũng cần đưa ra các chính sách hỗ trợ và khuyến khích để thúc đẩy sự phát triển của ngành tiêu dùng, góp phần vào sự thịnh vượng của đất nước.\\n\\nViệt Nam đang bước vào một giai đoạn phát triển mới, và việc hiểu rõ và đáp ứng đúng xu hướng tiêu dùng sẽ là yếu tố quyết định thành công của các doanh nghiệp trong thị trường này.'), ('Trên thị trường cạnh tranh của Việt Nam, năm 2023 đã chứng kiến nhiều biến động và thách thức đối với các doanh nghiệp. Với sự phục hồi kinh tế và tâm lý lạc quan của người tiêu dùng, các doanh nghiệp cần phải nắm bắt được xu hướng và thay đổi trong hành vi mua sắm để đảm bảo cạnh tranh và tăng trưởng trong môi trường kinh doanh khó khăn.\\n\\nMột trong những xu hướng quan trọng trên thị trường tiêu dùng năm 2023 là sự tăng cường trong việc mua sắm trực tuyến. Với sự phát triển của thương mại điện tử và ứng dụng giao đồ ăn trực tuyến, người tiêu dùng ngày càng ưa chuộng việc mua sắm và đặt hàng online để tiết kiệm thời gian và tận hưởng những ưu đãi hấp dẫn. Điều này đặt ra thách thức lớn cho các doanh nghiệp truyền thống khi họ cần phải cải thiện trải nghiệm mua sắm của khách hàng và tạo ra những chiến lược marketing hiệu quả trên nền tảng trực tuyến.\\n\\nNgoài ra, việc tập trung vào nhu cầu cơ bản và giá trị cũng là một xu hướng quan trọng trong hành vi mua sắm của người tiêu dùng. Trong bối cảnh kinh tế không chắc chắn, người tiêu dùng đang tập trung vào những sản phẩm và dịch vụ mang lại giá trị thực sự và tối ưu hóa chi phí. Điều này đòi hỏi các doanh nghiệp phải đổi mới và cung cấp những sản phẩm chất lượng, đáp ứng được nhu cầu thực của khách hàng.\\n\\nXu hướng cạnh tranh giữa các nhà hàng phân khúc cao cấp để nhận giải thưởng Michelin cũng là một điểm đáng chú ý. Việc nâng cao chất lượng món ăn, dịch vụ và trải nghiệm khách hàng không chỉ giúp các nhà hàng thu hút khách hàng mà còn giúp họ củng cố vị thế trên thị trường và tạo ra sự khác biệt cạnh tranh.\\n\\nTrong bối cảnh thị trường cạnh tranh ngày càng khốc liệt, các doanh nghiệp cần phải đầu tư vào nghiên cứu thị trường, hiểu rõ hành vi mua sắm của người tiêu dùng và áp dụng các chiến lược marketing linh hoạt và hiệu quả. Chỉ thông qua việc nắm bắt được xu hướng và thay đổi trên thị trường, các doanh nghiệp mới có thể cạnh tranh và phát triển bền vững trong môi trường kinh doanh đầy thách thức của năm 2023.', 'Trên thị trường cạnh tranh của Việt Nam trong năm 2023, chúng ta đã chứng kiến nhiều biến đổi và thách thức đối với các doanh nghiệp. Với sự phục hồi kinh tế và tâm lý lạc quan của người tiêu dùng, các doanh nghiệp cần phải nắm bắt được những xu hướng và insights mới để đảm bảo sự cạnh tranh và phát triển bền vững.\\n\\nTình hình kinh tế trong nửa đầu năm 2023 đã phản ánh sự thay đổi phức tạp của các yếu tố trong nước và quốc tế. Mặc dù lạm phát được kiểm soát, nhưng giá cả vẫn ảnh hưởng đến hành vi tiêu dùng của người dân. Dự báo cho nửa sau năm 2023 cho thấy sự phục hồi của nền kinh tế, nhưng vẫn còn nhiều thách thức cần vượt qua.\\n\\nXu hướng thị trường trong nửa cuối năm 2023 cho thấy sự phát triển mạnh mẽ của thương mại điện tử, sự tập trung vào sản phẩm bền vững và trải nghiệm mua sắm online. Người tiêu dùng ngày càng thông minh và chú trọng đến giá trị thực sự của sản phẩm. Điều này đặt ra thách thức lớn cho các doanh nghiệp trong việc cung cấp sản phẩm và dịch vụ đáp ứng được nhu cầu của khách hàng.\\n\\nVới sự tăng trưởng của ngành F&B, các doanh nghiệp cần phải cẩn trọng trong việc định vị và cạnh tranh trên thị trường. Sự cạnh tranh giữa các ứng dụng giao đồ ăn trực tuyến đang ngày càng gay gắt, đòi hỏi các doanh nghiệp phải tìm ra cách để thu hút và giữ chân khách hàng. Đồng thời, việc nắm bắt xu hướng mới như mô hình đồ uống quy mô vừa và nhỏ, cũng như cạnh tranh trong việc nhận giải thưởng Michelin sẽ là điểm nhấn quan trọng cho ngành F&B trong năm 2024.\\n\\nTóm lại, để tồn tại và phát triển trên thị trường cạnh tranh của Việt Nam, các doanh nghiệp cần phải linh hoạt, sáng tạo và nắm bắt được những xu hướng và insights mới từ báo cáo thị trường tiêu dùng năm 2023. Chỉ thông qua việc hiểu rõ khách hàng và thị trường, họ mới có thể đưa ra các chiến lược hiệu quả và bền vững trong môi trường cạnh tranh ngày càng khốc liệt.'), ('Trên thực tế, năm 2023 đánh dấu một năm đầy biến động và thách thức đối với thị trường tiêu dùng toàn cầu. Với sự ảnh hưởng của nhiều yếu tố kinh tế - xã hội như xung đột chính trị, tình hình thời tiết cực đoan, tăng trưởng thấp của các nền kinh tế lớn, thị trường tài chính không ổn định, việc dự báo và nắm bắt xu hướng tiêu dùng của người tiêu dùng trở nên khó khăn hơn bao giờ hết.\\n\\nTrong bối cảnh khó khăn này, việc nắm bắt và thấu hiểu sâu hơn về hành vi tiêu dùng của người tiêu dùng là vô cùng quan trọng đối với các doanh nghiệp. Việc áp dụng các phương pháp nghiên cứu thị trường uy tín, kết hợp với phân tích dữ liệu cụ thể và chính xác sẽ giúp doanh nghiệp hiểu rõ hơn về nhu cầu, thói quen mua sắm, và xu hướng tiêu dùng của khách hàng.\\n\\nBáo cáo \"Xu hướng tiêu dùng hiện đại - Thấu hiểu để chinh phục thị trường\" của Cốc Cốc là một nguồn thông tin quý giá cho các doanh nghiệp trong việc nắm bắt xu hướng tiêu dùng của người tiêu dùng Việt Nam. Báo cáo này cung cấp cái nhìn tổng quan về hành vi và xu hướng tiêu dùng của 6 ngành hàng quan trọng nhất hiện nay, từ đó giúp các doanh nghiệp điều chỉnh chiến lược kinh doanh, cung cấp sản phẩm và dịch vụ phù hợp, và tạo sự hài lòng cho khách hàng.\\n\\nVới những gợi ý và khuyến nghị từ báo cáo, các doanh nghiệp có thể tập trung vào việc sáng tạo và nâng cao chất lượng sản phẩm, tập trung vào trải nghiệm khách hàng, cải tiến quy trình và áp dụng công nghệ, cũng như quảng cáo và tiếp cận thông minh để thu hút và giữ chân khách hàng. Đây là những bước quan trọng để doanh nghiệp có thể vượt qua khó khăn, tăng cường sức cạnh tranh và phát triển bền vững trong thị trường tiêu dùng đầy biến động của năm 2023.\\n\\nVới sự thấu hiểu sâu sắc về yếu tố kinh tế - xã hội và xu hướng tiêu dùng của người tiêu dùng, các doanh nghiệp có thể đưa ra những quyết định chiến lược đúng đắn, tối ưu hóa chi phí, gia tăng hiệu quả kinh doanh, và đồng thời đáp ứng được nhu cầu ngày càng đa dạng và khó tính của khách hàng. Đó chính là chìa khóa để thành công trong một môi trường kinh doanh đầy thách thức như năm 2023.', 'Trên thực tế, năm 2023 đánh dấu một năm đầy biến động và thách thức đối với thị trường tiêu dùng. Với sự ảnh hưởng của các yếu tố kinh tế - xã hội như tình hình thời tiết cực đoan, xung đột giữa các nước lớn, tình hình lạm phát toàn cầu, việc nắm bắt và thích nghi với xu hướng tiêu dùng mới là vô cùng quan trọng.\\n\\nTheo báo cáo thị trường tiêu dùng năm 2023, người tiêu dùng Việt Nam đang có những điều chỉnh đáng kể trong việc tiêu dùng. Việc cắt giảm chi tiêu không cần thiết, hạn chế mua sắm và thay đổi phương thức tiêu dùng là những biểu hiện rõ ràng của sự thích nghi với tình hình kinh tế khó khăn. Điều này đặt ra thách thức lớn cho các doanh nghiệp trong việc tiếp cận và phục vụ người tiêu dùng một cách hiệu quả.\\n\\nTrong bối cảnh khó khăn này, các doanh nghiệp cần tìm ra những giải pháp sáng tạo và nâng cao chất lượng sản phẩm/dịch vụ để đáp ứng nhu cầu ngày càng cao của người tiêu dùng. Đồng thời, tập trung vào trải nghiệm khách hàng, cải tiến quy trình và áp dụng công nghệ để tối ưu hóa hoạt động kinh doanh cũng là yếu tố quan trọng giúp doanh nghiệp vượt qua khó khăn, gia tăng hiệu quả và cạnh tranh trên thị trường.\\n\\nNgoài ra, việc quảng cáo và tiếp cận thông minh thông qua các kênh trực tuyến cũng đóng vai trò quan trọng trong việc thu hút và giữ chân khách hàng. Sự linh hoạt và nhanh nhạy trong việc thích nghi với xu hướng tiêu dùng mới sẽ giúp các doanh nghiệp tồn tại và phát triển trong môi trường kinh doanh khó khăn.\\n\\nTóm lại, việc hiểu rõ và đáp ứng được nhu cầu thay đổi của người tiêu dùng trong bối cảnh kinh tế - xã hội khó khăn là yếu tố quyết định sự thành công của các doanh nghiệp. Bằng cách thích nghi, sáng tạo và tối ưu hóa hoạt động kinh doanh, các doanh nghiệp sẽ có cơ hội vượt qua thách thức, gia tăng sức cạnh tranh và phát triển bền vững trên thị trường tiêu dùng năm 2023.')]\n"
     ]
    }
   ],
   "source": [
    "from Plugins.google_search import GoogleSearchPlugin\n",
    "from Plugins.utils import token_count\n",
    "import asyncio\n",
    "TOKEN_LIMIT = 8000\n",
    "\n",
    "google_plugin = kernel.import_plugin_from_object(GoogleSearchPlugin(), plugin_name = \"GoogleSearchPlugin\")\n",
    "google_search_function = google_plugin[\"GoogleSearch\"]\n",
    "get_content_function = google_plugin[\"GetContentFromURL\"]\n",
    "\n",
    "column_function = plugin[\"Column\"]\n",
    "column_summ_function = plugin[\"ColumnSumm\"]\n",
    "headings = outline_dict[\"body\"][\"headings\"]\n",
    "\n",
    "async def columnist(heading, title):\n",
    "    search_result = []\n",
    "    tokens = 0\n",
    "    search_result_urls = await kernel.invoke(google_search_function, sk.KernelArguments(keyword = heading + f\"{title}\", num_results = 15))\n",
    "    search_result_urls = search_result_urls.value\n",
    "    while True:\n",
    "        if not search_result_urls:\n",
    "            break\n",
    "        url = search_result_urls.pop(0)\n",
    "        content = await kernel.invoke(get_content_function, sk.KernelArguments(url = url))\n",
    "        content = content.value\n",
    "        new_tokens = token_count(content)\n",
    "        if tokens + new_tokens > TOKEN_LIMIT:\n",
    "            print(tokens)\n",
    "            if tokens >= TOKEN_LIMIT//2:\n",
    "                break\n",
    "            else:\n",
    "                continue\n",
    "        tokens += new_tokens\n",
    "        search_result.append(content)\n",
    "    search_result = \" \".join(search_result)\n",
    "    column = await kernel.invoke(column_function, sk.KernelArguments(input = search_result, body_content = heading))\n",
    "    column_summ = await kernel.invoke(column_summ_function, sk.KernelArguments(input = search_result, body_content = heading))\n",
    "    return str(column), str(column_summ)\n",
    "\n",
    "coros = []\n",
    "for heading in headings:\n",
    "    coros.append(columnist(heading, outline_dict[\"title\"]))\n",
    "\n",
    "values = await asyncio.gather(*coros)\n",
    "print(values)\n",
    "\n",
    "\n"
   ]
  },
  {
   "cell_type": "code",
   "execution_count": 5,
   "metadata": {},
   "outputs": [
    {
     "name": "stdout",
     "output_type": "stream",
     "text": [
      "1122 tokens\n",
      "Báo cáo thị trường tiêu dùng Việt Nam năm 2023: 9 nguyên nhân thúc đẩy sự tăng trưởng của Việt Nam trong thập kỷ tới\n",
      "\n",
      "Báo cáo thị trường tiêu dùng Việt Nam năm 2023 đã đưa ra những nhận định quan trọng về xu hướng và kỳ vọng của người tiêu dùng Việt Nam trong thập kỷ tới. Dưới đây là 9 nguyên nhân chính thúc đẩy sự tăng trưởng của Việt Nam trong lĩnh vực tiêu dùng:\n",
      "\n",
      "1. Dân số người đi làm, dân số lao động cao và tỷ lệ nhóm phụ thuộc thấp: Việt Nam sở hữu nguồn lực lao động lớn, với tỷ lệ người đi làm cao và tỷ lệ nhóm phụ thuộc thấp. Điều này giúp tăng cường GDP và thúc đẩy sự phát triển kinh tế.\n",
      "\n",
      "2. Tăng trưởng GDP bình quân 5.9% trong mười năm qua: Việt Nam đã có mức tăng trưởng ấn tượng trong thập kỷ qua, và dự kiến sẽ tiếp tục phát triển mạnh mẽ trong năm 2023.\n",
      "\n",
      "3. Tăng trưởng trong ngành sản xuất: Sự tăng trưởng trong ngành sản xuất cũng đóng góp vào sự phát triển của nền kinh tế Việt Nam, với đầu tư ngày càng mạnh mẽ và các hiệp định thương mại tự do.\n",
      "\n",
      "4. Mức tiêu thụ hàng hóa và dịch vụ bán lẻ tăng: Nhu cầu tiêu dùng của người dân Việt Nam đang tăng cao, đặc biệt là trong lĩnh vực bán lẻ, điều này đồng nghĩa với sự phát triển của thị trường tiêu dùng.\n",
      "\n",
      "5. Du lịch nội địa lấp đầy thâm hụt từ du lịch quốc tế: Với sự phát triển của du lịch trong nước, Việt Nam đang tận dụng cơ hội để thúc đẩy ngành du lịch và tăng cường kinh tế.\n",
      "\n",
      "6. Nền kinh tế Internet đạt 23 tỷ USD: Sự phát triển của nền kinh tế Internet cũng đóng vai trò quan trọng trong việc thúc đẩy tiêu dùng và tăng trưởng kinh tế.\n",
      "\n",
      "7. Tăng trưởng tài chính của hộ gia đình: Tầng lớp trung lưu ngày càng phát triển, điều này cũng góp phần vào sự tăng trưởng tiêu dùng và kinh tế chung.\n",
      "\n",
      "8. Hệ sinh thái tài chính hỗ trợ cho thương mại điện tử và các công ty khởi nghiệp: Sự phát triển của hệ sinh thái tài chính cũng tạo điều kiện thuận lợi cho các doanh nghiệp, đặc biệt là trong lĩnh vực thương mại điện tử và khởi nghiệp.\n",
      "\n",
      "9. Sự ổn định về chính trị và quản lý hệ sinh thái tài nguyên: Sự ổn định về chính trị và quản lý tài nguyên cũng đóng vai trò quan trọng trong việc tạo điều kiện cho sự phát triển bền vững của nền kinh tế.\n",
      "\n",
      "Tóm lại, Việt Nam đang có những tiềm năng và cơ hội lớn để phát triển trong lĩnh vực tiêu dùng, và những nguyên nhân trên sẽ giúp đất nước này tiếp tục thịnh vượng trong thập kỷ tới.\n",
      "873 tokens\n",
      "Báo cáo xu hướng tiêu dùng Việt Nam 2023: 9 nguyên nhân thúc đẩy sự tăng trưởng của Việt Nam trong thập kỷ tới\n",
      "\n",
      "Báo cáo này sẽ trình bày 9 nguyên nhân thúc đẩy sự tăng trưởng của Việt Nam trong thập kỷ tới.\n",
      "\n",
      "Báo cáo xu hướng tiêu dùng Việt Nam 2023\n",
      "\n",
      "Báo cáo chỉ ra rằng:\n",
      "\n",
      "1. Thay đổi về dân số người đi làm, dân số lao động tăng cao và tỷ lệ nhóm phụ thuộc thấp\n",
      "2. Tăng trưởng GDP bình quân 5.9% trong mười năm qua\n",
      "3. Lợi nhuận sản xuất tăng\n",
      "4. Sự tăng trưởng trong đầu tư ngày càng mạnh mẽ\n",
      "5. Mức tiêu thụ hàng hóa và dịch vụ bán lẻ ngày càng tăng\n",
      "6. Du lịch trong nước lấp vào khoảng trống thâm hụt từ du lịch quốc tế\n",
      "7. Nền kinh tế internet đạt 23 tỷ đô la Mỹ\n",
      "8. Tăng trưởng tài chính của hộ gia đình\n",
      "9. Hệ sinh thái tài chính hỗ trợ cho thương mại điện tử, thanh toán điện tử và các công ty khởi nghiệp\n",
      "\n",
      "Những nguyên nhân trên đều đóng vai trò quan trọng trong việc thúc đẩy sự phát triển của thị trường tiêu dùng tại Việt Nam trong năm 2023. Việt Nam đang trở thành điểm đến hấp dẫn cho các nhãn hàng và doanh nghiệp muốn mở rộng hoạt động kinh doanh của mình. Sự phát triển của nền kinh tế, sự tăng trưởng của ngành sản xuất, và sự thay đổi trong thói quen tiêu dùng của người dân đều tạo ra cơ hội lớn cho các doanh nghiệp.\n",
      "\n",
      "Với những xu hướng tích cực này, Việt Nam có tiềm năng phát triển mạnh mẽ trong lĩnh vực tiêu dùng trong thập kỷ tới. Điều quan trọng là các doanh nghiệp cần nắm bắt và tận dụng những cơ hội này để phát triển bền vững và cạnh tranh trên thị trường. Đồng thời, chính phủ cũng cần đưa ra các chính sách hỗ trợ và khuyến khích để thúc đẩy sự phát triển của ngành tiêu dùng, góp phần vào sự thịnh vượng của đất nước.\n",
      "\n",
      "Việt Nam đang bước vào một giai đoạn phát triển mới, và việc hiểu rõ và đáp ứng đúng xu hướng tiêu dùng sẽ là yếu tố quyết định thành công của các doanh nghiệp trong thị trường này.\n",
      "902 tokens\n",
      "Trên thị trường cạnh tranh của Việt Nam, năm 2023 đã chứng kiến nhiều biến động và thách thức đối với các doanh nghiệp. Với sự phục hồi kinh tế và tâm lý lạc quan của người tiêu dùng, các doanh nghiệp cần phải nắm bắt được xu hướng và thay đổi trong hành vi mua sắm để đảm bảo cạnh tranh và tăng trưởng trong môi trường kinh doanh khó khăn.\n",
      "\n",
      "Một trong những xu hướng quan trọng trên thị trường tiêu dùng năm 2023 là sự tăng cường trong việc mua sắm trực tuyến. Với sự phát triển của thương mại điện tử và ứng dụng giao đồ ăn trực tuyến, người tiêu dùng ngày càng ưa chuộng việc mua sắm và đặt hàng online để tiết kiệm thời gian và tận hưởng những ưu đãi hấp dẫn. Điều này đặt ra thách thức lớn cho các doanh nghiệp truyền thống khi họ cần phải cải thiện trải nghiệm mua sắm của khách hàng và tạo ra những chiến lược marketing hiệu quả trên nền tảng trực tuyến.\n",
      "\n",
      "Ngoài ra, việc tập trung vào nhu cầu cơ bản và giá trị cũng là một xu hướng quan trọng trong hành vi mua sắm của người tiêu dùng. Trong bối cảnh kinh tế không chắc chắn, người tiêu dùng đang tập trung vào những sản phẩm và dịch vụ mang lại giá trị thực sự và tối ưu hóa chi phí. Điều này đòi hỏi các doanh nghiệp phải đổi mới và cung cấp những sản phẩm chất lượng, đáp ứng được nhu cầu thực của khách hàng.\n",
      "\n",
      "Xu hướng cạnh tranh giữa các nhà hàng phân khúc cao cấp để nhận giải thưởng Michelin cũng là một điểm đáng chú ý. Việc nâng cao chất lượng món ăn, dịch vụ và trải nghiệm khách hàng không chỉ giúp các nhà hàng thu hút khách hàng mà còn giúp họ củng cố vị thế trên thị trường và tạo ra sự khác biệt cạnh tranh.\n",
      "\n",
      "Trong bối cảnh thị trường cạnh tranh ngày càng khốc liệt, các doanh nghiệp cần phải đầu tư vào nghiên cứu thị trường, hiểu rõ hành vi mua sắm của người tiêu dùng và áp dụng các chiến lược marketing linh hoạt và hiệu quả. Chỉ thông qua việc nắm bắt được xu hướng và thay đổi trên thị trường, các doanh nghiệp mới có thể cạnh tranh và phát triển bền vững trong môi trường kinh doanh đầy thách thức của năm 2023.\n",
      "846 tokens\n",
      "Trên thị trường cạnh tranh của Việt Nam trong năm 2023, chúng ta đã chứng kiến nhiều biến đổi và thách thức đối với các doanh nghiệp. Với sự phục hồi kinh tế và tâm lý lạc quan của người tiêu dùng, các doanh nghiệp cần phải nắm bắt được những xu hướng và insights mới để đảm bảo sự cạnh tranh và phát triển bền vững.\n",
      "\n",
      "Tình hình kinh tế trong nửa đầu năm 2023 đã phản ánh sự thay đổi phức tạp của các yếu tố trong nước và quốc tế. Mặc dù lạm phát được kiểm soát, nhưng giá cả vẫn ảnh hưởng đến hành vi tiêu dùng của người dân. Dự báo cho nửa sau năm 2023 cho thấy sự phục hồi của nền kinh tế, nhưng vẫn còn nhiều thách thức cần vượt qua.\n",
      "\n",
      "Xu hướng thị trường trong nửa cuối năm 2023 cho thấy sự phát triển mạnh mẽ của thương mại điện tử, sự tập trung vào sản phẩm bền vững và trải nghiệm mua sắm online. Người tiêu dùng ngày càng thông minh và chú trọng đến giá trị thực sự của sản phẩm. Điều này đặt ra thách thức lớn cho các doanh nghiệp trong việc cung cấp sản phẩm và dịch vụ đáp ứng được nhu cầu của khách hàng.\n",
      "\n",
      "Với sự tăng trưởng của ngành F&B, các doanh nghiệp cần phải cẩn trọng trong việc định vị và cạnh tranh trên thị trường. Sự cạnh tranh giữa các ứng dụng giao đồ ăn trực tuyến đang ngày càng gay gắt, đòi hỏi các doanh nghiệp phải tìm ra cách để thu hút và giữ chân khách hàng. Đồng thời, việc nắm bắt xu hướng mới như mô hình đồ uống quy mô vừa và nhỏ, cũng như cạnh tranh trong việc nhận giải thưởng Michelin sẽ là điểm nhấn quan trọng cho ngành F&B trong năm 2024.\n",
      "\n",
      "Tóm lại, để tồn tại và phát triển trên thị trường cạnh tranh của Việt Nam, các doanh nghiệp cần phải linh hoạt, sáng tạo và nắm bắt được những xu hướng và insights mới từ báo cáo thị trường tiêu dùng năm 2023. Chỉ thông qua việc hiểu rõ khách hàng và thị trường, họ mới có thể đưa ra các chiến lược hiệu quả và bền vững trong môi trường cạnh tranh ngày càng khốc liệt.\n",
      "977 tokens\n",
      "Trên thực tế, năm 2023 đánh dấu một năm đầy biến động và thách thức đối với thị trường tiêu dùng toàn cầu. Với sự ảnh hưởng của nhiều yếu tố kinh tế - xã hội như xung đột chính trị, tình hình thời tiết cực đoan, tăng trưởng thấp của các nền kinh tế lớn, thị trường tài chính không ổn định, việc dự báo và nắm bắt xu hướng tiêu dùng của người tiêu dùng trở nên khó khăn hơn bao giờ hết.\n",
      "\n",
      "Trong bối cảnh khó khăn này, việc nắm bắt và thấu hiểu sâu hơn về hành vi tiêu dùng của người tiêu dùng là vô cùng quan trọng đối với các doanh nghiệp. Việc áp dụng các phương pháp nghiên cứu thị trường uy tín, kết hợp với phân tích dữ liệu cụ thể và chính xác sẽ giúp doanh nghiệp hiểu rõ hơn về nhu cầu, thói quen mua sắm, và xu hướng tiêu dùng của khách hàng.\n",
      "\n",
      "Báo cáo \"Xu hướng tiêu dùng hiện đại - Thấu hiểu để chinh phục thị trường\" của Cốc Cốc là một nguồn thông tin quý giá cho các doanh nghiệp trong việc nắm bắt xu hướng tiêu dùng của người tiêu dùng Việt Nam. Báo cáo này cung cấp cái nhìn tổng quan về hành vi và xu hướng tiêu dùng của 6 ngành hàng quan trọng nhất hiện nay, từ đó giúp các doanh nghiệp điều chỉnh chiến lược kinh doanh, cung cấp sản phẩm và dịch vụ phù hợp, và tạo sự hài lòng cho khách hàng.\n",
      "\n",
      "Với những gợi ý và khuyến nghị từ báo cáo, các doanh nghiệp có thể tập trung vào việc sáng tạo và nâng cao chất lượng sản phẩm, tập trung vào trải nghiệm khách hàng, cải tiến quy trình và áp dụng công nghệ, cũng như quảng cáo và tiếp cận thông minh để thu hút và giữ chân khách hàng. Đây là những bước quan trọng để doanh nghiệp có thể vượt qua khó khăn, tăng cường sức cạnh tranh và phát triển bền vững trong thị trường tiêu dùng đầy biến động của năm 2023.\n",
      "\n",
      "Với sự thấu hiểu sâu sắc về yếu tố kinh tế - xã hội và xu hướng tiêu dùng của người tiêu dùng, các doanh nghiệp có thể đưa ra những quyết định chiến lược đúng đắn, tối ưu hóa chi phí, gia tăng hiệu quả kinh doanh, và đồng thời đáp ứng được nhu cầu ngày càng đa dạng và khó tính của khách hàng. Đó chính là chìa khóa để thành công trong một môi trường kinh doanh đầy thách thức như năm 2023.\n",
      "863 tokens\n",
      "Trên thực tế, năm 2023 đánh dấu một năm đầy biến động và thách thức đối với thị trường tiêu dùng. Với sự ảnh hưởng của các yếu tố kinh tế - xã hội như tình hình thời tiết cực đoan, xung đột giữa các nước lớn, tình hình lạm phát toàn cầu, việc nắm bắt và thích nghi với xu hướng tiêu dùng mới là vô cùng quan trọng.\n",
      "\n",
      "Theo báo cáo thị trường tiêu dùng năm 2023, người tiêu dùng Việt Nam đang có những điều chỉnh đáng kể trong việc tiêu dùng. Việc cắt giảm chi tiêu không cần thiết, hạn chế mua sắm và thay đổi phương thức tiêu dùng là những biểu hiện rõ ràng của sự thích nghi với tình hình kinh tế khó khăn. Điều này đặt ra thách thức lớn cho các doanh nghiệp trong việc tiếp cận và phục vụ người tiêu dùng một cách hiệu quả.\n",
      "\n",
      "Trong bối cảnh khó khăn này, các doanh nghiệp cần tìm ra những giải pháp sáng tạo và nâng cao chất lượng sản phẩm/dịch vụ để đáp ứng nhu cầu ngày càng cao của người tiêu dùng. Đồng thời, tập trung vào trải nghiệm khách hàng, cải tiến quy trình và áp dụng công nghệ để tối ưu hóa hoạt động kinh doanh cũng là yếu tố quan trọng giúp doanh nghiệp vượt qua khó khăn, gia tăng hiệu quả và cạnh tranh trên thị trường.\n",
      "\n",
      "Ngoài ra, việc quảng cáo và tiếp cận thông minh thông qua các kênh trực tuyến cũng đóng vai trò quan trọng trong việc thu hút và giữ chân khách hàng. Sự linh hoạt và nhanh nhạy trong việc thích nghi với xu hướng tiêu dùng mới sẽ giúp các doanh nghiệp tồn tại và phát triển trong môi trường kinh doanh khó khăn.\n",
      "\n",
      "Tóm lại, việc hiểu rõ và đáp ứng được nhu cầu thay đổi của người tiêu dùng trong bối cảnh kinh tế - xã hội khó khăn là yếu tố quyết định sự thành công của các doanh nghiệp. Bằng cách thích nghi, sáng tạo và tối ưu hóa hoạt động kinh doanh, các doanh nghiệp sẽ có cơ hội vượt qua thách thức, gia tăng sức cạnh tranh và phát triển bền vững trên thị trường tiêu dùng năm 2023.\n"
     ]
    }
   ],
   "source": [
    "for value in values:\n",
    "    print(token_count(value[0]), \"tokens\")\n",
    "    print(value[0])\n",
    "    print(token_count(value[1]), \"tokens\")\n",
    "    print(value[1])"
   ]
  },
  {
   "cell_type": "code",
   "execution_count": 6,
   "metadata": {},
   "outputs": [
    {
     "name": "stdout",
     "output_type": "stream",
     "text": [
      "Dựa trên các phân tích trong báo cáo, có thể kết luận rằng thị trường tiêu dùng Việt Nam trong năm 2023 đang chứng kiến sự phát triển mạnh mẽ và đầy tiềm năng. Với 9 nguyên nhân thúc đẩy tăng trưởng được đề cập, Việt Nam đang trở thành điểm đến hấp dẫn cho các doanh nghiệp muốn mở rộng hoạt động kinh doanh của mình. Sự tăng trưởng của GDP, lợi nhuận sản xuất, đầu tư, tiêu thụ hàng hóa và dịch vụ, du lịch, nền kinh tế internet, tài chính hộ gia đình, và hệ sinh thái tài chính đều đóng vai trò quan trọng trong việc thúc đẩy sự phát triển của thị trường tiêu dùng tại Việt Nam.\n",
      "\n",
      "Với những xu hướng tích cực này, Việt Nam có tiềm năng phát triển mạnh mẽ trong lĩnh vực tiêu dùng trong thập kỷ tới. Để tồn tại và phát triển trên thị trường cạnh tranh của Việt Nam, các doanh nghiệp cần phải linh hoạt, sáng tạo và nắm bắt được những xu hướng và insights mới từ báo cáo thị trường tiêu dùng năm 2023. Chỉ thông qua việc hiểu rõ khách hàng và thị trường, họ mới có thể đưa ra các chiến lược hiệu quả và bền vững trong môi trường cạnh tranh ngày càng khốc liệt.\n",
      "\n",
      "Tóm lại, việc hiểu rõ và đáp ứng được nhu cầu thay đổi của người tiêu dùng trong bối cảnh kinh tế - xã hội khó khăn là yếu tố quyết định sự thành công của các doanh nghiệp. Bằng cách thích nghi, sáng tạo và tối ưu hóa hoạt động kinh doanh, các doanh nghiệp sẽ có cơ hội vượt qua thách thức, gia tăng sức cạnh tranh và phát triển bền vững trên thị trường tiêu dùng năm 2023.\n"
     ]
    }
   ],
   "source": [
    "conclusion_function = plugin[\"Conclusion\"]\n",
    "summContent = \" \".join([value[1] for value in values])\n",
    "conclusion = await kernel.invoke(conclusion_function, sk.KernelArguments(conclusion = outline_dict[\"conclusion\"], summContent = summContent))\n",
    "print(str(conclusion))\n"
   ]
  },
  {
   "cell_type": "code",
   "execution_count": 7,
   "metadata": {},
   "outputs": [
    {
     "name": "stdout",
     "output_type": "stream",
     "text": [
      "667\n"
     ]
    }
   ],
   "source": [
    "print(token_count(str(conclusion)))"
   ]
  },
  {
   "cell_type": "code",
   "execution_count": 8,
   "metadata": {},
   "outputs": [
    {
     "name": "stdout",
     "output_type": "stream",
     "text": [
      "Dựa vào kết luận của báo cáo thị trường tiêu dùng năm 2023, chúng tôi đề xuất một số biện pháp cần thiết để tận dụng cơ hội và đối phó với thách thức trong thị trường tiêu dùng. Đầu tiên, các doanh nghiệp cần tập trung vào việc nâng cao chất lượng sản phẩm/dịch vụ để đáp ứng nhu cầu ngày càng cao của người tiêu dùng. Việc cải thiện trải nghiệm khách hàng, áp dụng công nghệ để tối ưu hóa hoạt động kinh doanh cũng là yếu tố quan trọng giúp doanh nghiệp vượt qua khó khăn, gia tăng hiệu quả và cạnh tranh trên thị trường.\n",
      "\n",
      "Thứ hai, việc quảng cáo và tiếp cận thông minh thông qua các kênh trực tuyến cũng đóng vai trò quan trọng trong việc thu hút và giữ chân khách hàng. Sự linh hoạt và nhanh nhạy trong việc thích nghi với xu hướng tiêu dùng mới sẽ giúp các doanh nghiệp tồn tại và phát triển trong môi trường kinh doanh khó khăn.\n",
      "\n",
      "Cuối cùng, việc hiểu rõ và đáp ứng được nhu cầu thay đổi của người tiêu dùng trong bối cảnh kinh tế - xã hội khó khăn là yếu tố quyết định sự thành công của các doanh nghiệp. Bằng cách thích nghi, sáng tạo và tối ưu hóa hoạt động kinh doanh, các doanh nghiệp sẽ có cơ hội vượt qua thách thức, gia tăng sức cạnh tranh và phát triển bền vững trên thị trường tiêu dùng năm 2023. Đề xuất này sẽ giúp các doanh nghiệp tận dụng cơ hội và đối phó hiệu quả với những thách thức trong môi trường kinh doanh đầy biến động của Việt Nam.\n",
      "632\n"
     ]
    }
   ],
   "source": [
    "recommendation_function = plugin[\"Recommendation\"]\n",
    "summContent = \" \".join([value[1] for value in values])\n",
    "recommendation = await kernel.invoke(recommendation_function, sk.KernelArguments(recommendation = outline_dict[\"recommendations\"], summContent = summContent))\n",
    "print(str(recommendation))\n",
    "print(token_count(str(recommendation)))"
   ]
  },
  {
   "cell_type": "code",
   "execution_count": 9,
   "metadata": {},
   "outputs": [
    {
     "name": "stdout",
     "output_type": "stream",
     "text": [
      "1122 tokens\n",
      "Báo cáo thị trường tiêu dùng Việt Nam năm 2023: 9 nguyên nhân thúc đẩy sự tăng trưởng của Việt Nam trong thập kỷ tới\n",
      "\n",
      "Báo cáo thị trường tiêu dùng Việt Nam năm 2023 đã đưa ra những nhận định quan trọng về xu hướng và kỳ vọng của người tiêu dùng Việt Nam trong thập kỷ tới. Dưới đây là 9 nguyên nhân chính thúc đẩy sự tăng trưởng của Việt Nam trong lĩnh vực tiêu dùng:\n",
      "\n",
      "1. Dân số người đi làm, dân số lao động cao và tỷ lệ nhóm phụ thuộc thấp: Việt Nam sở hữu nguồn lực lao động lớn, với tỷ lệ người đi làm cao và tỷ lệ nhóm phụ thuộc thấp. Điều này giúp tăng cường GDP và thúc đẩy sự phát triển kinh tế.\n",
      "\n",
      "2. Tăng trưởng GDP bình quân 5.9% trong mười năm qua: Việt Nam đã có mức tăng trưởng ấn tượng trong thập kỷ qua, và dự kiến sẽ tiếp tục phát triển mạnh mẽ trong năm 2023.\n",
      "\n",
      "3. Tăng trưởng trong ngành sản xuất: Sự tăng trưởng trong ngành sản xuất cũng đóng góp vào sự phát triển của nền kinh tế Việt Nam, với đầu tư ngày càng mạnh mẽ và các hiệp định thương mại tự do.\n",
      "\n",
      "4. Mức tiêu thụ hàng hóa và dịch vụ bán lẻ tăng: Nhu cầu tiêu dùng của người dân Việt Nam đang tăng cao, đặc biệt là trong lĩnh vực bán lẻ, điều này đồng nghĩa với sự phát triển của thị trường tiêu dùng.\n",
      "\n",
      "5. Du lịch nội địa lấp đầy thâm hụt từ du lịch quốc tế: Với sự phát triển của du lịch trong nước, Việt Nam đang tận dụng cơ hội để thúc đẩy ngành du lịch và tăng cường kinh tế.\n",
      "\n",
      "6. Nền kinh tế Internet đạt 23 tỷ USD: Sự phát triển của nền kinh tế Internet cũng đóng vai trò quan trọng trong việc thúc đẩy tiêu dùng và tăng trưởng kinh tế.\n",
      "\n",
      "7. Tăng trưởng tài chính của hộ gia đình: Tầng lớp trung lưu ngày càng phát triển, điều này cũng góp phần vào sự tăng trưởng tiêu dùng và kinh tế chung.\n",
      "\n",
      "8. Hệ sinh thái tài chính hỗ trợ cho thương mại điện tử và các công ty khởi nghiệp: Sự phát triển của hệ sinh thái tài chính cũng tạo điều kiện thuận lợi cho các doanh nghiệp, đặc biệt là trong lĩnh vực thương mại điện tử và khởi nghiệp.\n",
      "\n",
      "9. Sự ổn định về chính trị và quản lý hệ sinh thái tài nguyên: Sự ổn định về chính trị và quản lý tài nguyên cũng đóng vai trò quan trọng trong việc tạo điều kiện cho sự phát triển bền vững của nền kinh tế.\n",
      "\n",
      "Tóm lại, Việt Nam đang có những tiềm năng và cơ hội lớn để phát triển trong lĩnh vực tiêu dùng, và những nguyên nhân trên sẽ giúp đất nước này tiếp tục thịnh vượng trong thập kỷ tới.\n",
      "902 tokens\n",
      "Trên thị trường cạnh tranh của Việt Nam, năm 2023 đã chứng kiến nhiều biến động và thách thức đối với các doanh nghiệp. Với sự phục hồi kinh tế và tâm lý lạc quan của người tiêu dùng, các doanh nghiệp cần phải nắm bắt được xu hướng và thay đổi trong hành vi mua sắm để đảm bảo cạnh tranh và tăng trưởng trong môi trường kinh doanh khó khăn.\n",
      "\n",
      "Một trong những xu hướng quan trọng trên thị trường tiêu dùng năm 2023 là sự tăng cường trong việc mua sắm trực tuyến. Với sự phát triển của thương mại điện tử và ứng dụng giao đồ ăn trực tuyến, người tiêu dùng ngày càng ưa chuộng việc mua sắm và đặt hàng online để tiết kiệm thời gian và tận hưởng những ưu đãi hấp dẫn. Điều này đặt ra thách thức lớn cho các doanh nghiệp truyền thống khi họ cần phải cải thiện trải nghiệm mua sắm của khách hàng và tạo ra những chiến lược marketing hiệu quả trên nền tảng trực tuyến.\n",
      "\n",
      "Ngoài ra, việc tập trung vào nhu cầu cơ bản và giá trị cũng là một xu hướng quan trọng trong hành vi mua sắm của người tiêu dùng. Trong bối cảnh kinh tế không chắc chắn, người tiêu dùng đang tập trung vào những sản phẩm và dịch vụ mang lại giá trị thực sự và tối ưu hóa chi phí. Điều này đòi hỏi các doanh nghiệp phải đổi mới và cung cấp những sản phẩm chất lượng, đáp ứng được nhu cầu thực của khách hàng.\n",
      "\n",
      "Xu hướng cạnh tranh giữa các nhà hàng phân khúc cao cấp để nhận giải thưởng Michelin cũng là một điểm đáng chú ý. Việc nâng cao chất lượng món ăn, dịch vụ và trải nghiệm khách hàng không chỉ giúp các nhà hàng thu hút khách hàng mà còn giúp họ củng cố vị thế trên thị trường và tạo ra sự khác biệt cạnh tranh.\n",
      "\n",
      "Trong bối cảnh thị trường cạnh tranh ngày càng khốc liệt, các doanh nghiệp cần phải đầu tư vào nghiên cứu thị trường, hiểu rõ hành vi mua sắm của người tiêu dùng và áp dụng các chiến lược marketing linh hoạt và hiệu quả. Chỉ thông qua việc nắm bắt được xu hướng và thay đổi trên thị trường, các doanh nghiệp mới có thể cạnh tranh và phát triển bền vững trong môi trường kinh doanh đầy thách thức của năm 2023.\n",
      "977 tokens\n",
      "Trên thực tế, năm 2023 đánh dấu một năm đầy biến động và thách thức đối với thị trường tiêu dùng toàn cầu. Với sự ảnh hưởng của nhiều yếu tố kinh tế - xã hội như xung đột chính trị, tình hình thời tiết cực đoan, tăng trưởng thấp của các nền kinh tế lớn, thị trường tài chính không ổn định, việc dự báo và nắm bắt xu hướng tiêu dùng của người tiêu dùng trở nên khó khăn hơn bao giờ hết.\n",
      "\n",
      "Trong bối cảnh khó khăn này, việc nắm bắt và thấu hiểu sâu hơn về hành vi tiêu dùng của người tiêu dùng là vô cùng quan trọng đối với các doanh nghiệp. Việc áp dụng các phương pháp nghiên cứu thị trường uy tín, kết hợp với phân tích dữ liệu cụ thể và chính xác sẽ giúp doanh nghiệp hiểu rõ hơn về nhu cầu, thói quen mua sắm, và xu hướng tiêu dùng của khách hàng.\n",
      "\n",
      "Báo cáo \"Xu hướng tiêu dùng hiện đại - Thấu hiểu để chinh phục thị trường\" của Cốc Cốc là một nguồn thông tin quý giá cho các doanh nghiệp trong việc nắm bắt xu hướng tiêu dùng của người tiêu dùng Việt Nam. Báo cáo này cung cấp cái nhìn tổng quan về hành vi và xu hướng tiêu dùng của 6 ngành hàng quan trọng nhất hiện nay, từ đó giúp các doanh nghiệp điều chỉnh chiến lược kinh doanh, cung cấp sản phẩm và dịch vụ phù hợp, và tạo sự hài lòng cho khách hàng.\n",
      "\n",
      "Với những gợi ý và khuyến nghị từ báo cáo, các doanh nghiệp có thể tập trung vào việc sáng tạo và nâng cao chất lượng sản phẩm, tập trung vào trải nghiệm khách hàng, cải tiến quy trình và áp dụng công nghệ, cũng như quảng cáo và tiếp cận thông minh để thu hút và giữ chân khách hàng. Đây là những bước quan trọng để doanh nghiệp có thể vượt qua khó khăn, tăng cường sức cạnh tranh và phát triển bền vững trong thị trường tiêu dùng đầy biến động của năm 2023.\n",
      "\n",
      "Với sự thấu hiểu sâu sắc về yếu tố kinh tế - xã hội và xu hướng tiêu dùng của người tiêu dùng, các doanh nghiệp có thể đưa ra những quyết định chiến lược đúng đắn, tối ưu hóa chi phí, gia tăng hiệu quả kinh doanh, và đồng thời đáp ứng được nhu cầu ngày càng đa dạng và khó tính của khách hàng. Đó chính là chìa khóa để thành công trong một môi trường kinh doanh đầy thách thức như năm 2023.\n"
     ]
    }
   ],
   "source": [
    "for value in values:\n",
    "    print(token_count(value[0]), \"tokens\")\n",
    "    print(value[0])"
   ]
  }
 ],
 "metadata": {
  "kernelspec": {
   "display_name": "ReportGenerator_SemanticKernel",
   "language": "python",
   "name": "python3"
  },
  "language_info": {
   "codemirror_mode": {
    "name": "ipython",
    "version": 3
   },
   "file_extension": ".py",
   "mimetype": "text/x-python",
   "name": "python",
   "nbconvert_exporter": "python",
   "pygments_lexer": "ipython3",
   "version": "3.11.5"
  }
 },
 "nbformat": 4,
 "nbformat_minor": 2
}
