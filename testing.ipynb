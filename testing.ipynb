{
 "cells": [
  {
   "cell_type": "code",
   "execution_count": 1,
   "metadata": {},
   "outputs": [
    {
     "name": "stdout",
     "output_type": "stream",
     "text": [
      "{'report': {'title': 'Báo cáo thị trường Xăng dầu năm 2023','introduction': 'Báo cáo này sẽ đánh giá tình hình thị trường xăng dầu trong năm 2023, bao gồm các yếu tố ảnh hưởng và dự báo phát triển trong thời gian tới.','body': {'headings': ['1. Tình hình thị trường xăng dầu hiện tại','2. Các yếu tố ảnh hưởng đến giá xăng dầu','3. Dự báo phát triển thị trường trong năm 2023']}, 'conclusion': 'Tóm lại, thị trường xăng dầu trong năm 2023 đang đối diện với nhiều thách thức và cơ hội.','recommendations': 'Dựa trên những phân tích trong báo cáo, chúng tôi đưa ra các khuyến nghị cho các doanh nghiệp hoạt động trong lĩnh vực này.'}}\n"
     ]
    }
   ],
   "source": [
    "import semantic_kernel as sk\n",
    "\n",
    "kernel = sk.Kernel()\n",
    "\n",
    "from semantic_kernel.connectors.ai.open_ai import OpenAIChatCompletion\n",
    "\n",
    "api_key, org_id = sk.openai_settings_from_dot_env()\n",
    "service_id = \"default\"\n",
    "kernel.add_service(\n",
    "    OpenAIChatCompletion(service_id=service_id, ai_model_id=\"gpt-3.5-turbo-0125\", api_key=api_key, org_id=org_id),\n",
    ")\n",
    "\n",
    "plugin = kernel.import_plugin_from_prompt_directory(\"./Plugins/\", \"ReportPlugin\")\n",
    "OutlineJSON_function = plugin[\"OutlineJSON\"]\n",
    "\n",
    "OutlineJSON = await kernel.invoke(OutlineJSON_function, sk.KernelArguments(input=\"Báo cáo thị trường Xăng dầu năm 2023\"))\n",
    "print(OutlineJSON)\n"
   ]
  },
  {
   "cell_type": "code",
   "execution_count": 2,
   "metadata": {},
   "outputs": [
    {
     "data": {
      "text/plain": [
       "{'title': 'Báo cáo thị trường Xăng dầu năm 2023',\n",
       " 'introduction': 'Báo cáo này sẽ đánh giá tình hình thị trường xăng dầu trong năm 2023, bao gồm các yếu tố ảnh hưởng và dự báo phát triển trong thời gian tới.',\n",
       " 'body': {'headings': ['1. Tình hình thị trường xăng dầu hiện tại',\n",
       "   '2. Các yếu tố ảnh hưởng đến giá xăng dầu',\n",
       "   '3. Dự báo phát triển thị trường trong năm 2023']},\n",
       " 'conclusion': 'Tóm lại, thị trường xăng dầu trong năm 2023 đang đối diện với nhiều thách thức và cơ hội.',\n",
       " 'recommendations': 'Dựa trên những phân tích trong báo cáo, chúng tôi đưa ra các khuyến nghị cho các doanh nghiệp hoạt động trong lĩnh vực này.'}"
      ]
     },
     "execution_count": 2,
     "metadata": {},
     "output_type": "execute_result"
    }
   ],
   "source": [
    "from Plugins.utils import json_split\n",
    "outline_dict = json_split(str(OutlineJSON))\n",
    "outline_dict"
   ]
  },
  {
   "cell_type": "code",
   "execution_count": 3,
   "metadata": {},
   "outputs": [
    {
     "name": "stdout",
     "output_type": "stream",
     "text": [
      "Báo cáo thị trường Xăng dầu năm 2023 sẽ cung cấp một cái nhìn tổng quan về tình hình thị trường xăng dầu trong năm 2023, bao gồm các yếu tố ảnh hưởng và dự báo phát triển trong thời gian tới. Báo cáo sẽ bao gồm ba phần chính: 1. Tình hình thị trường xăng dầu hiện tại, 2. Các yếu tố ảnh hưởng đến giá xăng dầu, và 3. Dự báo phát triển thị trường trong năm 2023. Cuối cùng, báo cáo sẽ kết luận với việc thị trường xăng dầu trong năm 2023 đang đối diện với nhiều thách thức và cơ hội, và đưa ra các khuyến nghị dựa trên những phân tích trong báo cáo cho các doanh nghiệp hoạt động trong lĩnh vực này.\n"
     ]
    }
   ],
   "source": [
    "Introduction_function = plugin[\"Introduction\"]\n",
    "Introduction = await kernel.invoke(Introduction_function, sk.KernelArguments(introduction=outline_dict[\"introduction\"]\n",
    "                                                                            , reportLayout = str(OutlineJSON)))\n",
    "print(Introduction)"
   ]
  },
  {
   "cell_type": "code",
   "execution_count": 15,
   "metadata": {},
   "outputs": [
    {
     "name": "stderr",
     "output_type": "stream",
     "text": [
      "Overwriting plugin \"GoogleSearchPlugin\" in collection\n"
     ]
    },
    {
     "name": "stdout",
     "output_type": "stream",
     "text": [
      "8662\n",
      "8596\n",
      "1826\n",
      "8527\n",
      "[('The current situation of the oil market is facing significant challenges due to the strong increase in global oil prices. The world oil market has been influenced by the rising demand as economies around the world are gradually recovering. Production and business activities are resuming as many countries are adopting living together, adapting safely to the Covid-19 pandemic. Energy demand, including oil, is also increasing to prepare for the winter season as gas prices surge. Additionally, OPEC+ has not made a decision to increase production levels compared to the plan. These factors have led to a sharp increase in oil prices on the world market in recent times.\\n\\nThe price of crude oil on October 10, 2021, reached $80.11 per barrel for WTI and $82.58 per barrel for Brent, the highest in the past seven years. The average prices of various oil products in the world in the 15 days before the oil price management period on October 11, 2021, increased significantly compared to the previous period. Specifically, the prices of RON92 gasoline, RON95 gasoline, diesel, fuel oil, and mazut all saw notable increases.\\n\\nIn response to the complex developments of the Covid-19 pandemic, the Ministry of Industry and Trade has decided to adjust the oil price stabilization fund to ensure that domestic oil prices increase at a slower rate than global oil prices. This measure aims to control inflation, stabilize the market in 2021, and support individuals and businesses facing difficulties due to the pandemic.\\n\\nThe adjustment of the oil price stabilization fund includes the establishment and use of the fund for various oil products, such as RON95 gasoline, diesel, fuel oil, and mazut. The prices of these products are regulated to ensure they do not exceed certain limits, contributing to market stability and supporting economic activities.\\n\\nOverall, the current situation of the oil market is challenging, with global oil prices on the rise. The government is taking measures to manage domestic oil prices effectively, balancing the interests of consumers, businesses, and the overall economy. By closely monitoring global oil price trends and implementing appropriate policies, the authorities aim to mitigate the impact of volatile oil prices on the domestic market and ensure a stable energy supply for the country.', \"The current situation of the oil market is facing significant challenges due to the strong increase in global oil prices. The recent fluctuations in the world oil market have been influenced by the increasing demand as economies around the world are gradually recovering. Production and business activities are resuming as many countries are adopting living safely and adapting to the Covid-19 pandemic. Energy demand, including oil, is also increasing to prepare for the winter season, while gas prices are rising sharply. Additionally, OPEC+ has not made a decision to increase production levels compared to the plan. These factors have led to a sharp increase in oil prices in the global market in recent times.\\n\\nThe price of crude oil on October 10, 2021, reached $80.11 per barrel for WTI and $82.58 per barrel for Brent, the highest in the past 7 years. The average prices of various oil products in the world in the 15 days before the oil price adjustment on October 11, 2021, increased significantly compared to the previous period. For example, the price of RON92 gasoline used to produce E5RON92 gasoline increased by 7.13%, RON95 gasoline increased by 7.15%, diesel increased by 10.40%, fuel oil increased by 10.33%, and mazut 180CST 3.5S increased by 4.60%.\\n\\nIn response to the complex situation of the Covid-19 pandemic, the Ministry of Industry and Trade has decided to adjust the oil prices in the domestic market to ensure inflation control and market stability in 2021. Measures have been taken to manage the price difference between biofuel E5RON92 and mineral gasoline RON95 at a reasonable level to encourage the use of biofuels to protect the environment as per the government's policy.\\n\\nThe adjustment of the oil prices includes the establishment of the Oil Price Stabilization Fund, the allocation of the fund for different oil products, and the determination of retail prices for various oil products. These measures aim to balance the interests of market participants, support businesses in supplying oil to the domestic market, and minimize negative impacts on economic development, production activities, business operations, and people's lives.\\n\\nOverall, the current situation of the oil market is challenging due to the global price fluctuations and increasing demand. The government's measures to adjust oil prices aim to stabilize the market, support businesses, and ensure a balance between economic development and environmental protection. It is essential to monitor the market closely and make informed decisions to address the challenges in the oil market effectively.\"), (\"The fluctuation of oil prices in the global market from January 11, 2023 to January 30, 2023 has been influenced by various factors. The reopening of the Chinese economy after a long period of strict control measures to combat COVID-19, the impact of imposing price ceilings on Russian oil by Western countries, the weakening US dollar, and the forecast that OPEC+ will maintain its production cut policy in the context of continued improvement in consumption demand are some of the key factors affecting oil prices.\\n\\nThe fluctuation of oil prices has been mixed, but overall trending upwards. This has had an impact on the domestic supply of oil and the overall economic and social development in Vietnam. In response to the rising oil prices, the Ministry of Industry and Trade and the Ministry of Finance reported to the Prime Minister for permission to manage oil prices on January 30, 2023.\\n\\nIn this price management period, with oil prices rising, to balance the interests between the people, oil business enterprises, stabilize the domestic oil supply, and support the people and businesses using oil after the 2023 Lunar New Year, and comply with the regulations in Decree No. 83/2014/ND-CP, Decree No. 95/2021/ND-CP, the Ministry of Industry and Trade and the Ministry of Finance jointly decided to increase the BOG Fund allocation for E5RON92 gasoline to 850 VND/liter, RON95 gasoline to 950 VND/liter; reduce the BOG Fund allocation for all oil products to 200 VND/liter/kg, to ensure that the prices of oil products in Vietnam are in line with the global oil price trends.\\n\\nThis price management plan aims to contribute to ensuring the achievement of inflation control and market stabilization goals; ensuring that the fluctuation of oil prices in Vietnam is basically in line with global oil price movements; maintaining a reasonable price difference between E5RON92 biofuel and RON95 mineral gasoline to encourage the use of biofuels to protect the environment as per the government's policy; balancing the interests of market participants, supporting oil business enterprises to maintain oil supply for the domestic market; minimizing negative impacts on economic and social development, production activities, business operations, and people's livelihoods.\", 'The global oil market has been experiencing fluctuations in prices due to various factors such as geopolitical tensions, supply and demand dynamics, and macroeconomic conditions. These factors have a direct impact on the price of oil, which in turn affects the prices of other goods and services, as well as various sectors such as transportation and fisheries.\\n\\nIn recent times, crude oil prices have been under pressure due to concerns about slowing economic growth affecting oil demand more than supply risks. Both WTI and Brent crude oil prices are currently at their lowest levels in nearly 6 months, with Brent crude oil prices continuing to fluctuate downwards.\\n\\nThe market is currently lacking new catalysts that could impact prices, with investors absorbing the negative impacts warned in the weekly reports from the US Energy Information Administration (EIA). The average gasoline consumption in the US has decreased to 8.59 million barrels per day, which is 1 million barrels per day lower than the same period last year.\\n\\nAdditionally, analysts believe that the decrease in oil prices is also influenced by indirect factors such as central banks around the world raising interest rates to control inflation, which hampers investment demand. For example, the Bank of England (BOE) recently raised interest rates by 50 basis points to curb escalating inflation. However, this significant interest rate hike in 27 years could potentially lead the UK economy into a recession, affecting oil consumption.\\n\\nIn Vietnam, after reaching a peak of over 30,000 VND per liter of gasoline, prices have now decreased for the fourth time. This reflects a significant decrease in global oil prices in recent times.\\n\\nHowever, despite the fourth consecutive decrease in oil prices, why are prices of other goods still high? According to experts, the prices of goods regulated by the state are straightforward. For example, gasoline and airfares are set by the state. However, for other goods, the state does not determine the prices, but rather the market, sellers, and buyers.\\n\\nFurthermore, the price of gasoline in each country mainly depends on two factors: world prices and taxes. Currently, gasoline and oil in Vietnam are subject to four types of taxes: import tax, value-added tax, special consumption tax, and environmental protection tax. Therefore, there is still room for oil prices to decrease by the end of 2022 due to the convergence of both factors: decreasing world prices and reduced taxes.\\n\\nIn conclusion, the factors influencing oil prices are complex and multifaceted, with global events and economic conditions playing a significant role. The fluctuations in oil prices have far-reaching implications for various sectors and the overall economy, requiring careful monitoring and strategic decision-making to mitigate risks and ensure stability in the market.'), ('Dự báo phát triển thị trường trong năm 2023\\n\\nNăm 2023 được dự báo sẽ là một năm đầy biến động và thách thức cho thị trường toàn cầu. Với sự tiến gần hơn đến cơ hội phục hồi sau đại dịch Covid-19, các quốc gia vẫn phải đối mặt với nhiều rủi ro từ động thái tăng lãi suất và sự mở cửa trở lại của Trung Quốc.\\n\\nLạm phát và lãi suất vẫn là những yếu tố quan trọng ảnh hưởng đến phát triển thị trường trong năm 2023. Dự kiến lạm phát toàn cầu sẽ giảm nhưng vẫn duy trì ở mức cao, trong khi tốc độ tăng trưởng kinh tế sẽ chậm lại và lãi suất có khả năng tăng lên. Các nhà kinh tế cũng bi quan về nguy cơ suy thoái kinh tế toàn cầu vào năm 2023.\\n\\nTuy nhiên, có những yếu tố tích cực có thể thúc đẩy phát triển thị trường trong năm 2023. Đặc biệt, động thái mở cửa của Trung Quốc sau 3 năm thực hiện các biện pháp kiểm soát đại dịch nghiêm ngặt được kỳ vọng sẽ tạo động lực mới cho quá trình phục hồi toàn cầu. Việc tái mở cửa của Trung Quốc sẽ tạo cơ hội cho các nhà xuất khẩu lớn và các thương hiệu toàn cầu phục hồi và phát triển.\\n\\nNgoài ra, việc tăng trưởng GDP của Việt Nam dự kiến khoảng 5% trong năm 2023 cũng là một dấu hiệu tích cực cho phát triển thị trường trong năm tới. Việt Nam được nhiều tổ chức quốc tế đánh giá cao về thành tựu và triển vọng phát triển kinh tế - xã hội, điều này cũng góp phần vào việc thúc đẩy phát triển thị trường toàn cầu.\\n\\nTóm lại, năm 2023 sẽ là một năm đầy thách thức nhưng cũng đầy cơ hội cho phát triển thị trường toàn cầu. Việc đánh giá và dự báo các yếu tố ảnh hưởng sẽ giúp các nhà đầu tư và doanh nghiệp chuẩn bị kế hoạch phát triển hiệu quả trong năm tới.', \"Based on the information provided, it is clear that the global economy is facing various challenges and uncertainties as it moves into 2023. While there are opportunities for recovery, such as the reopening of China's economy and a potential decrease in global inflation, there are also risks such as the ongoing conflict between Russia and Ukraine and the possibility of economic slowdown.\\n\\nIn terms of inflation, it is expected to decrease globally in 2023 but remain at high levels. The International Monetary Fund (IMF) predicts that global inflation will reach 6.5% in 2023, down from 8.8% in 2022. However, inflation in developing economies is expected to be lower, at around 8.1% in 2023. This high level of inflation could pose challenges for economic recovery, especially with the potential for interest rate hikes.\\n\\nEconomic growth is also expected to slow down in 2023, with the IMF estimating global economic growth at 2.7%, down from 3.2% in 2022. There are concerns about a possible global economic recession in 2023, just three years after the COVID-19 pandemic-induced recession.\\n\\nHowever, there are positive developments, such as China's reopening after strict pandemic control measures, which could boost global recovery efforts. The reopening of China's economy could drive consumer demand and benefit major exporting countries like Indonesia, Malaysia, Thailand, and Singapore.\\n\\nDespite the challenges posed by COVID-19, bankruptcy cases have decreased in many countries in 2020 and 2021 due to external agreements with creditors and large stimulus packages from governments. However, there is a projected increase in global bankruptcy rates in 2022 and 2023, surpassing pre-pandemic levels.\\n\\nFurthermore, the trend towards protectionism and self-sufficiency in trade, particularly between the US and China, is deepening under the Biden administration. This shift towards protectionism could have implications for global trade and economic growth in 2023.\\n\\nIn conclusion, the global economic outlook for 2023 is mixed, with both opportunities and challenges on the horizon. It will be crucial for policymakers and businesses to navigate these uncertainties effectively to ensure sustainable economic growth and stability in the coming year.\")]\n"
     ]
    }
   ],
   "source": [
    "from Plugins.google_search import GoogleSearchPlugin\n",
    "from Plugins.utils import token_count\n",
    "import asyncio\n",
    "TOKEN_LIMIT = 10000\n",
    "\n",
    "google_plugin = kernel.import_plugin_from_object(GoogleSearchPlugin(), plugin_name = \"GoogleSearchPlugin\")\n",
    "google_search_function = google_plugin[\"GoogleSearch\"]\n",
    "get_content_function = google_plugin[\"GetContentFromURL\"]\n",
    "\n",
    "column_function = plugin[\"Column\"]\n",
    "column_summ_function = plugin[\"ColumnSumm\"]\n",
    "headings = outline_dict[\"body\"][\"headings\"]\n",
    "\n",
    "async def columnist(heading):\n",
    "    search_result = []\n",
    "    tokens = 0\n",
    "    search_result_urls = await kernel.invoke(google_search_function, sk.KernelArguments(keyword=heading, num_results = 15))\n",
    "    search_result_urls = search_result_urls.value\n",
    "    while True:\n",
    "        if not search_result_urls:\n",
    "            break\n",
    "        url = search_result_urls.pop(0)\n",
    "        content = await kernel.invoke(get_content_function, sk.KernelArguments(url = url))\n",
    "        content = content.value\n",
    "        new_tokens = token_count(content)\n",
    "        if tokens + new_tokens > TOKEN_LIMIT:\n",
    "            print(tokens)\n",
    "            if tokens >= TOKEN_LIMIT//2:\n",
    "                break\n",
    "            else:\n",
    "                continue\n",
    "        tokens += new_tokens\n",
    "        search_result.append(content)\n",
    "    search_result = \" \".join(search_result)\n",
    "    column = await kernel.invoke(column_function, sk.KernelArguments(input = search_result, body_content = heading))\n",
    "    column_summ = await kernel.invoke(column_summ_function, sk.KernelArguments(input = search_result, body_content = heading))\n",
    "    return str(column), str(column_summ)\n",
    "\n",
    "coros = []\n",
    "for heading in headings:\n",
    "    coros.append(columnist(heading))\n",
    "\n",
    "values = await asyncio.gather(*coros)\n",
    "print(values)\n",
    "\n",
    "\n"
   ]
  },
  {
   "cell_type": "code",
   "execution_count": 16,
   "metadata": {},
   "outputs": [
    {
     "name": "stdout",
     "output_type": "stream",
     "text": [
      "448 tokens\n",
      "The current situation of the oil market is facing significant challenges due to the strong increase in global oil prices. The world oil market has been influenced by the rising demand as economies around the world are gradually recovering. Production and business activities are resuming as many countries are adopting living together, adapting safely to the Covid-19 pandemic. Energy demand, including oil, is also increasing to prepare for the winter season as gas prices surge. Additionally, OPEC+ has not made a decision to increase production levels compared to the plan. These factors have led to a sharp increase in oil prices on the world market in recent times.\n",
      "\n",
      "The price of crude oil on October 10, 2021, reached $80.11 per barrel for WTI and $82.58 per barrel for Brent, the highest in the past seven years. The average prices of various oil products in the world in the 15 days before the oil price management period on October 11, 2021, increased significantly compared to the previous period. Specifically, the prices of RON92 gasoline, RON95 gasoline, diesel, fuel oil, and mazut all saw notable increases.\n",
      "\n",
      "In response to the complex developments of the Covid-19 pandemic, the Ministry of Industry and Trade has decided to adjust the oil price stabilization fund to ensure that domestic oil prices increase at a slower rate than global oil prices. This measure aims to control inflation, stabilize the market in 2021, and support individuals and businesses facing difficulties due to the pandemic.\n",
      "\n",
      "The adjustment of the oil price stabilization fund includes the establishment and use of the fund for various oil products, such as RON95 gasoline, diesel, fuel oil, and mazut. The prices of these products are regulated to ensure they do not exceed certain limits, contributing to market stability and supporting economic activities.\n",
      "\n",
      "Overall, the current situation of the oil market is challenging, with global oil prices on the rise. The government is taking measures to manage domestic oil prices effectively, balancing the interests of consumers, businesses, and the overall economy. By closely monitoring global oil price trends and implementing appropriate policies, the authorities aim to mitigate the impact of volatile oil prices on the domestic market and ensure a stable energy supply for the country.\n",
      "519 tokens\n",
      "The current situation of the oil market is facing significant challenges due to the strong increase in global oil prices. The recent fluctuations in the world oil market have been influenced by the increasing demand as economies around the world are gradually recovering. Production and business activities are resuming as many countries are adopting living safely and adapting to the Covid-19 pandemic. Energy demand, including oil, is also increasing to prepare for the winter season, while gas prices are rising sharply. Additionally, OPEC+ has not made a decision to increase production levels compared to the plan. These factors have led to a sharp increase in oil prices in the global market in recent times.\n",
      "\n",
      "The price of crude oil on October 10, 2021, reached $80.11 per barrel for WTI and $82.58 per barrel for Brent, the highest in the past 7 years. The average prices of various oil products in the world in the 15 days before the oil price adjustment on October 11, 2021, increased significantly compared to the previous period. For example, the price of RON92 gasoline used to produce E5RON92 gasoline increased by 7.13%, RON95 gasoline increased by 7.15%, diesel increased by 10.40%, fuel oil increased by 10.33%, and mazut 180CST 3.5S increased by 4.60%.\n",
      "\n",
      "In response to the complex situation of the Covid-19 pandemic, the Ministry of Industry and Trade has decided to adjust the oil prices in the domestic market to ensure inflation control and market stability in 2021. Measures have been taken to manage the price difference between biofuel E5RON92 and mineral gasoline RON95 at a reasonable level to encourage the use of biofuels to protect the environment as per the government's policy.\n",
      "\n",
      "The adjustment of the oil prices includes the establishment of the Oil Price Stabilization Fund, the allocation of the fund for different oil products, and the determination of retail prices for various oil products. These measures aim to balance the interests of market participants, support businesses in supplying oil to the domestic market, and minimize negative impacts on economic development, production activities, business operations, and people's lives.\n",
      "\n",
      "Overall, the current situation of the oil market is challenging due to the global price fluctuations and increasing demand. The government's measures to adjust oil prices aim to stabilize the market, support businesses, and ensure a balance between economic development and environmental protection. It is essential to monitor the market closely and make informed decisions to address the challenges in the oil market effectively.\n",
      "460 tokens\n",
      "The fluctuation of oil prices in the global market from January 11, 2023 to January 30, 2023 has been influenced by various factors. The reopening of the Chinese economy after a long period of strict control measures to combat COVID-19, the impact of imposing price ceilings on Russian oil by Western countries, the weakening US dollar, and the forecast that OPEC+ will maintain its production cut policy in the context of continued improvement in consumption demand are some of the key factors affecting oil prices.\n",
      "\n",
      "The fluctuation of oil prices has been mixed, but overall trending upwards. This has had an impact on the domestic supply of oil and the overall economic and social development in Vietnam. In response to the rising oil prices, the Ministry of Industry and Trade and the Ministry of Finance reported to the Prime Minister for permission to manage oil prices on January 30, 2023.\n",
      "\n",
      "In this price management period, with oil prices rising, to balance the interests between the people, oil business enterprises, stabilize the domestic oil supply, and support the people and businesses using oil after the 2023 Lunar New Year, and comply with the regulations in Decree No. 83/2014/ND-CP, Decree No. 95/2021/ND-CP, the Ministry of Industry and Trade and the Ministry of Finance jointly decided to increase the BOG Fund allocation for E5RON92 gasoline to 850 VND/liter, RON95 gasoline to 950 VND/liter; reduce the BOG Fund allocation for all oil products to 200 VND/liter/kg, to ensure that the prices of oil products in Vietnam are in line with the global oil price trends.\n",
      "\n",
      "This price management plan aims to contribute to ensuring the achievement of inflation control and market stabilization goals; ensuring that the fluctuation of oil prices in Vietnam is basically in line with global oil price movements; maintaining a reasonable price difference between E5RON92 biofuel and RON95 mineral gasoline to encourage the use of biofuels to protect the environment as per the government's policy; balancing the interests of market participants, supporting oil business enterprises to maintain oil supply for the domestic market; minimizing negative impacts on economic and social development, production activities, business operations, and people's livelihoods.\n",
      "536 tokens\n",
      "The global oil market has been experiencing fluctuations in prices due to various factors such as geopolitical tensions, supply and demand dynamics, and macroeconomic conditions. These factors have a direct impact on the price of oil, which in turn affects the prices of other goods and services, as well as various sectors such as transportation and fisheries.\n",
      "\n",
      "In recent times, crude oil prices have been under pressure due to concerns about slowing economic growth affecting oil demand more than supply risks. Both WTI and Brent crude oil prices are currently at their lowest levels in nearly 6 months, with Brent crude oil prices continuing to fluctuate downwards.\n",
      "\n",
      "The market is currently lacking new catalysts that could impact prices, with investors absorbing the negative impacts warned in the weekly reports from the US Energy Information Administration (EIA). The average gasoline consumption in the US has decreased to 8.59 million barrels per day, which is 1 million barrels per day lower than the same period last year.\n",
      "\n",
      "Additionally, analysts believe that the decrease in oil prices is also influenced by indirect factors such as central banks around the world raising interest rates to control inflation, which hampers investment demand. For example, the Bank of England (BOE) recently raised interest rates by 50 basis points to curb escalating inflation. However, this significant interest rate hike in 27 years could potentially lead the UK economy into a recession, affecting oil consumption.\n",
      "\n",
      "In Vietnam, after reaching a peak of over 30,000 VND per liter of gasoline, prices have now decreased for the fourth time. This reflects a significant decrease in global oil prices in recent times.\n",
      "\n",
      "However, despite the fourth consecutive decrease in oil prices, why are prices of other goods still high? According to experts, the prices of goods regulated by the state are straightforward. For example, gasoline and airfares are set by the state. However, for other goods, the state does not determine the prices, but rather the market, sellers, and buyers.\n",
      "\n",
      "Furthermore, the price of gasoline in each country mainly depends on two factors: world prices and taxes. Currently, gasoline and oil in Vietnam are subject to four types of taxes: import tax, value-added tax, special consumption tax, and environmental protection tax. Therefore, there is still room for oil prices to decrease by the end of 2022 due to the convergence of both factors: decreasing world prices and reduced taxes.\n",
      "\n",
      "In conclusion, the factors influencing oil prices are complex and multifaceted, with global events and economic conditions playing a significant role. The fluctuations in oil prices have far-reaching implications for various sectors and the overall economy, requiring careful monitoring and strategic decision-making to mitigate risks and ensure stability in the market.\n",
      "780 tokens\n",
      "Dự báo phát triển thị trường trong năm 2023\n",
      "\n",
      "Năm 2023 được dự báo sẽ là một năm đầy biến động và thách thức cho thị trường toàn cầu. Với sự tiến gần hơn đến cơ hội phục hồi sau đại dịch Covid-19, các quốc gia vẫn phải đối mặt với nhiều rủi ro từ động thái tăng lãi suất và sự mở cửa trở lại của Trung Quốc.\n",
      "\n",
      "Lạm phát và lãi suất vẫn là những yếu tố quan trọng ảnh hưởng đến phát triển thị trường trong năm 2023. Dự kiến lạm phát toàn cầu sẽ giảm nhưng vẫn duy trì ở mức cao, trong khi tốc độ tăng trưởng kinh tế sẽ chậm lại và lãi suất có khả năng tăng lên. Các nhà kinh tế cũng bi quan về nguy cơ suy thoái kinh tế toàn cầu vào năm 2023.\n",
      "\n",
      "Tuy nhiên, có những yếu tố tích cực có thể thúc đẩy phát triển thị trường trong năm 2023. Đặc biệt, động thái mở cửa của Trung Quốc sau 3 năm thực hiện các biện pháp kiểm soát đại dịch nghiêm ngặt được kỳ vọng sẽ tạo động lực mới cho quá trình phục hồi toàn cầu. Việc tái mở cửa của Trung Quốc sẽ tạo cơ hội cho các nhà xuất khẩu lớn và các thương hiệu toàn cầu phục hồi và phát triển.\n",
      "\n",
      "Ngoài ra, việc tăng trưởng GDP của Việt Nam dự kiến khoảng 5% trong năm 2023 cũng là một dấu hiệu tích cực cho phát triển thị trường trong năm tới. Việt Nam được nhiều tổ chức quốc tế đánh giá cao về thành tựu và triển vọng phát triển kinh tế - xã hội, điều này cũng góp phần vào việc thúc đẩy phát triển thị trường toàn cầu.\n",
      "\n",
      "Tóm lại, năm 2023 sẽ là một năm đầy thách thức nhưng cũng đầy cơ hội cho phát triển thị trường toàn cầu. Việc đánh giá và dự báo các yếu tố ảnh hưởng sẽ giúp các nhà đầu tư và doanh nghiệp chuẩn bị kế hoạch phát triển hiệu quả trong năm tới.\n",
      "449 tokens\n",
      "Based on the information provided, it is clear that the global economy is facing various challenges and uncertainties as it moves into 2023. While there are opportunities for recovery, such as the reopening of China's economy and a potential decrease in global inflation, there are also risks such as the ongoing conflict between Russia and Ukraine and the possibility of economic slowdown.\n",
      "\n",
      "In terms of inflation, it is expected to decrease globally in 2023 but remain at high levels. The International Monetary Fund (IMF) predicts that global inflation will reach 6.5% in 2023, down from 8.8% in 2022. However, inflation in developing economies is expected to be lower, at around 8.1% in 2023. This high level of inflation could pose challenges for economic recovery, especially with the potential for interest rate hikes.\n",
      "\n",
      "Economic growth is also expected to slow down in 2023, with the IMF estimating global economic growth at 2.7%, down from 3.2% in 2022. There are concerns about a possible global economic recession in 2023, just three years after the COVID-19 pandemic-induced recession.\n",
      "\n",
      "However, there are positive developments, such as China's reopening after strict pandemic control measures, which could boost global recovery efforts. The reopening of China's economy could drive consumer demand and benefit major exporting countries like Indonesia, Malaysia, Thailand, and Singapore.\n",
      "\n",
      "Despite the challenges posed by COVID-19, bankruptcy cases have decreased in many countries in 2020 and 2021 due to external agreements with creditors and large stimulus packages from governments. However, there is a projected increase in global bankruptcy rates in 2022 and 2023, surpassing pre-pandemic levels.\n",
      "\n",
      "Furthermore, the trend towards protectionism and self-sufficiency in trade, particularly between the US and China, is deepening under the Biden administration. This shift towards protectionism could have implications for global trade and economic growth in 2023.\n",
      "\n",
      "In conclusion, the global economic outlook for 2023 is mixed, with both opportunities and challenges on the horizon. It will be crucial for policymakers and businesses to navigate these uncertainties effectively to ensure sustainable economic growth and stability in the coming year.\n"
     ]
    }
   ],
   "source": [
    "for value in values:\n",
    "    print(token_count(value[0]), \"tokens\")\n",
    "    print(value[0])\n",
    "    print(token_count(value[1]), \"tokens\")\n",
    "    print(value[1])"
   ]
  },
  {
   "cell_type": "code",
   "execution_count": 5,
   "metadata": {},
   "outputs": [
    {
     "name": "stdout",
     "output_type": "stream",
     "text": [
      "Trong bối cảnh giá dầu tăng mạnh trên thị trường thế giới và ảnh hưởng của đại dịch Covid-19, việc điều chỉnh giá xăng dầu trên thị trường nội địa là cực kỳ quan trọng để duy trì ổn định thị trường và hỗ trợ người tiêu dùng cũng như doanh nghiệp. Quyết định của Chính phủ về việc tăng cường quản lý quỹ ổn định giá nhiên liệu, điều chỉnh giá xăng E5RON92 và RON95 để thúc đẩy bảo vệ môi trường, cũng như đảm bảo sự cân đối giữa các bên tham gia thị trường, là bước đi chiến lược để ứng phó với biến động giá dầu toàn cầu và hỗ trợ phát triển bền vững của nền kinh tế. Dù có những thách thức, nhưng việc đánh giá chính xác và áp dụng biện pháp hiệu quả sẽ giúp thị trường xăng dầu ổn định và phát triển trong tương lai.\n"
     ]
    }
   ],
   "source": [
    "conclusion_function = plugin[\"Conclusion\"]\n",
    "summContent = \" \".join([value[1] for value in values])\n",
    "conclusion = await kernel.invoke(conclusion_function, sk.KernelArguments(conclusion = outline_dict[\"conclusion\"], summContent = summContent))\n",
    "print(str(conclusion))\n"
   ]
  },
  {
   "cell_type": "code",
   "execution_count": 6,
   "metadata": {},
   "outputs": [
    {
     "name": "stdout",
     "output_type": "stream",
     "text": [
      "354\n"
     ]
    }
   ],
   "source": [
    "print(token_count(str(conclusion)))"
   ]
  },
  {
   "cell_type": "code",
   "execution_count": 7,
   "metadata": {},
   "outputs": [
    {
     "name": "stdout",
     "output_type": "stream",
     "text": [
      "Based on the analysis presented in the report, we recommend that businesses operating in the oil market sector closely monitor global oil price trends and market fluctuations. It is crucial for companies to adapt their pricing strategies and supply chain management to mitigate the impact of rising oil prices on their operations. Additionally, businesses should consider diversifying their energy sources and exploring alternative fuels to reduce dependency on traditional oil products.\n",
      "\n",
      "Furthermore, we suggest that companies in the oil market sector collaborate with government agencies and industry associations to advocate for policies that support market stability, consumer protection, and environmental sustainability. By actively engaging in discussions and initiatives aimed at addressing the challenges posed by fluctuating oil prices, businesses can contribute to a more resilient and sustainable energy market.\n",
      "\n",
      "Moreover, we recommend that businesses in the oil market sector prioritize innovation and technology adoption to enhance operational efficiency, reduce costs, and minimize environmental impact. Investing in research and development of renewable energy solutions, energy-efficient technologies, and sustainable practices can position companies for long-term success in a rapidly evolving market landscape.\n",
      "\n",
      "In conclusion, by implementing these recommendations and staying informed about market developments, businesses in the oil market sector can navigate the challenges posed by global oil price fluctuations and contribute to a more sustainable and resilient energy market in the future.\n",
      "246\n"
     ]
    }
   ],
   "source": [
    "recommendation_function = plugin[\"Recommendation\"]\n",
    "summContent = \" \".join([value[1] for value in values])\n",
    "recommendation = await kernel.invoke(recommendation_function, sk.KernelArguments(recommendation = outline_dict[\"recommendations\"], summContent = summContent))\n",
    "print(str(recommendation))\n",
    "print(token_count(str(recommendation)))"
   ]
  }
 ],
 "metadata": {
  "kernelspec": {
   "display_name": "ReportGenerator_SemanticKernel",
   "language": "python",
   "name": "python3"
  },
  "language_info": {
   "codemirror_mode": {
    "name": "ipython",
    "version": 3
   },
   "file_extension": ".py",
   "mimetype": "text/x-python",
   "name": "python",
   "nbconvert_exporter": "python",
   "pygments_lexer": "ipython3",
   "version": "3.11.5"
  }
 },
 "nbformat": 4,
 "nbformat_minor": 2
}
