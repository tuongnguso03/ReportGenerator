{
 "cells": [
  {
   "cell_type": "code",
   "execution_count": 1,
   "metadata": {},
   "outputs": [],
   "source": [
    "import tiktoken, json\n",
    "import semantic_kernel as sk\n",
    "from Plugins.google_search import GoogleSearchPlugin\n",
    "from semantic_kernel.connectors.ai.open_ai import OpenAIChatCompletion\n",
    "\n",
    "class SKReport:\n",
    "    def __init__(self, report_title:str):\n",
    "        self.service_id = \"default\"\n",
    "        self.api_key, self.org_id = sk.openai_settings_from_dot_env()\n",
    "\n",
    "        self.report_title=report_title\n",
    "        print(self.report_title) ##===||========================>\n",
    "\n",
    "        # Create the SK Kernel\n",
    "        self.kernel = sk.Kernel()\n",
    "        # Add the OpenAI service\n",
    "        self.kernel.add_service(OpenAIChatCompletion(service_id=self.service_id, ai_model_id=\"gpt-3.5-turbo-0125\", \n",
    "                                                     api_key=self.api_key, \n",
    "                                                     org_id=self.org_id,\n",
    "                                                     )\n",
    "                                )\n",
    "        # Add the plugins\n",
    "        self.plugin = self.kernel.import_plugin_from_prompt_directory(\"./Plugins/\", \"ReportPlugin\")\n",
    "        self.outlineFunc = self.plugin[\"OutlineJSON\"] ## Outline Plugin\n",
    "        self.introFunc = self.plugin[\"Introduction\"] ## Introduction Plugin\n",
    "        # self.quesFunc = self.plugin[\"Questioning\"] ## Questioning Plugin\n",
    "\n",
    "        # Outline Generator\n",
    "        # self.outlineSplitter()\n",
    "\n",
    "        # Introduction\n",
    "        # Introduction = self.kernel.invoke(self.introFunc, sk.KernelArguments(introduction=outline_dict[\"introduction\"],\n",
    "        #                                                                     reportLayout = str(OutlineJSON),\n",
    "        #                                                                     )\n",
    "        #                                     )\n",
    "\n",
    "    async def outlineSplitter(self):\n",
    "        generatedOutline = await self.kernel.invoke(self.outlineFunc, sk.KernelArguments(input=self.report_title))\n",
    "        data = json.loads(str(generatedOutline).replace(\"'\", '\"'))\n",
    "        self.dictOutline = {\n",
    "            \"title\" : data['report']['title'],\n",
    "            \"introduction\" : data['report']['introduction'],\n",
    "            \"body\" : data['report']['body'],\n",
    "            \"conclusion\" : data['report']['conclusion'],\n",
    "            \"recommendations\" : data['report']['recommendations']\n",
    "        }\n",
    "        self.title = self.dictOutline[\"title\"]\n",
    "        self.introduction = self.dictOutline[\"introduction\"]\n",
    "        self.body = self.dictOutline[\"body\"]\n",
    "        self.conclusion = self.dictOutline[\"conclusion\"]\n",
    "        self.recommendations = self.dictOutline[\"recommendations\"]\n",
    "\n",
    "        return self.dictOutline\n",
    "\n",
    "    def token_count(self, string):\n",
    "        encoding = tiktoken.get_encoding(\"cl100k_base\")\n",
    "        \"\"\"Returns the number of tokens in a text string.\"\"\"\n",
    "        num_tokens = len(encoding.encode(string))\n",
    "        return num_tokens\n",
    "\n",
    "    async def columnist(self, heading, num_results:int=5):\n",
    "        requestion = await self.kernel.invoke(self.quesFunc, \n",
    "                                         sk.KernelArguments(keywords=heading, main_topic = self.title),\n",
    "                                         )\n",
    "        # Googling\n",
    "        GGSearch = GoogleSearchPlugin()\n",
    "        search_results = GGSearch.search_google(requestion, num_results=num_results)\n",
    "        # Getting the content\n",
    "        urls = list(set([s for s in search_results]))\n",
    "        for url in urls:\n",
    "            content = GGSearch.get_content(urls)\n"
   ]
  },
  {
   "cell_type": "code",
   "execution_count": 2,
   "metadata": {},
   "outputs": [
    {
     "name": "stdout",
     "output_type": "stream",
     "text": [
      "Báo cáo thị trường năng lượng thế giới năm 2023\n"
     ]
    },
    {
     "ename": "KeyError",
     "evalue": "'Function Questioning not found.'",
     "output_type": "error",
     "traceback": [
      "\u001b[1;31m---------------------------------------------------------------------------\u001b[0m",
      "\u001b[1;31mKeyError\u001b[0m                                  Traceback (most recent call last)",
      "Cell \u001b[1;32mIn[2], line 2\u001b[0m\n\u001b[0;32m      1\u001b[0m report_title \u001b[38;5;241m=\u001b[39m \u001b[38;5;124m\"\u001b[39m\u001b[38;5;124mBáo cáo thị trường năng lượng thế giới năm 2023\u001b[39m\u001b[38;5;124m\"\u001b[39m\n\u001b[1;32m----> 2\u001b[0m OGReport \u001b[38;5;241m=\u001b[39m \u001b[43mSKReport\u001b[49m\u001b[43m(\u001b[49m\u001b[43mreport_title\u001b[49m\u001b[43m)\u001b[49m\n\u001b[0;32m      3\u001b[0m \u001b[38;5;28;01mawait\u001b[39;00m OGReport\u001b[38;5;241m.\u001b[39moutlineSplitter()\n\u001b[0;32m      4\u001b[0m OGReport\u001b[38;5;241m.\u001b[39mdictOutline\n",
      "Cell \u001b[1;32mIn[1], line 26\u001b[0m, in \u001b[0;36mSKReport.__init__\u001b[1;34m(self, report_title)\u001b[0m\n\u001b[0;32m     24\u001b[0m \u001b[38;5;28mself\u001b[39m\u001b[38;5;241m.\u001b[39moutlineFunc \u001b[38;5;241m=\u001b[39m \u001b[38;5;28mself\u001b[39m\u001b[38;5;241m.\u001b[39mplugin[\u001b[38;5;124m\"\u001b[39m\u001b[38;5;124mOutlineJSON\u001b[39m\u001b[38;5;124m\"\u001b[39m] \u001b[38;5;66;03m## Outline Plugin\u001b[39;00m\n\u001b[0;32m     25\u001b[0m \u001b[38;5;28mself\u001b[39m\u001b[38;5;241m.\u001b[39mintroFunc \u001b[38;5;241m=\u001b[39m \u001b[38;5;28mself\u001b[39m\u001b[38;5;241m.\u001b[39mplugin[\u001b[38;5;124m\"\u001b[39m\u001b[38;5;124mIntroduction\u001b[39m\u001b[38;5;124m\"\u001b[39m] \u001b[38;5;66;03m## Introduction Plugin\u001b[39;00m\n\u001b[1;32m---> 26\u001b[0m \u001b[38;5;28mself\u001b[39m\u001b[38;5;241m.\u001b[39mquesFunc \u001b[38;5;241m=\u001b[39m \u001b[38;5;28;43mself\u001b[39;49m\u001b[38;5;241;43m.\u001b[39;49m\u001b[43mplugin\u001b[49m\u001b[43m[\u001b[49m\u001b[38;5;124;43m\"\u001b[39;49m\u001b[38;5;124;43mQuestioning\u001b[39;49m\u001b[38;5;124;43m\"\u001b[39;49m\u001b[43m]\u001b[49m\n",
      "File \u001b[1;32md:\\ReportGenerator\\ReportGenerator_SemanticKernel\\Lib\\site-packages\\semantic_kernel\\functions\\kernel_plugin.py:101\u001b[0m, in \u001b[0;36mKernelPlugin.__getitem__\u001b[1;34m(self, name)\u001b[0m\n\u001b[0;32m     89\u001b[0m \u001b[38;5;250m\u001b[39m\u001b[38;5;124;03m\"\"\"Define the [] operator for the plugin\u001b[39;00m\n\u001b[0;32m     90\u001b[0m \n\u001b[0;32m     91\u001b[0m \u001b[38;5;124;03mArgs:\u001b[39;00m\n\u001b[1;32m   (...)\u001b[0m\n\u001b[0;32m     98\u001b[0m \u001b[38;5;124;03m    KeyError: If the function does not exist.\u001b[39;00m\n\u001b[0;32m     99\u001b[0m \u001b[38;5;124;03m\"\"\"\u001b[39;00m\n\u001b[0;32m    100\u001b[0m \u001b[38;5;28;01mif\u001b[39;00m name \u001b[38;5;129;01mnot\u001b[39;00m \u001b[38;5;129;01min\u001b[39;00m \u001b[38;5;28mself\u001b[39m\u001b[38;5;241m.\u001b[39mfunctions:\n\u001b[1;32m--> 101\u001b[0m     \u001b[38;5;28;01mraise\u001b[39;00m \u001b[38;5;167;01mKeyError\u001b[39;00m(\u001b[38;5;124mf\u001b[39m\u001b[38;5;124m\"\u001b[39m\u001b[38;5;124mFunction \u001b[39m\u001b[38;5;132;01m{\u001b[39;00mname\u001b[38;5;132;01m}\u001b[39;00m\u001b[38;5;124m not found.\u001b[39m\u001b[38;5;124m\"\u001b[39m)\n\u001b[0;32m    102\u001b[0m \u001b[38;5;28;01mreturn\u001b[39;00m \u001b[38;5;28mself\u001b[39m\u001b[38;5;241m.\u001b[39mfunctions[name]\n",
      "\u001b[1;31mKeyError\u001b[0m: 'Function Questioning not found.'"
     ]
    }
   ],
   "source": [
    "report_title = \"Báo cáo thị trường năng lượng thế giới năm 2023\"\n",
    "OGReport = SKReport(report_title)\n",
    "await OGReport.outlineSplitter()\n",
    "OGReport.dictOutline"
   ]
  },
  {
   "cell_type": "code",
   "execution_count": null,
   "metadata": {},
   "outputs": [],
   "source": [
    "str(OGReport.generatedOutline.get_inner_content().choices[0].message.content)"
   ]
  },
  {
   "cell_type": "code",
   "execution_count": null,
   "metadata": {},
   "outputs": [],
   "source": []
  }
 ],
 "metadata": {
  "kernelspec": {
   "display_name": "booksage",
   "language": "python",
   "name": "python3"
  },
  "language_info": {
   "codemirror_mode": {
    "name": "ipython",
    "version": 3
   },
   "file_extension": ".py",
   "mimetype": "text/x-python",
   "name": "python",
   "nbconvert_exporter": "python",
   "pygments_lexer": "ipython3",
   "version": "3.11.5"
  }
 },
 "nbformat": 4,
 "nbformat_minor": 2
}
